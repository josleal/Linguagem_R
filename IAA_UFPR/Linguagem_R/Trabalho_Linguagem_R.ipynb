{
 "cells": [
  {
   "cell_type": "markdown",
   "metadata": {},
   "source": [
    "![<caption>](UFPR.png)\n",
    "\n",
    "Disciplina: Linguagem de Programação Aplicada - Linguagem R \n",
    "\n",
    "Professor: Dr. Razer A N R Montaño"
   ]
  },
  {
   "cell_type": "markdown",
   "metadata": {},
   "source": [
    "O que deve ser entregue:\n",
    "\n",
    "- Um arquivo compactado com os documentos e arquivos\n",
    "\n",
    "- A lista de comandos R que foi executada, com suas respectivas saídas\n",
    "\n",
    "- Um texto com o resultado e justificativa do porquê \n",
    "\n",
    "- Outros arquivos pedidos (ex. modelo gerado)"
   ]
  },
  {
   "cell_type": "markdown",
   "metadata": {},
   "source": [
    "### PESQUISA COM DADOS DE SATÉLITE (Satellite)\n",
    "\n",
    "O banco de dados consiste nos valores multi-espectrais de pixels em vizinhanças 3x3 em uma imagem de satélite, e na classificação associada ao pixel central em cada vizinhança.\n",
    "O objetivo é prever esta classificação, dados os valores multi-espectrais. \n",
    "\n",
    "Um quadro de imagens do Satélite Landsat com MSS (Multispectral Scanner System) consiste em quatro imagens digitais da mesma cena em diferentes bandas espectrais. Duas delas estão na região visível (correspondendo aproximadamente às regiões verde e\n",
    "vermelha do espectro visível) e duas no infravermelho (próximo). Cada pixel é uma palavra binária de 8 bits, com 0 correspondendo a preto e 255 a branco. A resolução espacial de um\n",
    "pixel é de cerca de 80m x 80m. Cada imagem contém 2340 x 3380 desses pixels. O banco de dados é uma subárea (minúscula) de uma cena, consistindo de 82 x 100 pixels. Cada\n",
    "linha de dados corresponde a uma vizinhança quadrada de pixels 3x3 completamente contida dentro da subárea 82x100. Cada linha contém os valores de pixel nas quatro\n",
    "bandas espectrais (convertidas em ASCII) de cada um dos 9 pixels na vizinhança de 3x3 e um número indicando o rótulo de classificação do pixel central.\n",
    "\n",
    "As classes são: solo vermelho, colheita de algodão, solo cinza, solo cinza úmido, restolho de vegetação, solo cinza muito úmido.\n",
    "\n",
    "Os dados estão em ordem aleatória e certas linhas de dados foram removidas, portanto você não pode reconstruir a imagem original desse conjunto de dados. Em cada linha de dados, os quatro valores espectrais para o pixel superior esquerdo são dados primeiro, seguidos pelos quatro valores espectrais para o pixel superior central e, em seguida, para o pixel superior direito, e assim por diante, com os pixels lidos em sequência, da esquerda para a direita e de cima para baixo. Assim, os quatro valores espectrais para o pixel central são dados pelos atributos 17, 18, 19 e 20. Se você quiser, pode usar apenas esses quatro\n",
    "atributos, ignorando os outros. Isso evita o problema que surge quando uma vizinhança 3x3 atravessa um limite."
   ]
  },
  {
   "cell_type": "markdown",
   "metadata": {},
   "source": [
    "O banco de dados se encontra no pacote mlbench e é completo (não possui dados faltantes).\n",
    "\n",
    "Tarefas:\n",
    "  \n",
    "1 - Treine modelos RandomForest, SVM e RNA para predição destes dados. \n",
    "\n",
    "2 - Escolha o melhor modelo com base em suas matrizes de confusão. \n",
    "\n",
    "3 - Treine o modelo final com todos os dados e faça a predição na base completa. \n",
    "\n",
    "4 - Analise o resultado.\n",
    "\n",
    "5 - Salve este modelo final "
   ]
  },
  {
   "cell_type": "code",
   "execution_count": 1,
   "metadata": {},
   "outputs": [
    {
     "data": {
      "text/html": [
       "'C:/FCD/UFPR'"
      ],
      "text/latex": [
       "'C:/FCD/UFPR'"
      ],
      "text/markdown": [
       "'C:/FCD/UFPR'"
      ],
      "text/plain": [
       "[1] \"C:/FCD/UFPR\""
      ]
     },
     "metadata": {},
     "output_type": "display_data"
    }
   ],
   "source": [
    "setwd(\"C:/FCD/UFPR\")\n",
    "getwd()"
   ]
  },
  {
   "cell_type": "code",
   "execution_count": 2,
   "metadata": {},
   "outputs": [],
   "source": [
    "# DESATIVAR MENSAGENS DE WARNINGS (warn = -1) E ATIVAR (warn = 0)\n",
    "options(warn = -1)"
   ]
  },
  {
   "cell_type": "code",
   "execution_count": 3,
   "metadata": {},
   "outputs": [],
   "source": [
    "suppressPackageStartupMessages({library(mlbench)\n",
    "library(dplyr)\n",
    "library(rpart)\n",
    "library(e1071)\n",
    "library(caret)\n",
    "library(caTools)\n",
    "library(neuralnet)\n",
    "library(kernlab)\n",
    "library(data.table)})"
   ]
  },
  {
   "cell_type": "code",
   "execution_count": 4,
   "metadata": {},
   "outputs": [],
   "source": [
    "set.seed(1971)"
   ]
  },
  {
   "cell_type": "code",
   "execution_count": 5,
   "metadata": {},
   "outputs": [
    {
     "data": {
      "text/html": [
       "<table>\n",
       "<thead><tr><th scope=col>x.1</th><th scope=col>x.2</th><th scope=col>x.3</th><th scope=col>x.4</th><th scope=col>x.5</th><th scope=col>x.6</th><th scope=col>x.7</th><th scope=col>x.8</th><th scope=col>x.9</th><th scope=col>x.10</th><th scope=col>...</th><th scope=col>x.28</th><th scope=col>x.29</th><th scope=col>x.30</th><th scope=col>x.31</th><th scope=col>x.32</th><th scope=col>x.33</th><th scope=col>x.34</th><th scope=col>x.35</th><th scope=col>x.36</th><th scope=col>classes</th></tr></thead>\n",
       "<tbody>\n",
       "\t<tr><td>92       </td><td>115      </td><td>120      </td><td>94       </td><td>84       </td><td>102      </td><td>106      </td><td>79       </td><td>84       </td><td>102      </td><td>...      </td><td>104      </td><td>88       </td><td>121      </td><td>128      </td><td>100      </td><td>84       </td><td>107      </td><td>113      </td><td>87       </td><td>grey soil</td></tr>\n",
       "\t<tr><td>84       </td><td>102      </td><td>106      </td><td>79       </td><td>84       </td><td>102      </td><td>102      </td><td>83       </td><td>80       </td><td>102      </td><td>...      </td><td>100      </td><td>84       </td><td>107      </td><td>113      </td><td> 87      </td><td>84       </td><td> 99      </td><td>104      </td><td>79       </td><td>grey soil</td></tr>\n",
       "\t<tr><td>84       </td><td>102      </td><td>102      </td><td>83       </td><td>80       </td><td>102      </td><td>102      </td><td>79       </td><td>84       </td><td> 94      </td><td>...      </td><td> 87      </td><td>84       </td><td> 99      </td><td>104      </td><td> 79      </td><td>84       </td><td> 99      </td><td>104      </td><td>79       </td><td>grey soil</td></tr>\n",
       "\t<tr><td>80       </td><td>102      </td><td>102      </td><td>79       </td><td>84       </td><td> 94      </td><td>102      </td><td>79       </td><td>80       </td><td> 94      </td><td>...      </td><td> 79      </td><td>84       </td><td> 99      </td><td>104      </td><td> 79      </td><td>84       </td><td>103      </td><td>104      </td><td>79       </td><td>grey soil</td></tr>\n",
       "\t<tr><td>84       </td><td> 94      </td><td>102      </td><td>79       </td><td>80       </td><td> 94      </td><td> 98      </td><td>76       </td><td>80       </td><td>102      </td><td>...      </td><td> 79      </td><td>84       </td><td>103      </td><td>104      </td><td> 79      </td><td>79       </td><td>107      </td><td>109      </td><td>87       </td><td>grey soil</td></tr>\n",
       "\t<tr><td>80       </td><td> 94      </td><td> 98      </td><td>76       </td><td>80       </td><td>102      </td><td>102      </td><td>79       </td><td>76       </td><td>102      </td><td>...      </td><td> 79      </td><td>79       </td><td>107      </td><td>109      </td><td> 87      </td><td>79       </td><td>107      </td><td>109      </td><td>87       </td><td>grey soil</td></tr>\n",
       "</tbody>\n",
       "</table>\n"
      ],
      "text/latex": [
       "\\begin{tabular}{r|lllllllllllllllllllllllllllllllllllll}\n",
       " x.1 & x.2 & x.3 & x.4 & x.5 & x.6 & x.7 & x.8 & x.9 & x.10 & ... & x.28 & x.29 & x.30 & x.31 & x.32 & x.33 & x.34 & x.35 & x.36 & classes\\\\\n",
       "\\hline\n",
       "\t 92        & 115       & 120       & 94        & 84        & 102       & 106       & 79        & 84        & 102       & ...       & 104       & 88        & 121       & 128       & 100       & 84        & 107       & 113       & 87        & grey soil\\\\\n",
       "\t 84        & 102       & 106       & 79        & 84        & 102       & 102       & 83        & 80        & 102       & ...       & 100       & 84        & 107       & 113       &  87       & 84        &  99       & 104       & 79        & grey soil\\\\\n",
       "\t 84        & 102       & 102       & 83        & 80        & 102       & 102       & 79        & 84        &  94       & ...       &  87       & 84        &  99       & 104       &  79       & 84        &  99       & 104       & 79        & grey soil\\\\\n",
       "\t 80        & 102       & 102       & 79        & 84        &  94       & 102       & 79        & 80        &  94       & ...       &  79       & 84        &  99       & 104       &  79       & 84        & 103       & 104       & 79        & grey soil\\\\\n",
       "\t 84        &  94       & 102       & 79        & 80        &  94       &  98       & 76        & 80        & 102       & ...       &  79       & 84        & 103       & 104       &  79       & 79        & 107       & 109       & 87        & grey soil\\\\\n",
       "\t 80        &  94       &  98       & 76        & 80        & 102       & 102       & 79        & 76        & 102       & ...       &  79       & 79        & 107       & 109       &  87       & 79        & 107       & 109       & 87        & grey soil\\\\\n",
       "\\end{tabular}\n"
      ],
      "text/markdown": [
       "\n",
       "| x.1 | x.2 | x.3 | x.4 | x.5 | x.6 | x.7 | x.8 | x.9 | x.10 | ... | x.28 | x.29 | x.30 | x.31 | x.32 | x.33 | x.34 | x.35 | x.36 | classes |\n",
       "|---|---|---|---|---|---|---|---|---|---|---|---|---|---|---|---|---|---|---|---|---|\n",
       "| 92        | 115       | 120       | 94        | 84        | 102       | 106       | 79        | 84        | 102       | ...       | 104       | 88        | 121       | 128       | 100       | 84        | 107       | 113       | 87        | grey soil |\n",
       "| 84        | 102       | 106       | 79        | 84        | 102       | 102       | 83        | 80        | 102       | ...       | 100       | 84        | 107       | 113       |  87       | 84        |  99       | 104       | 79        | grey soil |\n",
       "| 84        | 102       | 102       | 83        | 80        | 102       | 102       | 79        | 84        |  94       | ...       |  87       | 84        |  99       | 104       |  79       | 84        |  99       | 104       | 79        | grey soil |\n",
       "| 80        | 102       | 102       | 79        | 84        |  94       | 102       | 79        | 80        |  94       | ...       |  79       | 84        |  99       | 104       |  79       | 84        | 103       | 104       | 79        | grey soil |\n",
       "| 84        |  94       | 102       | 79        | 80        |  94       |  98       | 76        | 80        | 102       | ...       |  79       | 84        | 103       | 104       |  79       | 79        | 107       | 109       | 87        | grey soil |\n",
       "| 80        |  94       |  98       | 76        | 80        | 102       | 102       | 79        | 76        | 102       | ...       |  79       | 79        | 107       | 109       |  87       | 79        | 107       | 109       | 87        | grey soil |\n",
       "\n"
      ],
      "text/plain": [
       "  x.1 x.2 x.3 x.4 x.5 x.6 x.7 x.8 x.9 x.10 ... x.28 x.29 x.30 x.31 x.32 x.33\n",
       "1 92  115 120 94  84  102 106 79  84  102  ... 104  88   121  128  100  84  \n",
       "2 84  102 106 79  84  102 102 83  80  102  ... 100  84   107  113   87  84  \n",
       "3 84  102 102 83  80  102 102 79  84   94  ...  87  84    99  104   79  84  \n",
       "4 80  102 102 79  84   94 102 79  80   94  ...  79  84    99  104   79  84  \n",
       "5 84   94 102 79  80   94  98 76  80  102  ...  79  84   103  104   79  79  \n",
       "6 80   94  98 76  80  102 102 79  76  102  ...  79  79   107  109   87  79  \n",
       "  x.34 x.35 x.36 classes  \n",
       "1 107  113  87   grey soil\n",
       "2  99  104  79   grey soil\n",
       "3  99  104  79   grey soil\n",
       "4 103  104  79   grey soil\n",
       "5 107  109  87   grey soil\n",
       "6 107  109  87   grey soil"
      ]
     },
     "metadata": {},
     "output_type": "display_data"
    }
   ],
   "source": [
    "# DADOS\n",
    "data(Satellite)\n",
    "head(Satellite)"
   ]
  },
  {
   "cell_type": "code",
   "execution_count": 6,
   "metadata": {},
   "outputs": [
    {
     "name": "stdout",
     "output_type": "stream",
     "text": [
      "'data.frame':\t6435 obs. of  37 variables:\n",
      " $ x.1    : num  92 84 84 80 84 80 76 76 76 76 ...\n",
      " $ x.2    : num  115 102 102 102 94 94 102 102 89 94 ...\n",
      " $ x.3    : num  120 106 102 102 102 98 106 106 98 98 ...\n",
      " $ x.4    : num  94 79 83 79 79 76 83 87 76 76 ...\n",
      " $ x.5    : num  84 84 80 84 80 80 76 80 76 76 ...\n",
      " $ x.6    : num  102 102 102 94 94 102 102 98 94 98 ...\n",
      " $ x.7    : num  106 102 102 102 98 102 106 106 98 102 ...\n",
      " $ x.8    : num  79 83 79 79 76 79 87 79 76 72 ...\n",
      " $ x.9    : num  84 80 84 80 80 76 80 76 76 76 ...\n",
      " $ x.10   : num  102 102 94 94 102 102 98 94 98 94 ...\n",
      " $ x.11   : num  102 102 102 98 102 102 106 102 102 90 ...\n",
      " $ x.12   : num  83 79 79 76 79 79 79 76 72 76 ...\n",
      " $ x.13   : num  101 92 84 84 84 76 80 80 80 76 ...\n",
      " $ x.14   : num  126 112 103 99 99 99 107 112 95 91 ...\n",
      " $ x.15   : num  133 118 104 104 104 104 118 118 104 104 ...\n",
      " $ x.16   : num  103 85 81 78 81 81 88 88 74 74 ...\n",
      " $ x.17   : num  92 84 84 84 76 76 80 80 76 76 ...\n",
      " $ x.18   : num  112 103 99 99 99 99 112 107 91 95 ...\n",
      " $ x.19   : num  118 104 104 104 104 108 118 113 104 100 ...\n",
      " $ x.20   : num  85 81 78 81 81 85 88 85 74 78 ...\n",
      " $ x.21   : num  84 84 84 76 76 76 80 80 76 76 ...\n",
      " $ x.22   : num  103 99 99 99 99 103 107 95 95 91 ...\n",
      " $ x.23   : num  104 104 104 104 108 118 113 100 100 100 ...\n",
      " $ x.24   : num  81 78 81 81 85 88 85 78 78 74 ...\n",
      " $ x.25   : num  102 88 84 84 84 84 79 79 75 75 ...\n",
      " $ x.26   : num  126 121 107 99 99 103 107 103 91 91 ...\n",
      " $ x.27   : num  134 128 113 104 104 104 113 104 96 96 ...\n",
      " $ x.28   : num  104 100 87 79 79 79 87 83 75 71 ...\n",
      " $ x.29   : num  88 84 84 84 84 79 79 79 75 79 ...\n",
      " $ x.30   : num  121 107 99 99 103 107 103 103 91 87 ...\n",
      " $ x.31   : num  128 113 104 104 104 109 104 104 96 93 ...\n",
      " $ x.32   : num  100 87 79 79 79 87 83 79 71 71 ...\n",
      " $ x.33   : num  84 84 84 84 79 79 79 79 79 79 ...\n",
      " $ x.34   : num  107 99 99 103 107 107 103 95 87 87 ...\n",
      " $ x.35   : num  113 104 104 104 109 109 104 100 93 93 ...\n",
      " $ x.36   : num  87 79 79 79 87 87 79 79 71 67 ...\n",
      " $ classes: Factor w/ 6 levels \"red soil\",\"cotton crop\",..: 3 3 3 3 3 3 3 3 4 4 ...\n"
     ]
    }
   ],
   "source": [
    "str(Satellite)"
   ]
  },
  {
   "cell_type": "code",
   "execution_count": 7,
   "metadata": {},
   "outputs": [],
   "source": [
    "# TRANSFORMANDO A COLUNA classes EM FACTOR COM NÚMEROS.\n",
    "df_satellite <- Satellite %>%\n",
    "  mutate(classes2 = factor(as.numeric(Satellite$classes)))\n",
    "\n",
    "df_satellite <- df_satellite[,c(-37)]"
   ]
  },
  {
   "cell_type": "code",
   "execution_count": 8,
   "metadata": {},
   "outputs": [
    {
     "data": {
      "text/html": [
       "<table>\n",
       "<thead><tr><th scope=col>x.1</th><th scope=col>x.2</th><th scope=col>x.3</th><th scope=col>x.4</th><th scope=col>x.5</th><th scope=col>x.6</th><th scope=col>x.7</th><th scope=col>x.8</th><th scope=col>x.9</th><th scope=col>x.10</th><th scope=col>...</th><th scope=col>x.28</th><th scope=col>x.29</th><th scope=col>x.30</th><th scope=col>x.31</th><th scope=col>x.32</th><th scope=col>x.33</th><th scope=col>x.34</th><th scope=col>x.35</th><th scope=col>x.36</th><th scope=col>classes2</th></tr></thead>\n",
       "<tbody>\n",
       "\t<tr><td>92 </td><td>115</td><td>120</td><td>94 </td><td>84 </td><td>102</td><td>106</td><td>79 </td><td>84 </td><td>102</td><td>...</td><td>104</td><td>88 </td><td>121</td><td>128</td><td>100</td><td>84 </td><td>107</td><td>113</td><td>87 </td><td>3  </td></tr>\n",
       "\t<tr><td>84 </td><td>102</td><td>106</td><td>79 </td><td>84 </td><td>102</td><td>102</td><td>83 </td><td>80 </td><td>102</td><td>...</td><td>100</td><td>84 </td><td>107</td><td>113</td><td> 87</td><td>84 </td><td> 99</td><td>104</td><td>79 </td><td>3  </td></tr>\n",
       "\t<tr><td>84 </td><td>102</td><td>102</td><td>83 </td><td>80 </td><td>102</td><td>102</td><td>79 </td><td>84 </td><td> 94</td><td>...</td><td> 87</td><td>84 </td><td> 99</td><td>104</td><td> 79</td><td>84 </td><td> 99</td><td>104</td><td>79 </td><td>3  </td></tr>\n",
       "\t<tr><td>80 </td><td>102</td><td>102</td><td>79 </td><td>84 </td><td> 94</td><td>102</td><td>79 </td><td>80 </td><td> 94</td><td>...</td><td> 79</td><td>84 </td><td> 99</td><td>104</td><td> 79</td><td>84 </td><td>103</td><td>104</td><td>79 </td><td>3  </td></tr>\n",
       "\t<tr><td>84 </td><td> 94</td><td>102</td><td>79 </td><td>80 </td><td> 94</td><td> 98</td><td>76 </td><td>80 </td><td>102</td><td>...</td><td> 79</td><td>84 </td><td>103</td><td>104</td><td> 79</td><td>79 </td><td>107</td><td>109</td><td>87 </td><td>3  </td></tr>\n",
       "\t<tr><td>80 </td><td> 94</td><td> 98</td><td>76 </td><td>80 </td><td>102</td><td>102</td><td>79 </td><td>76 </td><td>102</td><td>...</td><td> 79</td><td>79 </td><td>107</td><td>109</td><td> 87</td><td>79 </td><td>107</td><td>109</td><td>87 </td><td>3  </td></tr>\n",
       "</tbody>\n",
       "</table>\n"
      ],
      "text/latex": [
       "\\begin{tabular}{r|lllllllllllllllllllllllllllllllllllll}\n",
       " x.1 & x.2 & x.3 & x.4 & x.5 & x.6 & x.7 & x.8 & x.9 & x.10 & ... & x.28 & x.29 & x.30 & x.31 & x.32 & x.33 & x.34 & x.35 & x.36 & classes2\\\\\n",
       "\\hline\n",
       "\t 92  & 115 & 120 & 94  & 84  & 102 & 106 & 79  & 84  & 102 & ... & 104 & 88  & 121 & 128 & 100 & 84  & 107 & 113 & 87  & 3  \\\\\n",
       "\t 84  & 102 & 106 & 79  & 84  & 102 & 102 & 83  & 80  & 102 & ... & 100 & 84  & 107 & 113 &  87 & 84  &  99 & 104 & 79  & 3  \\\\\n",
       "\t 84  & 102 & 102 & 83  & 80  & 102 & 102 & 79  & 84  &  94 & ... &  87 & 84  &  99 & 104 &  79 & 84  &  99 & 104 & 79  & 3  \\\\\n",
       "\t 80  & 102 & 102 & 79  & 84  &  94 & 102 & 79  & 80  &  94 & ... &  79 & 84  &  99 & 104 &  79 & 84  & 103 & 104 & 79  & 3  \\\\\n",
       "\t 84  &  94 & 102 & 79  & 80  &  94 &  98 & 76  & 80  & 102 & ... &  79 & 84  & 103 & 104 &  79 & 79  & 107 & 109 & 87  & 3  \\\\\n",
       "\t 80  &  94 &  98 & 76  & 80  & 102 & 102 & 79  & 76  & 102 & ... &  79 & 79  & 107 & 109 &  87 & 79  & 107 & 109 & 87  & 3  \\\\\n",
       "\\end{tabular}\n"
      ],
      "text/markdown": [
       "\n",
       "| x.1 | x.2 | x.3 | x.4 | x.5 | x.6 | x.7 | x.8 | x.9 | x.10 | ... | x.28 | x.29 | x.30 | x.31 | x.32 | x.33 | x.34 | x.35 | x.36 | classes2 |\n",
       "|---|---|---|---|---|---|---|---|---|---|---|---|---|---|---|---|---|---|---|---|---|\n",
       "| 92  | 115 | 120 | 94  | 84  | 102 | 106 | 79  | 84  | 102 | ... | 104 | 88  | 121 | 128 | 100 | 84  | 107 | 113 | 87  | 3   |\n",
       "| 84  | 102 | 106 | 79  | 84  | 102 | 102 | 83  | 80  | 102 | ... | 100 | 84  | 107 | 113 |  87 | 84  |  99 | 104 | 79  | 3   |\n",
       "| 84  | 102 | 102 | 83  | 80  | 102 | 102 | 79  | 84  |  94 | ... |  87 | 84  |  99 | 104 |  79 | 84  |  99 | 104 | 79  | 3   |\n",
       "| 80  | 102 | 102 | 79  | 84  |  94 | 102 | 79  | 80  |  94 | ... |  79 | 84  |  99 | 104 |  79 | 84  | 103 | 104 | 79  | 3   |\n",
       "| 84  |  94 | 102 | 79  | 80  |  94 |  98 | 76  | 80  | 102 | ... |  79 | 84  | 103 | 104 |  79 | 79  | 107 | 109 | 87  | 3   |\n",
       "| 80  |  94 |  98 | 76  | 80  | 102 | 102 | 79  | 76  | 102 | ... |  79 | 79  | 107 | 109 |  87 | 79  | 107 | 109 | 87  | 3   |\n",
       "\n"
      ],
      "text/plain": [
       "  x.1 x.2 x.3 x.4 x.5 x.6 x.7 x.8 x.9 x.10 ... x.28 x.29 x.30 x.31 x.32 x.33\n",
       "1 92  115 120 94  84  102 106 79  84  102  ... 104  88   121  128  100  84  \n",
       "2 84  102 106 79  84  102 102 83  80  102  ... 100  84   107  113   87  84  \n",
       "3 84  102 102 83  80  102 102 79  84   94  ...  87  84    99  104   79  84  \n",
       "4 80  102 102 79  84   94 102 79  80   94  ...  79  84    99  104   79  84  \n",
       "5 84   94 102 79  80   94  98 76  80  102  ...  79  84   103  104   79  79  \n",
       "6 80   94  98 76  80  102 102 79  76  102  ...  79  79   107  109   87  79  \n",
       "  x.34 x.35 x.36 classes2\n",
       "1 107  113  87   3       \n",
       "2  99  104  79   3       \n",
       "3  99  104  79   3       \n",
       "4 103  104  79   3       \n",
       "5 107  109  87   3       \n",
       "6 107  109  87   3       "
      ]
     },
     "metadata": {},
     "output_type": "display_data"
    }
   ],
   "source": [
    "head(df_satellite)"
   ]
  },
  {
   "cell_type": "code",
   "execution_count": 9,
   "metadata": {},
   "outputs": [
    {
     "data": {
      "text/html": [
       "<ol class=list-inline>\n",
       "\t<li>'1'</li>\n",
       "\t<li>'2'</li>\n",
       "\t<li>'3'</li>\n",
       "\t<li>'4'</li>\n",
       "\t<li>'5'</li>\n",
       "\t<li>'6'</li>\n",
       "</ol>\n"
      ],
      "text/latex": [
       "\\begin{enumerate*}\n",
       "\\item '1'\n",
       "\\item '2'\n",
       "\\item '3'\n",
       "\\item '4'\n",
       "\\item '5'\n",
       "\\item '6'\n",
       "\\end{enumerate*}\n"
      ],
      "text/markdown": [
       "1. '1'\n",
       "2. '2'\n",
       "3. '3'\n",
       "4. '4'\n",
       "5. '5'\n",
       "6. '6'\n",
       "\n",
       "\n"
      ],
      "text/plain": [
       "[1] \"1\" \"2\" \"3\" \"4\" \"5\" \"6\""
      ]
     },
     "metadata": {},
     "output_type": "display_data"
    }
   ],
   "source": [
    "levels(df_satellite$classes2)"
   ]
  },
  {
   "cell_type": "markdown",
   "metadata": {},
   "source": [
    "As classes são: solo vermelho (1), colheita de algodão (2), solo cinza (3), solo cinza úmido (4), restolho de vegetação (5), solo cinza muito úmido (6)."
   ]
  },
  {
   "cell_type": "code",
   "execution_count": 10,
   "metadata": {},
   "outputs": [],
   "source": [
    "# DADOS TREINO E TESTE 80% 20%\n",
    "treino_teste <- sample.split(df_satellite$classes2, SplitRatio = 0.80)\n",
    "dados_treino <- subset(df_satellite, treino_teste == TRUE)\n",
    "dados_teste <- subset(df_satellite, treino_teste == FALSE)"
   ]
  },
  {
   "cell_type": "code",
   "execution_count": 11,
   "metadata": {},
   "outputs": [
    {
     "name": "stdout",
     "output_type": "stream",
     "text": [
      "Dados de treino: 5147 linhas \n",
      "Dados de teste: 1288 linhas"
     ]
    }
   ],
   "source": [
    "cat(\"Dados de treino:\", nrow(dados_treino),\"linhas\",\"\\nDados de teste:\", nrow(dados_teste),\"linhas\")"
   ]
  },
  {
   "cell_type": "markdown",
   "metadata": {},
   "source": [
    "### 1 - TREINE MODELOS RANDOM FOREST, SVM E RNA PARA PREDIÇÃO DESTES DADOS.\n",
    "#### 1.1 - MODELO RANDOM FOREST"
   ]
  },
  {
   "cell_type": "code",
   "execution_count": 12,
   "metadata": {},
   "outputs": [],
   "source": [
    "# FÓRMULA\n",
    "formula <- classes2 ~."
   ]
  },
  {
   "cell_type": "code",
   "execution_count": 13,
   "metadata": {},
   "outputs": [],
   "source": [
    "# TREINAMENTO DO MODELO\n",
    "modelo_rf <- rpart(formula = formula, data = dados_treino, control = rpart.control(cp = 0.0005))"
   ]
  },
  {
   "cell_type": "code",
   "execution_count": 14,
   "metadata": {},
   "outputs": [],
   "source": [
    "saveRDS(modelo_rf, \"modelo_rf.rds\")"
   ]
  },
  {
   "cell_type": "code",
   "execution_count": 15,
   "metadata": {},
   "outputs": [],
   "source": [
    "modelo_rf <- readRDS(\"modelo_rf.rds\")"
   ]
  },
  {
   "cell_type": "code",
   "execution_count": 16,
   "metadata": {},
   "outputs": [],
   "source": [
    "# PREDIÇÃO DO MODELO\n",
    "previsao_rf <- predict(modelo_rf, dados_teste, type = 'class')"
   ]
  },
  {
   "cell_type": "code",
   "execution_count": 17,
   "metadata": {},
   "outputs": [
    {
     "data": {
      "text/plain": [
       "Confusion Matrix and Statistics\n",
       "\n",
       "          Reference\n",
       "Prediction   1   2   3   4   5   6\n",
       "         1 292   4   1   2  10   2\n",
       "         2   2 132   0   0   2   3\n",
       "         3   6   0 256  24   0  10\n",
       "         4   0   1  12  67   3  21\n",
       "         5   6   4   0   2 112   4\n",
       "         6   1   0   3  30  14 262\n",
       "\n",
       "Overall Statistics\n",
       "                                          \n",
       "               Accuracy : 0.8703          \n",
       "                 95% CI : (0.8508, 0.8882)\n",
       "    No Information Rate : 0.2384          \n",
       "    P-Value [Acc > NIR] : < 2.2e-16       \n",
       "                                          \n",
       "                  Kappa : 0.8393          \n",
       "                                          \n",
       " Mcnemar's Test P-Value : NA              \n",
       "\n",
       "Statistics by Class:\n",
       "\n",
       "                     Class: 1 Class: 2 Class: 3 Class: 4 Class: 5 Class: 6\n",
       "Sensitivity            0.9511   0.9362   0.9412  0.53600  0.79433   0.8675\n",
       "Specificity            0.9806   0.9939   0.9606  0.96819  0.98605   0.9513\n",
       "Pos Pred Value         0.9389   0.9496   0.8649  0.64423  0.87500   0.8452\n",
       "Neg Pred Value         0.9846   0.9922   0.9839  0.95101  0.97500   0.9591\n",
       "Prevalence             0.2384   0.1095   0.2112  0.09705  0.10947   0.2345\n",
       "Detection Rate         0.2267   0.1025   0.1988  0.05202  0.08696   0.2034\n",
       "Detection Prevalence   0.2415   0.1079   0.2298  0.08075  0.09938   0.2407\n",
       "Balanced Accuracy      0.9659   0.9650   0.9509  0.75209  0.89019   0.9094"
      ]
     },
     "metadata": {},
     "output_type": "display_data"
    }
   ],
   "source": [
    "# MATRIZ DE CONFUSÃO\n",
    "matriz_confusao1 <- confusionMatrix(previsao_rf, dados_teste$classes2)\n",
    "matriz_confusao1"
   ]
  },
  {
   "cell_type": "markdown",
   "metadata": {},
   "source": [
    "#### 1.2 - MODELO SUPPORT VECTOR MACHINES - SVM "
   ]
  },
  {
   "cell_type": "code",
   "execution_count": 18,
   "metadata": {},
   "outputs": [],
   "source": [
    "# TREINAMENTO DO MODELO\n",
    "modelo_svm <- svm(formula = formula, data = dados_treino, type = 'C-classification', \n",
    "                  kernel = 'radial')"
   ]
  },
  {
   "cell_type": "code",
   "execution_count": 19,
   "metadata": {},
   "outputs": [],
   "source": [
    "saveRDS(modelo_svm, \"modelo_svm.rds\")"
   ]
  },
  {
   "cell_type": "code",
   "execution_count": 20,
   "metadata": {},
   "outputs": [],
   "source": [
    "modelo_svm <- readRDS(\"modelo_svm.rds\")"
   ]
  },
  {
   "cell_type": "code",
   "execution_count": 21,
   "metadata": {},
   "outputs": [
    {
     "data": {
      "text/plain": [
       "\n",
       "Call:\n",
       "svm(formula = formula, data = dados_treino, type = \"C-classification\", \n",
       "    kernel = \"radial\")\n",
       "\n",
       "\n",
       "Parameters:\n",
       "   SVM-Type:  C-classification \n",
       " SVM-Kernel:  radial \n",
       "       cost:  1 \n",
       "\n",
       "Number of Support Vectors:  1657\n",
       "\n",
       " ( 265 467 252 451 91 131 )\n",
       "\n",
       "\n",
       "Number of Classes:  6 \n",
       "\n",
       "Levels: \n",
       " 1 2 3 4 5 6\n",
       "\n",
       "\n"
      ]
     },
     "metadata": {},
     "output_type": "display_data"
    }
   ],
   "source": [
    "summary(modelo_svm)"
   ]
  },
  {
   "cell_type": "code",
   "execution_count": 22,
   "metadata": {},
   "outputs": [],
   "source": [
    "# PREDIÇÃO DO MODELO\n",
    "previsao_svm <- predict(modelo_svm, dados_teste)"
   ]
  },
  {
   "cell_type": "code",
   "execution_count": 23,
   "metadata": {},
   "outputs": [
    {
     "data": {
      "text/plain": [
       "Confusion Matrix and Statistics\n",
       "\n",
       "          Reference\n",
       "Prediction   1   2   3   4   5   6\n",
       "         1 300   0   2   1   4   0\n",
       "         2   0 139   1   1   1   0\n",
       "         3   5   0 256  18   1   6\n",
       "         4   0   0  11  83   1  33\n",
       "         5   2   2   0   2 123   5\n",
       "         6   0   0   2  20  11 258\n",
       "\n",
       "Overall Statistics\n",
       "                                          \n",
       "               Accuracy : 0.8998          \n",
       "                 95% CI : (0.8821, 0.9157)\n",
       "    No Information Rate : 0.2384          \n",
       "    P-Value [Acc > NIR] : < 2.2e-16       \n",
       "                                          \n",
       "                  Kappa : 0.8764          \n",
       "                                          \n",
       " Mcnemar's Test P-Value : NA              \n",
       "\n",
       "Statistics by Class:\n",
       "\n",
       "                     Class: 1 Class: 2 Class: 3 Class: 4 Class: 5 Class: 6\n",
       "Sensitivity            0.9772   0.9858   0.9412  0.66400   0.8723   0.8543\n",
       "Specificity            0.9929   0.9974   0.9705  0.96131   0.9904   0.9665\n",
       "Pos Pred Value         0.9772   0.9789   0.8951  0.64844   0.9179   0.8866\n",
       "Neg Pred Value         0.9929   0.9983   0.9840  0.96379   0.9844   0.9559\n",
       "Prevalence             0.2384   0.1095   0.2112  0.09705   0.1095   0.2345\n",
       "Detection Rate         0.2329   0.1079   0.1988  0.06444   0.0955   0.2003\n",
       "Detection Prevalence   0.2384   0.1102   0.2220  0.09938   0.1040   0.2259\n",
       "Balanced Accuracy      0.9850   0.9916   0.9558  0.81265   0.9314   0.9104"
      ]
     },
     "metadata": {},
     "output_type": "display_data"
    }
   ],
   "source": [
    "# MATRIZ DE CONFUSÃO\n",
    "matriz_confusao2 <- confusionMatrix(previsao_svm, dados_teste$classes2)\n",
    "matriz_confusao2"
   ]
  },
  {
   "cell_type": "markdown",
   "metadata": {},
   "source": [
    "#### 1.3 - MODELO REDES NEURAIS ARTIFICIAIS - RNA"
   ]
  },
  {
   "cell_type": "code",
   "execution_count": 24,
   "metadata": {},
   "outputs": [
    {
     "data": {
      "text/plain": [
       "Neural Network \n",
       "\n",
       "5147 samples\n",
       "  36 predictor\n",
       "   6 classes: '1', '2', '3', '4', '5', '6' \n",
       "\n",
       "No pre-processing\n",
       "Resampling: Bootstrapped (25 reps) \n",
       "Summary of sample sizes: 5147, 5147, 5147, 5147, 5147, 5147, ... \n",
       "Resampling results across tuning parameters:\n",
       "\n",
       "  size  decay  Accuracy   Kappa     \n",
       "  1     0e+00  0.2724924  0.05337293\n",
       "  1     1e-04  0.2331361  0.00000000\n",
       "  1     1e-01  0.3771697  0.19527957\n",
       "  3     0e+00  0.3286605  0.13110565\n",
       "  3     1e-04  0.3022562  0.09489613\n",
       "  3     1e-01  0.5021745  0.36537354\n",
       "  5     0e+00  0.3562555  0.16529654\n",
       "  5     1e-04  0.3596942  0.17421837\n",
       "  5     1e-01  0.5649937  0.44843302\n",
       "\n",
       "Accuracy was used to select the optimal model using the largest value.\n",
       "The final values used for the model were size = 5 and decay = 0.1."
      ]
     },
     "metadata": {},
     "output_type": "display_data"
    }
   ],
   "source": [
    "# TREINAMENTO DO MODELO\n",
    "modelo_rna <- train(formula, dados_treino, method = \"nnet\", trace = FALSE)\n",
    "modelo_rna"
   ]
  },
  {
   "cell_type": "code",
   "execution_count": 25,
   "metadata": {},
   "outputs": [],
   "source": [
    "saveRDS(modelo_rna, \"modelo_rna.rds\")"
   ]
  },
  {
   "cell_type": "code",
   "execution_count": 26,
   "metadata": {},
   "outputs": [],
   "source": [
    "modelo_rna <- readRDS(\"modelo_rna.rds\")"
   ]
  },
  {
   "cell_type": "code",
   "execution_count": 27,
   "metadata": {},
   "outputs": [],
   "source": [
    "# PREVISÃO DO MODELO\n",
    "previsao_rna <- predict(modelo_rna, dados_teste)"
   ]
  },
  {
   "cell_type": "code",
   "execution_count": 28,
   "metadata": {},
   "outputs": [
    {
     "data": {
      "text/plain": [
       "Confusion Matrix and Statistics\n",
       "\n",
       "          Reference\n",
       "Prediction   1   2   3   4   5   6\n",
       "         1   0   0   0   0   0   0\n",
       "         2   0 120   0   0   0   0\n",
       "         3   0   0   0   0   0   0\n",
       "         4   0   0   0   0   0   0\n",
       "         5   1  21   1   3 112  11\n",
       "         6 306   0 271 122  29 291\n",
       "\n",
       "Overall Statistics\n",
       "                                          \n",
       "               Accuracy : 0.4061          \n",
       "                 95% CI : (0.3791, 0.4335)\n",
       "    No Information Rate : 0.2384          \n",
       "    P-Value [Acc > NIR] : < 2.2e-16       \n",
       "                                          \n",
       "                  Kappa : 0.2497          \n",
       "                                          \n",
       " Mcnemar's Test P-Value : NA              \n",
       "\n",
       "Statistics by Class:\n",
       "\n",
       "                     Class: 1 Class: 2 Class: 3 Class: 4 Class: 5 Class: 6\n",
       "Sensitivity            0.0000  0.85106   0.0000  0.00000  0.79433   0.9636\n",
       "Specificity            1.0000  1.00000   1.0000  1.00000  0.96774   0.2617\n",
       "Pos Pred Value            NaN  1.00000      NaN      NaN  0.75168   0.2856\n",
       "Neg Pred Value         0.7616  0.98202   0.7888  0.90295  0.97454   0.9591\n",
       "Prevalence             0.2384  0.10947   0.2112  0.09705  0.10947   0.2345\n",
       "Detection Rate         0.0000  0.09317   0.0000  0.00000  0.08696   0.2259\n",
       "Detection Prevalence   0.0000  0.09317   0.0000  0.00000  0.11568   0.7911\n",
       "Balanced Accuracy      0.5000  0.92553   0.5000  0.50000  0.88103   0.6126"
      ]
     },
     "metadata": {},
     "output_type": "display_data"
    }
   ],
   "source": [
    "# MATRIZ DE CONFUSÃO\n",
    "matriz_confusao3 <- confusionMatrix(previsao_rna, dados_teste$classes2)\n",
    "matriz_confusao3"
   ]
  },
  {
   "cell_type": "markdown",
   "metadata": {},
   "source": [
    "### 2 - ESCOLHA O MELHOR MODELO COM BASE EM SUAS MATRIZES DE CONFUSÃO."
   ]
  },
  {
   "cell_type": "markdown",
   "metadata": {},
   "source": [
    "Com base na matriz de confusão, o melhor modelo foi o SVM com uma acurácia de 0.8998"
   ]
  },
  {
   "cell_type": "markdown",
   "metadata": {},
   "source": [
    "### 3 - TREINE O MODELO FINAL COM TODOS OS DADOS E FAÇA A PREDIÇÃO NA BASE COMPLETA."
   ]
  },
  {
   "cell_type": "code",
   "execution_count": 29,
   "metadata": {},
   "outputs": [],
   "source": [
    "# TREINAMENTO DO MODELO\n",
    "modelo_svm_final <- svm(formula = formula, data = df_satellite, type = 'C-classification', \n",
    "                        kernel = 'radial')"
   ]
  },
  {
   "cell_type": "code",
   "execution_count": 30,
   "metadata": {},
   "outputs": [],
   "source": [
    "saveRDS(modelo_svm_final, \"modelo_svm_final.rds\")"
   ]
  },
  {
   "cell_type": "code",
   "execution_count": 31,
   "metadata": {},
   "outputs": [],
   "source": [
    "modelo_svm_final <- readRDS(\"modelo_svm_final.rds\")"
   ]
  },
  {
   "cell_type": "code",
   "execution_count": 32,
   "metadata": {},
   "outputs": [],
   "source": [
    "# PREDIÇÃO DO MODELO\n",
    "previsao_svm_final <- predict(modelo_svm_final, df_satellite)"
   ]
  },
  {
   "cell_type": "code",
   "execution_count": 33,
   "metadata": {},
   "outputs": [
    {
     "data": {
      "text/plain": [
       "Confusion Matrix and Statistics\n",
       "\n",
       "          Reference\n",
       "Prediction    1    2    3    4    5    6\n",
       "         1 1517    0    8    4   20    0\n",
       "         2    2  691    2    2    6    1\n",
       "         3   11    0 1316  127    2   31\n",
       "         4    0    3   28  389    4  126\n",
       "         5    3    6    1    7  632   30\n",
       "         6    0    3    3   97   43 1320\n",
       "\n",
       "Overall Statistics\n",
       "                                          \n",
       "               Accuracy : 0.9114          \n",
       "                 95% CI : (0.9042, 0.9183)\n",
       "    No Information Rate : 0.2382          \n",
       "    P-Value [Acc > NIR] : < 2.2e-16       \n",
       "                                          \n",
       "                  Kappa : 0.8905          \n",
       "                                          \n",
       " Mcnemar's Test P-Value : NA              \n",
       "\n",
       "Statistics by Class:\n",
       "\n",
       "                     Class: 1 Class: 2 Class: 3 Class: 4 Class: 5 Class: 6\n",
       "Sensitivity            0.9896   0.9829   0.9691  0.62141  0.89392   0.8753\n",
       "Specificity            0.9935   0.9977   0.9663  0.97228  0.99179   0.9704\n",
       "Pos Pred Value         0.9793   0.9815   0.8850  0.70727  0.93078   0.9004\n",
       "Neg Pred Value         0.9967   0.9979   0.9915  0.95973  0.98697   0.9622\n",
       "Prevalence             0.2382   0.1092   0.2110  0.09728  0.10987   0.2343\n",
       "Detection Rate         0.2357   0.1074   0.2045  0.06045  0.09821   0.2051\n",
       "Detection Prevalence   0.2407   0.1094   0.2311  0.08547  0.10552   0.2278\n",
       "Balanced Accuracy      0.9915   0.9903   0.9677  0.79685  0.94286   0.9228"
      ]
     },
     "metadata": {},
     "output_type": "display_data"
    }
   ],
   "source": [
    "# MATRIZ DE CONFUSÃO\n",
    "matriz_confusao2_final <- confusionMatrix(previsao_svm_final, df_satellite$classes2)\n",
    "matriz_confusao2_final"
   ]
  },
  {
   "cell_type": "markdown",
   "metadata": {},
   "source": [
    "### 4 - ANÁLISE O RESULTADO."
   ]
  },
  {
   "cell_type": "markdown",
   "metadata": {},
   "source": [
    "A acurácia do modelo SVM final foi maior que a do primeiro SVM, mas acredito que o modelo final SVM não seja confiável, pois foram apresentados todos os dados ao algoritmo treinamento, conforme descrição do exercício. Os dados de teste não foram apresentados. Pode ser que o modelo final não se comporte bem com novos dados. "
   ]
  },
  {
   "cell_type": "markdown",
   "metadata": {},
   "source": [
    "### 5 - SALVE ESTE MODELO FINAL."
   ]
  },
  {
   "cell_type": "code",
   "execution_count": 34,
   "metadata": {},
   "outputs": [],
   "source": [
    "saveRDS(modelo_svm_final, \"modelo_svm_final.rds\")"
   ]
  },
  {
   "cell_type": "markdown",
   "metadata": {},
   "source": [
    "### ESTIMATIVA DE VOLUMES DE ÁRVORES."
   ]
  },
  {
   "cell_type": "markdown",
   "metadata": {},
   "source": [
    "Modelos de aprendizado de máquina são bastante usados na área da engenharia florestal (mensuração florestal) para, por exemplo, estimar o volume de madeira de árvores sem ser necessário abatê-las.\n",
    "\n",
    "O processo é feito pela coleta de dados (dados observados) através do abate de algumas árvores, onde sua altura, diâmetro na altura do peito (dap), etc, são medidos de forma exata. Com estes dados, treina-se um modelo de AM que pode estimar o volume de outras árvores da população.\n",
    "\n",
    "Os modelos, chamados alométricos, são usados na área há muitos anos e são baseados em regressão (linear ou não) para encontrar uma equação que descreve os dados. Por exemplo, o modelo de Spurr é dado por:\n",
    "\n",
    "                                              Volume = b0 + b1 * dap² * Ht\n",
    "\n",
    "Onde dap é o diâmetro na altura do peito (1,3 metros), Ht é a altura total. Tem-se vários modelos alométricos, cada um com uma determinada característica, parâmetros, etc. Um modelo de regressão envolve aplicar os dados observados e encontrar b0 e b1 no modelo apresentado, gerando assim uma equação que pode ser usada para prever o volume de outras árvores.\n",
    "\n",
    "Dado o arquivo Volumes.csv, que contém os dados de observação, escolha um modelo de aprendizado de máquina com a melhor estimativa, a partir da estatística de correlação.\n"
   ]
  },
  {
   "cell_type": "markdown",
   "metadata": {},
   "source": [
    "Tarefas:\n",
    "\n",
    "1 - Carregar o arquivo Volumes.csv (http://www.razer.net.br/datasets/Volumes.csv).\n",
    "\n",
    "2 - Eliminar a coluna NR, que só apresenta um número sequencial.\n",
    "\n",
    "3 - Criar partição de dados: treinamento 80%, teste 20%.\n",
    "\n",
    "4 - Usando o pacote \"caret\", treinar os modelos: Random Forest (rf), SVM (svmRadial), Redes Neurais (neuralnet) e o modelo alométrico de SPURR.\n",
    "\n",
    "5 - O modelo alométrico é dado por: Volume = b0 + b1 * dap² * Ht\n",
    "\n",
    "                  alom <- nls(VOL ~ b0 + b1*DAP*DAP*HT, dados, start=list(b0 = 0.5,b1 = 0.5))\n",
    "\n",
    "6 - Efetue as predições nos dados de teste\n",
    "\n",
    "7 - Crie funções e calcule as seguintes métricas entre a predição e os dados observados.\n",
    "\n",
    "Coeficiente de determinação (R²): esta métrica indica erro, portanto quanto mais perto de 0 melhor é o modelo.\n",
    "\n",
    "Erro padrão da estimativa (Syx): esta métrica indica porcentagem de erro, portanto quanto mais perto de 0 melhor é o\n",
    "modelo.\n",
    "\n",
    "Erro padrão da estimativa percentual (Syx%): esta métrica indica porcentagem de erro, portanto quanto mais perto de 0 melhor é o modelo.\n",
    "\n",
    "8 - Escolha o melhor modelo."
   ]
  },
  {
   "cell_type": "markdown",
   "metadata": {},
   "source": [
    "#### 1 - CARREGAR O ARQUIVO Volumes.csv (http://www.razer.net.br/datasets/Volumes.csv)."
   ]
  },
  {
   "cell_type": "code",
   "execution_count": 35,
   "metadata": {},
   "outputs": [
    {
     "data": {
      "text/html": [
       "<table>\n",
       "<thead><tr><th scope=col>NR</th><th scope=col>DAP</th><th scope=col>HT</th><th scope=col>HP</th><th scope=col>VOL</th></tr></thead>\n",
       "<tbody>\n",
       "\t<tr><td> 1       </td><td>34.0     </td><td>27.00    </td><td>1.80     </td><td>0.8971441</td></tr>\n",
       "\t<tr><td> 2       </td><td>41.5     </td><td>27.95    </td><td>2.75     </td><td>1.6204441</td></tr>\n",
       "\t<tr><td> 3       </td><td>29.6     </td><td>26.35    </td><td>1.15     </td><td>0.8008181</td></tr>\n",
       "\t<tr><td> 4       </td><td>34.3     </td><td>27.15    </td><td>1.95     </td><td>1.0791682</td></tr>\n",
       "\t<tr><td> 5       </td><td>34.5     </td><td>26.20    </td><td>1.00     </td><td>0.9801112</td></tr>\n",
       "\t<tr><td> 6       </td><td>29.9     </td><td>27.10    </td><td>1.90     </td><td>0.9067022</td></tr>\n",
       "\t<tr><td> 7       </td><td>28.4     </td><td>25.40    </td><td>2.30     </td><td>0.7731585</td></tr>\n",
       "\t<tr><td> 8       </td><td>29.5     </td><td>25.50    </td><td>2.40     </td><td>0.8715001</td></tr>\n",
       "\t<tr><td> 9       </td><td>36.3     </td><td>27.00    </td><td>1.80     </td><td>1.3132469</td></tr>\n",
       "\t<tr><td>10       </td><td>36.3     </td><td>26.70    </td><td>1.50     </td><td>1.3868891</td></tr>\n",
       "</tbody>\n",
       "</table>\n"
      ],
      "text/latex": [
       "\\begin{tabular}{r|lllll}\n",
       " NR & DAP & HT & HP & VOL\\\\\n",
       "\\hline\n",
       "\t  1        & 34.0      & 27.00     & 1.80      & 0.8971441\\\\\n",
       "\t  2        & 41.5      & 27.95     & 2.75      & 1.6204441\\\\\n",
       "\t  3        & 29.6      & 26.35     & 1.15      & 0.8008181\\\\\n",
       "\t  4        & 34.3      & 27.15     & 1.95      & 1.0791682\\\\\n",
       "\t  5        & 34.5      & 26.20     & 1.00      & 0.9801112\\\\\n",
       "\t  6        & 29.9      & 27.10     & 1.90      & 0.9067022\\\\\n",
       "\t  7        & 28.4      & 25.40     & 2.30      & 0.7731585\\\\\n",
       "\t  8        & 29.5      & 25.50     & 2.40      & 0.8715001\\\\\n",
       "\t  9        & 36.3      & 27.00     & 1.80      & 1.3132469\\\\\n",
       "\t 10        & 36.3      & 26.70     & 1.50      & 1.3868891\\\\\n",
       "\\end{tabular}\n"
      ],
      "text/markdown": [
       "\n",
       "| NR | DAP | HT | HP | VOL |\n",
       "|---|---|---|---|---|\n",
       "|  1        | 34.0      | 27.00     | 1.80      | 0.8971441 |\n",
       "|  2        | 41.5      | 27.95     | 2.75      | 1.6204441 |\n",
       "|  3        | 29.6      | 26.35     | 1.15      | 0.8008181 |\n",
       "|  4        | 34.3      | 27.15     | 1.95      | 1.0791682 |\n",
       "|  5        | 34.5      | 26.20     | 1.00      | 0.9801112 |\n",
       "|  6        | 29.9      | 27.10     | 1.90      | 0.9067022 |\n",
       "|  7        | 28.4      | 25.40     | 2.30      | 0.7731585 |\n",
       "|  8        | 29.5      | 25.50     | 2.40      | 0.8715001 |\n",
       "|  9        | 36.3      | 27.00     | 1.80      | 1.3132469 |\n",
       "| 10        | 36.3      | 26.70     | 1.50      | 1.3868891 |\n",
       "\n"
      ],
      "text/plain": [
       "   NR DAP  HT    HP   VOL      \n",
       "1   1 34.0 27.00 1.80 0.8971441\n",
       "2   2 41.5 27.95 2.75 1.6204441\n",
       "3   3 29.6 26.35 1.15 0.8008181\n",
       "4   4 34.3 27.15 1.95 1.0791682\n",
       "5   5 34.5 26.20 1.00 0.9801112\n",
       "6   6 29.9 27.10 1.90 0.9067022\n",
       "7   7 28.4 25.40 2.30 0.7731585\n",
       "8   8 29.5 25.50 2.40 0.8715001\n",
       "9   9 36.3 27.00 1.80 1.3132469\n",
       "10 10 36.3 26.70 1.50 1.3868891"
      ]
     },
     "metadata": {},
     "output_type": "display_data"
    }
   ],
   "source": [
    "df_volume <- as.data.frame(fread(\"http://www.razer.net.br/datasets/Volumes.csv\", \n",
    "                                 stringsAsFactors = FALSE, dec=\",\"))\n",
    "head(df_volume, 10)"
   ]
  },
  {
   "cell_type": "code",
   "execution_count": 36,
   "metadata": {},
   "outputs": [
    {
     "name": "stdout",
     "output_type": "stream",
     "text": [
      "'data.frame':\t100 obs. of  5 variables:\n",
      " $ NR : int  1 2 3 4 5 6 7 8 9 10 ...\n",
      " $ DAP: num  34 41.5 29.6 34.3 34.5 29.9 28.4 29.5 36.3 36.3 ...\n",
      " $ HT : num  27 27.9 26.4 27.1 26.2 ...\n",
      " $ HP : num  1.8 2.75 1.15 1.95 1 1.9 2.3 2.4 1.8 1.5 ...\n",
      " $ VOL: num  0.897 1.62 0.801 1.079 0.98 ...\n"
     ]
    }
   ],
   "source": [
    "str(df_volume)"
   ]
  },
  {
   "cell_type": "markdown",
   "metadata": {},
   "source": [
    "#### 2 - ELIMINAR A COLUNA NR, QUE SÓ APRESENTA UM NÚMERO SEQUÊNCIA. "
   ]
  },
  {
   "cell_type": "code",
   "execution_count": 37,
   "metadata": {},
   "outputs": [],
   "source": [
    "df_volume$NR <- NULL"
   ]
  },
  {
   "cell_type": "code",
   "execution_count": 38,
   "metadata": {},
   "outputs": [
    {
     "data": {
      "text/html": [
       "<table>\n",
       "<thead><tr><th scope=col>DAP</th><th scope=col>HT</th><th scope=col>HP</th><th scope=col>VOL</th></tr></thead>\n",
       "<tbody>\n",
       "\t<tr><td>34.0     </td><td>27.00    </td><td>1.80     </td><td>0.8971441</td></tr>\n",
       "\t<tr><td>41.5     </td><td>27.95    </td><td>2.75     </td><td>1.6204441</td></tr>\n",
       "\t<tr><td>29.6     </td><td>26.35    </td><td>1.15     </td><td>0.8008181</td></tr>\n",
       "\t<tr><td>34.3     </td><td>27.15    </td><td>1.95     </td><td>1.0791682</td></tr>\n",
       "\t<tr><td>34.5     </td><td>26.20    </td><td>1.00     </td><td>0.9801112</td></tr>\n",
       "\t<tr><td>29.9     </td><td>27.10    </td><td>1.90     </td><td>0.9067022</td></tr>\n",
       "\t<tr><td>28.4     </td><td>25.40    </td><td>2.30     </td><td>0.7731585</td></tr>\n",
       "\t<tr><td>29.5     </td><td>25.50    </td><td>2.40     </td><td>0.8715001</td></tr>\n",
       "\t<tr><td>36.3     </td><td>27.00    </td><td>1.80     </td><td>1.3132469</td></tr>\n",
       "\t<tr><td>36.3     </td><td>26.70    </td><td>1.50     </td><td>1.3868891</td></tr>\n",
       "</tbody>\n",
       "</table>\n"
      ],
      "text/latex": [
       "\\begin{tabular}{r|llll}\n",
       " DAP & HT & HP & VOL\\\\\n",
       "\\hline\n",
       "\t 34.0      & 27.00     & 1.80      & 0.8971441\\\\\n",
       "\t 41.5      & 27.95     & 2.75      & 1.6204441\\\\\n",
       "\t 29.6      & 26.35     & 1.15      & 0.8008181\\\\\n",
       "\t 34.3      & 27.15     & 1.95      & 1.0791682\\\\\n",
       "\t 34.5      & 26.20     & 1.00      & 0.9801112\\\\\n",
       "\t 29.9      & 27.10     & 1.90      & 0.9067022\\\\\n",
       "\t 28.4      & 25.40     & 2.30      & 0.7731585\\\\\n",
       "\t 29.5      & 25.50     & 2.40      & 0.8715001\\\\\n",
       "\t 36.3      & 27.00     & 1.80      & 1.3132469\\\\\n",
       "\t 36.3      & 26.70     & 1.50      & 1.3868891\\\\\n",
       "\\end{tabular}\n"
      ],
      "text/markdown": [
       "\n",
       "| DAP | HT | HP | VOL |\n",
       "|---|---|---|---|\n",
       "| 34.0      | 27.00     | 1.80      | 0.8971441 |\n",
       "| 41.5      | 27.95     | 2.75      | 1.6204441 |\n",
       "| 29.6      | 26.35     | 1.15      | 0.8008181 |\n",
       "| 34.3      | 27.15     | 1.95      | 1.0791682 |\n",
       "| 34.5      | 26.20     | 1.00      | 0.9801112 |\n",
       "| 29.9      | 27.10     | 1.90      | 0.9067022 |\n",
       "| 28.4      | 25.40     | 2.30      | 0.7731585 |\n",
       "| 29.5      | 25.50     | 2.40      | 0.8715001 |\n",
       "| 36.3      | 27.00     | 1.80      | 1.3132469 |\n",
       "| 36.3      | 26.70     | 1.50      | 1.3868891 |\n",
       "\n"
      ],
      "text/plain": [
       "   DAP  HT    HP   VOL      \n",
       "1  34.0 27.00 1.80 0.8971441\n",
       "2  41.5 27.95 2.75 1.6204441\n",
       "3  29.6 26.35 1.15 0.8008181\n",
       "4  34.3 27.15 1.95 1.0791682\n",
       "5  34.5 26.20 1.00 0.9801112\n",
       "6  29.9 27.10 1.90 0.9067022\n",
       "7  28.4 25.40 2.30 0.7731585\n",
       "8  29.5 25.50 2.40 0.8715001\n",
       "9  36.3 27.00 1.80 1.3132469\n",
       "10 36.3 26.70 1.50 1.3868891"
      ]
     },
     "metadata": {},
     "output_type": "display_data"
    }
   ],
   "source": [
    "head(df_volume, 10)"
   ]
  },
  {
   "cell_type": "markdown",
   "metadata": {},
   "source": [
    "#### 3 - CRIAR PARTIÇÃO DE DADOS: TREINAMENTO 80% TESTE 20%."
   ]
  },
  {
   "cell_type": "code",
   "execution_count": 39,
   "metadata": {},
   "outputs": [],
   "source": [
    "treino_teste2 <- sample.split(df_volume$VOL, SplitRatio = 0.8)\n",
    "dados_treino2 <- subset(df_volume, treino_teste2 == TRUE)\n",
    "dados_teste2 <- subset(df_volume, treino_teste2 == FALSE)"
   ]
  },
  {
   "cell_type": "code",
   "execution_count": 40,
   "metadata": {},
   "outputs": [],
   "source": [
    "write.csv(dados_treino2, \"dados_treino2.cvs\")\n",
    "write.csv(dados_teste2, \"dados_teste2.cvs\")"
   ]
  },
  {
   "cell_type": "code",
   "execution_count": 41,
   "metadata": {},
   "outputs": [],
   "source": [
    "dados_treino2 <- read.csv(\"dados_treino2.cvs\")\n",
    "dados_teste2 <- read.csv(\"dados_teste2.cvs\")"
   ]
  },
  {
   "cell_type": "code",
   "execution_count": 42,
   "metadata": {},
   "outputs": [
    {
     "data": {
      "text/html": [
       "80"
      ],
      "text/latex": [
       "80"
      ],
      "text/markdown": [
       "80"
      ],
      "text/plain": [
       "[1] 80"
      ]
     },
     "metadata": {},
     "output_type": "display_data"
    },
    {
     "data": {
      "text/html": [
       "20"
      ],
      "text/latex": [
       "20"
      ],
      "text/markdown": [
       "20"
      ],
      "text/plain": [
       "[1] 20"
      ]
     },
     "metadata": {},
     "output_type": "display_data"
    }
   ],
   "source": [
    "nrow(dados_treino2)\n",
    "nrow(dados_teste2)"
   ]
  },
  {
   "cell_type": "markdown",
   "metadata": {},
   "source": [
    "#### 4 - USANDO O PACOTE \"caret\", TREINAR OS MODELOS: RANDOM FOREST (rf), SVM (svmRadial), REDES NEURAIS (neuralnet) E O MODELO ALOMÉTRICO DE SPURR."
   ]
  },
  {
   "cell_type": "markdown",
   "metadata": {},
   "source": [
    "Abaixo a resolução das tarefas de 4 a 7"
   ]
  },
  {
   "cell_type": "code",
   "execution_count": 43,
   "metadata": {},
   "outputs": [],
   "source": [
    "# FUNÇÕES DE PARA CALCULO DE MÉTRICAS\n",
    "\n",
    "metricas <- function(observado, previsto, n){\n",
    "     \n",
    "    numerador = sum((observado - previsto)^2)\n",
    "    denominador = sum((observado - mean(observado))^2)\n",
    "    R2 = round(1 - (numerador/denominador), 4)\n",
    "    syx = round(sqrt((numerador/(n-2))),4)\n",
    "    syx_perc = round(syx/mean(observado)*100,2)\n",
    "    \n",
    "    cat(\"Métricas:\",\"\\nR² = \",R2,\"\\nSyx =\",syx,\"\\nSyx(%) = \", syx_perc,\"%\")\n",
    "}\n"
   ]
  },
  {
   "cell_type": "markdown",
   "metadata": {},
   "source": [
    "#### 4.1 - RANDOM FOREST (rf)"
   ]
  },
  {
   "cell_type": "code",
   "execution_count": 44,
   "metadata": {},
   "outputs": [],
   "source": [
    "# FORMULA GERAL\n",
    "formula2 <- VOL~."
   ]
  },
  {
   "cell_type": "code",
   "execution_count": 45,
   "metadata": {},
   "outputs": [],
   "source": [
    "modelo_rf2 <- train(formula2, dados_treino2, method = \"rf\")"
   ]
  },
  {
   "cell_type": "code",
   "execution_count": 46,
   "metadata": {},
   "outputs": [],
   "source": [
    "saveRDS(modelo_rf2, \"modelo_rf2.rds\")"
   ]
  },
  {
   "cell_type": "code",
   "execution_count": 47,
   "metadata": {},
   "outputs": [],
   "source": [
    "modelo_rf2 <- readRDS(\"modelo_rf2.rds\")"
   ]
  },
  {
   "cell_type": "code",
   "execution_count": 48,
   "metadata": {},
   "outputs": [
    {
     "data": {
      "text/plain": [
       "                Length Class      Mode     \n",
       "call              4    -none-     call     \n",
       "type              1    -none-     character\n",
       "predicted        80    -none-     numeric  \n",
       "mse             500    -none-     numeric  \n",
       "rsq             500    -none-     numeric  \n",
       "oob.times        80    -none-     numeric  \n",
       "importance        4    -none-     numeric  \n",
       "importanceSD      0    -none-     NULL     \n",
       "localImportance   0    -none-     NULL     \n",
       "proximity         0    -none-     NULL     \n",
       "ntree             1    -none-     numeric  \n",
       "mtry              1    -none-     numeric  \n",
       "forest           11    -none-     list     \n",
       "coefs             0    -none-     NULL     \n",
       "y                80    -none-     numeric  \n",
       "test              0    -none-     NULL     \n",
       "inbag             0    -none-     NULL     \n",
       "xNames            4    -none-     character\n",
       "problemType       1    -none-     character\n",
       "tuneValue         1    data.frame list     \n",
       "obsLevels         1    -none-     logical  \n",
       "param             0    -none-     list     "
      ]
     },
     "metadata": {},
     "output_type": "display_data"
    }
   ],
   "source": [
    "summary(modelo_rf2)"
   ]
  },
  {
   "cell_type": "code",
   "execution_count": 49,
   "metadata": {},
   "outputs": [],
   "source": [
    "previsao_rf2 <- predict(modelo_rf2, dados_teste2)"
   ]
  },
  {
   "cell_type": "code",
   "execution_count": 50,
   "metadata": {},
   "outputs": [
    {
     "data": {
      "text/html": [
       "<table>\n",
       "<thead><tr><th scope=col>X</th><th scope=col>DAP</th><th scope=col>HT</th><th scope=col>HP</th><th scope=col>VOL</th><th scope=col>previsao_rf2</th><th scope=col>Erro</th></tr></thead>\n",
       "<tbody>\n",
       "\t<tr><td> 6         </td><td>29.9       </td><td>27.10      </td><td>1.90       </td><td>0.9067022  </td><td>0.8924613  </td><td> 0.01424091</td></tr>\n",
       "\t<tr><td>13         </td><td>32.6       </td><td>27.70      </td><td>2.50       </td><td>1.0801767  </td><td>1.1219640  </td><td>-0.04178723</td></tr>\n",
       "\t<tr><td>17         </td><td>39.2       </td><td>26.95      </td><td>1.75       </td><td>1.5938084  </td><td>1.5523540  </td><td> 0.04145438</td></tr>\n",
       "\t<tr><td>18         </td><td>33.6       </td><td>25.10      </td><td>2.00       </td><td>0.9667870  </td><td>1.0943471  </td><td>-0.12756017</td></tr>\n",
       "\t<tr><td>27         </td><td>28.5       </td><td>25.75      </td><td>2.65       </td><td>0.8161506  </td><td>0.9098041  </td><td>-0.09365343</td></tr>\n",
       "\t<tr><td>41         </td><td>38.0       </td><td>23.90      </td><td>2.90       </td><td>1.2233266  </td><td>1.7071130  </td><td>-0.48378633</td></tr>\n",
       "</tbody>\n",
       "</table>\n"
      ],
      "text/latex": [
       "\\begin{tabular}{r|lllllll}\n",
       " X & DAP & HT & HP & VOL & previsao\\_rf2 & Erro\\\\\n",
       "\\hline\n",
       "\t  6          & 29.9        & 27.10       & 1.90        & 0.9067022   & 0.8924613   &  0.01424091\\\\\n",
       "\t 13          & 32.6        & 27.70       & 2.50        & 1.0801767   & 1.1219640   & -0.04178723\\\\\n",
       "\t 17          & 39.2        & 26.95       & 1.75        & 1.5938084   & 1.5523540   &  0.04145438\\\\\n",
       "\t 18          & 33.6        & 25.10       & 2.00        & 0.9667870   & 1.0943471   & -0.12756017\\\\\n",
       "\t 27          & 28.5        & 25.75       & 2.65        & 0.8161506   & 0.9098041   & -0.09365343\\\\\n",
       "\t 41          & 38.0        & 23.90       & 2.90        & 1.2233266   & 1.7071130   & -0.48378633\\\\\n",
       "\\end{tabular}\n"
      ],
      "text/markdown": [
       "\n",
       "| X | DAP | HT | HP | VOL | previsao_rf2 | Erro |\n",
       "|---|---|---|---|---|---|---|\n",
       "|  6          | 29.9        | 27.10       | 1.90        | 0.9067022   | 0.8924613   |  0.01424091 |\n",
       "| 13          | 32.6        | 27.70       | 2.50        | 1.0801767   | 1.1219640   | -0.04178723 |\n",
       "| 17          | 39.2        | 26.95       | 1.75        | 1.5938084   | 1.5523540   |  0.04145438 |\n",
       "| 18          | 33.6        | 25.10       | 2.00        | 0.9667870   | 1.0943471   | -0.12756017 |\n",
       "| 27          | 28.5        | 25.75       | 2.65        | 0.8161506   | 0.9098041   | -0.09365343 |\n",
       "| 41          | 38.0        | 23.90       | 2.90        | 1.2233266   | 1.7071130   | -0.48378633 |\n",
       "\n"
      ],
      "text/plain": [
       "  X  DAP  HT    HP   VOL       previsao_rf2 Erro       \n",
       "1  6 29.9 27.10 1.90 0.9067022 0.8924613     0.01424091\n",
       "2 13 32.6 27.70 2.50 1.0801767 1.1219640    -0.04178723\n",
       "3 17 39.2 26.95 1.75 1.5938084 1.5523540     0.04145438\n",
       "4 18 33.6 25.10 2.00 0.9667870 1.0943471    -0.12756017\n",
       "5 27 28.5 25.75 2.65 0.8161506 0.9098041    -0.09365343\n",
       "6 41 38.0 23.90 2.90 1.2233266 1.7071130    -0.48378633"
      ]
     },
     "metadata": {},
     "output_type": "display_data"
    }
   ],
   "source": [
    "observado_previsto1 <- cbind(dados_teste2, previsao_rf2)\n",
    "observado_previsto1 <- observado_previsto1 %>%\n",
    "    mutate(Erro = VOL - previsao_rf2)\n",
    "head(observado_previsto1, 6)"
   ]
  },
  {
   "cell_type": "code",
   "execution_count": 51,
   "metadata": {},
   "outputs": [
    {
     "name": "stdout",
     "output_type": "stream",
     "text": [
      "Métricas: \n",
      "R² =  0.7438 \n",
      "Syx = 0.0904 \n",
      "Syx(%) =  6.74 %"
     ]
    }
   ],
   "source": [
    "metricas(observado_previsto1$VOL, observado_previsto1$previsao_rf2, nrow(dados_treino2))"
   ]
  },
  {
   "cell_type": "markdown",
   "metadata": {},
   "source": [
    "#### 4.2 - SVM (svmRadial)"
   ]
  },
  {
   "cell_type": "code",
   "execution_count": 52,
   "metadata": {},
   "outputs": [],
   "source": [
    "modelo_svm2 <- train(formula2, dados_treino2, method = \"svmRadial\")"
   ]
  },
  {
   "cell_type": "code",
   "execution_count": 53,
   "metadata": {},
   "outputs": [],
   "source": [
    "saveRDS(modelo_svm2, \"modelo_svm2.rds\")"
   ]
  },
  {
   "cell_type": "code",
   "execution_count": 54,
   "metadata": {},
   "outputs": [],
   "source": [
    "modelo_svm2 <- readRDS(\"modelo_svm2.rds\")"
   ]
  },
  {
   "cell_type": "code",
   "execution_count": 55,
   "metadata": {},
   "outputs": [
    {
     "data": {
      "text/plain": [
       "Length  Class   Mode \n",
       "     1   ksvm     S4 "
      ]
     },
     "metadata": {},
     "output_type": "display_data"
    }
   ],
   "source": [
    "summary(modelo_svm2)"
   ]
  },
  {
   "cell_type": "code",
   "execution_count": 56,
   "metadata": {},
   "outputs": [],
   "source": [
    "previsao_svm2 <- predict(modelo_svm2, dados_teste2)"
   ]
  },
  {
   "cell_type": "code",
   "execution_count": 57,
   "metadata": {},
   "outputs": [
    {
     "data": {
      "text/html": [
       "<table>\n",
       "<thead><tr><th scope=col>X</th><th scope=col>DAP</th><th scope=col>HT</th><th scope=col>HP</th><th scope=col>VOL</th><th scope=col>previsao_svm2</th><th scope=col>Erro</th></tr></thead>\n",
       "<tbody>\n",
       "\t<tr><td> 6         </td><td>29.9       </td><td>27.10      </td><td>1.90       </td><td>0.9067022  </td><td>0.9355955  </td><td>-0.02889332</td></tr>\n",
       "\t<tr><td>13         </td><td>32.6       </td><td>27.70      </td><td>2.50       </td><td>1.0801767  </td><td>1.1142154  </td><td>-0.03403867</td></tr>\n",
       "\t<tr><td>17         </td><td>39.2       </td><td>26.95      </td><td>1.75       </td><td>1.5938084  </td><td>1.5298574  </td><td> 0.06395096</td></tr>\n",
       "\t<tr><td>18         </td><td>33.6       </td><td>25.10      </td><td>2.00       </td><td>0.9667870  </td><td>1.1221910  </td><td>-0.15540401</td></tr>\n",
       "\t<tr><td>27         </td><td>28.5       </td><td>25.75      </td><td>2.65       </td><td>0.8161506  </td><td>0.9538606  </td><td>-0.13770993</td></tr>\n",
       "\t<tr><td>41         </td><td>38.0       </td><td>23.90      </td><td>2.90       </td><td>1.2233266  </td><td>1.4474814  </td><td>-0.22415474</td></tr>\n",
       "</tbody>\n",
       "</table>\n"
      ],
      "text/latex": [
       "\\begin{tabular}{r|lllllll}\n",
       " X & DAP & HT & HP & VOL & previsao\\_svm2 & Erro\\\\\n",
       "\\hline\n",
       "\t  6          & 29.9        & 27.10       & 1.90        & 0.9067022   & 0.9355955   & -0.02889332\\\\\n",
       "\t 13          & 32.6        & 27.70       & 2.50        & 1.0801767   & 1.1142154   & -0.03403867\\\\\n",
       "\t 17          & 39.2        & 26.95       & 1.75        & 1.5938084   & 1.5298574   &  0.06395096\\\\\n",
       "\t 18          & 33.6        & 25.10       & 2.00        & 0.9667870   & 1.1221910   & -0.15540401\\\\\n",
       "\t 27          & 28.5        & 25.75       & 2.65        & 0.8161506   & 0.9538606   & -0.13770993\\\\\n",
       "\t 41          & 38.0        & 23.90       & 2.90        & 1.2233266   & 1.4474814   & -0.22415474\\\\\n",
       "\\end{tabular}\n"
      ],
      "text/markdown": [
       "\n",
       "| X | DAP | HT | HP | VOL | previsao_svm2 | Erro |\n",
       "|---|---|---|---|---|---|---|\n",
       "|  6          | 29.9        | 27.10       | 1.90        | 0.9067022   | 0.9355955   | -0.02889332 |\n",
       "| 13          | 32.6        | 27.70       | 2.50        | 1.0801767   | 1.1142154   | -0.03403867 |\n",
       "| 17          | 39.2        | 26.95       | 1.75        | 1.5938084   | 1.5298574   |  0.06395096 |\n",
       "| 18          | 33.6        | 25.10       | 2.00        | 0.9667870   | 1.1221910   | -0.15540401 |\n",
       "| 27          | 28.5        | 25.75       | 2.65        | 0.8161506   | 0.9538606   | -0.13770993 |\n",
       "| 41          | 38.0        | 23.90       | 2.90        | 1.2233266   | 1.4474814   | -0.22415474 |\n",
       "\n"
      ],
      "text/plain": [
       "  X  DAP  HT    HP   VOL       previsao_svm2 Erro       \n",
       "1  6 29.9 27.10 1.90 0.9067022 0.9355955     -0.02889332\n",
       "2 13 32.6 27.70 2.50 1.0801767 1.1142154     -0.03403867\n",
       "3 17 39.2 26.95 1.75 1.5938084 1.5298574      0.06395096\n",
       "4 18 33.6 25.10 2.00 0.9667870 1.1221910     -0.15540401\n",
       "5 27 28.5 25.75 2.65 0.8161506 0.9538606     -0.13770993\n",
       "6 41 38.0 23.90 2.90 1.2233266 1.4474814     -0.22415474"
      ]
     },
     "metadata": {},
     "output_type": "display_data"
    }
   ],
   "source": [
    "observado_previsto2 <- cbind(dados_teste2, previsao_svm2)\n",
    "observado_previsto2 <- observado_previsto2 %>%\n",
    "    mutate(Erro = VOL - previsao_svm2)\n",
    "head(observado_previsto2, 6)"
   ]
  },
  {
   "cell_type": "code",
   "execution_count": 58,
   "metadata": {},
   "outputs": [
    {
     "name": "stdout",
     "output_type": "stream",
     "text": [
      "Métricas: \n",
      "R² =  0.7097 \n",
      "Syx = 0.0963 \n",
      "Syx(%) =  7.18 %"
     ]
    }
   ],
   "source": [
    "metricas(observado_previsto2$VOL, observado_previsto2$previsao_svm2, nrow(dados_treino2))"
   ]
  },
  {
   "cell_type": "markdown",
   "metadata": {},
   "source": [
    "#### 4.3 - REDES NEURAIS (neuralnet)"
   ]
  },
  {
   "cell_type": "code",
   "execution_count": null,
   "metadata": {},
   "outputs": [],
   "source": [
    "# Neural Network (method = 'neuralnet')\n",
    "# For regression using package neuralnet with tuning parameters:\n",
    "# Number of Hidden Units in Layer 1 (layer1, numeric)\n",
    "# Number of Hidden Units in Layer 2 (layer2, numeric)\n",
    "# Number of Hidden Units in Layer 3 (layer3, numeric)"
   ]
  },
  {
   "cell_type": "code",
   "execution_count": 59,
   "metadata": {},
   "outputs": [],
   "source": [
    "modelo_rna2 <- train(formula2, \n",
    "                     dados_treino2, \n",
    "                     method = \"neuralnet\",\n",
    "                     tuneGrid = expand.grid(layer1 = c(3), layer2 = c(2), layer3 = c(2)),\n",
    "                     linear.output = TRUE)"
   ]
  },
  {
   "cell_type": "code",
   "execution_count": 60,
   "metadata": {},
   "outputs": [],
   "source": [
    "saveRDS(modelo_rna2, \"modelo_rna2.rds\")"
   ]
  },
  {
   "cell_type": "code",
   "execution_count": 61,
   "metadata": {},
   "outputs": [],
   "source": [
    "modelo_rna2 <- readRDS(\"modelo_rna2.rds\")"
   ]
  },
  {
   "cell_type": "code",
   "execution_count": 62,
   "metadata": {},
   "outputs": [
    {
     "name": "stdout",
     "output_type": "stream",
     "text": [
      "Neural Network \n",
      "\n",
      "80 samples\n",
      " 4 predictor\n",
      "\n",
      "No pre-processing\n",
      "Resampling: Bootstrapped (25 reps) \n",
      "Summary of sample sizes: 80, 80, 80, 80, 80, 80, ... \n",
      "Resampling results:\n",
      "\n",
      "  RMSE       Rsquared   MAE      \n",
      "  0.3128508  0.4559649  0.2339832\n",
      "\n",
      "Tuning parameter 'layer1' was held constant at a value of 3\n",
      "Tuning\n",
      " parameter 'layer2' was held constant at a value of 2\n",
      "Tuning parameter\n",
      " 'layer3' was held constant at a value of 2\n"
     ]
    }
   ],
   "source": [
    "print(modelo_rna2)"
   ]
  },
  {
   "cell_type": "code",
   "execution_count": 63,
   "metadata": {},
   "outputs": [],
   "source": [
    "previsao_rna2 <- predict(modelo_rna2, dados_teste2)"
   ]
  },
  {
   "cell_type": "code",
   "execution_count": 64,
   "metadata": {},
   "outputs": [
    {
     "data": {
      "text/html": [
       "<table>\n",
       "<thead><tr><th scope=col>X</th><th scope=col>DAP</th><th scope=col>HT</th><th scope=col>HP</th><th scope=col>VOL</th><th scope=col>previsao_rna2</th><th scope=col>Erro</th></tr></thead>\n",
       "<tbody>\n",
       "\t<tr><td> 6         </td><td>29.9       </td><td>27.10      </td><td>1.90       </td><td>0.9067022  </td><td>0.8567127  </td><td> 0.04998948</td></tr>\n",
       "\t<tr><td>13         </td><td>32.6       </td><td>27.70      </td><td>2.50       </td><td>1.0801767  </td><td>1.1734810  </td><td>-0.09330423</td></tr>\n",
       "\t<tr><td>17         </td><td>39.2       </td><td>26.95      </td><td>1.75       </td><td>1.5938084  </td><td>1.4930934  </td><td> 0.10071498</td></tr>\n",
       "\t<tr><td>18         </td><td>33.6       </td><td>25.10      </td><td>2.00       </td><td>0.9667870  </td><td>1.1651457  </td><td>-0.19835869</td></tr>\n",
       "\t<tr><td>27         </td><td>28.5       </td><td>25.75      </td><td>2.65       </td><td>0.8161506  </td><td>0.9046061  </td><td>-0.08845548</td></tr>\n",
       "\t<tr><td>41         </td><td>38.0       </td><td>23.90      </td><td>2.90       </td><td>1.2233266  </td><td>1.5614721  </td><td>-0.33814547</td></tr>\n",
       "</tbody>\n",
       "</table>\n"
      ],
      "text/latex": [
       "\\begin{tabular}{r|lllllll}\n",
       " X & DAP & HT & HP & VOL & previsao\\_rna2 & Erro\\\\\n",
       "\\hline\n",
       "\t  6          & 29.9        & 27.10       & 1.90        & 0.9067022   & 0.8567127   &  0.04998948\\\\\n",
       "\t 13          & 32.6        & 27.70       & 2.50        & 1.0801767   & 1.1734810   & -0.09330423\\\\\n",
       "\t 17          & 39.2        & 26.95       & 1.75        & 1.5938084   & 1.4930934   &  0.10071498\\\\\n",
       "\t 18          & 33.6        & 25.10       & 2.00        & 0.9667870   & 1.1651457   & -0.19835869\\\\\n",
       "\t 27          & 28.5        & 25.75       & 2.65        & 0.8161506   & 0.9046061   & -0.08845548\\\\\n",
       "\t 41          & 38.0        & 23.90       & 2.90        & 1.2233266   & 1.5614721   & -0.33814547\\\\\n",
       "\\end{tabular}\n"
      ],
      "text/markdown": [
       "\n",
       "| X | DAP | HT | HP | VOL | previsao_rna2 | Erro |\n",
       "|---|---|---|---|---|---|---|\n",
       "|  6          | 29.9        | 27.10       | 1.90        | 0.9067022   | 0.8567127   |  0.04998948 |\n",
       "| 13          | 32.6        | 27.70       | 2.50        | 1.0801767   | 1.1734810   | -0.09330423 |\n",
       "| 17          | 39.2        | 26.95       | 1.75        | 1.5938084   | 1.4930934   |  0.10071498 |\n",
       "| 18          | 33.6        | 25.10       | 2.00        | 0.9667870   | 1.1651457   | -0.19835869 |\n",
       "| 27          | 28.5        | 25.75       | 2.65        | 0.8161506   | 0.9046061   | -0.08845548 |\n",
       "| 41          | 38.0        | 23.90       | 2.90        | 1.2233266   | 1.5614721   | -0.33814547 |\n",
       "\n"
      ],
      "text/plain": [
       "  X  DAP  HT    HP   VOL       previsao_rna2 Erro       \n",
       "1  6 29.9 27.10 1.90 0.9067022 0.8567127      0.04998948\n",
       "2 13 32.6 27.70 2.50 1.0801767 1.1734810     -0.09330423\n",
       "3 17 39.2 26.95 1.75 1.5938084 1.4930934      0.10071498\n",
       "4 18 33.6 25.10 2.00 0.9667870 1.1651457     -0.19835869\n",
       "5 27 28.5 25.75 2.65 0.8161506 0.9046061     -0.08845548\n",
       "6 41 38.0 23.90 2.90 1.2233266 1.5614721     -0.33814547"
      ]
     },
     "metadata": {},
     "output_type": "display_data"
    }
   ],
   "source": [
    "observado_previsto3 <- cbind(dados_teste2, previsao_rna2)\n",
    "observado_previsto3 <- observado_previsto3 %>%\n",
    "    mutate(Erro = VOL - previsao_rna2)\n",
    "head(observado_previsto3, 6)"
   ]
  },
  {
   "cell_type": "code",
   "execution_count": 65,
   "metadata": {},
   "outputs": [
    {
     "name": "stdout",
     "output_type": "stream",
     "text": [
      "Métricas: \n",
      "R² =  0.793 \n",
      "Syx = 0.0813 \n",
      "Syx(%) =  6.06 %"
     ]
    }
   ],
   "source": [
    "metricas(observado_previsto3$VOL, observado_previsto3$previsao_rna2, nrow(dados_treino2))"
   ]
  },
  {
   "cell_type": "markdown",
   "metadata": {},
   "source": [
    "### 5 - O MODELO ALOMÉTRICO É DADO POR: Volume = b0 + b1 * dap² * Ht\n",
    "\n",
    "              alom <- nls(VOL ~ b0 + b1*DAP*DAP*HT, dados, start = list(b0 = 0.5, b1 = 0.5))"
   ]
  },
  {
   "cell_type": "code",
   "execution_count": null,
   "metadata": {},
   "outputs": [],
   "source": [
    "# nls{stats}\n",
    "# Determine the nonlinear (weighted) least-squares estimates of the parameters of a nonlinear model.\n",
    "# Determine as estimativas de mínimos quadrados não lineares (ponderadas) dos parâmetros de um modelo \n",
    "# não linear."
   ]
  },
  {
   "cell_type": "code",
   "execution_count": 66,
   "metadata": {},
   "outputs": [],
   "source": [
    "modelo_alometrico <- nls(VOL ~ b0 + b1*DAP*DAP*HT, dados_treino2, start = list(b0 = 0.5, b1 = 0.5))"
   ]
  },
  {
   "cell_type": "code",
   "execution_count": 67,
   "metadata": {},
   "outputs": [],
   "source": [
    "saveRDS(modelo_alometrico, \"modelo_alometrico.rds\")"
   ]
  },
  {
   "cell_type": "code",
   "execution_count": 68,
   "metadata": {},
   "outputs": [],
   "source": [
    "modelo_alometrico <- readRDS(\"modelo_alometrico.rds\")"
   ]
  },
  {
   "cell_type": "code",
   "execution_count": 69,
   "metadata": {
    "scrolled": true
   },
   "outputs": [
    {
     "data": {
      "text/plain": [
       "Nonlinear regression model\n",
       "  model: VOL ~ b0 + b1 * DAP * DAP * HT\n",
       "   data: dados_treino2\n",
       "       b0        b1 \n",
       "3.791e-02 3.844e-05 \n",
       " residual sum-of-squares: 1.518\n",
       "\n",
       "Number of iterations to convergence: 2 \n",
       "Achieved convergence tolerance: 1.327e-08"
      ]
     },
     "metadata": {},
     "output_type": "display_data"
    },
    {
     "data": {
      "text/plain": [
       "\n",
       "Formula: VOL ~ b0 + b1 * DAP * DAP * HT\n",
       "\n",
       "Parameters:\n",
       "    Estimate Std. Error t value Pr(>|t|)    \n",
       "b0 3.791e-02  5.444e-02   0.696    0.488    \n",
       "b1 3.844e-05  1.514e-06  25.393   <2e-16 ***\n",
       "---\n",
       "Signif. codes:  0 '***' 0.001 '**' 0.01 '*' 0.05 '.' 0.1 ' ' 1\n",
       "\n",
       "Residual standard error: 0.1395 on 78 degrees of freedom\n",
       "\n",
       "Number of iterations to convergence: 2 \n",
       "Achieved convergence tolerance: 1.327e-08\n"
      ]
     },
     "metadata": {},
     "output_type": "display_data"
    }
   ],
   "source": [
    "modelo_alometrico\n",
    "summary(modelo_alometrico)"
   ]
  },
  {
   "cell_type": "code",
   "execution_count": 70,
   "metadata": {},
   "outputs": [],
   "source": [
    "previsao_alometrico <- predict(modelo_alometrico, dados_teste2)"
   ]
  },
  {
   "cell_type": "code",
   "execution_count": 71,
   "metadata": {},
   "outputs": [
    {
     "data": {
      "text/html": [
       "<table>\n",
       "<thead><tr><th scope=col>X</th><th scope=col>DAP</th><th scope=col>HT</th><th scope=col>HP</th><th scope=col>VOL</th><th scope=col>previsao_alometrico</th><th scope=col>Erro</th></tr></thead>\n",
       "<tbody>\n",
       "\t<tr><td> 6         </td><td>29.9       </td><td>27.10      </td><td>1.90       </td><td>0.9067022  </td><td>0.9692349  </td><td>-0.06253270</td></tr>\n",
       "\t<tr><td>13         </td><td>32.6       </td><td>27.70      </td><td>2.50       </td><td>1.0801767  </td><td>1.1695404  </td><td>-0.08936366</td></tr>\n",
       "\t<tr><td>17         </td><td>39.2       </td><td>26.95      </td><td>1.75       </td><td>1.5938084  </td><td>1.6298279  </td><td>-0.03601948</td></tr>\n",
       "\t<tr><td>18         </td><td>33.6       </td><td>25.10      </td><td>2.00       </td><td>0.9667870  </td><td>1.1271959  </td><td>-0.16040896</td></tr>\n",
       "\t<tr><td>27         </td><td>28.5       </td><td>25.75      </td><td>2.65       </td><td>0.8161506  </td><td>0.8419107  </td><td>-0.02576005</td></tr>\n",
       "\t<tr><td>41         </td><td>38.0       </td><td>23.90      </td><td>2.90       </td><td>1.2233266  </td><td>1.3645552  </td><td>-0.14122857</td></tr>\n",
       "</tbody>\n",
       "</table>\n"
      ],
      "text/latex": [
       "\\begin{tabular}{r|lllllll}\n",
       " X & DAP & HT & HP & VOL & previsao\\_alometrico & Erro\\\\\n",
       "\\hline\n",
       "\t  6          & 29.9        & 27.10       & 1.90        & 0.9067022   & 0.9692349   & -0.06253270\\\\\n",
       "\t 13          & 32.6        & 27.70       & 2.50        & 1.0801767   & 1.1695404   & -0.08936366\\\\\n",
       "\t 17          & 39.2        & 26.95       & 1.75        & 1.5938084   & 1.6298279   & -0.03601948\\\\\n",
       "\t 18          & 33.6        & 25.10       & 2.00        & 0.9667870   & 1.1271959   & -0.16040896\\\\\n",
       "\t 27          & 28.5        & 25.75       & 2.65        & 0.8161506   & 0.8419107   & -0.02576005\\\\\n",
       "\t 41          & 38.0        & 23.90       & 2.90        & 1.2233266   & 1.3645552   & -0.14122857\\\\\n",
       "\\end{tabular}\n"
      ],
      "text/markdown": [
       "\n",
       "| X | DAP | HT | HP | VOL | previsao_alometrico | Erro |\n",
       "|---|---|---|---|---|---|---|\n",
       "|  6          | 29.9        | 27.10       | 1.90        | 0.9067022   | 0.9692349   | -0.06253270 |\n",
       "| 13          | 32.6        | 27.70       | 2.50        | 1.0801767   | 1.1695404   | -0.08936366 |\n",
       "| 17          | 39.2        | 26.95       | 1.75        | 1.5938084   | 1.6298279   | -0.03601948 |\n",
       "| 18          | 33.6        | 25.10       | 2.00        | 0.9667870   | 1.1271959   | -0.16040896 |\n",
       "| 27          | 28.5        | 25.75       | 2.65        | 0.8161506   | 0.8419107   | -0.02576005 |\n",
       "| 41          | 38.0        | 23.90       | 2.90        | 1.2233266   | 1.3645552   | -0.14122857 |\n",
       "\n"
      ],
      "text/plain": [
       "  X  DAP  HT    HP   VOL       previsao_alometrico Erro       \n",
       "1  6 29.9 27.10 1.90 0.9067022 0.9692349           -0.06253270\n",
       "2 13 32.6 27.70 2.50 1.0801767 1.1695404           -0.08936366\n",
       "3 17 39.2 26.95 1.75 1.5938084 1.6298279           -0.03601948\n",
       "4 18 33.6 25.10 2.00 0.9667870 1.1271959           -0.16040896\n",
       "5 27 28.5 25.75 2.65 0.8161506 0.8419107           -0.02576005\n",
       "6 41 38.0 23.90 2.90 1.2233266 1.3645552           -0.14122857"
      ]
     },
     "metadata": {},
     "output_type": "display_data"
    }
   ],
   "source": [
    "observado_previsto4 <- cbind(dados_teste2, previsao_alometrico)\n",
    "observado_previsto4 <- observado_previsto4 %>%\n",
    "    mutate(Erro = VOL - previsao_alometrico)\n",
    "head(observado_previsto4, 6)"
   ]
  },
  {
   "cell_type": "code",
   "execution_count": 72,
   "metadata": {},
   "outputs": [
    {
     "name": "stdout",
     "output_type": "stream",
     "text": [
      "Métricas: \n",
      "R² =  0.8414 \n",
      "Syx = 0.0712 \n",
      "Syx(%) =  5.31 %"
     ]
    }
   ],
   "source": [
    "metricas(observado_previsto4$VOL, observado_previsto4$previsao_alometrico, nrow(dados_treino2))"
   ]
  },
  {
   "cell_type": "markdown",
   "metadata": {},
   "source": [
    "### 6 - EFETUE AS PREDIÇÕES NOS DADOS DE TESTE."
   ]
  },
  {
   "cell_type": "markdown",
   "metadata": {},
   "source": [
    "### 7 - CRIE FUNÇÕES E CALCULE AS SEGUINTES MÉTRICAS ENTRE A PREDIÇÃO E OS DADOS OBSERVADOS.\n",
    "\n",
    "Coeficiente de determinação (R²): Quanto mais perto de 1 melhor é o modelo;\n",
    "\n",
    "Erro padrão da estimativa (Syx): esta métrica indica erro, portanto quanto mais perto de 0 melhor é o modelo.\n",
    "\n",
    "Erro padrão da estimativa percentual (Syx%): esta métrica indica porcentagem de erro, portanto quanto mais perto de 0 melhor é o modelo."
   ]
  },
  {
   "cell_type": "markdown",
   "metadata": {},
   "source": [
    "**Os passos 6 e 7 foram feitos juntamente com os passos 4 e 5 no exercício acima do dataset de estimativa de volumes de árvores.**"
   ]
  },
  {
   "cell_type": "markdown",
   "metadata": {},
   "source": [
    "### 8 - ESCOLHA DO MELHOR MODELO"
   ]
  },
  {
   "cell_type": "markdown",
   "metadata": {},
   "source": [
    "O melhor modelo conforme R² foi o SVM com R² = 0.8998. "
   ]
  },
  {
   "cell_type": "markdown",
   "metadata": {},
   "source": [
    "#### TEXTO COM A JUSTIFICATIVA DOS RESULTADOS GERADOS"
   ]
  },
  {
   "cell_type": "markdown",
   "metadata": {},
   "source": [
    "Neste trabalho foi possível perceber que os modelos Random Forest (rpart e rf) e SVM (svm) tiveram melhores resultados\n",
    "que os demais. O modelo de rede neural (RNA) no primeiro exercício (classificação) apresentou um R² ruim e o do segundo\n",
    "exercício (regressão), o neuralnet, obteve R² = 0.793. O R² do modelo alométrico teve um resultado de 0.8414 sendo um dos melhores\n",
    "no segundo exercício. O melhor modelo do primeiro exercício foi o SVM e no quarto foi o RNA (regressão)."
   ]
  }
 ],
 "metadata": {
  "kernelspec": {
   "display_name": "R",
   "language": "R",
   "name": "ir"
  },
  "language_info": {
   "codemirror_mode": "r",
   "file_extension": ".r",
   "mimetype": "text/x-r-source",
   "name": "R",
   "pygments_lexer": "r",
   "version": "3.6.1"
  }
 },
 "nbformat": 4,
 "nbformat_minor": 4
}
