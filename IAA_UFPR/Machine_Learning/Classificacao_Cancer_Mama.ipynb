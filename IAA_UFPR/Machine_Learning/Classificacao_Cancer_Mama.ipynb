{
 "cells": [
  {
   "cell_type": "markdown",
   "id": "39cc47b2",
   "metadata": {},
   "source": [
    "![<caption>](UFPR.PNG)\n",
    "    \n",
    "    \n",
    "IAA007 – Aprendizado de Máquina e Laboratório de IA    \n",
    "**Prof. Dr. Jaime Wojciechowski**\n",
    "    \n",
    "Josué Leal Evangelista"
   ]
  },
  {
   "cell_type": "markdown",
   "id": "983be15b",
   "metadata": {},
   "source": [
    "### CLASSIFICAÇÃO\n"
   ]
  },
  {
   "cell_type": "code",
   "execution_count": 1,
   "id": "8fc2c5a4",
   "metadata": {},
   "outputs": [],
   "source": [
    "# DESATIVAR MENSAGENS DE WARNINGS (warn = -1) E ATIVAR (warn = 0)\n",
    "options(warn = -1)"
   ]
  },
  {
   "cell_type": "markdown",
   "id": "85bdab9c",
   "metadata": {},
   "source": [
    "#### CARREGANDO BIBLIOTECAS"
   ]
  },
  {
   "cell_type": "code",
   "execution_count": 2,
   "id": "713fbfd4",
   "metadata": {},
   "outputs": [],
   "source": [
    "suppressPackageStartupMessages({\n",
    "library(caret)\n",
    "library(e1071)\n",
    "library(data.table)\n",
    "library(dplyr)\n",
    "library(ggplot2)\n",
    "library(tidyr)\n",
    "})"
   ]
  },
  {
   "cell_type": "markdown",
   "id": "066531c8",
   "metadata": {},
   "source": [
    "### 1 - CLASSIFICAÇÃO "
   ]
  },
  {
   "cell_type": "markdown",
   "id": "fcce0a43",
   "metadata": {},
   "source": [
    "#### 1.1 - CÂNCER DE MAMA"
   ]
  },
  {
   "cell_type": "code",
   "execution_count": 3,
   "id": "b70d9e86",
   "metadata": {},
   "outputs": [],
   "source": [
    "dados_cancer <- fread(\"Material 02 - 2 - Cancer de Mama - Dados.csv\", stringsAsFactors = TRUE)\n",
    "df_cancer <- as.data.frame(dados_cancer)"
   ]
  },
  {
   "cell_type": "code",
   "execution_count": 4,
   "id": "5a334ef6",
   "metadata": {},
   "outputs": [
    {
     "data": {
      "text/html": [
       "<table>\n",
       "<thead><tr><th scope=col>Id</th><th scope=col>Cl.thickness</th><th scope=col>Cell.size</th><th scope=col>Cell.shape</th><th scope=col>Marg.adhesion</th><th scope=col>Epith.c.size</th><th scope=col>Bare.nuclei</th><th scope=col>Bl.cromatin</th><th scope=col>Normal.nucleoli</th><th scope=col>Mitoses</th><th scope=col>Class</th></tr></thead>\n",
       "<tbody>\n",
       "\t<tr><td>1        </td><td>5        </td><td> 1       </td><td> 1       </td><td>1        </td><td>2        </td><td> 1       </td><td>3        </td><td>1        </td><td>1        </td><td>benign   </td></tr>\n",
       "\t<tr><td>2        </td><td>5        </td><td> 4       </td><td> 4       </td><td>5        </td><td>7        </td><td>10       </td><td>3        </td><td>2        </td><td>1        </td><td>benign   </td></tr>\n",
       "\t<tr><td>3        </td><td>3        </td><td> 1       </td><td> 1       </td><td>1        </td><td>2        </td><td> 2       </td><td>3        </td><td>1        </td><td>1        </td><td>benign   </td></tr>\n",
       "\t<tr><td>4        </td><td>6        </td><td> 8       </td><td> 8       </td><td>1        </td><td>3        </td><td> 4       </td><td>3        </td><td>7        </td><td>1        </td><td>benign   </td></tr>\n",
       "\t<tr><td>5        </td><td>4        </td><td> 1       </td><td> 1       </td><td>3        </td><td>2        </td><td> 1       </td><td>3        </td><td>1        </td><td>1        </td><td>benign   </td></tr>\n",
       "\t<tr><td>6        </td><td>8        </td><td>10       </td><td>10       </td><td>8        </td><td>7        </td><td>10       </td><td>9        </td><td>7        </td><td>1        </td><td>malignant</td></tr>\n",
       "</tbody>\n",
       "</table>\n"
      ],
      "text/latex": [
       "\\begin{tabular}{r|lllllllllll}\n",
       " Id & Cl.thickness & Cell.size & Cell.shape & Marg.adhesion & Epith.c.size & Bare.nuclei & Bl.cromatin & Normal.nucleoli & Mitoses & Class\\\\\n",
       "\\hline\n",
       "\t 1         & 5         &  1        &  1        & 1         & 2         &  1        & 3         & 1         & 1         & benign   \\\\\n",
       "\t 2         & 5         &  4        &  4        & 5         & 7         & 10        & 3         & 2         & 1         & benign   \\\\\n",
       "\t 3         & 3         &  1        &  1        & 1         & 2         &  2        & 3         & 1         & 1         & benign   \\\\\n",
       "\t 4         & 6         &  8        &  8        & 1         & 3         &  4        & 3         & 7         & 1         & benign   \\\\\n",
       "\t 5         & 4         &  1        &  1        & 3         & 2         &  1        & 3         & 1         & 1         & benign   \\\\\n",
       "\t 6         & 8         & 10        & 10        & 8         & 7         & 10        & 9         & 7         & 1         & malignant\\\\\n",
       "\\end{tabular}\n"
      ],
      "text/markdown": [
       "\n",
       "| Id | Cl.thickness | Cell.size | Cell.shape | Marg.adhesion | Epith.c.size | Bare.nuclei | Bl.cromatin | Normal.nucleoli | Mitoses | Class |\n",
       "|---|---|---|---|---|---|---|---|---|---|---|\n",
       "| 1         | 5         |  1        |  1        | 1         | 2         |  1        | 3         | 1         | 1         | benign    |\n",
       "| 2         | 5         |  4        |  4        | 5         | 7         | 10        | 3         | 2         | 1         | benign    |\n",
       "| 3         | 3         |  1        |  1        | 1         | 2         |  2        | 3         | 1         | 1         | benign    |\n",
       "| 4         | 6         |  8        |  8        | 1         | 3         |  4        | 3         | 7         | 1         | benign    |\n",
       "| 5         | 4         |  1        |  1        | 3         | 2         |  1        | 3         | 1         | 1         | benign    |\n",
       "| 6         | 8         | 10        | 10        | 8         | 7         | 10        | 9         | 7         | 1         | malignant |\n",
       "\n"
      ],
      "text/plain": [
       "  Id Cl.thickness Cell.size Cell.shape Marg.adhesion Epith.c.size Bare.nuclei\n",
       "1 1  5             1         1         1             2             1         \n",
       "2 2  5             4         4         5             7            10         \n",
       "3 3  3             1         1         1             2             2         \n",
       "4 4  6             8         8         1             3             4         \n",
       "5 5  4             1         1         3             2             1         \n",
       "6 6  8            10        10         8             7            10         \n",
       "  Bl.cromatin Normal.nucleoli Mitoses Class    \n",
       "1 3           1               1       benign   \n",
       "2 3           2               1       benign   \n",
       "3 3           1               1       benign   \n",
       "4 3           7               1       benign   \n",
       "5 3           1               1       benign   \n",
       "6 9           7               1       malignant"
      ]
     },
     "metadata": {},
     "output_type": "display_data"
    }
   ],
   "source": [
    "head(df_cancer)"
   ]
  },
  {
   "cell_type": "code",
   "execution_count": 5,
   "id": "35cd9635",
   "metadata": {},
   "outputs": [],
   "source": [
    "df_cancer$Id <- NULL"
   ]
  },
  {
   "cell_type": "code",
   "execution_count": 6,
   "id": "4ce953b8",
   "metadata": {},
   "outputs": [
    {
     "data": {
      "text/html": [
       "FALSE"
      ],
      "text/latex": [
       "FALSE"
      ],
      "text/markdown": [
       "FALSE"
      ],
      "text/plain": [
       "[1] FALSE"
      ]
     },
     "metadata": {},
     "output_type": "display_data"
    },
    {
     "data": {
      "text/html": [
       "FALSE"
      ],
      "text/latex": [
       "FALSE"
      ],
      "text/markdown": [
       "FALSE"
      ],
      "text/plain": [
       "[1] FALSE"
      ]
     },
     "metadata": {},
     "output_type": "display_data"
    }
   ],
   "source": [
    "# VERIFICANDO VALORES NA E NULL\n",
    "any(is.na(df_cancer))\n",
    "any(is.null(df_cancer))"
   ]
  },
  {
   "cell_type": "code",
   "execution_count": 7,
   "id": "13e2877c",
   "metadata": {},
   "outputs": [
    {
     "data": {
      "text/plain": [
       "\n",
       "   benign malignant \n",
       "      458       241 "
      ]
     },
     "metadata": {},
     "output_type": "display_data"
    }
   ],
   "source": [
    "# QUANTIDADE DE OBSERVAÇÕES DE CADA CLASSE\n",
    "table(df_cancer$Class)"
   ]
  },
  {
   "cell_type": "code",
   "execution_count": 8,
   "id": "89fa5af2",
   "metadata": {},
   "outputs": [],
   "source": [
    "set.seed(1971)"
   ]
  },
  {
   "cell_type": "code",
   "execution_count": 9,
   "id": "7c2ff0e8",
   "metadata": {},
   "outputs": [],
   "source": [
    "# DIVIDINDO DADOS TREINO E TESTE 80% e 20%\n",
    "indices <- createDataPartition(df_cancer$Class, p = 0.8, list = FALSE)\n",
    "dados_treino <- df_cancer[indices,]\n",
    "dados_teste <- df_cancer[-indices,]"
   ]
  },
  {
   "cell_type": "markdown",
   "id": "df68caba",
   "metadata": {},
   "source": [
    "### 1.1 - REDES NEURAIS ARTIFICIAIS - RNA"
   ]
  },
  {
   "cell_type": "markdown",
   "id": "6703b6ad",
   "metadata": {},
   "source": [
    "#### APRENDIZADO - MODELO RNA - HOLD-OUT"
   ]
  },
  {
   "cell_type": "code",
   "execution_count": 10,
   "id": "760be3be",
   "metadata": {},
   "outputs": [
    {
     "data": {
      "text/plain": [
       "Neural Network \n",
       "\n",
       "560 samples\n",
       "  5 predictor\n",
       "  2 classes: 'benign', 'malignant' \n",
       "\n",
       "No pre-processing\n",
       "Resampling: Bootstrapped (25 reps) \n",
       "Summary of sample sizes: 560, 560, 560, 560, 560, 560, ... \n",
       "Resampling results across tuning parameters:\n",
       "\n",
       "  size  decay  Accuracy   Kappa    \n",
       "  1     0e+00  0.9184923  0.7890135\n",
       "  1     1e-04  0.9409396  0.8619271\n",
       "  1     1e-01  0.9544217  0.8992793\n",
       "  3     0e+00  0.9485746  0.8865092\n",
       "  3     1e-04  0.9427449  0.8731999\n",
       "  3     1e-01  0.9541973  0.8984119\n",
       "  5     0e+00  0.9403757  0.8678638\n",
       "  5     1e-04  0.9467166  0.8822947\n",
       "  5     1e-01  0.9489740  0.8869525\n",
       "\n",
       "Accuracy was used to select the optimal model using the largest value.\n",
       "The final values used for the model were size = 1 and decay = 0.1."
      ]
     },
     "metadata": {},
     "output_type": "display_data"
    }
   ],
   "source": [
    "modelo_rna <- train(Class ~ Cell.size + Cell.shape + Bare.nuclei + Normal.nucleoli + Bl.cromatin, \n",
    "                    dados_treino, \n",
    "                    method = \"nnet\", \n",
    "                    trace = FALSE)\n",
    "modelo_rna"
   ]
  },
  {
   "cell_type": "code",
   "execution_count": 11,
   "id": "2f038d60",
   "metadata": {},
   "outputs": [],
   "source": [
    "previsao_rna <- predict(modelo_rna, dados_teste)"
   ]
  },
  {
   "cell_type": "markdown",
   "id": "705dc433",
   "metadata": {},
   "source": [
    "#### MÉTRICAS - MODELO RNA - HOLD-OUT"
   ]
  },
  {
   "cell_type": "code",
   "execution_count": 12,
   "id": "0863ac03",
   "metadata": {},
   "outputs": [
    {
     "data": {
      "text/plain": [
       "Confusion Matrix and Statistics\n",
       "\n",
       "           Reference\n",
       "Prediction  benign malignant\n",
       "  benign        90         2\n",
       "  malignant      1        46\n",
       "                                          \n",
       "               Accuracy : 0.9784          \n",
       "                 95% CI : (0.9382, 0.9955)\n",
       "    No Information Rate : 0.6547          \n",
       "    P-Value [Acc > NIR] : <2e-16          \n",
       "                                          \n",
       "                  Kappa : 0.952           \n",
       "                                          \n",
       " Mcnemar's Test P-Value : 1               \n",
       "                                          \n",
       "            Sensitivity : 0.9890          \n",
       "            Specificity : 0.9583          \n",
       "         Pos Pred Value : 0.9783          \n",
       "         Neg Pred Value : 0.9787          \n",
       "             Prevalence : 0.6547          \n",
       "         Detection Rate : 0.6475          \n",
       "   Detection Prevalence : 0.6619          \n",
       "      Balanced Accuracy : 0.9737          \n",
       "                                          \n",
       "       'Positive' Class : benign          \n",
       "                                          "
      ]
     },
     "metadata": {},
     "output_type": "display_data"
    }
   ],
   "source": [
    "# MATRIZ DE CONFUSÃO\n",
    "matriz_confusao1 <- confusionMatrix(previsao_rna, dados_teste$Class)\n",
    "matriz_confusao1 "
   ]
  },
  {
   "cell_type": "markdown",
   "id": "29720ae3",
   "metadata": {},
   "source": [
    "#### APRENDIZADO - MODELO RNA - CROSS VALIDATION"
   ]
  },
  {
   "cell_type": "code",
   "execution_count": 13,
   "id": "b68328ed",
   "metadata": {},
   "outputs": [
    {
     "data": {
      "text/plain": [
       "Neural Network \n",
       "\n",
       "560 samples\n",
       "  5 predictor\n",
       "  2 classes: 'benign', 'malignant' \n",
       "\n",
       "No pre-processing\n",
       "Resampling: Bootstrapped (25 reps) \n",
       "Summary of sample sizes: 560, 560, 560, 560, 560, 560, ... \n",
       "Resampling results across tuning parameters:\n",
       "\n",
       "  size  decay  Accuracy   Kappa    \n",
       "  1     0e+00  0.9395720  0.8549139\n",
       "  1     1e-04  0.9391230  0.8549666\n",
       "  1     1e-01  0.9561206  0.9019375\n",
       "  3     0e+00  0.9366515  0.8467950\n",
       "  3     1e-04  0.9484029  0.8852730\n",
       "  3     1e-01  0.9523884  0.8934891\n",
       "  5     0e+00  0.9419730  0.8704081\n",
       "  5     1e-04  0.9420443  0.8701828\n",
       "  5     1e-01  0.9509470  0.8899211\n",
       "\n",
       "Accuracy was used to select the optimal model using the largest value.\n",
       "The final values used for the model were size = 1 and decay = 0.1."
      ]
     },
     "metadata": {},
     "output_type": "display_data"
    }
   ],
   "source": [
    "crossvalidation1 <- trainControl(method = \"cv\", number = 15)\n",
    "modelo_rna_cv <- train(Class ~ Cell.size + Cell.shape + Bare.nuclei + Normal.nucleoli + Bl.cromatin, \n",
    "                       dados_treino, \n",
    "                       trainControl = crossvalidation1, \n",
    "                       method = \"nnet\", \n",
    "                       trace = FALSE)\n",
    "modelo_rna_cv"
   ]
  },
  {
   "cell_type": "code",
   "execution_count": 14,
   "id": "8855547b",
   "metadata": {},
   "outputs": [],
   "source": [
    "previsao_rna_cv <- predict(modelo_rna_cv, dados_teste)"
   ]
  },
  {
   "cell_type": "markdown",
   "id": "04c17681",
   "metadata": {},
   "source": [
    "#### MÉTRICAS - MODELO RNA - CROSS VALIDATION"
   ]
  },
  {
   "cell_type": "code",
   "execution_count": 15,
   "id": "7c2d430d",
   "metadata": {},
   "outputs": [
    {
     "data": {
      "text/plain": [
       "Confusion Matrix and Statistics\n",
       "\n",
       "           Reference\n",
       "Prediction  benign malignant\n",
       "  benign        90         2\n",
       "  malignant      1        46\n",
       "                                          \n",
       "               Accuracy : 0.9784          \n",
       "                 95% CI : (0.9382, 0.9955)\n",
       "    No Information Rate : 0.6547          \n",
       "    P-Value [Acc > NIR] : <2e-16          \n",
       "                                          \n",
       "                  Kappa : 0.952           \n",
       "                                          \n",
       " Mcnemar's Test P-Value : 1               \n",
       "                                          \n",
       "            Sensitivity : 0.9890          \n",
       "            Specificity : 0.9583          \n",
       "         Pos Pred Value : 0.9783          \n",
       "         Neg Pred Value : 0.9787          \n",
       "             Prevalence : 0.6547          \n",
       "         Detection Rate : 0.6475          \n",
       "   Detection Prevalence : 0.6619          \n",
       "      Balanced Accuracy : 0.9737          \n",
       "                                          \n",
       "       'Positive' Class : benign          \n",
       "                                          "
      ]
     },
     "metadata": {},
     "output_type": "display_data"
    }
   ],
   "source": [
    "# MATRIZ DE CONFUSÃO\n",
    "matriz_confusao2 <- confusionMatrix(previsao_rna_cv, dados_teste$Class)\n",
    "matriz_confusao2 "
   ]
  },
  {
   "cell_type": "markdown",
   "id": "c9e868c0",
   "metadata": {},
   "source": [
    "#### APRENDIZADO - MELHOR MODELO RNA - CROSS VALIDATION E TUNEGRID"
   ]
  },
  {
   "cell_type": "code",
   "execution_count": 16,
   "id": "4b6bee78",
   "metadata": {},
   "outputs": [
    {
     "data": {
      "text/plain": [
       "Neural Network \n",
       "\n",
       "560 samples\n",
       "  5 predictor\n",
       "  2 classes: 'benign', 'malignant' \n",
       "\n",
       "No pre-processing\n",
       "Resampling: Bootstrapped (25 reps) \n",
       "Summary of sample sizes: 560, 560, 560, 560, 560, 560, ... \n",
       "Resampling results across tuning parameters:\n",
       "\n",
       "  size  decay  Accuracy   Kappa    \n",
       "   1    0.1    0.9525230  0.8958234\n",
       "   1    0.2    0.9538543  0.8984297\n",
       "   1    0.3    0.9553969  0.9017837\n",
       "   1    0.4    0.9544163  0.8995636\n",
       "   1    0.5    0.9540619  0.8987191\n",
       "   1    0.6    0.9536920  0.8978437\n",
       "   1    0.7    0.9527122  0.8956529\n",
       "   1    0.8    0.9531143  0.8964927\n",
       "   1    0.9    0.9531106  0.8964623\n",
       "   2    0.1    0.9545681  0.8996931\n",
       "   2    0.2    0.9553958  0.9014842\n",
       "   2    0.3    0.9559455  0.9026315\n",
       "   2    0.4    0.9553603  0.9014221\n",
       "   2    0.5    0.9548069  0.9001455\n",
       "   2    0.6    0.9546371  0.8997209\n",
       "   2    0.7    0.9550169  0.9006745\n",
       "   2    0.8    0.9548115  0.9001343\n",
       "   2    0.9    0.9542484  0.8988474\n",
       "   3    0.1    0.9515230  0.8927649\n",
       "   3    0.2    0.9555861  0.9020211\n",
       "   3    0.3    0.9553673  0.9014952\n",
       "   3    0.4    0.9557574  0.9022577\n",
       "   3    0.5    0.9563438  0.9035609\n",
       "   3    0.6    0.9544171  0.8992820\n",
       "   3    0.7    0.9542328  0.8987978\n",
       "   3    0.8    0.9542491  0.8988584\n",
       "   3    0.9    0.9548188  0.9000930\n",
       "   4    0.1    0.9498348  0.8891894\n",
       "   4    0.2    0.9546943  0.8999080\n",
       "   4    0.3    0.9546847  0.8998356\n",
       "   4    0.4    0.9555608  0.9018453\n",
       "   4    0.5    0.9555642  0.9019019\n",
       "   4    0.6    0.9553689  0.9014185\n",
       "   4    0.7    0.9546239  0.8997127\n",
       "   4    0.8    0.9553999  0.9014451\n",
       "   4    0.9    0.9546416  0.8998380\n",
       "   5    0.1    0.9443295  0.8768094\n",
       "   5    0.2    0.9540844  0.8987183\n",
       "   5    0.3    0.9560187  0.9028492\n",
       "   5    0.4    0.9555692  0.9018093\n",
       "   5    0.5    0.9548500  0.9001504\n",
       "   5    0.6    0.9553738  0.9014495\n",
       "   5    0.7    0.9555856  0.9019775\n",
       "   5    0.8    0.9548220  0.9001399\n",
       "   5    0.9    0.9542398  0.8989016\n",
       "   6    0.1    0.9448227  0.8777033\n",
       "   6    0.2    0.9533078  0.8969639\n",
       "   6    0.3    0.9544423  0.8993819\n",
       "   6    0.4    0.9553901  0.9013742\n",
       "   6    0.5    0.9547977  0.9000913\n",
       "   6    0.6    0.9544055  0.8992082\n",
       "   6    0.7    0.9550413  0.9006696\n",
       "   6    0.8    0.9551981  0.9009890\n",
       "   6    0.9    0.9551972  0.9009900\n",
       "   7    0.1    0.9462612  0.8814005\n",
       "   7    0.2    0.9503854  0.8904383\n",
       "   7    0.3    0.9558235  0.9024748\n",
       "   7    0.4    0.9548796  0.9001023\n",
       "   7    0.5    0.9549817  0.9005592\n",
       "   7    0.6    0.9544335  0.8992737\n",
       "   7    0.7    0.9548039  0.9001448\n",
       "   7    0.8    0.9551981  0.9010007\n",
       "   7    0.9    0.9548144  0.9001326\n",
       "   8    0.1    0.9431241  0.8739818\n",
       "   8    0.2    0.9509644  0.8915507\n",
       "   8    0.3    0.9541339  0.8985667\n",
       "   8    0.4    0.9551993  0.9010638\n",
       "   8    0.5    0.9542552  0.8987663\n",
       "   8    0.6    0.9551859  0.9010711\n",
       "   8    0.7    0.9550040  0.9005727\n",
       "   8    0.8    0.9553914  0.9014362\n",
       "   8    0.9    0.9546154  0.8996967\n",
       "   9    0.1    0.9427513  0.8733395\n",
       "   9    0.2    0.9500536  0.8895975\n",
       "   9    0.3    0.9562053  0.9033816\n",
       "   9    0.4    0.9555841  0.9018337\n",
       "   9    0.5    0.9542337  0.8987916\n",
       "   9    0.6    0.9553785  0.9014036\n",
       "   9    0.7    0.9538648  0.8980393\n",
       "   9    0.8    0.9551896  0.9009856\n",
       "   9    0.9    0.9552000  0.9010430\n",
       "  10    0.1    0.9417797  0.8711249\n",
       "  10    0.2    0.9492664  0.8878635\n",
       "  10    0.3    0.9558126  0.9025239\n",
       "  10    0.4    0.9550290  0.9005576\n",
       "  10    0.5    0.9557687  0.9022152\n",
       "  10    0.6    0.9551898  0.9010064\n",
       "  10    0.7    0.9548057  0.9001660\n",
       "  10    0.8    0.9549926  0.9005670\n",
       "  10    0.9    0.9555837  0.9019104\n",
       "\n",
       "Accuracy was used to select the optimal model using the largest value.\n",
       "The final values used for the model were size = 3 and decay = 0.5."
      ]
     },
     "metadata": {},
     "output_type": "display_data"
    }
   ],
   "source": [
    "tunegrid1 <- expand.grid(size = seq(from = 1, to = 10, by = 1), decay = seq(from = 0.1, to = 0.9, by = 0.1))\n",
    "modelo_rna_best <- train(Class ~ Cell.size + Cell.shape + Bare.nuclei + Normal.nucleoli + Bl.cromatin, \n",
    "                         dados_treino, \n",
    "                         method = \"nnet\", \n",
    "                         trainControl = crossvalidation1,\n",
    "                         tuneGrid = tunegrid1, \n",
    "                         MaxNWts = 1000, \n",
    "                         maxit = 200, \n",
    "                         trace = FALSE)\n",
    "modelo_rna_best"
   ]
  },
  {
   "cell_type": "code",
   "execution_count": 17,
   "id": "98822aa0",
   "metadata": {},
   "outputs": [],
   "source": [
    "previsao_rna_best <- predict(modelo_rna_best, dados_teste)"
   ]
  },
  {
   "cell_type": "markdown",
   "id": "c98f4dc7",
   "metadata": {},
   "source": [
    "#### MÉTRICAS - MELHOR MODELO RNA - CROSS VALIDATION E TUNEGRID"
   ]
  },
  {
   "cell_type": "code",
   "execution_count": 18,
   "id": "ef2435e9",
   "metadata": {},
   "outputs": [
    {
     "data": {
      "text/plain": [
       "Confusion Matrix and Statistics\n",
       "\n",
       "           Reference\n",
       "Prediction  benign malignant\n",
       "  benign        90         2\n",
       "  malignant      1        46\n",
       "                                          \n",
       "               Accuracy : 0.9784          \n",
       "                 95% CI : (0.9382, 0.9955)\n",
       "    No Information Rate : 0.6547          \n",
       "    P-Value [Acc > NIR] : <2e-16          \n",
       "                                          \n",
       "                  Kappa : 0.952           \n",
       "                                          \n",
       " Mcnemar's Test P-Value : 1               \n",
       "                                          \n",
       "            Sensitivity : 0.9890          \n",
       "            Specificity : 0.9583          \n",
       "         Pos Pred Value : 0.9783          \n",
       "         Neg Pred Value : 0.9787          \n",
       "             Prevalence : 0.6547          \n",
       "         Detection Rate : 0.6475          \n",
       "   Detection Prevalence : 0.6619          \n",
       "      Balanced Accuracy : 0.9737          \n",
       "                                          \n",
       "       'Positive' Class : benign          \n",
       "                                          "
      ]
     },
     "metadata": {},
     "output_type": "display_data"
    }
   ],
   "source": [
    "# MATRIZ DE CONFUSÃO\n",
    "matriz_confusao3 <- confusionMatrix(previsao_rna_best, dados_teste$Class)\n",
    "matriz_confusao3"
   ]
  },
  {
   "cell_type": "markdown",
   "id": "e88d606e",
   "metadata": {},
   "source": [
    "### 1.2 - K-NEAREST NEIGHBOR - KNN"
   ]
  },
  {
   "cell_type": "markdown",
   "id": "5247a10f",
   "metadata": {},
   "source": [
    "#### APRENDIZADO - MODELO KNN - TUNEGRID"
   ]
  },
  {
   "cell_type": "code",
   "execution_count": 19,
   "id": "d0097f64",
   "metadata": {},
   "outputs": [],
   "source": [
    "tunegrid2 <- expand.grid(k = c(3, 5, 7, 9))"
   ]
  },
  {
   "cell_type": "code",
   "execution_count": 20,
   "id": "70d91822",
   "metadata": {},
   "outputs": [
    {
     "data": {
      "text/plain": [
       "k-Nearest Neighbors \n",
       "\n",
       "560 samples\n",
       "  5 predictor\n",
       "  2 classes: 'benign', 'malignant' \n",
       "\n",
       "No pre-processing\n",
       "Resampling: Bootstrapped (25 reps) \n",
       "Summary of sample sizes: 560, 560, 560, 560, 560, 560, ... \n",
       "Resampling results across tuning parameters:\n",
       "\n",
       "  k  Accuracy   Kappa    \n",
       "  3  0.9405889  0.8672248\n",
       "  5  0.9471748  0.8821841\n",
       "  7  0.9481063  0.8847846\n",
       "  9  0.9510715  0.8913537\n",
       "\n",
       "Accuracy was used to select the optimal model using the largest value.\n",
       "The final value used for the model was k = 9."
      ]
     },
     "metadata": {},
     "output_type": "display_data"
    }
   ],
   "source": [
    "modelo_knn <- train(Class ~ Cell.size + Cell.shape + Bare.nuclei + Normal.nucleoli + Bl.cromatin, \n",
    "                    dados_treino, \n",
    "                    method = \"knn\", \n",
    "                    tuneGrid = tunegrid2)\n",
    "modelo_knn"
   ]
  },
  {
   "cell_type": "code",
   "execution_count": 21,
   "id": "0b5f0910",
   "metadata": {},
   "outputs": [],
   "source": [
    "previsao_knn <-predict(modelo_knn, dados_teste)"
   ]
  },
  {
   "cell_type": "markdown",
   "id": "12ecb7b5",
   "metadata": {},
   "source": [
    "#### MÉTRICAS - MODELO KNN - TUNEGRID"
   ]
  },
  {
   "cell_type": "code",
   "execution_count": 22,
   "id": "e1af4e4e",
   "metadata": {},
   "outputs": [
    {
     "data": {
      "text/plain": [
       "Confusion Matrix and Statistics\n",
       "\n",
       "           Reference\n",
       "Prediction  benign malignant\n",
       "  benign        89         2\n",
       "  malignant      2        46\n",
       "                                         \n",
       "               Accuracy : 0.9712         \n",
       "                 95% CI : (0.928, 0.9921)\n",
       "    No Information Rate : 0.6547         \n",
       "    P-Value [Acc > NIR] : <2e-16         \n",
       "                                         \n",
       "                  Kappa : 0.9364         \n",
       "                                         \n",
       " Mcnemar's Test P-Value : 1              \n",
       "                                         \n",
       "            Sensitivity : 0.9780         \n",
       "            Specificity : 0.9583         \n",
       "         Pos Pred Value : 0.9780         \n",
       "         Neg Pred Value : 0.9583         \n",
       "             Prevalence : 0.6547         \n",
       "         Detection Rate : 0.6403         \n",
       "   Detection Prevalence : 0.6547         \n",
       "      Balanced Accuracy : 0.9682         \n",
       "                                         \n",
       "       'Positive' Class : benign         \n",
       "                                         "
      ]
     },
     "metadata": {},
     "output_type": "display_data"
    }
   ],
   "source": [
    "# MATRIZ DE CONFUSÃO\n",
    "matriz_confusao4 <- confusionMatrix(previsao_knn, dados_teste$Class)\n",
    "matriz_confusao4"
   ]
  },
  {
   "cell_type": "markdown",
   "id": "b9311f79",
   "metadata": {},
   "source": [
    "### 1.3 - SUPPORT VECTOR MACHINES - SVM"
   ]
  },
  {
   "cell_type": "code",
   "execution_count": 23,
   "id": "53d7bbd9",
   "metadata": {},
   "outputs": [
    {
     "name": "stdout",
     "output_type": "stream",
     "text": [
      "\n",
      "  There is a binary version available but the source version is later:\n",
      "        binary source needs_compilation\n",
      "kernlab 0.9-29 0.9-30              TRUE\n",
      "\n",
      "  Binaries will be installed\n",
      "package 'kernlab' successfully unpacked and MD5 sums checked\n",
      "\n",
      "The downloaded binary packages are in\n",
      "\tC:\\Users\\lealj\\AppData\\Local\\Temp\\RtmpeYKZzR\\downloaded_packages\n"
     ]
    }
   ],
   "source": [
    "install.packages(\"kernlab\")"
   ]
  },
  {
   "cell_type": "markdown",
   "id": "4da6448b",
   "metadata": {},
   "source": [
    "#### APRENDIZADO - MODELO SVM - HOLD-OUT"
   ]
  },
  {
   "cell_type": "code",
   "execution_count": 24,
   "id": "95f73193",
   "metadata": {},
   "outputs": [
    {
     "data": {
      "text/plain": [
       "Support Vector Machines with Radial Basis Function Kernel \n",
       "\n",
       "560 samples\n",
       "  5 predictor\n",
       "  2 classes: 'benign', 'malignant' \n",
       "\n",
       "No pre-processing\n",
       "Resampling: Bootstrapped (25 reps) \n",
       "Summary of sample sizes: 560, 560, 560, 560, 560, 560, ... \n",
       "Resampling results across tuning parameters:\n",
       "\n",
       "  C     Accuracy   Kappa    \n",
       "  0.25  0.9449998  0.8813937\n",
       "  0.50  0.9504537  0.8925212\n",
       "  1.00  0.9505158  0.8919770\n",
       "\n",
       "Tuning parameter 'sigma' was held constant at a value of 3.05936\n",
       "Accuracy was used to select the optimal model using the largest value.\n",
       "The final values used for the model were sigma = 3.05936 and C = 1."
      ]
     },
     "metadata": {},
     "output_type": "display_data"
    }
   ],
   "source": [
    "modelo_svm <- train(Class ~ Cell.size + Cell.shape + Bare.nuclei + Normal.nucleoli + Bl.cromatin, \n",
    "                    dados_treino, \n",
    "                    method = \"svmRadial\")\n",
    "modelo_svm"
   ]
  },
  {
   "cell_type": "code",
   "execution_count": 25,
   "id": "4480d80b",
   "metadata": {},
   "outputs": [],
   "source": [
    "previsao_svm <- predict(modelo_svm, dados_teste)"
   ]
  },
  {
   "cell_type": "markdown",
   "id": "5d4e38d1",
   "metadata": {},
   "source": [
    "#### MÉTRICAS - MODELO SVM - HOLD-OUT"
   ]
  },
  {
   "cell_type": "code",
   "execution_count": 26,
   "id": "205cf151",
   "metadata": {},
   "outputs": [
    {
     "data": {
      "text/plain": [
       "Confusion Matrix and Statistics\n",
       "\n",
       "           Reference\n",
       "Prediction  benign malignant\n",
       "  benign        87         1\n",
       "  malignant      4        47\n",
       "                                          \n",
       "               Accuracy : 0.964           \n",
       "                 95% CI : (0.9181, 0.9882)\n",
       "    No Information Rate : 0.6547          \n",
       "    P-Value [Acc > NIR] : <2e-16          \n",
       "                                          \n",
       "                  Kappa : 0.9216          \n",
       "                                          \n",
       " Mcnemar's Test P-Value : 0.3711          \n",
       "                                          \n",
       "            Sensitivity : 0.9560          \n",
       "            Specificity : 0.9792          \n",
       "         Pos Pred Value : 0.9886          \n",
       "         Neg Pred Value : 0.9216          \n",
       "             Prevalence : 0.6547          \n",
       "         Detection Rate : 0.6259          \n",
       "   Detection Prevalence : 0.6331          \n",
       "      Balanced Accuracy : 0.9676          \n",
       "                                          \n",
       "       'Positive' Class : benign          \n",
       "                                          "
      ]
     },
     "metadata": {},
     "output_type": "display_data"
    }
   ],
   "source": [
    "# MATRIZ DE CONFUSÃO\n",
    "matriz_confusao5 <- confusionMatrix(previsao_svm, dados_teste$Class)\n",
    "matriz_confusao5"
   ]
  },
  {
   "cell_type": "markdown",
   "id": "2e48f78d",
   "metadata": {},
   "source": [
    "#### APRENDIZADO - MODELO SVM - CROSS VALIDATION"
   ]
  },
  {
   "cell_type": "code",
   "execution_count": 27,
   "id": "13461faa",
   "metadata": {},
   "outputs": [
    {
     "data": {
      "text/plain": [
       "Support Vector Machines with Radial Basis Function Kernel \n",
       "\n",
       "560 samples\n",
       "  5 predictor\n",
       "  2 classes: 'benign', 'malignant' \n",
       "\n",
       "No pre-processing\n",
       "Resampling: Bootstrapped (25 reps) \n",
       "Summary of sample sizes: 560, 560, 560, 560, 560, 560, ... \n",
       "Resampling results across tuning parameters:\n",
       "\n",
       "  C     Accuracy   Kappa    \n",
       "  0.25  0.9515435  0.8954519\n",
       "  0.50  0.9541904  0.9007284\n",
       "  1.00  0.9533551  0.8985114\n",
       "\n",
       "Tuning parameter 'sigma' was held constant at a value of 1.86829\n",
       "Accuracy was used to select the optimal model using the largest value.\n",
       "The final values used for the model were sigma = 1.86829 and C = 0.5."
      ]
     },
     "metadata": {},
     "output_type": "display_data"
    }
   ],
   "source": [
    "crossvalidation2 <- trainControl(method = \"cv\", number = 15)\n",
    "modelo_svm_cv <- train(Class ~ Cell.size + Cell.shape + Bare.nuclei + Normal.nucleoli + Bl.cromatin,\n",
    "                       dados_treino, \n",
    "                       trainControl = crossvalidation2, \n",
    "                       method = \"svmRadial\")\n",
    "modelo_svm_cv"
   ]
  },
  {
   "cell_type": "code",
   "execution_count": 28,
   "id": "43dee0a7",
   "metadata": {},
   "outputs": [],
   "source": [
    "previsao_svm_cv <- predict(modelo_svm_cv, dados_teste)"
   ]
  },
  {
   "cell_type": "markdown",
   "id": "f731d863",
   "metadata": {},
   "source": [
    "#### MÉTRICAS - MODELO SVM - CROSS VALIDATION"
   ]
  },
  {
   "cell_type": "code",
   "execution_count": 29,
   "id": "2fd7b843",
   "metadata": {},
   "outputs": [
    {
     "data": {
      "text/plain": [
       "Confusion Matrix and Statistics\n",
       "\n",
       "           Reference\n",
       "Prediction  benign malignant\n",
       "  benign        87         1\n",
       "  malignant      4        47\n",
       "                                          \n",
       "               Accuracy : 0.964           \n",
       "                 95% CI : (0.9181, 0.9882)\n",
       "    No Information Rate : 0.6547          \n",
       "    P-Value [Acc > NIR] : <2e-16          \n",
       "                                          \n",
       "                  Kappa : 0.9216          \n",
       "                                          \n",
       " Mcnemar's Test P-Value : 0.3711          \n",
       "                                          \n",
       "            Sensitivity : 0.9560          \n",
       "            Specificity : 0.9792          \n",
       "         Pos Pred Value : 0.9886          \n",
       "         Neg Pred Value : 0.9216          \n",
       "             Prevalence : 0.6547          \n",
       "         Detection Rate : 0.6259          \n",
       "   Detection Prevalence : 0.6331          \n",
       "      Balanced Accuracy : 0.9676          \n",
       "                                          \n",
       "       'Positive' Class : benign          \n",
       "                                          "
      ]
     },
     "metadata": {},
     "output_type": "display_data"
    }
   ],
   "source": [
    "# MATRIZ DE CONFUSÃO\n",
    "matriz_confusao6 <- confusionMatrix(previsao_svm_cv, dados_teste$Class)\n",
    "matriz_confusao6"
   ]
  },
  {
   "cell_type": "markdown",
   "id": "eb9004de",
   "metadata": {},
   "source": [
    "#### APRENDIZADO - MODELO SVM - CROSS VALIDATION E TUNEGRID"
   ]
  },
  {
   "cell_type": "code",
   "execution_count": 30,
   "id": "013bdc82",
   "metadata": {},
   "outputs": [
    {
     "data": {
      "text/plain": [
       "Support Vector Machines with Radial Basis Function Kernel \n",
       "\n",
       "560 samples\n",
       "  5 predictor\n",
       "  2 classes: 'benign', 'malignant' \n",
       "\n",
       "No pre-processing\n",
       "Resampling: Bootstrapped (25 reps) \n",
       "Summary of sample sizes: 560, 560, 560, 560, 560, 560, ... \n",
       "Resampling results across tuning parameters:\n",
       "\n",
       "  C    sigma  Accuracy   Kappa    \n",
       "    1  0.010  0.9554408  0.9014353\n",
       "    1  0.015  0.9558161  0.9023677\n",
       "    1  0.200  0.9559033  0.9034702\n",
       "    2  0.010  0.9556229  0.9019317\n",
       "    2  0.015  0.9554313  0.9016322\n",
       "    2  0.200  0.9533770  0.8981097\n",
       "   10  0.010  0.9570154  0.9053101\n",
       "   10  0.015  0.9574277  0.9063823\n",
       "   10  0.200  0.9424702  0.8731297\n",
       "   50  0.010  0.9578205  0.9073420\n",
       "   50  0.015  0.9570650  0.9058299\n",
       "   50  0.200  0.9276681  0.8387517\n",
       "  100  0.010  0.9572502  0.9062388\n",
       "  100  0.015  0.9565151  0.9047241\n",
       "  100  0.200  0.9234129  0.8286700\n",
       "\n",
       "Accuracy was used to select the optimal model using the largest value.\n",
       "The final values used for the model were sigma = 0.01 and C = 50."
      ]
     },
     "metadata": {},
     "output_type": "display_data"
    }
   ],
   "source": [
    "tunegrid2 <- expand.grid(C = c(1, 2, 10, 50, 100), sigma = c(0.01, 0.015, 0.2))\n",
    "modelo_svm_best <- train(Class ~ Cell.size + Cell.shape + Bare.nuclei + Normal.nucleoli + Bl.cromatin,\n",
    "                         dados_treino, \n",
    "                         method = \"svmRadial\", \n",
    "                         trainControl = crossvalidation2,\n",
    "                         tuneGrid = tunegrid2)\n",
    "modelo_svm_best"
   ]
  },
  {
   "cell_type": "code",
   "execution_count": 31,
   "id": "dce1d7c4",
   "metadata": {},
   "outputs": [],
   "source": [
    "previsao_svm_best <- predict(modelo_svm_best, dados_teste)"
   ]
  },
  {
   "cell_type": "markdown",
   "id": "e0f175d2",
   "metadata": {},
   "source": [
    "#### MÉTRICAS - MODELO SVM - CROSS VALIDATION E TUNEGRID"
   ]
  },
  {
   "cell_type": "code",
   "execution_count": 32,
   "id": "d4c2210d",
   "metadata": {},
   "outputs": [
    {
     "data": {
      "text/plain": [
       "Confusion Matrix and Statistics\n",
       "\n",
       "           Reference\n",
       "Prediction  benign malignant\n",
       "  benign        90         2\n",
       "  malignant      1        46\n",
       "                                          \n",
       "               Accuracy : 0.9784          \n",
       "                 95% CI : (0.9382, 0.9955)\n",
       "    No Information Rate : 0.6547          \n",
       "    P-Value [Acc > NIR] : <2e-16          \n",
       "                                          \n",
       "                  Kappa : 0.952           \n",
       "                                          \n",
       " Mcnemar's Test P-Value : 1               \n",
       "                                          \n",
       "            Sensitivity : 0.9890          \n",
       "            Specificity : 0.9583          \n",
       "         Pos Pred Value : 0.9783          \n",
       "         Neg Pred Value : 0.9787          \n",
       "             Prevalence : 0.6547          \n",
       "         Detection Rate : 0.6475          \n",
       "   Detection Prevalence : 0.6619          \n",
       "      Balanced Accuracy : 0.9737          \n",
       "                                          \n",
       "       'Positive' Class : benign          \n",
       "                                          "
      ]
     },
     "metadata": {},
     "output_type": "display_data"
    }
   ],
   "source": [
    "# MATRIZ DE CONFUSÃO\n",
    "matriz_confusao7 <- confusionMatrix(previsao_svm_best, dados_teste$Class)\n",
    "matriz_confusao7"
   ]
  },
  {
   "cell_type": "markdown",
   "id": "c79ff0a5",
   "metadata": {},
   "source": [
    "### 1.4 - RANDOM FOREST "
   ]
  },
  {
   "cell_type": "markdown",
   "id": "dd786683",
   "metadata": {},
   "source": [
    "#### APRENDIZADO - MODELO RANDOM FOREST  - HOLD-OUT"
   ]
  },
  {
   "cell_type": "code",
   "execution_count": 33,
   "id": "19b05d00",
   "metadata": {},
   "outputs": [
    {
     "data": {
      "text/plain": [
       "Random Forest \n",
       "\n",
       "560 samples\n",
       "  5 predictor\n",
       "  2 classes: 'benign', 'malignant' \n",
       "\n",
       "No pre-processing\n",
       "Resampling: Bootstrapped (25 reps) \n",
       "Summary of sample sizes: 560, 560, 560, 560, 560, 560, ... \n",
       "Resampling results across tuning parameters:\n",
       "\n",
       "  mtry  Accuracy   Kappa    \n",
       "  2     0.9548322  0.9007702\n",
       "  3     0.9526771  0.8960362\n",
       "  5     0.9480447  0.8858049\n",
       "\n",
       "Accuracy was used to select the optimal model using the largest value.\n",
       "The final value used for the model was mtry = 2."
      ]
     },
     "metadata": {},
     "output_type": "display_data"
    }
   ],
   "source": [
    "modelo_rf <- train(Class ~ Cell.size + Cell.shape + Bare.nuclei + Normal.nucleoli + Bl.cromatin, dados_treino, method = \"rf\")\n",
    "modelo_rf"
   ]
  },
  {
   "cell_type": "code",
   "execution_count": 34,
   "id": "5fef56cb",
   "metadata": {},
   "outputs": [],
   "source": [
    "previsao_rf <- predict(modelo_rf, dados_teste)"
   ]
  },
  {
   "cell_type": "markdown",
   "id": "2b4b7b42",
   "metadata": {},
   "source": [
    "#### MÉTRICAS - MODELO RANDOM FOREST  - HOLD-OUT"
   ]
  },
  {
   "cell_type": "code",
   "execution_count": 35,
   "id": "4618c357",
   "metadata": {},
   "outputs": [
    {
     "data": {
      "text/plain": [
       "Confusion Matrix and Statistics\n",
       "\n",
       "           Reference\n",
       "Prediction  benign malignant\n",
       "  benign        90         2\n",
       "  malignant      1        46\n",
       "                                          \n",
       "               Accuracy : 0.9784          \n",
       "                 95% CI : (0.9382, 0.9955)\n",
       "    No Information Rate : 0.6547          \n",
       "    P-Value [Acc > NIR] : <2e-16          \n",
       "                                          \n",
       "                  Kappa : 0.952           \n",
       "                                          \n",
       " Mcnemar's Test P-Value : 1               \n",
       "                                          \n",
       "            Sensitivity : 0.9890          \n",
       "            Specificity : 0.9583          \n",
       "         Pos Pred Value : 0.9783          \n",
       "         Neg Pred Value : 0.9787          \n",
       "             Prevalence : 0.6547          \n",
       "         Detection Rate : 0.6475          \n",
       "   Detection Prevalence : 0.6619          \n",
       "      Balanced Accuracy : 0.9737          \n",
       "                                          \n",
       "       'Positive' Class : benign          \n",
       "                                          "
      ]
     },
     "metadata": {},
     "output_type": "display_data"
    }
   ],
   "source": [
    "# MATRIZ DE CONFUSÃO\n",
    "matriz_confusao8 <- confusionMatrix(previsao_rf, dados_teste$Class)\n",
    "matriz_confusao8 "
   ]
  },
  {
   "cell_type": "markdown",
   "id": "07e486f8",
   "metadata": {},
   "source": [
    "#### APRENDIZADO - MODELO RANDOM FOREST  - CROSS VALIDATION"
   ]
  },
  {
   "cell_type": "code",
   "execution_count": 36,
   "id": "05f31f63",
   "metadata": {},
   "outputs": [
    {
     "data": {
      "text/plain": [
       "Random Forest \n",
       "\n",
       "560 samples\n",
       "  5 predictor\n",
       "  2 classes: 'benign', 'malignant' \n",
       "\n",
       "No pre-processing\n",
       "Resampling: Bootstrapped (25 reps) \n",
       "Summary of sample sizes: 560, 560, 560, 560, 560, 560, ... \n",
       "Resampling results across tuning parameters:\n",
       "\n",
       "  mtry  Accuracy   Kappa    \n",
       "  2     0.9460928  0.8818979\n",
       "  3     0.9411061  0.8707241\n",
       "  5     0.9369463  0.8613990\n",
       "\n",
       "Accuracy was used to select the optimal model using the largest value.\n",
       "The final value used for the model was mtry = 2."
      ]
     },
     "metadata": {},
     "output_type": "display_data"
    }
   ],
   "source": [
    "crossvalidation3 <- trainControl(method = \"cv\", number = 8)\n",
    "modelo_rf_cv <- train(Class ~ Cell.size + Cell.shape + Bare.nuclei + Normal.nucleoli + Bl.cromatin, \n",
    "                      dados_treino, \n",
    "                      method = \"rf\",\n",
    "                      trainControl = crossvalidation3)\n",
    "modelo_rf_cv"
   ]
  },
  {
   "cell_type": "code",
   "execution_count": 37,
   "id": "5ee801e6",
   "metadata": {},
   "outputs": [],
   "source": [
    "previsao_rf_cv <- predict(modelo_rf_cv, dados_teste)"
   ]
  },
  {
   "cell_type": "markdown",
   "id": "8a0c6a60",
   "metadata": {},
   "source": [
    "#### MÉTRICAS - MODELO RANDOM FOREST  - CROSS VALIDATION"
   ]
  },
  {
   "cell_type": "code",
   "execution_count": 38,
   "id": "c0befb90",
   "metadata": {},
   "outputs": [
    {
     "data": {
      "text/plain": [
       "Confusion Matrix and Statistics\n",
       "\n",
       "           Reference\n",
       "Prediction  benign malignant\n",
       "  benign        89         2\n",
       "  malignant      2        46\n",
       "                                         \n",
       "               Accuracy : 0.9712         \n",
       "                 95% CI : (0.928, 0.9921)\n",
       "    No Information Rate : 0.6547         \n",
       "    P-Value [Acc > NIR] : <2e-16         \n",
       "                                         \n",
       "                  Kappa : 0.9364         \n",
       "                                         \n",
       " Mcnemar's Test P-Value : 1              \n",
       "                                         \n",
       "            Sensitivity : 0.9780         \n",
       "            Specificity : 0.9583         \n",
       "         Pos Pred Value : 0.9780         \n",
       "         Neg Pred Value : 0.9583         \n",
       "             Prevalence : 0.6547         \n",
       "         Detection Rate : 0.6403         \n",
       "   Detection Prevalence : 0.6547         \n",
       "      Balanced Accuracy : 0.9682         \n",
       "                                         \n",
       "       'Positive' Class : benign         \n",
       "                                         "
      ]
     },
     "metadata": {},
     "output_type": "display_data"
    }
   ],
   "source": [
    "# MATRIZ DE CONFUSÃO\n",
    "matriz_confusao9 <- confusionMatrix(previsao_rf_cv, dados_teste$Class)\n",
    "matriz_confusao9"
   ]
  },
  {
   "cell_type": "markdown",
   "id": "5fb14564",
   "metadata": {},
   "source": [
    "#### APRENDIZADO - MODELO RANDOM FOREST  - CROSS VALIDATION E TUNEGRID"
   ]
  },
  {
   "cell_type": "code",
   "execution_count": 39,
   "id": "a97ac037",
   "metadata": {},
   "outputs": [
    {
     "data": {
      "text/plain": [
       "Random Forest \n",
       "\n",
       "560 samples\n",
       "  5 predictor\n",
       "  2 classes: 'benign', 'malignant' \n",
       "\n",
       "No pre-processing\n",
       "Resampling: Bootstrapped (25 reps) \n",
       "Summary of sample sizes: 560, 560, 560, 560, 560, 560, ... \n",
       "Resampling results across tuning parameters:\n",
       "\n",
       "  mtry  Accuracy   Kappa    \n",
       "  2     0.9517543  0.8949959\n",
       "  4     0.9449963  0.8801236\n",
       "  7     0.9411029  0.8714630\n",
       "  9     0.9432293  0.8762325\n",
       "\n",
       "Accuracy was used to select the optimal model using the largest value.\n",
       "The final value used for the model was mtry = 2."
      ]
     },
     "metadata": {},
     "output_type": "display_data"
    }
   ],
   "source": [
    "tunegrid3 <- expand.grid(mtry = c(2, 4, 7, 9))\n",
    "modelo_rf_best <- train(Class ~ Cell.size + Cell.shape + Bare.nuclei + Normal.nucleoli + Bl.cromatin,\n",
    "                        dados_treino, \n",
    "                        method = \"rf\", \n",
    "                        trainControl = crossvalidation3,\n",
    "                        tuneGrid = tunegrid3)\n",
    "modelo_rf_best"
   ]
  },
  {
   "cell_type": "code",
   "execution_count": 40,
   "id": "38041c9c",
   "metadata": {},
   "outputs": [],
   "source": [
    "previsao_rf_best <- predict(modelo_rf_best, dados_teste)"
   ]
  },
  {
   "cell_type": "markdown",
   "id": "8ac096d4",
   "metadata": {},
   "source": [
    "#### MÉTRICAS - MODELO RANDOM FOREST  - CROSS VALIDATION E TUNEGRID"
   ]
  },
  {
   "cell_type": "code",
   "execution_count": 41,
   "id": "7c4a718b",
   "metadata": {},
   "outputs": [
    {
     "data": {
      "text/plain": [
       "Confusion Matrix and Statistics\n",
       "\n",
       "           Reference\n",
       "Prediction  benign malignant\n",
       "  benign        90         2\n",
       "  malignant      1        46\n",
       "                                          \n",
       "               Accuracy : 0.9784          \n",
       "                 95% CI : (0.9382, 0.9955)\n",
       "    No Information Rate : 0.6547          \n",
       "    P-Value [Acc > NIR] : <2e-16          \n",
       "                                          \n",
       "                  Kappa : 0.952           \n",
       "                                          \n",
       " Mcnemar's Test P-Value : 1               \n",
       "                                          \n",
       "            Sensitivity : 0.9890          \n",
       "            Specificity : 0.9583          \n",
       "         Pos Pred Value : 0.9783          \n",
       "         Neg Pred Value : 0.9787          \n",
       "             Prevalence : 0.6547          \n",
       "         Detection Rate : 0.6475          \n",
       "   Detection Prevalence : 0.6619          \n",
       "      Balanced Accuracy : 0.9737          \n",
       "                                          \n",
       "       'Positive' Class : benign          \n",
       "                                          "
      ]
     },
     "metadata": {},
     "output_type": "display_data"
    }
   ],
   "source": [
    "# MATRIZ DE CONFUSÃO\n",
    "matriz_confusao10 <- confusionMatrix(previsao_rf_best, dados_teste$Class)\n",
    "matriz_confusao10"
   ]
  }
 ],
 "metadata": {
  "kernelspec": {
   "display_name": "R",
   "language": "R",
   "name": "ir"
  },
  "language_info": {
   "codemirror_mode": "r",
   "file_extension": ".r",
   "mimetype": "text/x-r-source",
   "name": "R",
   "pygments_lexer": "r",
   "version": "3.6.1"
  }
 },
 "nbformat": 4,
 "nbformat_minor": 5
}
