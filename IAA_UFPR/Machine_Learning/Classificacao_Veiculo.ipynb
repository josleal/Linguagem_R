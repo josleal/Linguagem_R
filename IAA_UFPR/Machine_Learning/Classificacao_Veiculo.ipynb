{
 "cells": [
  {
   "cell_type": "markdown",
   "id": "39cc47b2",
   "metadata": {},
   "source": [
    "![<caption>](UFPR.PNG)\n",
    "    \n",
    "    \n",
    "IAA007 – Aprendizado de Máquina e Laboratório de IA    \n",
    "**Prof. Dr. Jaime Wojciechowski**\n",
    "    \n",
    "Josué Leal Evangelista"
   ]
  },
  {
   "cell_type": "markdown",
   "id": "983be15b",
   "metadata": {},
   "source": [
    "### CLASSIFICAÇÃO"
   ]
  },
  {
   "cell_type": "code",
   "execution_count": 1,
   "id": "8fc2c5a4",
   "metadata": {},
   "outputs": [],
   "source": [
    "# DESATIVAR MENSAGENS DE WARNINGS (warn = -1) E ATIVAR (warn = 0)\n",
    "options(warn = -1)\n",
    "# NOTAÇÃO CIENTIFICA\n",
    "options(scipen = 999)"
   ]
  },
  {
   "cell_type": "markdown",
   "id": "85bdab9c",
   "metadata": {},
   "source": [
    "#### CARREGANDO BIBLIOTECAS"
   ]
  },
  {
   "cell_type": "code",
   "execution_count": 2,
   "id": "713fbfd4",
   "metadata": {},
   "outputs": [],
   "source": [
    "suppressPackageStartupMessages({\n",
    "library(caret)\n",
    "library(e1071)\n",
    "library(data.table)\n",
    "library(dplyr)\n",
    "library(ggplot2)\n",
    "library(tidyr)\n",
    "library(randomForest)\n",
    "library(corrplot)\n",
    "})"
   ]
  },
  {
   "cell_type": "markdown",
   "id": "066531c8",
   "metadata": {},
   "source": [
    "### 1 - CLASSIFICAÇÃO "
   ]
  },
  {
   "cell_type": "markdown",
   "id": "fcb45b41",
   "metadata": {},
   "source": [
    "#### 1.1 - VEÍCULO"
   ]
  },
  {
   "cell_type": "code",
   "execution_count": 3,
   "id": "b70d9e86",
   "metadata": {},
   "outputs": [],
   "source": [
    "dados_veiculo <- fread(\"Material 02 - 5 - C - Veiculos - Dados.csv\", stringsAsFactors = TRUE)\n",
    "df_veiculo <- as.data.frame(dados_veiculo)"
   ]
  },
  {
   "cell_type": "code",
   "execution_count": 4,
   "id": "5a334ef6",
   "metadata": {},
   "outputs": [
    {
     "data": {
      "text/html": [
       "<table>\n",
       "<thead><tr><th scope=col>a</th><th scope=col>Comp</th><th scope=col>Circ</th><th scope=col>DCirc</th><th scope=col>RadRa</th><th scope=col>PrAxisRa</th><th scope=col>MaxLRa</th><th scope=col>ScatRa</th><th scope=col>Elong</th><th scope=col>PrAxisRect</th><th scope=col>MaxLRect</th><th scope=col>ScVarMaxis</th><th scope=col>ScVarmaxis</th><th scope=col>RaGyr</th><th scope=col>SkewMaxis</th><th scope=col>Skewmaxis</th><th scope=col>Kurtmaxis</th><th scope=col>KurtMaxis</th><th scope=col>HollRa</th><th scope=col>tipo</th></tr></thead>\n",
       "<tbody>\n",
       "\t<tr><td>1   </td><td> 95 </td><td>48  </td><td> 83 </td><td>178 </td><td> 72 </td><td>10  </td><td>162 </td><td>42  </td><td>20  </td><td>159 </td><td>176 </td><td>379 </td><td>184 </td><td> 70 </td><td> 6  </td><td>16  </td><td>187 </td><td>197 </td><td>van </td></tr>\n",
       "\t<tr><td>2   </td><td> 91 </td><td>41  </td><td> 84 </td><td>141 </td><td> 57 </td><td> 9  </td><td>149 </td><td>45  </td><td>19  </td><td>143 </td><td>170 </td><td>330 </td><td>158 </td><td> 72 </td><td> 9  </td><td>14  </td><td>189 </td><td>199 </td><td>van </td></tr>\n",
       "\t<tr><td>3   </td><td>104 </td><td>50  </td><td>106 </td><td>209 </td><td> 66 </td><td>10  </td><td>207 </td><td>32  </td><td>23  </td><td>158 </td><td>223 </td><td>635 </td><td>220 </td><td> 73 </td><td>14  </td><td> 9  </td><td>188 </td><td>196 </td><td>saab</td></tr>\n",
       "\t<tr><td>4   </td><td> 93 </td><td>41  </td><td> 82 </td><td>159 </td><td> 63 </td><td> 9  </td><td>144 </td><td>46  </td><td>19  </td><td>143 </td><td>160 </td><td>309 </td><td>127 </td><td> 63 </td><td> 6  </td><td>10  </td><td>199 </td><td>207 </td><td>van </td></tr>\n",
       "\t<tr><td>5   </td><td> 85 </td><td>44  </td><td> 70 </td><td>205 </td><td>103 </td><td>52  </td><td>149 </td><td>45  </td><td>19  </td><td>144 </td><td>241 </td><td>325 </td><td>188 </td><td>127 </td><td> 9  </td><td>11  </td><td>180 </td><td>183 </td><td>bus </td></tr>\n",
       "\t<tr><td>6   </td><td>107 </td><td>57  </td><td>106 </td><td>172 </td><td> 50 </td><td> 6  </td><td>255 </td><td>26  </td><td>28  </td><td>169 </td><td>280 </td><td>957 </td><td>264 </td><td> 85 </td><td> 5  </td><td> 9  </td><td>181 </td><td>183 </td><td>bus </td></tr>\n",
       "</tbody>\n",
       "</table>\n"
      ],
      "text/latex": [
       "\\begin{tabular}{r|llllllllllllllllllll}\n",
       " a & Comp & Circ & DCirc & RadRa & PrAxisRa & MaxLRa & ScatRa & Elong & PrAxisRect & MaxLRect & ScVarMaxis & ScVarmaxis & RaGyr & SkewMaxis & Skewmaxis & Kurtmaxis & KurtMaxis & HollRa & tipo\\\\\n",
       "\\hline\n",
       "\t 1    &  95  & 48   &  83  & 178  &  72  & 10   & 162  & 42   & 20   & 159  & 176  & 379  & 184  &  70  &  6   & 16   & 187  & 197  & van \\\\\n",
       "\t 2    &  91  & 41   &  84  & 141  &  57  &  9   & 149  & 45   & 19   & 143  & 170  & 330  & 158  &  72  &  9   & 14   & 189  & 199  & van \\\\\n",
       "\t 3    & 104  & 50   & 106  & 209  &  66  & 10   & 207  & 32   & 23   & 158  & 223  & 635  & 220  &  73  & 14   &  9   & 188  & 196  & saab\\\\\n",
       "\t 4    &  93  & 41   &  82  & 159  &  63  &  9   & 144  & 46   & 19   & 143  & 160  & 309  & 127  &  63  &  6   & 10   & 199  & 207  & van \\\\\n",
       "\t 5    &  85  & 44   &  70  & 205  & 103  & 52   & 149  & 45   & 19   & 144  & 241  & 325  & 188  & 127  &  9   & 11   & 180  & 183  & bus \\\\\n",
       "\t 6    & 107  & 57   & 106  & 172  &  50  &  6   & 255  & 26   & 28   & 169  & 280  & 957  & 264  &  85  &  5   &  9   & 181  & 183  & bus \\\\\n",
       "\\end{tabular}\n"
      ],
      "text/markdown": [
       "\n",
       "| a | Comp | Circ | DCirc | RadRa | PrAxisRa | MaxLRa | ScatRa | Elong | PrAxisRect | MaxLRect | ScVarMaxis | ScVarmaxis | RaGyr | SkewMaxis | Skewmaxis | Kurtmaxis | KurtMaxis | HollRa | tipo |\n",
       "|---|---|---|---|---|---|---|---|---|---|---|---|---|---|---|---|---|---|---|---|\n",
       "| 1    |  95  | 48   |  83  | 178  |  72  | 10   | 162  | 42   | 20   | 159  | 176  | 379  | 184  |  70  |  6   | 16   | 187  | 197  | van  |\n",
       "| 2    |  91  | 41   |  84  | 141  |  57  |  9   | 149  | 45   | 19   | 143  | 170  | 330  | 158  |  72  |  9   | 14   | 189  | 199  | van  |\n",
       "| 3    | 104  | 50   | 106  | 209  |  66  | 10   | 207  | 32   | 23   | 158  | 223  | 635  | 220  |  73  | 14   |  9   | 188  | 196  | saab |\n",
       "| 4    |  93  | 41   |  82  | 159  |  63  |  9   | 144  | 46   | 19   | 143  | 160  | 309  | 127  |  63  |  6   | 10   | 199  | 207  | van  |\n",
       "| 5    |  85  | 44   |  70  | 205  | 103  | 52   | 149  | 45   | 19   | 144  | 241  | 325  | 188  | 127  |  9   | 11   | 180  | 183  | bus  |\n",
       "| 6    | 107  | 57   | 106  | 172  |  50  |  6   | 255  | 26   | 28   | 169  | 280  | 957  | 264  |  85  |  5   |  9   | 181  | 183  | bus  |\n",
       "\n"
      ],
      "text/plain": [
       "  a Comp Circ DCirc RadRa PrAxisRa MaxLRa ScatRa Elong PrAxisRect MaxLRect\n",
       "1 1  95  48    83   178    72      10     162    42    20         159     \n",
       "2 2  91  41    84   141    57       9     149    45    19         143     \n",
       "3 3 104  50   106   209    66      10     207    32    23         158     \n",
       "4 4  93  41    82   159    63       9     144    46    19         143     \n",
       "5 5  85  44    70   205   103      52     149    45    19         144     \n",
       "6 6 107  57   106   172    50       6     255    26    28         169     \n",
       "  ScVarMaxis ScVarmaxis RaGyr SkewMaxis Skewmaxis Kurtmaxis KurtMaxis HollRa\n",
       "1 176        379        184    70        6        16        187       197   \n",
       "2 170        330        158    72        9        14        189       199   \n",
       "3 223        635        220    73       14         9        188       196   \n",
       "4 160        309        127    63        6        10        199       207   \n",
       "5 241        325        188   127        9        11        180       183   \n",
       "6 280        957        264    85        5         9        181       183   \n",
       "  tipo\n",
       "1 van \n",
       "2 van \n",
       "3 saab\n",
       "4 van \n",
       "5 bus \n",
       "6 bus "
      ]
     },
     "metadata": {},
     "output_type": "display_data"
    }
   ],
   "source": [
    "head(df_veiculo)"
   ]
  },
  {
   "cell_type": "code",
   "execution_count": 5,
   "id": "35cd9635",
   "metadata": {},
   "outputs": [],
   "source": [
    "df_veiculo$a <- NULL"
   ]
  },
  {
   "cell_type": "code",
   "execution_count": 6,
   "id": "4ce953b8",
   "metadata": {},
   "outputs": [
    {
     "data": {
      "text/html": [
       "FALSE"
      ],
      "text/latex": [
       "FALSE"
      ],
      "text/markdown": [
       "FALSE"
      ],
      "text/plain": [
       "[1] FALSE"
      ]
     },
     "metadata": {},
     "output_type": "display_data"
    },
    {
     "data": {
      "text/html": [
       "FALSE"
      ],
      "text/latex": [
       "FALSE"
      ],
      "text/markdown": [
       "FALSE"
      ],
      "text/plain": [
       "[1] FALSE"
      ]
     },
     "metadata": {},
     "output_type": "display_data"
    }
   ],
   "source": [
    "# VERIFICANDO VALORES NA E NULL\n",
    "any(is.na(df_veiculo))\n",
    "any(is.null(df_veiculo))"
   ]
  },
  {
   "cell_type": "code",
   "execution_count": 7,
   "id": "13e2877c",
   "metadata": {},
   "outputs": [
    {
     "data": {
      "text/plain": [
       "\n",
       " bus opel saab  van \n",
       " 218  212  217  199 "
      ]
     },
     "metadata": {},
     "output_type": "display_data"
    }
   ],
   "source": [
    "# QUANTIDADE DE OBSERVAÇÕES DE CADA CLASSE\n",
    "table(df_veiculo$tipo)"
   ]
  },
  {
   "cell_type": "code",
   "execution_count": 8,
   "id": "e02c0dc4",
   "metadata": {},
   "outputs": [],
   "source": [
    "set.seed(1971)"
   ]
  },
  {
   "cell_type": "code",
   "execution_count": 9,
   "id": "7c2ff0e8",
   "metadata": {},
   "outputs": [],
   "source": [
    "# DIVIDINDO DADOS TREINO E TESTE 80% e 20%\n",
    "indices <- createDataPartition(df_veiculo$tipo, p = 0.8, list = FALSE)\n",
    "dados_treino <- df_veiculo[indices,]\n",
    "dados_teste <- df_veiculo[-indices,]"
   ]
  },
  {
   "cell_type": "code",
   "execution_count": 10,
   "id": "6f400ed8",
   "metadata": {},
   "outputs": [],
   "source": [
    "# NORMALIZAÇÃO PACOTE CARET\n",
    "# method = c(\"center\",\"scale\") -> Padronização fórmula do score z\n",
    "# method = c(\"range\") -> Normalização fórmula do min-max\n",
    "\n",
    "# TREINO\n",
    "transforma1  <- preProcess(dados_treino[,c(1:18)], method = c(\"range\"))\n",
    "dados_treino_normalizado <- predict(transforma1, dados_treino)\n",
    "\n",
    "# TESTE\n",
    "transforma2  <- preProcess(dados_teste[,c(1:18)], method = c(\"range\"))\n",
    "dados_teste_normalizado <- predict(transforma2, dados_teste)"
   ]
  },
  {
   "cell_type": "markdown",
   "id": "df68caba",
   "metadata": {},
   "source": [
    "### 1.1 - REDES NEURAIS ARTIFICIAIS - RNA"
   ]
  },
  {
   "cell_type": "markdown",
   "id": "6703b6ad",
   "metadata": {},
   "source": [
    "#### APRENDIZADO - MODELO RNA - HOLD-OUT"
   ]
  },
  {
   "cell_type": "code",
   "execution_count": 11,
   "id": "760be3be",
   "metadata": {},
   "outputs": [
    {
     "data": {
      "text/plain": [
       "Neural Network \n",
       "\n",
       "679 samples\n",
       "  6 predictor\n",
       "  4 classes: 'bus', 'opel', 'saab', 'van' \n",
       "\n",
       "No pre-processing\n",
       "Resampling: Bootstrapped (25 reps) \n",
       "Summary of sample sizes: 679, 679, 679, 679, 679, 679, ... \n",
       "Resampling results across tuning parameters:\n",
       "\n",
       "  size  decay   Accuracy   Kappa    \n",
       "  1     0.0000  0.5088772  0.3500870\n",
       "  1     0.0001  0.5219839  0.3658440\n",
       "  1     0.1000  0.5148353  0.3566708\n",
       "  3     0.0000  0.6739409  0.5653526\n",
       "  3     0.0001  0.6623323  0.5502631\n",
       "  3     0.1000  0.6694116  0.5595198\n",
       "  5     0.0000  0.7038693  0.6044694\n",
       "  5     0.0001  0.7022237  0.6024723\n",
       "  5     0.1000  0.6988777  0.5979456\n",
       "\n",
       "Accuracy was used to select the optimal model using the largest value.\n",
       "The final values used for the model were size = 5 and decay = 0."
      ]
     },
     "metadata": {},
     "output_type": "display_data"
    }
   ],
   "source": [
    "modelo_rna <- train(tipo ~ MaxLRa + ScVarmaxis + MaxLRect + DCirc + ScatRa + Elong, \n",
    "                    dados_treino_normalizado, \n",
    "                    method = \"nnet\", \n",
    "                    trace = FALSE)\n",
    "modelo_rna"
   ]
  },
  {
   "cell_type": "code",
   "execution_count": 12,
   "id": "2f038d60",
   "metadata": {},
   "outputs": [],
   "source": [
    "previsao_rna <- predict(modelo_rna, dados_teste_normalizado)"
   ]
  },
  {
   "cell_type": "markdown",
   "id": "705dc433",
   "metadata": {},
   "source": [
    "#### MÉTRICAS - MODELO RNA - HOLD-OUT"
   ]
  },
  {
   "cell_type": "code",
   "execution_count": 13,
   "id": "0863ac03",
   "metadata": {},
   "outputs": [
    {
     "data": {
      "text/plain": [
       "Confusion Matrix and Statistics\n",
       "\n",
       "          Reference\n",
       "Prediction bus opel saab van\n",
       "      bus   20    1    1   0\n",
       "      opel   3    2    0   0\n",
       "      saab   6   33   35   1\n",
       "      van   14    6    7  38\n",
       "\n",
       "Overall Statistics\n",
       "                                               \n",
       "               Accuracy : 0.5689               \n",
       "                 95% CI : (0.4901, 0.6451)     \n",
       "    No Information Rate : 0.2575               \n",
       "    P-Value [Acc > NIR] : < 0.00000000000000022\n",
       "                                               \n",
       "                  Kappa : 0.4267               \n",
       "                                               \n",
       " Mcnemar's Test P-Value : 0.00000000001706     \n",
       "\n",
       "Statistics by Class:\n",
       "\n",
       "                     Class: bus Class: opel Class: saab Class: van\n",
       "Sensitivity              0.4651     0.04762      0.8140     0.9744\n",
       "Specificity              0.9839     0.97600      0.6774     0.7891\n",
       "Pos Pred Value           0.9091     0.40000      0.4667     0.5846\n",
       "Neg Pred Value           0.8414     0.75309      0.9130     0.9902\n",
       "Prevalence               0.2575     0.25150      0.2575     0.2335\n",
       "Detection Rate           0.1198     0.01198      0.2096     0.2275\n",
       "Detection Prevalence     0.1317     0.02994      0.4491     0.3892\n",
       "Balanced Accuracy        0.7245     0.51181      0.7457     0.8817"
      ]
     },
     "metadata": {},
     "output_type": "display_data"
    }
   ],
   "source": [
    "# MATRIZ DE CONFUSÃO\n",
    "matriz_confusao1 <- confusionMatrix(previsao_rna, dados_teste_normalizado$tipo)\n",
    "matriz_confusao1"
   ]
  },
  {
   "cell_type": "markdown",
   "id": "29720ae3",
   "metadata": {},
   "source": [
    "#### APRENDIZADO - MODELO RNA - CROSS VALIDATION"
   ]
  },
  {
   "cell_type": "code",
   "execution_count": 14,
   "id": "b68328ed",
   "metadata": {},
   "outputs": [
    {
     "data": {
      "text/plain": [
       "Neural Network \n",
       "\n",
       "679 samples\n",
       "  6 predictor\n",
       "  4 classes: 'bus', 'opel', 'saab', 'van' \n",
       "\n",
       "No pre-processing\n",
       "Resampling: Bootstrapped (25 reps) \n",
       "Summary of sample sizes: 679, 679, 679, 679, 679, 679, ... \n",
       "Resampling results across tuning parameters:\n",
       "\n",
       "  size  decay   Accuracy   Kappa    \n",
       "  1     0.0000  0.5241866  0.3714193\n",
       "  1     0.0001  0.5270744  0.3746325\n",
       "  1     0.1000  0.5213931  0.3667294\n",
       "  3     0.0000  0.6712246  0.5624201\n",
       "  3     0.0001  0.6645559  0.5534750\n",
       "  3     0.1000  0.6659235  0.5558947\n",
       "  5     0.0000  0.7018134  0.6024986\n",
       "  5     0.0001  0.7011622  0.6015937\n",
       "  5     0.1000  0.6895034  0.5864893\n",
       "\n",
       "Accuracy was used to select the optimal model using the largest value.\n",
       "The final values used for the model were size = 5 and decay = 0."
      ]
     },
     "metadata": {},
     "output_type": "display_data"
    }
   ],
   "source": [
    "crossvalidation1 <- trainControl(method = \"cv\", number = 10)\n",
    "modelo_rna_cv <- train(tipo ~ MaxLRa + ScVarmaxis + MaxLRect + DCirc + ScatRa + Elong, \n",
    "                       dados_treino_normalizado, \n",
    "                       trainControl = crossvalidation1, \n",
    "                       method = \"nnet\", \n",
    "                       trace = FALSE)\n",
    "modelo_rna_cv"
   ]
  },
  {
   "cell_type": "code",
   "execution_count": 15,
   "id": "8855547b",
   "metadata": {},
   "outputs": [],
   "source": [
    "previsao_rna_cv <- predict(modelo_rna_cv, dados_teste_normalizado)"
   ]
  },
  {
   "cell_type": "markdown",
   "id": "04c17681",
   "metadata": {},
   "source": [
    "#### MÉTRICAS - MODELO RNA - CROSSVALIDATION"
   ]
  },
  {
   "cell_type": "code",
   "execution_count": 16,
   "id": "7c2d430d",
   "metadata": {},
   "outputs": [
    {
     "data": {
      "text/plain": [
       "Confusion Matrix and Statistics\n",
       "\n",
       "          Reference\n",
       "Prediction bus opel saab van\n",
       "      bus   19    1    1   0\n",
       "      opel   8    4    2   0\n",
       "      saab   2   31   34   1\n",
       "      van   14    6    6  38\n",
       "\n",
       "Overall Statistics\n",
       "                                               \n",
       "               Accuracy : 0.5689               \n",
       "                 95% CI : (0.4901, 0.6451)     \n",
       "    No Information Rate : 0.2575               \n",
       "    P-Value [Acc > NIR] : < 0.00000000000000022\n",
       "                                               \n",
       "                  Kappa : 0.4268               \n",
       "                                               \n",
       " Mcnemar's Test P-Value : 0.0000000005007      \n",
       "\n",
       "Statistics by Class:\n",
       "\n",
       "                     Class: bus Class: opel Class: saab Class: van\n",
       "Sensitivity              0.4419     0.09524      0.7907     0.9744\n",
       "Specificity              0.9839     0.92000      0.7258     0.7969\n",
       "Pos Pred Value           0.9048     0.28571      0.5000     0.5938\n",
       "Neg Pred Value           0.8356     0.75163      0.9091     0.9903\n",
       "Prevalence               0.2575     0.25150      0.2575     0.2335\n",
       "Detection Rate           0.1138     0.02395      0.2036     0.2275\n",
       "Detection Prevalence     0.1257     0.08383      0.4072     0.3832\n",
       "Balanced Accuracy        0.7129     0.50762      0.7583     0.8856"
      ]
     },
     "metadata": {},
     "output_type": "display_data"
    }
   ],
   "source": [
    "# MATRIZ DE CONFUSÃO\n",
    "matriz_confusao2 <- confusionMatrix(previsao_rna_cv, dados_teste_normalizado$tipo)\n",
    "matriz_confusao2"
   ]
  },
  {
   "cell_type": "markdown",
   "id": "c9e868c0",
   "metadata": {},
   "source": [
    "#### APRENDIZADO - MELHOR MODELO RNA - CROSS VALIDATION E TUNEGRID"
   ]
  },
  {
   "cell_type": "code",
   "execution_count": 17,
   "id": "4b6bee78",
   "metadata": {},
   "outputs": [
    {
     "data": {
      "text/plain": [
       "Neural Network \n",
       "\n",
       "679 samples\n",
       "  6 predictor\n",
       "  4 classes: 'bus', 'opel', 'saab', 'van' \n",
       "\n",
       "No pre-processing\n",
       "Resampling: Bootstrapped (25 reps) \n",
       "Summary of sample sizes: 679, 679, 679, 679, 679, 679, ... \n",
       "Resampling results across tuning parameters:\n",
       "\n",
       "  size  decay  Accuracy   Kappa    \n",
       "   1    0.1    0.5222304  0.3672298\n",
       "   1    0.2    0.5166855  0.3605124\n",
       "   1    0.3    0.5141598  0.3577540\n",
       "   1    0.4    0.5090883  0.3512908\n",
       "   1    0.5    0.5006043  0.3403603\n",
       "   1    0.6    0.4911609  0.3282421\n",
       "   1    0.7    0.4798000  0.3134806\n",
       "   1    0.8    0.4723115  0.3038105\n",
       "   1    0.9    0.4642188  0.2932991\n",
       "   2    0.1    0.6505188  0.5353036\n",
       "   2    0.2    0.6393594  0.5207178\n",
       "   2    0.3    0.6289368  0.5071758\n",
       "   2    0.4    0.6312094  0.5101087\n",
       "   2    0.5    0.6252076  0.5023442\n",
       "   2    0.6    0.6203197  0.4960085\n",
       "   2    0.7    0.6164944  0.4913569\n",
       "   2    0.8    0.6115984  0.4850560\n",
       "   2    0.9    0.6074247  0.4796875\n",
       "   3    0.1    0.6679598  0.5580430\n",
       "   3    0.2    0.6545878  0.5408222\n",
       "   3    0.3    0.6445812  0.5274652\n",
       "   3    0.4    0.6430316  0.5255079\n",
       "   3    0.5    0.6321518  0.5110220\n",
       "   3    0.6    0.6299878  0.5085099\n",
       "   3    0.7    0.6220966  0.4982570\n",
       "   3    0.8    0.6166889  0.4912709\n",
       "   3    0.9    0.6098535  0.4825051\n",
       "   4    0.1    0.6898635  0.5868697\n",
       "   4    0.2    0.6723360  0.5638302\n",
       "   4    0.3    0.6566643  0.5433004\n",
       "   4    0.4    0.6405070  0.5221982\n",
       "   4    0.5    0.6334724  0.5128299\n",
       "   4    0.6    0.6312646  0.5099587\n",
       "   4    0.7    0.6219305  0.4977899\n",
       "   4    0.8    0.6157337  0.4898672\n",
       "   4    0.9    0.6137920  0.4876879\n",
       "   5    0.1    0.6894669  0.5863385\n",
       "   5    0.2    0.6737040  0.5657448\n",
       "   5    0.3    0.6591146  0.5464456\n",
       "   5    0.4    0.6533148  0.5388990\n",
       "   5    0.5    0.6396793  0.5209481\n",
       "   5    0.6    0.6288915  0.5067698\n",
       "   5    0.7    0.6262364  0.5036517\n",
       "   5    0.8    0.6192155  0.4944407\n",
       "   5    0.9    0.6137981  0.4875871\n",
       "   6    0.1    0.6904284  0.5875657\n",
       "   6    0.2    0.6769537  0.5699086\n",
       "   6    0.3    0.6649687  0.5542545\n",
       "   6    0.4    0.6511036  0.5360421\n",
       "   6    0.5    0.6389744  0.5200598\n",
       "   6    0.6    0.6338070  0.5133200\n",
       "   6    0.7    0.6264980  0.5038182\n",
       "   6    0.8    0.6193736  0.4946333\n",
       "   6    0.9    0.6134697  0.4870605\n",
       "   7    0.1    0.6896624  0.5865601\n",
       "   7    0.2    0.6754379  0.5679328\n",
       "   7    0.3    0.6670655  0.5568864\n",
       "   7    0.4    0.6529851  0.5385447\n",
       "   7    0.5    0.6398041  0.5211678\n",
       "   7    0.6    0.6360453  0.5162641\n",
       "   7    0.7    0.6260064  0.5030982\n",
       "   7    0.8    0.6190687  0.4942447\n",
       "   7    0.9    0.6155302  0.4898340\n",
       "   8    0.1    0.6897847  0.5867212\n",
       "   8    0.2    0.6780021  0.5712806\n",
       "   8    0.3    0.6659907  0.5555005\n",
       "   8    0.4    0.6514527  0.5365445\n",
       "   8    0.5    0.6416251  0.5235698\n",
       "   8    0.6    0.6336679  0.5130302\n",
       "   8    0.7    0.6258683  0.5030816\n",
       "   8    0.8    0.6201173  0.4955931\n",
       "   8    0.9    0.6174685  0.4923779\n",
       "   9    0.1    0.6906744  0.5879022\n",
       "   9    0.2    0.6779965  0.5712716\n",
       "   9    0.3    0.6688499  0.5592901\n",
       "   9    0.4    0.6537593  0.5396002\n",
       "   9    0.5    0.6404664  0.5218822\n",
       "   9    0.6    0.6336648  0.5132157\n",
       "   9    0.7    0.6294021  0.5075751\n",
       "   9    0.8    0.6230535  0.4994921\n",
       "   9    0.9    0.6148802  0.4890187\n",
       "  10    0.1    0.6897628  0.5867402\n",
       "  10    0.2    0.6773130  0.5703633\n",
       "  10    0.3    0.6675453  0.5576293\n",
       "  10    0.4    0.6518692  0.5370989\n",
       "  10    0.5    0.6465683  0.5301609\n",
       "  10    0.6    0.6339534  0.5135837\n",
       "  10    0.7    0.6281343  0.5058909\n",
       "  10    0.8    0.6231984  0.4997511\n",
       "  10    0.9    0.6192567  0.4947562\n",
       "\n",
       "Accuracy was used to select the optimal model using the largest value.\n",
       "The final values used for the model were size = 9 and decay = 0.1."
      ]
     },
     "metadata": {},
     "output_type": "display_data"
    }
   ],
   "source": [
    "tunegrid1 <- expand.grid(size = seq(from = 1, to = 10, by = 1), decay = seq(from = 0.1, to = 0.9, by = 0.1))\n",
    "modelo_rna_best <- train(tipo ~ MaxLRa + ScVarmaxis + MaxLRect + DCirc + ScatRa + Elong, \n",
    "                         dados_treino_normalizado, \n",
    "                         method = \"nnet\", \n",
    "                         trainControl = crossvalidation1,\n",
    "                         tuneGrid = tunegrid1, \n",
    "                         MaxNWts = 1000, \n",
    "                         maxit = 200, trace = FALSE)\n",
    "modelo_rna_best"
   ]
  },
  {
   "cell_type": "code",
   "execution_count": 18,
   "id": "98822aa0",
   "metadata": {},
   "outputs": [],
   "source": [
    "previsao_rna_best <- predict(modelo_rna_best, dados_teste_normalizado)"
   ]
  },
  {
   "cell_type": "markdown",
   "id": "c98f4dc7",
   "metadata": {},
   "source": [
    "#### MÉTRICAS - MELHOR MODELO RNA - CROSS VALIDATION E TUNEGRID"
   ]
  },
  {
   "cell_type": "code",
   "execution_count": 19,
   "id": "ef2435e9",
   "metadata": {},
   "outputs": [
    {
     "data": {
      "text/plain": [
       "Confusion Matrix and Statistics\n",
       "\n",
       "          Reference\n",
       "Prediction bus opel saab van\n",
       "      bus   32    1    2   0\n",
       "      opel   1    9    3   1\n",
       "      saab   8   28   32   1\n",
       "      van    2    4    6  37\n",
       "\n",
       "Overall Statistics\n",
       "                                               \n",
       "               Accuracy : 0.6587               \n",
       "                 95% CI : (0.5814, 0.7302)     \n",
       "    No Information Rate : 0.2575               \n",
       "    P-Value [Acc > NIR] : < 0.00000000000000022\n",
       "                                               \n",
       "                  Kappa : 0.5449               \n",
       "                                               \n",
       " Mcnemar's Test P-Value : 0.00002391           \n",
       "\n",
       "Statistics by Class:\n",
       "\n",
       "                     Class: bus Class: opel Class: saab Class: van\n",
       "Sensitivity              0.7442     0.21429      0.7442     0.9487\n",
       "Specificity              0.9758     0.96000      0.7016     0.9062\n",
       "Pos Pred Value           0.9143     0.64286      0.4638     0.7551\n",
       "Neg Pred Value           0.9167     0.78431      0.8878     0.9831\n",
       "Prevalence               0.2575     0.25150      0.2575     0.2335\n",
       "Detection Rate           0.1916     0.05389      0.1916     0.2216\n",
       "Detection Prevalence     0.2096     0.08383      0.4132     0.2934\n",
       "Balanced Accuracy        0.8600     0.58714      0.7229     0.9275"
      ]
     },
     "metadata": {},
     "output_type": "display_data"
    }
   ],
   "source": [
    "# MATRIZ DE CONFUSÃO\n",
    "matriz_confusao3 <- confusionMatrix(previsao_rna_best, dados_teste_normalizado$tipo)\n",
    "matriz_confusao3"
   ]
  },
  {
   "cell_type": "markdown",
   "id": "e88d606e",
   "metadata": {},
   "source": [
    "### 1.2 - K-NEAREST NEIGHBOR - KNN"
   ]
  },
  {
   "cell_type": "markdown",
   "id": "5247a10f",
   "metadata": {},
   "source": [
    "#### APRENDIZADO - MODELO KNN - TUNEGRID"
   ]
  },
  {
   "cell_type": "code",
   "execution_count": 20,
   "id": "d0097f64",
   "metadata": {},
   "outputs": [],
   "source": [
    "tunegrid2 <- expand.grid(k = c(3, 5, 7, 9))"
   ]
  },
  {
   "cell_type": "code",
   "execution_count": 21,
   "id": "70d91822",
   "metadata": {},
   "outputs": [
    {
     "data": {
      "text/plain": [
       "k-Nearest Neighbors \n",
       "\n",
       "679 samples\n",
       "  6 predictor\n",
       "  4 classes: 'bus', 'opel', 'saab', 'van' \n",
       "\n",
       "No pre-processing\n",
       "Resampling: Bootstrapped (25 reps) \n",
       "Summary of sample sizes: 679, 679, 679, 679, 679, 679, ... \n",
       "Resampling results across tuning parameters:\n",
       "\n",
       "  k  Accuracy   Kappa    \n",
       "  3  0.6335245  0.5103983\n",
       "  5  0.6443198  0.5252181\n",
       "  7  0.6522833  0.5360853\n",
       "  9  0.6568125  0.5423272\n",
       "\n",
       "Accuracy was used to select the optimal model using the largest value.\n",
       "The final value used for the model was k = 9."
      ]
     },
     "metadata": {},
     "output_type": "display_data"
    }
   ],
   "source": [
    "modelo_knn <- train(tipo ~ MaxLRa + ScVarmaxis + MaxLRect + DCirc + ScatRa + Elong, \n",
    "                    dados_treino_normalizado, \n",
    "                    method = \"knn\", \n",
    "                    tuneGrid = tunegrid2)\n",
    "modelo_knn"
   ]
  },
  {
   "cell_type": "code",
   "execution_count": 22,
   "id": "0b5f0910",
   "metadata": {},
   "outputs": [],
   "source": [
    "previsao_knn <-predict(modelo_knn, dados_teste_normalizado)"
   ]
  },
  {
   "cell_type": "markdown",
   "id": "12ecb7b5",
   "metadata": {},
   "source": [
    "#### MÉTRICAS - MODELO KNN - TUNEGRID"
   ]
  },
  {
   "cell_type": "code",
   "execution_count": 23,
   "id": "e1af4e4e",
   "metadata": {},
   "outputs": [
    {
     "data": {
      "text/plain": [
       "Confusion Matrix and Statistics\n",
       "\n",
       "          Reference\n",
       "Prediction bus opel saab van\n",
       "      bus   33    1    5   0\n",
       "      opel   4   12   11   0\n",
       "      saab   6   23   21   1\n",
       "      van    0    6    6  38\n",
       "\n",
       "Overall Statistics\n",
       "                                               \n",
       "               Accuracy : 0.6228               \n",
       "                 95% CI : (0.5446, 0.6965)     \n",
       "    No Information Rate : 0.2575               \n",
       "    P-Value [Acc > NIR] : < 0.00000000000000022\n",
       "                                               \n",
       "                  Kappa : 0.4974               \n",
       "                                               \n",
       " Mcnemar's Test P-Value : NA                   \n",
       "\n",
       "Statistics by Class:\n",
       "\n",
       "                     Class: bus Class: opel Class: saab Class: van\n",
       "Sensitivity              0.7674     0.28571      0.4884     0.9744\n",
       "Specificity              0.9516     0.88000      0.7581     0.9062\n",
       "Pos Pred Value           0.8462     0.44444      0.4118     0.7600\n",
       "Neg Pred Value           0.9219     0.78571      0.8103     0.9915\n",
       "Prevalence               0.2575     0.25150      0.2575     0.2335\n",
       "Detection Rate           0.1976     0.07186      0.1257     0.2275\n",
       "Detection Prevalence     0.2335     0.16168      0.3054     0.2994\n",
       "Balanced Accuracy        0.8595     0.58286      0.6232     0.9403"
      ]
     },
     "metadata": {},
     "output_type": "display_data"
    }
   ],
   "source": [
    "# MATRIZ DE CONFUSÃO\n",
    "matriz_confusao4 <- confusionMatrix(previsao_knn, dados_teste_normalizado$tipo)\n",
    "matriz_confusao4"
   ]
  },
  {
   "cell_type": "markdown",
   "id": "b9311f79",
   "metadata": {},
   "source": [
    "### 1.3 - SUPPORT VECTOR MACHINES - SVM"
   ]
  },
  {
   "cell_type": "markdown",
   "id": "4da6448b",
   "metadata": {},
   "source": [
    "#### APRENDIZADO - MODELO SVM - HOLD-OUT"
   ]
  },
  {
   "cell_type": "code",
   "execution_count": 24,
   "id": "95f73193",
   "metadata": {},
   "outputs": [
    {
     "data": {
      "text/plain": [
       "Support Vector Machines with Radial Basis Function Kernel \n",
       "\n",
       "679 samples\n",
       "  6 predictor\n",
       "  4 classes: 'bus', 'opel', 'saab', 'van' \n",
       "\n",
       "No pre-processing\n",
       "Resampling: Bootstrapped (25 reps) \n",
       "Summary of sample sizes: 679, 679, 679, 679, 679, 679, ... \n",
       "Resampling results across tuning parameters:\n",
       "\n",
       "  C     Accuracy   Kappa    \n",
       "  0.25  0.6913006  0.5889020\n",
       "  0.50  0.6961941  0.5951221\n",
       "  1.00  0.6984187  0.5980035\n",
       "\n",
       "Tuning parameter 'sigma' was held constant at a value of 0.6128511\n",
       "Accuracy was used to select the optimal model using the largest value.\n",
       "The final values used for the model were sigma = 0.6128511 and C = 1."
      ]
     },
     "metadata": {},
     "output_type": "display_data"
    }
   ],
   "source": [
    "modelo_svm <- train(tipo ~ MaxLRa + ScVarmaxis + MaxLRect + DCirc + ScatRa + Elong, \n",
    "                    dados_treino_normalizado, \n",
    "                    method = \"svmRadial\")\n",
    "modelo_svm"
   ]
  },
  {
   "cell_type": "code",
   "execution_count": 25,
   "id": "4480d80b",
   "metadata": {},
   "outputs": [],
   "source": [
    "previsao_svm <- predict(modelo_svm, dados_teste_normalizado)"
   ]
  },
  {
   "cell_type": "markdown",
   "id": "5d4e38d1",
   "metadata": {},
   "source": [
    "#### MÉTRICAS - MODELO SVM - HOLD-OUT"
   ]
  },
  {
   "cell_type": "code",
   "execution_count": 26,
   "id": "205cf151",
   "metadata": {},
   "outputs": [
    {
     "data": {
      "text/plain": [
       "Confusion Matrix and Statistics\n",
       "\n",
       "          Reference\n",
       "Prediction bus opel saab van\n",
       "      bus   21    1    1   0\n",
       "      opel   1    7    3   0\n",
       "      saab  12   27   30   0\n",
       "      van    9    7    9  39\n",
       "\n",
       "Overall Statistics\n",
       "                                               \n",
       "               Accuracy : 0.5808               \n",
       "                 95% CI : (0.5021, 0.6566)     \n",
       "    No Information Rate : 0.2575               \n",
       "    P-Value [Acc > NIR] : < 0.00000000000000022\n",
       "                                               \n",
       "                  Kappa : 0.4427               \n",
       "                                               \n",
       " Mcnemar's Test P-Value : 0.0000000009271      \n",
       "\n",
       "Statistics by Class:\n",
       "\n",
       "                     Class: bus Class: opel Class: saab Class: van\n",
       "Sensitivity              0.4884     0.16667      0.6977     1.0000\n",
       "Specificity              0.9839     0.96800      0.6855     0.8047\n",
       "Pos Pred Value           0.9130     0.63636      0.4348     0.6094\n",
       "Neg Pred Value           0.8472     0.77564      0.8673     1.0000\n",
       "Prevalence               0.2575     0.25150      0.2575     0.2335\n",
       "Detection Rate           0.1257     0.04192      0.1796     0.2335\n",
       "Detection Prevalence     0.1377     0.06587      0.4132     0.3832\n",
       "Balanced Accuracy        0.7361     0.56733      0.6916     0.9023"
      ]
     },
     "metadata": {},
     "output_type": "display_data"
    }
   ],
   "source": [
    "# MATRIZ DE CONFUSÃO\n",
    "matriz_confusao5 <- confusionMatrix(previsao_svm, dados_teste_normalizado$tipo)\n",
    "matriz_confusao5"
   ]
  },
  {
   "cell_type": "markdown",
   "id": "2e48f78d",
   "metadata": {},
   "source": [
    "#### APRENDIZADO - MODELO SVM - CROSS VALIDATION"
   ]
  },
  {
   "cell_type": "code",
   "execution_count": 27,
   "id": "13461faa",
   "metadata": {},
   "outputs": [
    {
     "data": {
      "text/plain": [
       "Support Vector Machines with Radial Basis Function Kernel \n",
       "\n",
       "679 samples\n",
       "  6 predictor\n",
       "  4 classes: 'bus', 'opel', 'saab', 'van' \n",
       "\n",
       "No pre-processing\n",
       "Resampling: Bootstrapped (25 reps) \n",
       "Summary of sample sizes: 679, 679, 679, 679, 679, 679, ... \n",
       "Resampling results across tuning parameters:\n",
       "\n",
       "  C     Accuracy   Kappa    \n",
       "  0.25  0.6971052  0.5970711\n",
       "  0.50  0.7037224  0.6055395\n",
       "  1.00  0.7075128  0.6104204\n",
       "\n",
       "Tuning parameter 'sigma' was held constant at a value of 0.5762355\n",
       "Accuracy was used to select the optimal model using the largest value.\n",
       "The final values used for the model were sigma = 0.5762355 and C = 1."
      ]
     },
     "metadata": {},
     "output_type": "display_data"
    }
   ],
   "source": [
    "crossvalidation2 <- trainControl(method = \"cv\", number = 15)\n",
    "modelo_svm_cv <- train(tipo ~ MaxLRa + ScVarmaxis + MaxLRect + DCirc + ScatRa + Elong, \n",
    "                       dados_treino_normalizado, \n",
    "                       trainControl = crossvalidation2, \n",
    "                       method = \"svmRadial\")\n",
    "modelo_svm_cv"
   ]
  },
  {
   "cell_type": "code",
   "execution_count": 28,
   "id": "43dee0a7",
   "metadata": {},
   "outputs": [],
   "source": [
    "previsao_svm_cv <- predict(modelo_svm_cv, dados_teste_normalizado)"
   ]
  },
  {
   "cell_type": "markdown",
   "id": "f731d863",
   "metadata": {},
   "source": [
    "#### MÉTRICAS - MODELO SVM - CROSS VALIDATION"
   ]
  },
  {
   "cell_type": "code",
   "execution_count": 29,
   "id": "2fd7b843",
   "metadata": {},
   "outputs": [
    {
     "data": {
      "text/plain": [
       "Confusion Matrix and Statistics\n",
       "\n",
       "          Reference\n",
       "Prediction bus opel saab van\n",
       "      bus   21    1    1   0\n",
       "      opel   1    7    3   0\n",
       "      saab  12   27   30   0\n",
       "      van    9    7    9  39\n",
       "\n",
       "Overall Statistics\n",
       "                                               \n",
       "               Accuracy : 0.5808               \n",
       "                 95% CI : (0.5021, 0.6566)     \n",
       "    No Information Rate : 0.2575               \n",
       "    P-Value [Acc > NIR] : < 0.00000000000000022\n",
       "                                               \n",
       "                  Kappa : 0.4427               \n",
       "                                               \n",
       " Mcnemar's Test P-Value : 0.0000000009271      \n",
       "\n",
       "Statistics by Class:\n",
       "\n",
       "                     Class: bus Class: opel Class: saab Class: van\n",
       "Sensitivity              0.4884     0.16667      0.6977     1.0000\n",
       "Specificity              0.9839     0.96800      0.6855     0.8047\n",
       "Pos Pred Value           0.9130     0.63636      0.4348     0.6094\n",
       "Neg Pred Value           0.8472     0.77564      0.8673     1.0000\n",
       "Prevalence               0.2575     0.25150      0.2575     0.2335\n",
       "Detection Rate           0.1257     0.04192      0.1796     0.2335\n",
       "Detection Prevalence     0.1377     0.06587      0.4132     0.3832\n",
       "Balanced Accuracy        0.7361     0.56733      0.6916     0.9023"
      ]
     },
     "metadata": {},
     "output_type": "display_data"
    }
   ],
   "source": [
    "# MATRIZ DE CONFUSÃO\n",
    "matriz_confusao6 <- confusionMatrix(previsao_svm_cv, dados_teste_normalizado$tipo)\n",
    "matriz_confusao6"
   ]
  },
  {
   "cell_type": "markdown",
   "id": "eb9004de",
   "metadata": {},
   "source": [
    "#### APRENDIZADO - MODELO SVM - CROSS VALIDATION E TUNEGRID"
   ]
  },
  {
   "cell_type": "code",
   "execution_count": 30,
   "id": "013bdc82",
   "metadata": {},
   "outputs": [
    {
     "data": {
      "text/plain": [
       "Support Vector Machines with Radial Basis Function Kernel \n",
       "\n",
       "679 samples\n",
       "  6 predictor\n",
       "  4 classes: 'bus', 'opel', 'saab', 'van' \n",
       "\n",
       "No pre-processing\n",
       "Resampling: Bootstrapped (25 reps) \n",
       "Summary of sample sizes: 679, 679, 679, 679, 679, 679, ... \n",
       "Resampling results across tuning parameters:\n",
       "\n",
       "  C    sigma  Accuracy   Kappa    \n",
       "    1  0.010  0.5911344  0.4585655\n",
       "    1  0.015  0.6425115  0.5251039\n",
       "    1  0.200  0.7085681  0.6114613\n",
       "    2  0.010  0.6480809  0.5323986\n",
       "    2  0.015  0.6642288  0.5536408\n",
       "    2  0.200  0.7122105  0.6163207\n",
       "   10  0.010  0.6841530  0.5791722\n",
       "   10  0.015  0.6926913  0.5903829\n",
       "   10  0.200  0.7196160  0.6260056\n",
       "   50  0.010  0.6994752  0.5991911\n",
       "   50  0.015  0.7031318  0.6040271\n",
       "   50  0.200  0.7334384  0.6441448\n",
       "  100  0.010  0.7035860  0.6045805\n",
       "  100  0.015  0.7078561  0.6103929\n",
       "  100  0.200  0.7345647  0.6456506\n",
       "\n",
       "Accuracy was used to select the optimal model using the largest value.\n",
       "The final values used for the model were sigma = 0.2 and C = 100."
      ]
     },
     "metadata": {},
     "output_type": "display_data"
    }
   ],
   "source": [
    "tunegrid2 <- expand.grid(C = c(1, 2, 10, 50, 100), sigma = c(0.01, 0.015, 0.2))\n",
    "modelo_svm_best <- train(tipo ~ MaxLRa + ScVarmaxis + MaxLRect + DCirc + ScatRa + Elong, \n",
    "                         dados_treino_normalizado, \n",
    "                         method = \"svmRadial\", \n",
    "                         trainControl = crossvalidation2,\n",
    "                         tuneGrid = tunegrid2)\n",
    "modelo_svm_best"
   ]
  },
  {
   "cell_type": "code",
   "execution_count": 31,
   "id": "dce1d7c4",
   "metadata": {},
   "outputs": [],
   "source": [
    "previsao_svm_best <- predict(modelo_svm_best, dados_teste_normalizado)"
   ]
  },
  {
   "cell_type": "markdown",
   "id": "e0f175d2",
   "metadata": {},
   "source": [
    "#### MÉTRICAS - MODELO SVM - CROSS VALIDATION E TUNEGRID"
   ]
  },
  {
   "cell_type": "code",
   "execution_count": 32,
   "id": "d4c2210d",
   "metadata": {},
   "outputs": [
    {
     "data": {
      "text/plain": [
       "Confusion Matrix and Statistics\n",
       "\n",
       "          Reference\n",
       "Prediction bus opel saab van\n",
       "      bus   23    1    1   0\n",
       "      opel   8   17   19   0\n",
       "      saab   7   17   18   1\n",
       "      van    5    7    5  38\n",
       "\n",
       "Overall Statistics\n",
       "                                               \n",
       "               Accuracy : 0.5749               \n",
       "                 95% CI : (0.4961, 0.6509)     \n",
       "    No Information Rate : 0.2575               \n",
       "    P-Value [Acc > NIR] : < 0.00000000000000022\n",
       "                                               \n",
       "                  Kappa : 0.4346               \n",
       "                                               \n",
       " Mcnemar's Test P-Value : 0.0003843            \n",
       "\n",
       "Statistics by Class:\n",
       "\n",
       "                     Class: bus Class: opel Class: saab Class: van\n",
       "Sensitivity              0.5349      0.4048      0.4186     0.9744\n",
       "Specificity              0.9839      0.7840      0.7984     0.8672\n",
       "Pos Pred Value           0.9200      0.3864      0.4186     0.6909\n",
       "Neg Pred Value           0.8592      0.7967      0.7984     0.9911\n",
       "Prevalence               0.2575      0.2515      0.2575     0.2335\n",
       "Detection Rate           0.1377      0.1018      0.1078     0.2275\n",
       "Detection Prevalence     0.1497      0.2635      0.2575     0.3293\n",
       "Balanced Accuracy        0.7594      0.5944      0.6085     0.9208"
      ]
     },
     "metadata": {},
     "output_type": "display_data"
    }
   ],
   "source": [
    "# MATRIZ DE CONFUSÃO\n",
    "matriz_confusao7 <- confusionMatrix(previsao_svm_best, dados_teste_normalizado$tipo)\n",
    "matriz_confusao7 "
   ]
  },
  {
   "cell_type": "markdown",
   "id": "c79ff0a5",
   "metadata": {},
   "source": [
    "### 1.4 - RANDOM FOREST"
   ]
  },
  {
   "cell_type": "markdown",
   "id": "dd786683",
   "metadata": {},
   "source": [
    "#### APRENDIZADO - MODELO RANDOM FOREST - HOLD-OUT"
   ]
  },
  {
   "cell_type": "code",
   "execution_count": 33,
   "id": "19b05d00",
   "metadata": {},
   "outputs": [
    {
     "data": {
      "text/plain": [
       "Random Forest \n",
       "\n",
       "679 samples\n",
       "  6 predictor\n",
       "  4 classes: 'bus', 'opel', 'saab', 'van' \n",
       "\n",
       "No pre-processing\n",
       "Resampling: Bootstrapped (25 reps) \n",
       "Summary of sample sizes: 679, 679, 679, 679, 679, 679, ... \n",
       "Resampling results across tuning parameters:\n",
       "\n",
       "  mtry  Accuracy   Kappa    \n",
       "  2     0.6921232  0.5892092\n",
       "  4     0.6870558  0.5824491\n",
       "  6     0.6838945  0.5781749\n",
       "\n",
       "Accuracy was used to select the optimal model using the largest value.\n",
       "The final value used for the model was mtry = 2."
      ]
     },
     "metadata": {},
     "output_type": "display_data"
    }
   ],
   "source": [
    "modelo_rf <- train(tipo ~ MaxLRa + ScVarmaxis + MaxLRect + DCirc + ScatRa + Elong, dados_treino, method = \"rf\")\n",
    "modelo_rf"
   ]
  },
  {
   "cell_type": "code",
   "execution_count": 34,
   "id": "5fef56cb",
   "metadata": {},
   "outputs": [],
   "source": [
    "previsao_rf <- predict(modelo_rf, dados_teste)"
   ]
  },
  {
   "cell_type": "markdown",
   "id": "2b4b7b42",
   "metadata": {},
   "source": [
    "#### MÉTRICAS - MODELO RANDOM FOREST - HOLD-OUT"
   ]
  },
  {
   "cell_type": "code",
   "execution_count": 35,
   "id": "4618c357",
   "metadata": {},
   "outputs": [
    {
     "data": {
      "text/plain": [
       "Confusion Matrix and Statistics\n",
       "\n",
       "          Reference\n",
       "Prediction bus opel saab van\n",
       "      bus   41    3    4   0\n",
       "      opel   1   19   15   0\n",
       "      saab   1   15   22   1\n",
       "      van    0    5    2  38\n",
       "\n",
       "Overall Statistics\n",
       "                                               \n",
       "               Accuracy : 0.7186               \n",
       "                 95% CI : (0.6439, 0.7853)     \n",
       "    No Information Rate : 0.2575               \n",
       "    P-Value [Acc > NIR] : < 0.00000000000000022\n",
       "                                               \n",
       "                  Kappa : 0.6249               \n",
       "                                               \n",
       " Mcnemar's Test P-Value : NA                   \n",
       "\n",
       "Statistics by Class:\n",
       "\n",
       "                     Class: bus Class: opel Class: saab Class: van\n",
       "Sensitivity              0.9535      0.4524      0.5116     0.9744\n",
       "Specificity              0.9435      0.8720      0.8629     0.9453\n",
       "Pos Pred Value           0.8542      0.5429      0.5641     0.8444\n",
       "Neg Pred Value           0.9832      0.8258      0.8359     0.9918\n",
       "Prevalence               0.2575      0.2515      0.2575     0.2335\n",
       "Detection Rate           0.2455      0.1138      0.1317     0.2275\n",
       "Detection Prevalence     0.2874      0.2096      0.2335     0.2695\n",
       "Balanced Accuracy        0.9485      0.6622      0.6873     0.9598"
      ]
     },
     "metadata": {},
     "output_type": "display_data"
    }
   ],
   "source": [
    "# MATRIZ DE CONFUSÃO\n",
    "matriz_confusao8 <- confusionMatrix(previsao_rf, dados_teste$tipo)\n",
    "matriz_confusao8"
   ]
  },
  {
   "cell_type": "markdown",
   "id": "07e486f8",
   "metadata": {},
   "source": [
    "#### APRENDIZADO - MODELO RANDOM FOREST - CROSS VALIDATION"
   ]
  },
  {
   "cell_type": "code",
   "execution_count": 36,
   "id": "05f31f63",
   "metadata": {},
   "outputs": [
    {
     "data": {
      "text/plain": [
       "Random Forest \n",
       "\n",
       "679 samples\n",
       "  6 predictor\n",
       "  4 classes: 'bus', 'opel', 'saab', 'van' \n",
       "\n",
       "No pre-processing\n",
       "Resampling: Bootstrapped (25 reps) \n",
       "Summary of sample sizes: 679, 679, 679, 679, 679, 679, ... \n",
       "Resampling results across tuning parameters:\n",
       "\n",
       "  mtry  Accuracy   Kappa    \n",
       "  2     0.6986922  0.5979512\n",
       "  4     0.6944076  0.5921705\n",
       "  6     0.6910297  0.5877064\n",
       "\n",
       "Accuracy was used to select the optimal model using the largest value.\n",
       "The final value used for the model was mtry = 2."
      ]
     },
     "metadata": {},
     "output_type": "display_data"
    }
   ],
   "source": [
    "crossvalidation3 <- trainControl(method = \"cv\", number = 8)\n",
    "modelo_rf_cv <- train(tipo ~ MaxLRa + ScVarmaxis + MaxLRect + DCirc + ScatRa + Elong, \n",
    "                      dados_treino, \n",
    "                      method = \"rf\",\n",
    "                      trainControl = crossvalidation3)\n",
    "modelo_rf_cv"
   ]
  },
  {
   "cell_type": "code",
   "execution_count": 37,
   "id": "5ee801e6",
   "metadata": {},
   "outputs": [],
   "source": [
    "previsao_rf_cv <- predict(modelo_rf_cv, dados_teste)"
   ]
  },
  {
   "cell_type": "markdown",
   "id": "8a0c6a60",
   "metadata": {},
   "source": [
    "#### MÉTRICAS - MODELO RANDOM FOREST - CROSS VALIDATION"
   ]
  },
  {
   "cell_type": "code",
   "execution_count": 38,
   "id": "c0befb90",
   "metadata": {},
   "outputs": [
    {
     "data": {
      "text/plain": [
       "Confusion Matrix and Statistics\n",
       "\n",
       "          Reference\n",
       "Prediction bus opel saab van\n",
       "      bus   41    3    4   0\n",
       "      opel   1   18   15   0\n",
       "      saab   1   16   22   1\n",
       "      van    0    5    2  38\n",
       "\n",
       "Overall Statistics\n",
       "                                               \n",
       "               Accuracy : 0.7126               \n",
       "                 95% CI : (0.6376, 0.7799)     \n",
       "    No Information Rate : 0.2575               \n",
       "    P-Value [Acc > NIR] : < 0.00000000000000022\n",
       "                                               \n",
       "                  Kappa : 0.6169               \n",
       "                                               \n",
       " Mcnemar's Test P-Value : NA                   \n",
       "\n",
       "Statistics by Class:\n",
       "\n",
       "                     Class: bus Class: opel Class: saab Class: van\n",
       "Sensitivity              0.9535      0.4286      0.5116     0.9744\n",
       "Specificity              0.9435      0.8720      0.8548     0.9453\n",
       "Pos Pred Value           0.8542      0.5294      0.5500     0.8444\n",
       "Neg Pred Value           0.9832      0.8195      0.8346     0.9918\n",
       "Prevalence               0.2575      0.2515      0.2575     0.2335\n",
       "Detection Rate           0.2455      0.1078      0.1317     0.2275\n",
       "Detection Prevalence     0.2874      0.2036      0.2395     0.2695\n",
       "Balanced Accuracy        0.9485      0.6503      0.6832     0.9598"
      ]
     },
     "metadata": {},
     "output_type": "display_data"
    }
   ],
   "source": [
    "# MATRIZ DE CONFUSÃO\n",
    "matriz_confusao9 <- confusionMatrix(previsao_rf_cv, dados_teste$tipo)\n",
    "matriz_confusao9"
   ]
  },
  {
   "cell_type": "markdown",
   "id": "5fb14564",
   "metadata": {},
   "source": [
    "#### APRENDIZADO - MODELO RANDOM FOREST - CROSS VALIDATION E TUNEGRID"
   ]
  },
  {
   "cell_type": "code",
   "execution_count": 39,
   "id": "a97ac037",
   "metadata": {},
   "outputs": [
    {
     "data": {
      "text/plain": [
       "Random Forest \n",
       "\n",
       "679 samples\n",
       "  6 predictor\n",
       "  4 classes: 'bus', 'opel', 'saab', 'van' \n",
       "\n",
       "No pre-processing\n",
       "Resampling: Bootstrapped (25 reps) \n",
       "Summary of sample sizes: 679, 679, 679, 679, 679, 679, ... \n",
       "Resampling results across tuning parameters:\n",
       "\n",
       "  mtry  Accuracy   Kappa    \n",
       "  2     0.6964600  0.5950245\n",
       "  4     0.6890600  0.5851823\n",
       "  7     0.6859066  0.5810024\n",
       "  9     0.6881607  0.5840013\n",
       "\n",
       "Accuracy was used to select the optimal model using the largest value.\n",
       "The final value used for the model was mtry = 2."
      ]
     },
     "metadata": {},
     "output_type": "display_data"
    }
   ],
   "source": [
    "tunegrid3 <- expand.grid(mtry = c(2, 4, 7, 9))\n",
    "modelo_rf_best <- train(tipo ~ MaxLRa + ScVarmaxis + MaxLRect + DCirc + ScatRa + Elong, \n",
    "                        dados_treino, \n",
    "                        method = \"rf\", \n",
    "                        trainControl = crossvalidation3, \n",
    "                        tuneGrid = tunegrid3)\n",
    "modelo_rf_best"
   ]
  },
  {
   "cell_type": "code",
   "execution_count": 40,
   "id": "38041c9c",
   "metadata": {},
   "outputs": [],
   "source": [
    "previsao_rf_best <- predict(modelo_rf_best, dados_teste)"
   ]
  },
  {
   "cell_type": "markdown",
   "id": "8ac096d4",
   "metadata": {},
   "source": [
    "#### MÉTRICAS - MODELO RANDOM FOREST - CROSS VALIDATION E TUNEGRID"
   ]
  },
  {
   "cell_type": "code",
   "execution_count": 41,
   "id": "7c4a718b",
   "metadata": {},
   "outputs": [
    {
     "data": {
      "text/plain": [
       "Confusion Matrix and Statistics\n",
       "\n",
       "          Reference\n",
       "Prediction bus opel saab van\n",
       "      bus   41    3    5   0\n",
       "      opel   1   19   15   0\n",
       "      saab   1   15   21   1\n",
       "      van    0    5    2  38\n",
       "\n",
       "Overall Statistics\n",
       "                                               \n",
       "               Accuracy : 0.7126               \n",
       "                 95% CI : (0.6376, 0.7799)     \n",
       "    No Information Rate : 0.2575               \n",
       "    P-Value [Acc > NIR] : < 0.00000000000000022\n",
       "                                               \n",
       "                  Kappa : 0.6169               \n",
       "                                               \n",
       " Mcnemar's Test P-Value : NA                   \n",
       "\n",
       "Statistics by Class:\n",
       "\n",
       "                     Class: bus Class: opel Class: saab Class: van\n",
       "Sensitivity              0.9535      0.4524      0.4884     0.9744\n",
       "Specificity              0.9355      0.8720      0.8629     0.9453\n",
       "Pos Pred Value           0.8367      0.5429      0.5526     0.8444\n",
       "Neg Pred Value           0.9831      0.8258      0.8295     0.9918\n",
       "Prevalence               0.2575      0.2515      0.2575     0.2335\n",
       "Detection Rate           0.2455      0.1138      0.1257     0.2275\n",
       "Detection Prevalence     0.2934      0.2096      0.2275     0.2695\n",
       "Balanced Accuracy        0.9445      0.6622      0.6756     0.9598"
      ]
     },
     "metadata": {},
     "output_type": "display_data"
    }
   ],
   "source": [
    "# MATRIZ DE CONFUSÃO\n",
    "matriz_confusao10 <- confusionMatrix(previsao_rf_best, dados_teste$tipo)\n",
    "matriz_confusao10"
   ]
  }
 ],
 "metadata": {
  "kernelspec": {
   "display_name": "R",
   "language": "R",
   "name": "ir"
  },
  "language_info": {
   "codemirror_mode": "r",
   "file_extension": ".r",
   "mimetype": "text/x-r-source",
   "name": "R",
   "pygments_lexer": "r",
   "version": "3.6.1"
  }
 },
 "nbformat": 4,
 "nbformat_minor": 5
}
