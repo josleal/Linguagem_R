{
 "cells": [
  {
   "cell_type": "markdown",
   "id": "39cc47b2",
   "metadata": {},
   "source": [
    "![<caption>](UFPR.PNG)\n",
    "    \n",
    "    \n",
    "IAA007 – Aprendizado de Máquina e Laboratório de IA    \n",
    "**Prof. Dr. Jaime Wojciechowski**\n",
    "    \n",
    "Josué Leal Evangelista"
   ]
  },
  {
   "cell_type": "markdown",
   "id": "983be15b",
   "metadata": {},
   "source": [
    "### REGRESSÃO"
   ]
  },
  {
   "cell_type": "markdown",
   "id": "b706f0de",
   "metadata": {},
   "source": [
    "#### DEFININDO DIRETÓRIO DE TRABALHO"
   ]
  },
  {
   "cell_type": "code",
   "execution_count": 3,
   "id": "8fc2c5a4",
   "metadata": {},
   "outputs": [],
   "source": [
    "# DESATIVAR MENSAGENS DE WARNINGS (warn = -1) E ATIVAR (warn = 0)\n",
    "options(warn = -1)"
   ]
  },
  {
   "cell_type": "code",
   "execution_count": 4,
   "id": "ced672c6",
   "metadata": {},
   "outputs": [
    {
     "data": {
      "text/html": [
       "'C:/IAAUFPR/Aprendizado_de_Maquina/Datasets'"
      ],
      "text/latex": [
       "'C:/IAAUFPR/Aprendizado\\_de\\_Maquina/Datasets'"
      ],
      "text/markdown": [
       "'C:/IAAUFPR/Aprendizado_de_Maquina/Datasets'"
      ],
      "text/plain": [
       "[1] \"C:/IAAUFPR/Aprendizado_de_Maquina/Datasets\""
      ]
     },
     "metadata": {},
     "output_type": "display_data"
    }
   ],
   "source": [
    "setwd(\"C:/IAAUFPR/Aprendizado_de_Maquina/Datasets\")\n",
    "getwd()"
   ]
  },
  {
   "cell_type": "markdown",
   "id": "85bdab9c",
   "metadata": {},
   "source": [
    "#### CARREGANDO BIBLIOTECAS"
   ]
  },
  {
   "cell_type": "code",
   "execution_count": 35,
   "id": "713fbfd4",
   "metadata": {},
   "outputs": [],
   "source": [
    "suppressPackageStartupMessages({\n",
    "library(caret)\n",
    "library(e1071)\n",
    "library(data.table)\n",
    "library(dplyr)\n",
    "library(ggplot2)\n",
    "library(cowplot)\n",
    "library(tidyr)\n",
    "library(randomForest)\n",
    "})"
   ]
  },
  {
   "cell_type": "markdown",
   "id": "066531c8",
   "metadata": {},
   "source": [
    "### 1 - REGRESSÃO "
   ]
  },
  {
   "cell_type": "markdown",
   "id": "62571942",
   "metadata": {},
   "source": [
    "#### 1.1 - ADMISSÃO"
   ]
  },
  {
   "cell_type": "markdown",
   "id": "3d53a266",
   "metadata": {},
   "source": [
    "**Dataset Admissão**\n",
    "\n",
    "Variáveis:\n",
    "\n",
    "Conjunto de dados de admissão na pós-graduação."
   ]
  },
  {
   "cell_type": "code",
   "execution_count": 6,
   "id": "b70d9e86",
   "metadata": {},
   "outputs": [],
   "source": [
    "# CARREGANDO O DATASET ADIMISSÃO\n",
    "dados_admissao <- fread(\"Material 02 - 8 – R - Admissao - Dados.csv\")\n",
    "df_admissao <- as.data.frame(dados_admissao)"
   ]
  },
  {
   "cell_type": "code",
   "execution_count": 7,
   "id": "5a334ef6",
   "metadata": {},
   "outputs": [
    {
     "data": {
      "text/html": [
       "<table>\n",
       "<thead><tr><th scope=col>Serial No.</th><th scope=col>GRE Score</th><th scope=col>TOEFL Score</th><th scope=col>University Rating</th><th scope=col>SOP</th><th scope=col>LOR</th><th scope=col>CGPA</th><th scope=col>Research</th><th scope=col>ChanceOfAdmit</th></tr></thead>\n",
       "<tbody>\n",
       "\t<tr><td>1   </td><td>337 </td><td>118 </td><td>4   </td><td>4.5 </td><td>4.5 </td><td>9.65</td><td>1   </td><td>0.92</td></tr>\n",
       "\t<tr><td>2   </td><td>324 </td><td>107 </td><td>4   </td><td>4.0 </td><td>4.5 </td><td>8.87</td><td>1   </td><td>0.76</td></tr>\n",
       "\t<tr><td>3   </td><td>316 </td><td>104 </td><td>3   </td><td>3.0 </td><td>3.5 </td><td>8.00</td><td>1   </td><td>0.72</td></tr>\n",
       "\t<tr><td>4   </td><td>322 </td><td>110 </td><td>3   </td><td>3.5 </td><td>2.5 </td><td>8.67</td><td>1   </td><td>0.80</td></tr>\n",
       "\t<tr><td>5   </td><td>314 </td><td>103 </td><td>2   </td><td>2.0 </td><td>3.0 </td><td>8.21</td><td>0   </td><td>0.65</td></tr>\n",
       "</tbody>\n",
       "</table>\n"
      ],
      "text/latex": [
       "\\begin{tabular}{r|lllllllll}\n",
       " Serial No. & GRE Score & TOEFL Score & University Rating & SOP & LOR & CGPA & Research & ChanceOfAdmit\\\\\n",
       "\\hline\n",
       "\t 1    & 337  & 118  & 4    & 4.5  & 4.5  & 9.65 & 1    & 0.92\\\\\n",
       "\t 2    & 324  & 107  & 4    & 4.0  & 4.5  & 8.87 & 1    & 0.76\\\\\n",
       "\t 3    & 316  & 104  & 3    & 3.0  & 3.5  & 8.00 & 1    & 0.72\\\\\n",
       "\t 4    & 322  & 110  & 3    & 3.5  & 2.5  & 8.67 & 1    & 0.80\\\\\n",
       "\t 5    & 314  & 103  & 2    & 2.0  & 3.0  & 8.21 & 0    & 0.65\\\\\n",
       "\\end{tabular}\n"
      ],
      "text/markdown": [
       "\n",
       "| Serial No. | GRE Score | TOEFL Score | University Rating | SOP | LOR | CGPA | Research | ChanceOfAdmit |\n",
       "|---|---|---|---|---|---|---|---|---|\n",
       "| 1    | 337  | 118  | 4    | 4.5  | 4.5  | 9.65 | 1    | 0.92 |\n",
       "| 2    | 324  | 107  | 4    | 4.0  | 4.5  | 8.87 | 1    | 0.76 |\n",
       "| 3    | 316  | 104  | 3    | 3.0  | 3.5  | 8.00 | 1    | 0.72 |\n",
       "| 4    | 322  | 110  | 3    | 3.5  | 2.5  | 8.67 | 1    | 0.80 |\n",
       "| 5    | 314  | 103  | 2    | 2.0  | 3.0  | 8.21 | 0    | 0.65 |\n",
       "\n"
      ],
      "text/plain": [
       "  Serial No. GRE Score TOEFL Score University Rating SOP LOR CGPA Research\n",
       "1 1          337       118         4                 4.5 4.5 9.65 1       \n",
       "2 2          324       107         4                 4.0 4.5 8.87 1       \n",
       "3 3          316       104         3                 3.0 3.5 8.00 1       \n",
       "4 4          322       110         3                 3.5 2.5 8.67 1       \n",
       "5 5          314       103         2                 2.0 3.0 8.21 0       \n",
       "  ChanceOfAdmit\n",
       "1 0.92         \n",
       "2 0.76         \n",
       "3 0.72         \n",
       "4 0.80         \n",
       "5 0.65         "
      ]
     },
     "metadata": {},
     "output_type": "display_data"
    }
   ],
   "source": [
    "head(df_admissao, 5)"
   ]
  },
  {
   "cell_type": "code",
   "execution_count": 8,
   "id": "4ce953b8",
   "metadata": {},
   "outputs": [
    {
     "data": {
      "text/html": [
       "FALSE"
      ],
      "text/latex": [
       "FALSE"
      ],
      "text/markdown": [
       "FALSE"
      ],
      "text/plain": [
       "[1] FALSE"
      ]
     },
     "metadata": {},
     "output_type": "display_data"
    }
   ],
   "source": [
    "# EXISTE VALORES NA?\n",
    "any(is.na(df_admissao))"
   ]
  },
  {
   "cell_type": "code",
   "execution_count": 9,
   "id": "d2696a6b",
   "metadata": {},
   "outputs": [
    {
     "data": {
      "text/html": [
       "FALSE"
      ],
      "text/latex": [
       "FALSE"
      ],
      "text/markdown": [
       "FALSE"
      ],
      "text/plain": [
       "[1] FALSE"
      ]
     },
     "metadata": {},
     "output_type": "display_data"
    }
   ],
   "source": [
    "# EXISTE VALORES NULL?\n",
    "any(is.null(df_admissao))"
   ]
  },
  {
   "cell_type": "code",
   "execution_count": 10,
   "id": "dcde98b4",
   "metadata": {},
   "outputs": [],
   "source": [
    "# FILTRO PARA RETIRAR A COLUNA Serial No.\n",
    "df_admissao <- df_admissao[, c(2:9)]"
   ]
  },
  {
   "cell_type": "code",
   "execution_count": 11,
   "id": "7d6739df",
   "metadata": {},
   "outputs": [],
   "source": [
    "# REMOVENDO O ESPAÇO DOS NOMES\n",
    "names(df_admissao) <- c(\"GRE_Score\",\"TOEFL_Score\",\"University_Rating\",\"SOP\",\"LOR\",\"CGPA\",\"Research\",\"ChanceOfAdmit\")"
   ]
  },
  {
   "cell_type": "code",
   "execution_count": 12,
   "id": "8ff34927",
   "metadata": {},
   "outputs": [],
   "source": [
    "df_admissao$University_Rating <- as.factor(df_admissao$University_Rating)\n",
    "df_admissao$Research <- as.factor(df_admissao$Research)"
   ]
  },
  {
   "cell_type": "code",
   "execution_count": 13,
   "id": "89fa5af2",
   "metadata": {},
   "outputs": [],
   "source": [
    "set.seed(1971)"
   ]
  },
  {
   "cell_type": "code",
   "execution_count": 14,
   "id": "7c2ff0e8",
   "metadata": {},
   "outputs": [],
   "source": [
    "# DIVIDINDO DADOS TREINO E TESTE 80% e 20%\n",
    "indices <- createDataPartition(df_admissao$ChanceOfAdmit, p = 0.8, list = FALSE)\n",
    "dados_treino <- df_admissao[indices,]\n",
    "dados_teste <- df_admissao[-indices,]"
   ]
  },
  {
   "cell_type": "code",
   "execution_count": 15,
   "id": "d59aae6c",
   "metadata": {},
   "outputs": [
    {
     "name": "stdout",
     "output_type": "stream",
     "text": [
      "'data.frame':\t402 obs. of  8 variables:\n",
      " $ GRE_Score        : int  337 324 316 322 314 330 321 308 302 327 ...\n",
      " $ TOEFL_Score      : int  118 107 104 110 103 115 109 101 102 111 ...\n",
      " $ University_Rating: Factor w/ 5 levels \"1\",\"2\",\"3\",\"4\",..: 4 4 3 3 2 5 3 2 1 4 ...\n",
      " $ SOP              : num  4.5 4 3 3.5 2 4.5 3 3 2 4 ...\n",
      " $ LOR              : num  4.5 4.5 3.5 2.5 3 3 4 4 1.5 4.5 ...\n",
      " $ CGPA             : num  9.65 8.87 8 8.67 8.21 9.34 8.2 7.9 8 9 ...\n",
      " $ Research         : Factor w/ 2 levels \"0\",\"1\": 2 2 2 2 1 2 2 1 1 2 ...\n",
      " $ ChanceOfAdmit    : num  0.92 0.76 0.72 0.8 0.65 0.9 0.75 0.68 0.5 0.84 ...\n",
      "'data.frame':\t98 obs. of  8 variables:\n",
      " $ GRE_Score        : int  323 325 319 300 338 331 320 299 300 332 ...\n",
      " $ TOEFL_Score      : int  108 106 106 97 118 112 110 106 105 117 ...\n",
      " $ University_Rating: Factor w/ 5 levels \"1\",\"2\",\"3\",\"4\",..: 3 3 3 2 4 5 5 2 1 4 ...\n",
      " $ SOP              : num  3.5 3.5 4 3 3 4 5 4 1 4.5 ...\n",
      " $ LOR              : num  3 4 3 3 4.5 5 5 4 2 4 ...\n",
      " $ CGPA             : num  8.6 8.4 8 8.1 9.4 9.8 9.2 8.4 7.8 9.1 ...\n",
      " $ Research         : Factor w/ 2 levels \"0\",\"1\": 1 2 2 2 2 2 2 1 1 1 ...\n",
      " $ ChanceOfAdmit    : num  0.45 0.52 0.65 0.65 0.91 0.94 0.88 0.64 0.58 0.87 ...\n"
     ]
    }
   ],
   "source": [
    "str(dados_treino)\n",
    "str(dados_teste)"
   ]
  },
  {
   "cell_type": "code",
   "execution_count": 16,
   "id": "d78cea0f",
   "metadata": {},
   "outputs": [],
   "source": [
    "# NORMALIZAÇÃO \n",
    "# method = c(\"center\",\"scale\") -> Padronização fórmula do score z\n",
    "# method = c(\"range\") -> Normalização fórmula do min-max\n",
    "\n",
    "# TREINO\n",
    "transforma1  <- preProcess(dados_treino[,c(1:2, 4:6)], method = c(\"range\"))\n",
    "dados_treino_normalizado <- predict(transforma1, dados_treino)\n",
    "\n",
    "# TESTE\n",
    "transforma2  <- preProcess(dados_teste[,c(1:2, 4:6)], method = c(\"range\"))\n",
    "dados_teste_normalizado <- predict(transforma2, dados_teste)"
   ]
  },
  {
   "cell_type": "code",
   "execution_count": 17,
   "id": "ec20cf33",
   "metadata": {},
   "outputs": [
    {
     "name": "stdout",
     "output_type": "stream",
     "text": [
      "Rows: 402\n",
      "Columns: 8\n",
      "$ GRE_Score         <dbl> 0.94, 0.68, 0.52, 0.64, 0.48, 0.80, 0.62, 0.36, 0.24~\n",
      "$ TOEFL_Score       <dbl> 0.92857143, 0.53571429, 0.42857143, 0.64285714, 0.39~\n",
      "$ University_Rating <fct> 4, 4, 3, 3, 2, 5, 3, 2, 1, 4, 4, 3, 3, 3, 3, 3, 3, 3~\n",
      "$ SOP               <dbl> 0.875, 0.750, 0.500, 0.625, 0.250, 0.875, 0.500, 0.5~\n",
      "$ LOR               <dbl> 0.875, 0.875, 0.625, 0.375, 0.500, 0.500, 0.750, 0.7~\n",
      "$ CGPA              <dbl> 0.9134615, 0.6634615, 0.3846154, 0.5993590, 0.451923~\n",
      "$ Research          <fct> 1, 1, 1, 1, 0, 1, 1, 0, 0, 1, 1, 1, 1, 0, 0, 0, 0, 1~\n",
      "$ ChanceOfAdmit     <dbl> 0.92, 0.76, 0.72, 0.80, 0.65, 0.90, 0.75, 0.68, 0.50~\n",
      "Rows: 98\n",
      "Columns: 8\n",
      "$ GRE_Score         <dbl> 0.63829787, 0.68085106, 0.55319149, 0.14893617, 0.95~\n",
      "$ TOEFL_Score       <dbl> 0.52, 0.44, 0.44, 0.08, 0.92, 0.68, 0.60, 0.44, 0.40~\n",
      "$ University_Rating <fct> 3, 3, 3, 2, 4, 5, 5, 2, 1, 4, 5, 5, 4, 3, 2, 4, 4, 5~\n",
      "$ SOP               <dbl> 0.625, 0.625, 0.750, 0.500, 0.500, 0.750, 1.000, 0.7~\n",
      "$ LOR               <dbl> 0.4285714, 0.7142857, 0.4285714, 0.4285714, 0.857142~\n",
      "$ CGPA              <dbl> 0.51481481, 0.44074074, 0.29259259, 0.32962963, 0.81~\n",
      "$ Research          <fct> 0, 1, 1, 1, 1, 1, 1, 0, 0, 0, 1, 1, 1, 0, 1, 0, 1, 1~\n",
      "$ ChanceOfAdmit     <dbl> 0.45, 0.52, 0.65, 0.65, 0.91, 0.94, 0.88, 0.64, 0.58~\n"
     ]
    }
   ],
   "source": [
    "glimpse(dados_treino_normalizado)\n",
    "glimpse(dados_teste_normalizado)"
   ]
  },
  {
   "cell_type": "markdown",
   "id": "df68caba",
   "metadata": {},
   "source": [
    "### 1.1 - REDES NEURAIS ARTIFICIAIS - RNA"
   ]
  },
  {
   "cell_type": "markdown",
   "id": "6703b6ad",
   "metadata": {},
   "source": [
    "#### APRENDIZADO - MODELO RNA - HOLD-OUT"
   ]
  },
  {
   "cell_type": "code",
   "execution_count": 18,
   "id": "760be3be",
   "metadata": {},
   "outputs": [
    {
     "data": {
      "text/plain": [
       "Neural Network \n",
       "\n",
       "402 samples\n",
       "  7 predictor\n",
       "\n",
       "No pre-processing\n",
       "Resampling: Bootstrapped (25 reps) \n",
       "Summary of sample sizes: 402, 402, 402, 402, 402, 402, ... \n",
       "Resampling results across tuning parameters:\n",
       "\n",
       "  size  decay  RMSE        Rsquared   MAE       \n",
       "  1     0e+00  0.08036932  0.7389276  0.06108676\n",
       "  1     1e-04  0.07114262  0.7317347  0.05320575\n",
       "  1     1e-01  0.06066506  0.8123262  0.04437395\n",
       "  3     0e+00  0.06455637  0.7879741  0.04600406\n",
       "  3     1e-04  0.06355323  0.7943048  0.04568502\n",
       "  3     1e-01  0.06045839  0.8133557  0.04416097\n",
       "  5     0e+00  0.06817908  0.7677240  0.04897709\n",
       "  5     1e-04  0.06955978  0.7607019  0.04962323\n",
       "  5     1e-01  0.06049250  0.8131986  0.04421021\n",
       "\n",
       "RMSE was used to select the optimal model using the smallest value.\n",
       "The final values used for the model were size = 3 and decay = 0.1."
      ]
     },
     "metadata": {},
     "output_type": "display_data"
    }
   ],
   "source": [
    "modelo_rna <- train(ChanceOfAdmit ~ CGPA  + GRE_Score + TOEFL_Score + SOP + University_Rating + LOR + Research, \n",
    "                    dados_treino_normalizado, \n",
    "                    method = \"nnet\", \n",
    "                    linout = TRUE, \n",
    "                    trace = FALSE)\n",
    "modelo_rna"
   ]
  },
  {
   "cell_type": "code",
   "execution_count": 42,
   "id": "2f038d60",
   "metadata": {},
   "outputs": [],
   "source": [
    "previsao_rna <- predict(modelo_rna, dados_teste_normalizado)"
   ]
  },
  {
   "cell_type": "code",
   "execution_count": 43,
   "id": "7c8c63c3",
   "metadata": {},
   "outputs": [
    {
     "data": {
      "text/html": [
       "FALSE"
      ],
      "text/latex": [
       "FALSE"
      ],
      "text/markdown": [
       "FALSE"
      ],
      "text/plain": [
       "[1] FALSE"
      ]
     },
     "metadata": {},
     "output_type": "display_data"
    }
   ],
   "source": [
    "# EXISTE VALORES NEGATIVOS NA COLUNA DE PREVISÃO?\n",
    "any(previsao_rna < 0)"
   ]
  },
  {
   "cell_type": "code",
   "execution_count": 44,
   "id": "b568ae71",
   "metadata": {},
   "outputs": [
    {
     "data": {
      "text/html": [
       "<table>\n",
       "<thead><tr><th></th><th scope=col>GRE_Score</th><th scope=col>TOEFL_Score</th><th scope=col>University_Rating</th><th scope=col>SOP</th><th scope=col>LOR</th><th scope=col>CGPA</th><th scope=col>Research</th><th scope=col>ChanceOfAdmit</th><th scope=col>previsao_rna</th><th scope=col>Residuo_Percentual</th></tr></thead>\n",
       "<tbody>\n",
       "\t<tr><th scope=row>10</th><td>0.6382979  </td><td>0.52       </td><td>3          </td><td>0.625      </td><td>0.4285714  </td><td>0.5148148  </td><td>0          </td><td>0.45       </td><td>0.6966482  </td><td>-54.8107011</td></tr>\n",
       "\t<tr><th scope=row>11</th><td>0.6808511  </td><td>0.44       </td><td>3          </td><td>0.625      </td><td>0.7142857  </td><td>0.4407407  </td><td>1          </td><td>0.52       </td><td>0.7135037  </td><td>-37.2122433</td></tr>\n",
       "\t<tr><th scope=row>18</th><td>0.5531915  </td><td>0.44       </td><td>3          </td><td>0.750      </td><td>0.4285714  </td><td>0.2925926  </td><td>1          </td><td>0.65       </td><td>0.6382520  </td><td>  1.8073875</td></tr>\n",
       "\t<tr><th scope=row>31</th><td>0.1489362  </td><td>0.08       </td><td>2          </td><td>0.500      </td><td>0.4285714  </td><td>0.3296296  </td><td>1          </td><td>0.65       </td><td>0.5395381  </td><td> 16.9941387</td></tr>\n",
       "\t<tr><th scope=row>33</th><td>0.9574468  </td><td>0.92       </td><td>4          </td><td>0.500      </td><td>0.8571429  </td><td>0.8111111  </td><td>1          </td><td>0.91       </td><td>0.9003243  </td><td>  1.0632690</td></tr>\n",
       "\t<tr><th scope=row>35</th><td>0.8085106  </td><td>0.68       </td><td>5          </td><td>0.750      </td><td>1.0000000  </td><td>0.9592593  </td><td>1          </td><td>0.94       </td><td>0.9367242  </td><td>  0.3484899</td></tr>\n",
       "\t<tr><th scope=row>36</th><td>0.5744681  </td><td>0.60       </td><td>5          </td><td>1.000      </td><td>1.0000000  </td><td>0.7370370  </td><td>1          </td><td>0.88       </td><td>0.8545421  </td><td>  2.8929443</td></tr>\n",
       "\t<tr><th scope=row>37</th><td>0.1276596  </td><td>0.44       </td><td>2          </td><td>0.750      </td><td>0.7142857  </td><td>0.4407407  </td><td>0          </td><td>0.64       </td><td>0.6147539  </td><td>  3.9447008</td></tr>\n",
       "\t<tr><th scope=row>38</th><td>0.1489362  </td><td>0.40       </td><td>1          </td><td>0.000      </td><td>0.1428571  </td><td>0.2185185  </td><td>0          </td><td>0.58       </td><td>0.5009168  </td><td> 13.6350323</td></tr>\n",
       "\t<tr><th scope=row>44</th><td>0.8297872  </td><td>0.88       </td><td>4          </td><td>0.875      </td><td>0.7142857  </td><td>0.7000000  </td><td>0          </td><td>0.87       </td><td>0.8338607  </td><td>  4.1539395</td></tr>\n",
       "</tbody>\n",
       "</table>\n"
      ],
      "text/latex": [
       "\\begin{tabular}{r|llllllllll}\n",
       "  & GRE\\_Score & TOEFL\\_Score & University\\_Rating & SOP & LOR & CGPA & Research & ChanceOfAdmit & previsao\\_rna & Residuo\\_Percentual\\\\\n",
       "\\hline\n",
       "\t10 & 0.6382979   & 0.52        & 3           & 0.625       & 0.4285714   & 0.5148148   & 0           & 0.45        & 0.6966482   & -54.8107011\\\\\n",
       "\t11 & 0.6808511   & 0.44        & 3           & 0.625       & 0.7142857   & 0.4407407   & 1           & 0.52        & 0.7135037   & -37.2122433\\\\\n",
       "\t18 & 0.5531915   & 0.44        & 3           & 0.750       & 0.4285714   & 0.2925926   & 1           & 0.65        & 0.6382520   &   1.8073875\\\\\n",
       "\t31 & 0.1489362   & 0.08        & 2           & 0.500       & 0.4285714   & 0.3296296   & 1           & 0.65        & 0.5395381   &  16.9941387\\\\\n",
       "\t33 & 0.9574468   & 0.92        & 4           & 0.500       & 0.8571429   & 0.8111111   & 1           & 0.91        & 0.9003243   &   1.0632690\\\\\n",
       "\t35 & 0.8085106   & 0.68        & 5           & 0.750       & 1.0000000   & 0.9592593   & 1           & 0.94        & 0.9367242   &   0.3484899\\\\\n",
       "\t36 & 0.5744681   & 0.60        & 5           & 1.000       & 1.0000000   & 0.7370370   & 1           & 0.88        & 0.8545421   &   2.8929443\\\\\n",
       "\t37 & 0.1276596   & 0.44        & 2           & 0.750       & 0.7142857   & 0.4407407   & 0           & 0.64        & 0.6147539   &   3.9447008\\\\\n",
       "\t38 & 0.1489362   & 0.40        & 1           & 0.000       & 0.1428571   & 0.2185185   & 0           & 0.58        & 0.5009168   &  13.6350323\\\\\n",
       "\t44 & 0.8297872   & 0.88        & 4           & 0.875       & 0.7142857   & 0.7000000   & 0           & 0.87        & 0.8338607   &   4.1539395\\\\\n",
       "\\end{tabular}\n"
      ],
      "text/markdown": [
       "\n",
       "| <!--/--> | GRE_Score | TOEFL_Score | University_Rating | SOP | LOR | CGPA | Research | ChanceOfAdmit | previsao_rna | Residuo_Percentual |\n",
       "|---|---|---|---|---|---|---|---|---|---|---|\n",
       "| 10 | 0.6382979   | 0.52        | 3           | 0.625       | 0.4285714   | 0.5148148   | 0           | 0.45        | 0.6966482   | -54.8107011 |\n",
       "| 11 | 0.6808511   | 0.44        | 3           | 0.625       | 0.7142857   | 0.4407407   | 1           | 0.52        | 0.7135037   | -37.2122433 |\n",
       "| 18 | 0.5531915   | 0.44        | 3           | 0.750       | 0.4285714   | 0.2925926   | 1           | 0.65        | 0.6382520   |   1.8073875 |\n",
       "| 31 | 0.1489362   | 0.08        | 2           | 0.500       | 0.4285714   | 0.3296296   | 1           | 0.65        | 0.5395381   |  16.9941387 |\n",
       "| 33 | 0.9574468   | 0.92        | 4           | 0.500       | 0.8571429   | 0.8111111   | 1           | 0.91        | 0.9003243   |   1.0632690 |\n",
       "| 35 | 0.8085106   | 0.68        | 5           | 0.750       | 1.0000000   | 0.9592593   | 1           | 0.94        | 0.9367242   |   0.3484899 |\n",
       "| 36 | 0.5744681   | 0.60        | 5           | 1.000       | 1.0000000   | 0.7370370   | 1           | 0.88        | 0.8545421   |   2.8929443 |\n",
       "| 37 | 0.1276596   | 0.44        | 2           | 0.750       | 0.7142857   | 0.4407407   | 0           | 0.64        | 0.6147539   |   3.9447008 |\n",
       "| 38 | 0.1489362   | 0.40        | 1           | 0.000       | 0.1428571   | 0.2185185   | 0           | 0.58        | 0.5009168   |  13.6350323 |\n",
       "| 44 | 0.8297872   | 0.88        | 4           | 0.875       | 0.7142857   | 0.7000000   | 0           | 0.87        | 0.8338607   |   4.1539395 |\n",
       "\n"
      ],
      "text/plain": [
       "   GRE_Score TOEFL_Score University_Rating SOP   LOR       CGPA      Research\n",
       "10 0.6382979 0.52        3                 0.625 0.4285714 0.5148148 0       \n",
       "11 0.6808511 0.44        3                 0.625 0.7142857 0.4407407 1       \n",
       "18 0.5531915 0.44        3                 0.750 0.4285714 0.2925926 1       \n",
       "31 0.1489362 0.08        2                 0.500 0.4285714 0.3296296 1       \n",
       "33 0.9574468 0.92        4                 0.500 0.8571429 0.8111111 1       \n",
       "35 0.8085106 0.68        5                 0.750 1.0000000 0.9592593 1       \n",
       "36 0.5744681 0.60        5                 1.000 1.0000000 0.7370370 1       \n",
       "37 0.1276596 0.44        2                 0.750 0.7142857 0.4407407 0       \n",
       "38 0.1489362 0.40        1                 0.000 0.1428571 0.2185185 0       \n",
       "44 0.8297872 0.88        4                 0.875 0.7142857 0.7000000 0       \n",
       "   ChanceOfAdmit previsao_rna Residuo_Percentual\n",
       "10 0.45          0.6966482    -54.8107011       \n",
       "11 0.52          0.7135037    -37.2122433       \n",
       "18 0.65          0.6382520      1.8073875       \n",
       "31 0.65          0.5395381     16.9941387       \n",
       "33 0.91          0.9003243      1.0632690       \n",
       "35 0.94          0.9367242      0.3484899       \n",
       "36 0.88          0.8545421      2.8929443       \n",
       "37 0.64          0.6147539      3.9447008       \n",
       "38 0.58          0.5009168     13.6350323       \n",
       "44 0.87          0.8338607      4.1539395       "
      ]
     },
     "metadata": {},
     "output_type": "display_data"
    }
   ],
   "source": [
    "resultado_admissao1 <- cbind(dados_teste_normalizado, previsao_rna)\n",
    "resultado_admissao1 <- resultado_admissao1 %>%\n",
    "                   mutate(Residuo_Percentual = ((ChanceOfAdmit - previsao_rna)/ChanceOfAdmit)*100)\n",
    "\n",
    "head(resultado_admissao1, 10)"
   ]
  },
  {
   "cell_type": "code",
   "execution_count": 71,
   "id": "c0e6c9e5",
   "metadata": {},
   "outputs": [
    {
     "data": {
      "image/png": "[encoded data removed]",
      "text/plain": [
       "Plot with title \"Modelo RNA\""
      ]
     },
     "metadata": {},
     "output_type": "display_data"
    }
   ],
   "source": [
    "# GRÁFICO DE RESÍDUOS \n",
    "options(repr.plot.width = 4, repr.plot.height = 3.5)\n",
    "par(cex.main = 0.8, cex.lab = 0.8, cex.axis = 0.7)\n",
    "plot(resultado_admissao1$previsao_rna, resultado_admissao1$Residuo_Percentual, pch = 20, ylim = c(-60, 60),\n",
    "     main = \"Modelo RNA\", xlab = \"Previsto\", ylab = \"Resíduos (%)\")\n",
    "abline(h = 0)"
   ]
  },
  {
   "cell_type": "markdown",
   "id": "705dc433",
   "metadata": {},
   "source": [
    "#### MÉTRICAS - MODELO RNA - HOLD-OUT"
   ]
  },
  {
   "cell_type": "code",
   "execution_count": 53,
   "id": "4341fec6",
   "metadata": {},
   "outputs": [],
   "source": [
    "# FUNÇÃO DE MÉTRICAS\n",
    "metricas <- function(observado, previsto, num_observacoes, num_variaveis_independentes_modelo){\n",
    "    \n",
    "    R2 <- round(1 - (sum((observado - previsto)^2)/sum((observado - mean(observado))^2)), 4)\n",
    "    \n",
    "    syx <- round(sqrt((sum(((observado - previsto)^2))/(num_observacoes - num_variaveis_independentes_modelo))),4)\n",
    "    \n",
    "    numerador <- sum((observado - mean(observado))*(previsto - mean(previsto)))\n",
    "    denominador <- (sqrt((sum((observado - mean(observado))^2))))*(sqrt((sum((previsto - mean(previsto))^2))))               \n",
    "    pearson <- round(numerador/denominador, 4)\n",
    "    \n",
    "    RMSE <- round(sqrt(sum((observado - previsto)^2)/num_observacoes), 4)\n",
    "    \n",
    "    MAE <- round(sum(abs(observado - previsto))/num_observacoes, 4) \n",
    "    \n",
    "    return(cat(\"Resultados do teste do Modelo:\\n\\nR²      = \", \n",
    "               R2,\"\\nSyx     = \", syx,\"\\nPearson = \", pearson,\"\\nRMSE    = \", RMSE,\"\\nMAE     = \", MAE))\n",
    "}"
   ]
  },
  {
   "cell_type": "code",
   "execution_count": 56,
   "id": "dcf34569",
   "metadata": {},
   "outputs": [
    {
     "name": "stdout",
     "output_type": "stream",
     "text": [
      "Resultados do teste do Modelo:\n",
      "\n",
      "R²      =  0.7818 \n",
      "Syx     =  0.0706 \n",
      "Pearson =  0.9017 \n",
      "RMSE    =  0.0681 \n",
      "MAE     =  0.0485"
     ]
    }
   ],
   "source": [
    "metricas(resultado_admissao1$ChanceOfAdmit, resultado_admissao1$previsao_rna, nrow(dados_teste_normalizado), 7)"
   ]
  },
  {
   "cell_type": "markdown",
   "id": "29720ae3",
   "metadata": {},
   "source": [
    "#### APRENDIZADO - MODELO RNA - CROSS VALIDATION"
   ]
  },
  {
   "cell_type": "code",
   "execution_count": 60,
   "id": "b68328ed",
   "metadata": {},
   "outputs": [
    {
     "data": {
      "text/plain": [
       "Neural Network \n",
       "\n",
       "402 samples\n",
       "  7 predictor\n",
       "\n",
       "No pre-processing\n",
       "Resampling: Bootstrapped (25 reps) \n",
       "Summary of sample sizes: 402, 402, 402, 402, 402, 402, ... \n",
       "Resampling results across tuning parameters:\n",
       "\n",
       "  size  decay  RMSE        Rsquared   MAE       \n",
       "  1     0e+00  0.08633853  0.6643690  0.06553259\n",
       "  1     1e-04  0.06781196  0.7616692  0.05031082\n",
       "  1     1e-01  0.06183714  0.8060368  0.04538265\n",
       "  3     0e+00  0.07359776  0.7054022  0.05465723\n",
       "  3     1e-04  0.06415407  0.7936417  0.04609854\n",
       "  3     1e-01  0.06166002  0.8070659  0.04522022\n",
       "  5     0e+00  0.06840958  0.7699091  0.04966604\n",
       "  5     1e-04  0.06796728  0.7707349  0.04938346\n",
       "  5     1e-01  0.06163058  0.8072226  0.04522787\n",
       "\n",
       "RMSE was used to select the optimal model using the smallest value.\n",
       "The final values used for the model were size = 5 and decay = 0.1."
      ]
     },
     "metadata": {},
     "output_type": "display_data"
    }
   ],
   "source": [
    "crossvalidation1 <- trainControl(method = \"cv\", number = 10)\n",
    "modelo_rna_cv <- train(ChanceOfAdmit ~ CGPA  + GRE_Score + TOEFL_Score + SOP + University_Rating + LOR + Research, \n",
    "                       dados_treino_normalizado, \n",
    "                       trainControl = crossvalidation1, \n",
    "                       method = \"nnet\", \n",
    "                       linout = TRUE, \n",
    "                       trace = FALSE)\n",
    "modelo_rna_cv"
   ]
  },
  {
   "cell_type": "code",
   "execution_count": 74,
   "id": "8855547b",
   "metadata": {},
   "outputs": [],
   "source": [
    "previsao_rna_cv <- predict(modelo_rna_cv, dados_teste_normalizado)"
   ]
  },
  {
   "cell_type": "code",
   "execution_count": 75,
   "id": "b097c21b",
   "metadata": {},
   "outputs": [
    {
     "data": {
      "text/html": [
       "FALSE"
      ],
      "text/latex": [
       "FALSE"
      ],
      "text/markdown": [
       "FALSE"
      ],
      "text/plain": [
       "[1] FALSE"
      ]
     },
     "metadata": {},
     "output_type": "display_data"
    }
   ],
   "source": [
    "# EXISTE VALORES NEGATIVOS NA COLUNA DE PREVISÃO?\n",
    "any(previsao_rna_cv < 0)"
   ]
  },
  {
   "cell_type": "code",
   "execution_count": 76,
   "id": "962b9200",
   "metadata": {},
   "outputs": [
    {
     "data": {
      "text/html": [
       "<table>\n",
       "<thead><tr><th></th><th scope=col>GRE_Score</th><th scope=col>TOEFL_Score</th><th scope=col>University_Rating</th><th scope=col>SOP</th><th scope=col>LOR</th><th scope=col>CGPA</th><th scope=col>Research</th><th scope=col>ChanceOfAdmit</th><th scope=col>previsao_rna_cv</th><th scope=col>Residuo_Percentual</th></tr></thead>\n",
       "<tbody>\n",
       "\t<tr><th scope=row>10</th><td>0.6382979  </td><td>0.52       </td><td>3          </td><td>0.625      </td><td>0.4285714  </td><td>0.5148148  </td><td>0          </td><td>0.45       </td><td>0.6975592  </td><td>-55.0131654</td></tr>\n",
       "\t<tr><th scope=row>11</th><td>0.6808511  </td><td>0.44       </td><td>3          </td><td>0.625      </td><td>0.7142857  </td><td>0.4407407  </td><td>1          </td><td>0.52       </td><td>0.7144954  </td><td>-37.4029576</td></tr>\n",
       "\t<tr><th scope=row>18</th><td>0.5531915  </td><td>0.44       </td><td>3          </td><td>0.750      </td><td>0.4285714  </td><td>0.2925926  </td><td>1          </td><td>0.65       </td><td>0.6392306  </td><td>  1.6568311</td></tr>\n",
       "\t<tr><th scope=row>31</th><td>0.1489362  </td><td>0.08       </td><td>2          </td><td>0.500      </td><td>0.4285714  </td><td>0.3296296  </td><td>1          </td><td>0.65       </td><td>0.5401861  </td><td> 16.8944533</td></tr>\n",
       "\t<tr><th scope=row>33</th><td>0.9574468  </td><td>0.92       </td><td>4          </td><td>0.500      </td><td>0.8571429  </td><td>0.8111111  </td><td>1          </td><td>0.91       </td><td>0.9019214  </td><td>  0.8877602</td></tr>\n",
       "\t<tr><th scope=row>35</th><td>0.8085106  </td><td>0.68       </td><td>5          </td><td>0.750      </td><td>1.0000000  </td><td>0.9592593  </td><td>1          </td><td>0.94       </td><td>0.9379480  </td><td>  0.2182962</td></tr>\n",
       "\t<tr><th scope=row>36</th><td>0.5744681  </td><td>0.60       </td><td>5          </td><td>1.000      </td><td>1.0000000  </td><td>0.7370370  </td><td>1          </td><td>0.88       </td><td>0.8554953  </td><td>  2.7846214</td></tr>\n",
       "\t<tr><th scope=row>37</th><td>0.1276596  </td><td>0.44       </td><td>2          </td><td>0.750      </td><td>0.7142857  </td><td>0.4407407  </td><td>0          </td><td>0.64       </td><td>0.6164034  </td><td>  3.6869687</td></tr>\n",
       "\t<tr><th scope=row>38</th><td>0.1489362  </td><td>0.40       </td><td>1          </td><td>0.000      </td><td>0.1428571  </td><td>0.2185185  </td><td>0          </td><td>0.58       </td><td>0.5004456  </td><td> 13.7162737</td></tr>\n",
       "\t<tr><th scope=row>44</th><td>0.8297872  </td><td>0.88       </td><td>4          </td><td>0.875      </td><td>0.7142857  </td><td>0.7000000  </td><td>0          </td><td>0.87       </td><td>0.8351144  </td><td>  4.0098358</td></tr>\n",
       "</tbody>\n",
       "</table>\n"
      ],
      "text/latex": [
       "\\begin{tabular}{r|llllllllll}\n",
       "  & GRE\\_Score & TOEFL\\_Score & University\\_Rating & SOP & LOR & CGPA & Research & ChanceOfAdmit & previsao\\_rna\\_cv & Residuo\\_Percentual\\\\\n",
       "\\hline\n",
       "\t10 & 0.6382979   & 0.52        & 3           & 0.625       & 0.4285714   & 0.5148148   & 0           & 0.45        & 0.6975592   & -55.0131654\\\\\n",
       "\t11 & 0.6808511   & 0.44        & 3           & 0.625       & 0.7142857   & 0.4407407   & 1           & 0.52        & 0.7144954   & -37.4029576\\\\\n",
       "\t18 & 0.5531915   & 0.44        & 3           & 0.750       & 0.4285714   & 0.2925926   & 1           & 0.65        & 0.6392306   &   1.6568311\\\\\n",
       "\t31 & 0.1489362   & 0.08        & 2           & 0.500       & 0.4285714   & 0.3296296   & 1           & 0.65        & 0.5401861   &  16.8944533\\\\\n",
       "\t33 & 0.9574468   & 0.92        & 4           & 0.500       & 0.8571429   & 0.8111111   & 1           & 0.91        & 0.9019214   &   0.8877602\\\\\n",
       "\t35 & 0.8085106   & 0.68        & 5           & 0.750       & 1.0000000   & 0.9592593   & 1           & 0.94        & 0.9379480   &   0.2182962\\\\\n",
       "\t36 & 0.5744681   & 0.60        & 5           & 1.000       & 1.0000000   & 0.7370370   & 1           & 0.88        & 0.8554953   &   2.7846214\\\\\n",
       "\t37 & 0.1276596   & 0.44        & 2           & 0.750       & 0.7142857   & 0.4407407   & 0           & 0.64        & 0.6164034   &   3.6869687\\\\\n",
       "\t38 & 0.1489362   & 0.40        & 1           & 0.000       & 0.1428571   & 0.2185185   & 0           & 0.58        & 0.5004456   &  13.7162737\\\\\n",
       "\t44 & 0.8297872   & 0.88        & 4           & 0.875       & 0.7142857   & 0.7000000   & 0           & 0.87        & 0.8351144   &   4.0098358\\\\\n",
       "\\end{tabular}\n"
      ],
      "text/markdown": [
       "\n",
       "| <!--/--> | GRE_Score | TOEFL_Score | University_Rating | SOP | LOR | CGPA | Research | ChanceOfAdmit | previsao_rna_cv | Residuo_Percentual |\n",
       "|---|---|---|---|---|---|---|---|---|---|---|\n",
       "| 10 | 0.6382979   | 0.52        | 3           | 0.625       | 0.4285714   | 0.5148148   | 0           | 0.45        | 0.6975592   | -55.0131654 |\n",
       "| 11 | 0.6808511   | 0.44        | 3           | 0.625       | 0.7142857   | 0.4407407   | 1           | 0.52        | 0.7144954   | -37.4029576 |\n",
       "| 18 | 0.5531915   | 0.44        | 3           | 0.750       | 0.4285714   | 0.2925926   | 1           | 0.65        | 0.6392306   |   1.6568311 |\n",
       "| 31 | 0.1489362   | 0.08        | 2           | 0.500       | 0.4285714   | 0.3296296   | 1           | 0.65        | 0.5401861   |  16.8944533 |\n",
       "| 33 | 0.9574468   | 0.92        | 4           | 0.500       | 0.8571429   | 0.8111111   | 1           | 0.91        | 0.9019214   |   0.8877602 |\n",
       "| 35 | 0.8085106   | 0.68        | 5           | 0.750       | 1.0000000   | 0.9592593   | 1           | 0.94        | 0.9379480   |   0.2182962 |\n",
       "| 36 | 0.5744681   | 0.60        | 5           | 1.000       | 1.0000000   | 0.7370370   | 1           | 0.88        | 0.8554953   |   2.7846214 |\n",
       "| 37 | 0.1276596   | 0.44        | 2           | 0.750       | 0.7142857   | 0.4407407   | 0           | 0.64        | 0.6164034   |   3.6869687 |\n",
       "| 38 | 0.1489362   | 0.40        | 1           | 0.000       | 0.1428571   | 0.2185185   | 0           | 0.58        | 0.5004456   |  13.7162737 |\n",
       "| 44 | 0.8297872   | 0.88        | 4           | 0.875       | 0.7142857   | 0.7000000   | 0           | 0.87        | 0.8351144   |   4.0098358 |\n",
       "\n"
      ],
      "text/plain": [
       "   GRE_Score TOEFL_Score University_Rating SOP   LOR       CGPA      Research\n",
       "10 0.6382979 0.52        3                 0.625 0.4285714 0.5148148 0       \n",
       "11 0.6808511 0.44        3                 0.625 0.7142857 0.4407407 1       \n",
       "18 0.5531915 0.44        3                 0.750 0.4285714 0.2925926 1       \n",
       "31 0.1489362 0.08        2                 0.500 0.4285714 0.3296296 1       \n",
       "33 0.9574468 0.92        4                 0.500 0.8571429 0.8111111 1       \n",
       "35 0.8085106 0.68        5                 0.750 1.0000000 0.9592593 1       \n",
       "36 0.5744681 0.60        5                 1.000 1.0000000 0.7370370 1       \n",
       "37 0.1276596 0.44        2                 0.750 0.7142857 0.4407407 0       \n",
       "38 0.1489362 0.40        1                 0.000 0.1428571 0.2185185 0       \n",
       "44 0.8297872 0.88        4                 0.875 0.7142857 0.7000000 0       \n",
       "   ChanceOfAdmit previsao_rna_cv Residuo_Percentual\n",
       "10 0.45          0.6975592       -55.0131654       \n",
       "11 0.52          0.7144954       -37.4029576       \n",
       "18 0.65          0.6392306         1.6568311       \n",
       "31 0.65          0.5401861        16.8944533       \n",
       "33 0.91          0.9019214         0.8877602       \n",
       "35 0.94          0.9379480         0.2182962       \n",
       "36 0.88          0.8554953         2.7846214       \n",
       "37 0.64          0.6164034         3.6869687       \n",
       "38 0.58          0.5004456        13.7162737       \n",
       "44 0.87          0.8351144         4.0098358       "
      ]
     },
     "metadata": {},
     "output_type": "display_data"
    }
   ],
   "source": [
    "resultado_admissao2 <- cbind(dados_teste_normalizado, previsao_rna_cv)\n",
    "resultado_admissao2 <- resultado_admissao2 %>%\n",
    "                   mutate(Residuo_Percentual = ((ChanceOfAdmit - previsao_rna_cv)/ChanceOfAdmit)*100)\n",
    "\n",
    "head(resultado_admissao2, 10)"
   ]
  },
  {
   "cell_type": "code",
   "execution_count": 80,
   "id": "dfc8e9f8",
   "metadata": {},
   "outputs": [
    {
     "data": {
      "image/png": "[encoded data removed]",
      "text/plain": [
       "Plot with title \"Modelo RNA - CV\""
      ]
     },
     "metadata": {},
     "output_type": "display_data"
    }
   ],
   "source": [
    "# GRÁFICO DE RESÍDUOS\n",
    "options(repr.plot.width = 4, repr.plot.height = 3.5)\n",
    "par(cex.main = 0.8, cex.lab = 0.8, cex.axis = 0.7)\n",
    "plot(resultado_admissao2$previsao_rna_cv, resultado_admissao2$Residuo_Percentual, pch = 20, ylim = c(-60, 60),\n",
    "     main = \"Modelo RNA - CV\", \n",
    "     xlab = \"Previsto\", \n",
    "     ylab = \"Resíduos (%)\")\n",
    "abline(h = 0)"
   ]
  },
  {
   "cell_type": "markdown",
   "id": "04c17681",
   "metadata": {},
   "source": [
    "#### MÉTRICAS - MODELO RNA - CROSSVALIDATION"
   ]
  },
  {
   "cell_type": "code",
   "execution_count": 78,
   "id": "8a4c2ef1",
   "metadata": {},
   "outputs": [
    {
     "name": "stdout",
     "output_type": "stream",
     "text": [
      "Resultados do teste do Modelo:\n",
      "\n",
      "R²      =  0.7828 \n",
      "Syx     =  0.0705 \n",
      "Pearson =  0.9016 \n",
      "RMSE    =  0.0679 \n",
      "MAE     =  0.0482"
     ]
    }
   ],
   "source": [
    "metricas(resultado_admissao2$ChanceOfAdmit, resultado_admissao2$previsao_rna_cv, nrow(dados_teste_normalizado), 7)"
   ]
  },
  {
   "cell_type": "markdown",
   "id": "c9e868c0",
   "metadata": {},
   "source": [
    "#### APRENDIZADO - MELHOR MODELO RNA - CROSS VALIDATION E TUNEGRID"
   ]
  },
  {
   "cell_type": "code",
   "execution_count": 83,
   "id": "4b6bee78",
   "metadata": {},
   "outputs": [
    {
     "data": {
      "text/plain": [
       "Neural Network \n",
       "\n",
       "402 samples\n",
       "  7 predictor\n",
       "\n",
       "No pre-processing\n",
       "Resampling: Bootstrapped (25 reps) \n",
       "Summary of sample sizes: 402, 402, 402, 402, 402, 402, ... \n",
       "Resampling results across tuning parameters:\n",
       "\n",
       "  size  decay  RMSE        Rsquared   MAE       \n",
       "   1    0.1    0.06059203  0.8109135  0.04436234\n",
       "   1    0.2    0.06152757  0.8069345  0.04534323\n",
       "   1    0.3    0.06277161  0.8019228  0.04671130\n",
       "   1    0.4    0.06398343  0.7969130  0.04788683\n",
       "   1    0.5    0.06555898  0.7905889  0.04950241\n",
       "   1    0.6    0.06693467  0.7850117  0.05080600\n",
       "   1    0.7    0.06849360  0.7787654  0.05226780\n",
       "   1    0.8    0.06964907  0.7738828  0.05328776\n",
       "   1    0.9    0.07130236  0.7673532  0.05479352\n",
       "   2    0.1    0.06045903  0.8116626  0.04422113\n",
       "   2    0.2    0.06132466  0.8078643  0.04512712\n",
       "   2    0.3    0.06228881  0.8036159  0.04609879\n",
       "   2    0.4    0.06348532  0.7984981  0.04734425\n",
       "   2    0.5    0.06459047  0.7939825  0.04843574\n",
       "   2    0.6    0.06577909  0.7893037  0.04960405\n",
       "   2    0.7    0.06691882  0.7846129  0.05071322\n",
       "   2    0.8    0.06816485  0.7799414  0.05190647\n",
       "   2    0.9    0.06965071  0.7736900  0.05319023\n",
       "   3    0.1    0.06039517  0.8120383  0.04416259\n",
       "   3    0.2    0.06115874  0.8084902  0.04496648\n",
       "   3    0.3    0.06208063  0.8044120  0.04586247\n",
       "   3    0.4    0.06307905  0.8001908  0.04689969\n",
       "   3    0.5    0.06432475  0.7948143  0.04809785\n",
       "   3    0.6    0.06537785  0.7905776  0.04908775\n",
       "   3    0.7    0.06638022  0.7865260  0.05007241\n",
       "   3    0.8    0.06769216  0.7808612  0.05126477\n",
       "   3    0.9    0.06878172  0.7766263  0.05229434\n",
       "   4    0.1    0.06039887  0.8120365  0.04417804\n",
       "   4    0.2    0.06113527  0.8086433  0.04493809\n",
       "   4    0.3    0.06203221  0.8045941  0.04581301\n",
       "   4    0.4    0.06300870  0.8003412  0.04676348\n",
       "   4    0.5    0.06407629  0.7957681  0.04779590\n",
       "   4    0.6    0.06514648  0.7912792  0.04881910\n",
       "   4    0.7    0.06629062  0.7866215  0.04990506\n",
       "   4    0.8    0.06729810  0.7825259  0.05087096\n",
       "   4    0.9    0.06837518  0.7783261  0.05188647\n",
       "   5    0.1    0.06039830  0.8120430  0.04419069\n",
       "   5    0.2    0.06112803  0.8086251  0.04492706\n",
       "   5    0.3    0.06201100  0.8045963  0.04579110\n",
       "   5    0.4    0.06295119  0.8004748  0.04670343\n",
       "   5    0.5    0.06400200  0.7960188  0.04768768\n",
       "   5    0.6    0.06501816  0.7916650  0.04866383\n",
       "   5    0.7    0.06603419  0.7874306  0.04962899\n",
       "   5    0.8    0.06709666  0.7831052  0.05063062\n",
       "   5    0.9    0.06823198  0.7786378  0.05168928\n",
       "   6    0.1    0.06041379  0.8119652  0.04421220\n",
       "   6    0.2    0.06112929  0.8085878  0.04493169\n",
       "   6    0.3    0.06200795  0.8045724  0.04578901\n",
       "   6    0.4    0.06292813  0.8004884  0.04666638\n",
       "   6    0.5    0.06388537  0.7963597  0.04757047\n",
       "   6    0.6    0.06495370  0.7918240  0.04857908\n",
       "   6    0.7    0.06596799  0.7877237  0.04953545\n",
       "   6    0.8    0.06697326  0.7835599  0.05047709\n",
       "   6    0.9    0.06807684  0.7791571  0.05152094\n",
       "   7    0.1    0.06041216  0.8119582  0.04422259\n",
       "   7    0.2    0.06112647  0.8086103  0.04492971\n",
       "   7    0.3    0.06197263  0.8046794  0.04575969\n",
       "   7    0.4    0.06289579  0.8005515  0.04663484\n",
       "   7    0.5    0.06387164  0.7962995  0.04754626\n",
       "   7    0.6    0.06486610  0.7921744  0.04847809\n",
       "   7    0.7    0.06589060  0.7878679  0.04944150\n",
       "   7    0.8    0.06693106  0.7836698  0.05041769\n",
       "   7    0.9    0.06798596  0.7793811  0.05140611\n",
       "   8    0.1    0.06041990  0.8119256  0.04424020\n",
       "   8    0.2    0.06112268  0.8085813  0.04493105\n",
       "   8    0.3    0.06196406  0.8046856  0.04574717\n",
       "   8    0.4    0.06287054  0.8006246  0.04660982\n",
       "   8    0.5    0.06380861  0.7965514  0.04747606\n",
       "   8    0.6    0.06477597  0.7924293  0.04838050\n",
       "   8    0.7    0.06579235  0.7882226  0.04933476\n",
       "   8    0.8    0.06681050  0.7840287  0.05028586\n",
       "   8    0.9    0.06788613  0.7797012  0.05129170\n",
       "   9    0.1    0.06042908  0.8118749  0.04425559\n",
       "   9    0.2    0.06111956  0.8085998  0.04492967\n",
       "   9    0.3    0.06194906  0.8047308  0.04573558\n",
       "   9    0.4    0.06284840  0.8006758  0.04658919\n",
       "   9    0.5    0.06379240  0.7965642  0.04745645\n",
       "   9    0.6    0.06477362  0.7924237  0.04836921\n",
       "   9    0.7    0.06578416  0.7882233  0.04930705\n",
       "   9    0.8    0.06676533  0.7841532  0.05023167\n",
       "   9    0.9    0.06775740  0.7801818  0.05115822\n",
       "  10    0.1    0.06043631  0.8118320  0.04426709\n",
       "  10    0.2    0.06112084  0.8085750  0.04493181\n",
       "  10    0.3    0.06194539  0.8047176  0.04573115\n",
       "  10    0.4    0.06283501  0.8007277  0.04657846\n",
       "  10    0.5    0.06376314  0.7966600  0.04742592\n",
       "  10    0.6    0.06473533  0.7925290  0.04832495\n",
       "  10    0.7    0.06569330  0.7885201  0.04922393\n",
       "  10    0.8    0.06670079  0.7843645  0.05015746\n",
       "  10    0.9    0.06771430  0.7802811  0.05110476\n",
       "\n",
       "RMSE was used to select the optimal model using the smallest value.\n",
       "The final values used for the model were size = 3 and decay = 0.1."
      ]
     },
     "metadata": {},
     "output_type": "display_data"
    }
   ],
   "source": [
    "tunegrid1 <- expand.grid(size = seq(from = 1, to = 10, by = 1), decay = seq(from = 0.1, to = 0.9, by = 0.1))\n",
    "modelo_rna_best <- train(ChanceOfAdmit ~ CGPA  + GRE_Score + TOEFL_Score + SOP + University_Rating + LOR + Research, \n",
    "                         dados_treino_normalizado, \n",
    "                         method = \"nnet\", \n",
    "                         trainControl = crossvalidation1,\n",
    "                         tuneGrid = tunegrid1, \n",
    "                         MaxNWts = 10000, \n",
    "                         maxit = 2000, \n",
    "                         linout = TRUE, \n",
    "                         trace = FALSE)\n",
    "modelo_rna_best"
   ]
  },
  {
   "cell_type": "code",
   "execution_count": 85,
   "id": "98822aa0",
   "metadata": {},
   "outputs": [],
   "source": [
    "previsao_rna_best <- predict(modelo_rna_best, dados_teste_normalizado)"
   ]
  },
  {
   "cell_type": "code",
   "execution_count": 89,
   "id": "b82807d9",
   "metadata": {},
   "outputs": [
    {
     "data": {
      "text/html": [
       "FALSE"
      ],
      "text/latex": [
       "FALSE"
      ],
      "text/markdown": [
       "FALSE"
      ],
      "text/plain": [
       "[1] FALSE"
      ]
     },
     "metadata": {},
     "output_type": "display_data"
    }
   ],
   "source": [
    "# EXISTE VALORES NEGATIVOS NA COLUNA DE PREVISÃO?\n",
    "any(previsao_rna_best < 0)"
   ]
  },
  {
   "cell_type": "code",
   "execution_count": 87,
   "id": "77e9801d",
   "metadata": {},
   "outputs": [
    {
     "data": {
      "text/html": [
       "<table>\n",
       "<thead><tr><th></th><th scope=col>GRE_Score</th><th scope=col>TOEFL_Score</th><th scope=col>University_Rating</th><th scope=col>SOP</th><th scope=col>LOR</th><th scope=col>CGPA</th><th scope=col>Research</th><th scope=col>ChanceOfAdmit</th><th scope=col>previsao_rna_best</th><th scope=col>Residuo_Percentual</th></tr></thead>\n",
       "<tbody>\n",
       "\t<tr><th scope=row>10</th><td>0.6382979 </td><td>0.52      </td><td>3         </td><td>0.625     </td><td>0.4285714 </td><td>0.5148148 </td><td>0         </td><td>0.45      </td><td>0.6966491 </td><td>-54.810908</td></tr>\n",
       "\t<tr><th scope=row>11</th><td>0.6808511 </td><td>0.44      </td><td>3         </td><td>0.625     </td><td>0.7142857 </td><td>0.4407407 </td><td>1         </td><td>0.52      </td><td>0.7135046 </td><td>-37.212424</td></tr>\n",
       "\t<tr><th scope=row>18</th><td>0.5531915 </td><td>0.44      </td><td>3         </td><td>0.750     </td><td>0.4285714 </td><td>0.2925926 </td><td>1         </td><td>0.65      </td><td>0.6382541 </td><td>  1.807069</td></tr>\n",
       "\t<tr><th scope=row>31</th><td>0.1489362 </td><td>0.08      </td><td>2         </td><td>0.500     </td><td>0.4285714 </td><td>0.3296296 </td><td>1         </td><td>0.65      </td><td>0.5395388 </td><td> 16.994030</td></tr>\n",
       "\t<tr><th scope=row>33</th><td>0.9574468 </td><td>0.92      </td><td>4         </td><td>0.500     </td><td>0.8571429 </td><td>0.8111111 </td><td>1         </td><td>0.91      </td><td>0.9003239 </td><td>  1.063311</td></tr>\n",
       "\t<tr><th scope=row>35</th><td>0.8085106 </td><td>0.68      </td><td>5         </td><td>0.750     </td><td>1.0000000 </td><td>0.9592593 </td><td>1         </td><td>0.94      </td><td>0.9367208 </td><td>  0.348852</td></tr>\n",
       "\t<tr><th scope=row>36</th><td>0.5744681 </td><td>0.60      </td><td>5         </td><td>1.000     </td><td>1.0000000 </td><td>0.7370370 </td><td>1         </td><td>0.88      </td><td>0.8545404 </td><td>  2.893140</td></tr>\n",
       "\t<tr><th scope=row>37</th><td>0.1276596 </td><td>0.44      </td><td>2         </td><td>0.750     </td><td>0.7142857 </td><td>0.4407407 </td><td>0         </td><td>0.64      </td><td>0.6147557 </td><td>  3.944415</td></tr>\n",
       "\t<tr><th scope=row>38</th><td>0.1489362 </td><td>0.40      </td><td>1         </td><td>0.000     </td><td>0.1428571 </td><td>0.2185185 </td><td>0         </td><td>0.58      </td><td>0.5009172 </td><td> 13.634969</td></tr>\n",
       "\t<tr><th scope=row>44</th><td>0.8297872 </td><td>0.88      </td><td>4         </td><td>0.875     </td><td>0.7142857 </td><td>0.7000000 </td><td>0         </td><td>0.87      </td><td>0.8338608 </td><td>  4.153926</td></tr>\n",
       "</tbody>\n",
       "</table>\n"
      ],
      "text/latex": [
       "\\begin{tabular}{r|llllllllll}\n",
       "  & GRE\\_Score & TOEFL\\_Score & University\\_Rating & SOP & LOR & CGPA & Research & ChanceOfAdmit & previsao\\_rna\\_best & Residuo\\_Percentual\\\\\n",
       "\\hline\n",
       "\t10 & 0.6382979  & 0.52       & 3          & 0.625      & 0.4285714  & 0.5148148  & 0          & 0.45       & 0.6966491  & -54.810908\\\\\n",
       "\t11 & 0.6808511  & 0.44       & 3          & 0.625      & 0.7142857  & 0.4407407  & 1          & 0.52       & 0.7135046  & -37.212424\\\\\n",
       "\t18 & 0.5531915  & 0.44       & 3          & 0.750      & 0.4285714  & 0.2925926  & 1          & 0.65       & 0.6382541  &   1.807069\\\\\n",
       "\t31 & 0.1489362  & 0.08       & 2          & 0.500      & 0.4285714  & 0.3296296  & 1          & 0.65       & 0.5395388  &  16.994030\\\\\n",
       "\t33 & 0.9574468  & 0.92       & 4          & 0.500      & 0.8571429  & 0.8111111  & 1          & 0.91       & 0.9003239  &   1.063311\\\\\n",
       "\t35 & 0.8085106  & 0.68       & 5          & 0.750      & 1.0000000  & 0.9592593  & 1          & 0.94       & 0.9367208  &   0.348852\\\\\n",
       "\t36 & 0.5744681  & 0.60       & 5          & 1.000      & 1.0000000  & 0.7370370  & 1          & 0.88       & 0.8545404  &   2.893140\\\\\n",
       "\t37 & 0.1276596  & 0.44       & 2          & 0.750      & 0.7142857  & 0.4407407  & 0          & 0.64       & 0.6147557  &   3.944415\\\\\n",
       "\t38 & 0.1489362  & 0.40       & 1          & 0.000      & 0.1428571  & 0.2185185  & 0          & 0.58       & 0.5009172  &  13.634969\\\\\n",
       "\t44 & 0.8297872  & 0.88       & 4          & 0.875      & 0.7142857  & 0.7000000  & 0          & 0.87       & 0.8338608  &   4.153926\\\\\n",
       "\\end{tabular}\n"
      ],
      "text/markdown": [
       "\n",
       "| <!--/--> | GRE_Score | TOEFL_Score | University_Rating | SOP | LOR | CGPA | Research | ChanceOfAdmit | previsao_rna_best | Residuo_Percentual |\n",
       "|---|---|---|---|---|---|---|---|---|---|---|\n",
       "| 10 | 0.6382979  | 0.52       | 3          | 0.625      | 0.4285714  | 0.5148148  | 0          | 0.45       | 0.6966491  | -54.810908 |\n",
       "| 11 | 0.6808511  | 0.44       | 3          | 0.625      | 0.7142857  | 0.4407407  | 1          | 0.52       | 0.7135046  | -37.212424 |\n",
       "| 18 | 0.5531915  | 0.44       | 3          | 0.750      | 0.4285714  | 0.2925926  | 1          | 0.65       | 0.6382541  |   1.807069 |\n",
       "| 31 | 0.1489362  | 0.08       | 2          | 0.500      | 0.4285714  | 0.3296296  | 1          | 0.65       | 0.5395388  |  16.994030 |\n",
       "| 33 | 0.9574468  | 0.92       | 4          | 0.500      | 0.8571429  | 0.8111111  | 1          | 0.91       | 0.9003239  |   1.063311 |\n",
       "| 35 | 0.8085106  | 0.68       | 5          | 0.750      | 1.0000000  | 0.9592593  | 1          | 0.94       | 0.9367208  |   0.348852 |\n",
       "| 36 | 0.5744681  | 0.60       | 5          | 1.000      | 1.0000000  | 0.7370370  | 1          | 0.88       | 0.8545404  |   2.893140 |\n",
       "| 37 | 0.1276596  | 0.44       | 2          | 0.750      | 0.7142857  | 0.4407407  | 0          | 0.64       | 0.6147557  |   3.944415 |\n",
       "| 38 | 0.1489362  | 0.40       | 1          | 0.000      | 0.1428571  | 0.2185185  | 0          | 0.58       | 0.5009172  |  13.634969 |\n",
       "| 44 | 0.8297872  | 0.88       | 4          | 0.875      | 0.7142857  | 0.7000000  | 0          | 0.87       | 0.8338608  |   4.153926 |\n",
       "\n"
      ],
      "text/plain": [
       "   GRE_Score TOEFL_Score University_Rating SOP   LOR       CGPA      Research\n",
       "10 0.6382979 0.52        3                 0.625 0.4285714 0.5148148 0       \n",
       "11 0.6808511 0.44        3                 0.625 0.7142857 0.4407407 1       \n",
       "18 0.5531915 0.44        3                 0.750 0.4285714 0.2925926 1       \n",
       "31 0.1489362 0.08        2                 0.500 0.4285714 0.3296296 1       \n",
       "33 0.9574468 0.92        4                 0.500 0.8571429 0.8111111 1       \n",
       "35 0.8085106 0.68        5                 0.750 1.0000000 0.9592593 1       \n",
       "36 0.5744681 0.60        5                 1.000 1.0000000 0.7370370 1       \n",
       "37 0.1276596 0.44        2                 0.750 0.7142857 0.4407407 0       \n",
       "38 0.1489362 0.40        1                 0.000 0.1428571 0.2185185 0       \n",
       "44 0.8297872 0.88        4                 0.875 0.7142857 0.7000000 0       \n",
       "   ChanceOfAdmit previsao_rna_best Residuo_Percentual\n",
       "10 0.45          0.6966491         -54.810908        \n",
       "11 0.52          0.7135046         -37.212424        \n",
       "18 0.65          0.6382541           1.807069        \n",
       "31 0.65          0.5395388          16.994030        \n",
       "33 0.91          0.9003239           1.063311        \n",
       "35 0.94          0.9367208           0.348852        \n",
       "36 0.88          0.8545404           2.893140        \n",
       "37 0.64          0.6147557           3.944415        \n",
       "38 0.58          0.5009172          13.634969        \n",
       "44 0.87          0.8338608           4.153926        "
      ]
     },
     "metadata": {},
     "output_type": "display_data"
    }
   ],
   "source": [
    "resultado_admissao3 <- cbind(dados_teste_normalizado, previsao_rna_best)\n",
    "resultado_admissao3 <- resultado_admissao3 %>%\n",
    "                   mutate(Residuo_Percentual = ((ChanceOfAdmit - previsao_rna_best)/ChanceOfAdmit)*100)\n",
    "\n",
    "head(resultado_admissao3, 10)"
   ]
  },
  {
   "cell_type": "code",
   "execution_count": 92,
   "id": "a394ae56",
   "metadata": {},
   "outputs": [
    {
     "data": {
      "image/png": "[encoded data removed]",
      "text/plain": [
       "Plot with title \"Modelo RNA - CV - Tunegrid\""
      ]
     },
     "metadata": {},
     "output_type": "display_data"
    }
   ],
   "source": [
    "# GRÁFICO DE RESÍDUOS \n",
    "options(repr.plot.width = 4, repr.plot.height = 3.5)\n",
    "par(cex.main = 0.8, cex.lab = 0.8, cex.axis = 0.7)\n",
    "plot(resultado_admissao3$previsao_rna_best, resultado_admissao3$Residuo_Percentual, pch = 20, ylim = c(-60, 60),\n",
    "     main = \"Modelo RNA - CV - Tunegrid\", \n",
    "     xlab = \"Previsto\", \n",
    "     ylab = \"Resíduos (%)\")\n",
    "abline(h = 0)"
   ]
  },
  {
   "cell_type": "markdown",
   "id": "c98f4dc7",
   "metadata": {},
   "source": [
    "#### MÉTRICAS - MELHOR MODELO RNA - CROSS VALIDATION E TUNEGRID"
   ]
  },
  {
   "cell_type": "code",
   "execution_count": 95,
   "id": "79c06b3c",
   "metadata": {},
   "outputs": [
    {
     "name": "stdout",
     "output_type": "stream",
     "text": [
      "Resultados do teste do Modelo:\n",
      "\n",
      "R²      =  0.7818 \n",
      "Syx     =  0.0706 \n",
      "Pearson =  0.9017 \n",
      "RMSE    =  0.0681 \n",
      "MAE     =  0.0485"
     ]
    }
   ],
   "source": [
    "metricas(resultado_admissao3$ChanceOfAdmit, resultado_admissao3$previsao_rna_best, nrow(dados_teste_normalizado), 7)"
   ]
  },
  {
   "cell_type": "markdown",
   "id": "e88d606e",
   "metadata": {},
   "source": [
    "### 1.2 - K-NEAREST NEIGHBOR - KNN"
   ]
  },
  {
   "cell_type": "markdown",
   "id": "5247a10f",
   "metadata": {},
   "source": [
    "#### APRENDIZADO - MODELO KNN - TUNEGRID"
   ]
  },
  {
   "cell_type": "code",
   "execution_count": 97,
   "id": "d0097f64",
   "metadata": {},
   "outputs": [],
   "source": [
    "tunegrid2 <- expand.grid(k = c(3, 5, 7, 9))"
   ]
  },
  {
   "cell_type": "code",
   "execution_count": 100,
   "id": "70d91822",
   "metadata": {},
   "outputs": [
    {
     "data": {
      "text/plain": [
       "k-Nearest Neighbors \n",
       "\n",
       "402 samples\n",
       "  7 predictor\n",
       "\n",
       "No pre-processing\n",
       "Resampling: Bootstrapped (25 reps) \n",
       "Summary of sample sizes: 402, 402, 402, 402, 402, 402, ... \n",
       "Resampling results across tuning parameters:\n",
       "\n",
       "  k  RMSE        Rsquared   MAE       \n",
       "  3  0.08168596  0.6711854  0.05857683\n",
       "  5  0.07940422  0.6865597  0.05683129\n",
       "  7  0.07907870  0.6889059  0.05676087\n",
       "  9  0.07963318  0.6847108  0.05698349\n",
       "\n",
       "RMSE was used to select the optimal model using the smallest value.\n",
       "The final value used for the model was k = 7."
      ]
     },
     "metadata": {},
     "output_type": "display_data"
    }
   ],
   "source": [
    "modelo_knn <- train(ChanceOfAdmit ~ CGPA  + GRE_Score + TOEFL_Score + SOP + University_Rating + LOR + Research, \n",
    "                    dados_treino_normalizado, \n",
    "                    method = \"knn\", \n",
    "                    tuneGrid = tunegrid2)\n",
    "modelo_knn"
   ]
  },
  {
   "cell_type": "code",
   "execution_count": 104,
   "id": "0b5f0910",
   "metadata": {},
   "outputs": [],
   "source": [
    "previsao_knn <-predict(modelo_knn, dados_teste_normalizado)"
   ]
  },
  {
   "cell_type": "code",
   "execution_count": 105,
   "id": "11ee7e24",
   "metadata": {},
   "outputs": [
    {
     "data": {
      "text/html": [
       "FALSE"
      ],
      "text/latex": [
       "FALSE"
      ],
      "text/markdown": [
       "FALSE"
      ],
      "text/plain": [
       "[1] FALSE"
      ]
     },
     "metadata": {},
     "output_type": "display_data"
    }
   ],
   "source": [
    "# EXISTE VALORES NEGATIVOS NA COLUNA DE PREVISÃO?\n",
    "any(previsao_knn < 0)"
   ]
  },
  {
   "cell_type": "code",
   "execution_count": 106,
   "id": "c24229ea",
   "metadata": {},
   "outputs": [
    {
     "data": {
      "text/html": [
       "<table>\n",
       "<thead><tr><th></th><th scope=col>GRE_Score</th><th scope=col>TOEFL_Score</th><th scope=col>University_Rating</th><th scope=col>SOP</th><th scope=col>LOR</th><th scope=col>CGPA</th><th scope=col>Research</th><th scope=col>ChanceOfAdmit</th><th scope=col>previsao_knn</th><th scope=col>Residuo_Percentual</th></tr></thead>\n",
       "<tbody>\n",
       "\t<tr><th scope=row>10</th><td>0.6382979  </td><td>0.52       </td><td>3          </td><td>0.625      </td><td>0.4285714  </td><td>0.5148148  </td><td>0          </td><td>0.45       </td><td>0.6728571  </td><td>-49.5238095</td></tr>\n",
       "\t<tr><th scope=row>11</th><td>0.6808511  </td><td>0.44       </td><td>3          </td><td>0.625      </td><td>0.7142857  </td><td>0.4407407  </td><td>1          </td><td>0.52       </td><td>0.7357143  </td><td>-41.4835165</td></tr>\n",
       "\t<tr><th scope=row>18</th><td>0.5531915  </td><td>0.44       </td><td>3          </td><td>0.750      </td><td>0.4285714  </td><td>0.2925926  </td><td>1          </td><td>0.65       </td><td>0.6857143  </td><td> -5.4945055</td></tr>\n",
       "\t<tr><th scope=row>31</th><td>0.1489362  </td><td>0.08       </td><td>2          </td><td>0.500      </td><td>0.4285714  </td><td>0.3296296  </td><td>1          </td><td>0.65       </td><td>0.5657143  </td><td> 12.9670330</td></tr>\n",
       "\t<tr><th scope=row>33</th><td>0.9574468  </td><td>0.92       </td><td>4          </td><td>0.500      </td><td>0.8571429  </td><td>0.8111111  </td><td>1          </td><td>0.91       </td><td>0.9071429  </td><td>  0.3139717</td></tr>\n",
       "\t<tr><th scope=row>35</th><td>0.8085106  </td><td>0.68       </td><td>5          </td><td>0.750      </td><td>1.0000000  </td><td>0.9592593  </td><td>1          </td><td>0.94       </td><td>0.9085714  </td><td>  3.3434650</td></tr>\n",
       "\t<tr><th scope=row>36</th><td>0.5744681  </td><td>0.60       </td><td>5          </td><td>1.000      </td><td>1.0000000  </td><td>0.7370370  </td><td>1          </td><td>0.88       </td><td>0.8885714  </td><td> -0.9740260</td></tr>\n",
       "\t<tr><th scope=row>37</th><td>0.1276596  </td><td>0.44       </td><td>2          </td><td>0.750      </td><td>0.7142857  </td><td>0.4407407  </td><td>0          </td><td>0.64       </td><td>0.5771429  </td><td>  9.8214286</td></tr>\n",
       "\t<tr><th scope=row>38</th><td>0.1489362  </td><td>0.40       </td><td>1          </td><td>0.000      </td><td>0.1428571  </td><td>0.2185185  </td><td>0          </td><td>0.58       </td><td>0.5000000  </td><td> 13.7931034</td></tr>\n",
       "\t<tr><th scope=row>44</th><td>0.8297872  </td><td>0.88       </td><td>4          </td><td>0.875      </td><td>0.7142857  </td><td>0.7000000  </td><td>0          </td><td>0.87       </td><td>0.7757143  </td><td> 10.8374384</td></tr>\n",
       "</tbody>\n",
       "</table>\n"
      ],
      "text/latex": [
       "\\begin{tabular}{r|llllllllll}\n",
       "  & GRE\\_Score & TOEFL\\_Score & University\\_Rating & SOP & LOR & CGPA & Research & ChanceOfAdmit & previsao\\_knn & Residuo\\_Percentual\\\\\n",
       "\\hline\n",
       "\t10 & 0.6382979   & 0.52        & 3           & 0.625       & 0.4285714   & 0.5148148   & 0           & 0.45        & 0.6728571   & -49.5238095\\\\\n",
       "\t11 & 0.6808511   & 0.44        & 3           & 0.625       & 0.7142857   & 0.4407407   & 1           & 0.52        & 0.7357143   & -41.4835165\\\\\n",
       "\t18 & 0.5531915   & 0.44        & 3           & 0.750       & 0.4285714   & 0.2925926   & 1           & 0.65        & 0.6857143   &  -5.4945055\\\\\n",
       "\t31 & 0.1489362   & 0.08        & 2           & 0.500       & 0.4285714   & 0.3296296   & 1           & 0.65        & 0.5657143   &  12.9670330\\\\\n",
       "\t33 & 0.9574468   & 0.92        & 4           & 0.500       & 0.8571429   & 0.8111111   & 1           & 0.91        & 0.9071429   &   0.3139717\\\\\n",
       "\t35 & 0.8085106   & 0.68        & 5           & 0.750       & 1.0000000   & 0.9592593   & 1           & 0.94        & 0.9085714   &   3.3434650\\\\\n",
       "\t36 & 0.5744681   & 0.60        & 5           & 1.000       & 1.0000000   & 0.7370370   & 1           & 0.88        & 0.8885714   &  -0.9740260\\\\\n",
       "\t37 & 0.1276596   & 0.44        & 2           & 0.750       & 0.7142857   & 0.4407407   & 0           & 0.64        & 0.5771429   &   9.8214286\\\\\n",
       "\t38 & 0.1489362   & 0.40        & 1           & 0.000       & 0.1428571   & 0.2185185   & 0           & 0.58        & 0.5000000   &  13.7931034\\\\\n",
       "\t44 & 0.8297872   & 0.88        & 4           & 0.875       & 0.7142857   & 0.7000000   & 0           & 0.87        & 0.7757143   &  10.8374384\\\\\n",
       "\\end{tabular}\n"
      ],
      "text/markdown": [
       "\n",
       "| <!--/--> | GRE_Score | TOEFL_Score | University_Rating | SOP | LOR | CGPA | Research | ChanceOfAdmit | previsao_knn | Residuo_Percentual |\n",
       "|---|---|---|---|---|---|---|---|---|---|---|\n",
       "| 10 | 0.6382979   | 0.52        | 3           | 0.625       | 0.4285714   | 0.5148148   | 0           | 0.45        | 0.6728571   | -49.5238095 |\n",
       "| 11 | 0.6808511   | 0.44        | 3           | 0.625       | 0.7142857   | 0.4407407   | 1           | 0.52        | 0.7357143   | -41.4835165 |\n",
       "| 18 | 0.5531915   | 0.44        | 3           | 0.750       | 0.4285714   | 0.2925926   | 1           | 0.65        | 0.6857143   |  -5.4945055 |\n",
       "| 31 | 0.1489362   | 0.08        | 2           | 0.500       | 0.4285714   | 0.3296296   | 1           | 0.65        | 0.5657143   |  12.9670330 |\n",
       "| 33 | 0.9574468   | 0.92        | 4           | 0.500       | 0.8571429   | 0.8111111   | 1           | 0.91        | 0.9071429   |   0.3139717 |\n",
       "| 35 | 0.8085106   | 0.68        | 5           | 0.750       | 1.0000000   | 0.9592593   | 1           | 0.94        | 0.9085714   |   3.3434650 |\n",
       "| 36 | 0.5744681   | 0.60        | 5           | 1.000       | 1.0000000   | 0.7370370   | 1           | 0.88        | 0.8885714   |  -0.9740260 |\n",
       "| 37 | 0.1276596   | 0.44        | 2           | 0.750       | 0.7142857   | 0.4407407   | 0           | 0.64        | 0.5771429   |   9.8214286 |\n",
       "| 38 | 0.1489362   | 0.40        | 1           | 0.000       | 0.1428571   | 0.2185185   | 0           | 0.58        | 0.5000000   |  13.7931034 |\n",
       "| 44 | 0.8297872   | 0.88        | 4           | 0.875       | 0.7142857   | 0.7000000   | 0           | 0.87        | 0.7757143   |  10.8374384 |\n",
       "\n"
      ],
      "text/plain": [
       "   GRE_Score TOEFL_Score University_Rating SOP   LOR       CGPA      Research\n",
       "10 0.6382979 0.52        3                 0.625 0.4285714 0.5148148 0       \n",
       "11 0.6808511 0.44        3                 0.625 0.7142857 0.4407407 1       \n",
       "18 0.5531915 0.44        3                 0.750 0.4285714 0.2925926 1       \n",
       "31 0.1489362 0.08        2                 0.500 0.4285714 0.3296296 1       \n",
       "33 0.9574468 0.92        4                 0.500 0.8571429 0.8111111 1       \n",
       "35 0.8085106 0.68        5                 0.750 1.0000000 0.9592593 1       \n",
       "36 0.5744681 0.60        5                 1.000 1.0000000 0.7370370 1       \n",
       "37 0.1276596 0.44        2                 0.750 0.7142857 0.4407407 0       \n",
       "38 0.1489362 0.40        1                 0.000 0.1428571 0.2185185 0       \n",
       "44 0.8297872 0.88        4                 0.875 0.7142857 0.7000000 0       \n",
       "   ChanceOfAdmit previsao_knn Residuo_Percentual\n",
       "10 0.45          0.6728571    -49.5238095       \n",
       "11 0.52          0.7357143    -41.4835165       \n",
       "18 0.65          0.6857143     -5.4945055       \n",
       "31 0.65          0.5657143     12.9670330       \n",
       "33 0.91          0.9071429      0.3139717       \n",
       "35 0.94          0.9085714      3.3434650       \n",
       "36 0.88          0.8885714     -0.9740260       \n",
       "37 0.64          0.5771429      9.8214286       \n",
       "38 0.58          0.5000000     13.7931034       \n",
       "44 0.87          0.7757143     10.8374384       "
      ]
     },
     "metadata": {},
     "output_type": "display_data"
    }
   ],
   "source": [
    "resultado_admissao4 <- cbind(dados_teste_normalizado, previsao_knn)\n",
    "resultado_admissao4 <- resultado_admissao4 %>%\n",
    "                   mutate(Residuo_Percentual = ((ChanceOfAdmit - previsao_knn)/ChanceOfAdmit)*100)\n",
    "\n",
    "head(resultado_admissao4, 10)"
   ]
  },
  {
   "cell_type": "code",
   "execution_count": 107,
   "id": "38bcc491",
   "metadata": {},
   "outputs": [
    {
     "data": {
      "image/png": "[encoded data removed]",
      "text/plain": [
       "Plot with title \"Modelo KNN\""
      ]
     },
     "metadata": {},
     "output_type": "display_data"
    }
   ],
   "source": [
    "# GRÁFICO DE RESÍDUOS\n",
    "options(repr.plot.width = 4, repr.plot.height = 3.5)\n",
    "par(cex.main = 0.8, cex.lab = 0.8, cex.axis = 0.7)\n",
    "plot(resultado_admissao4$previsao_knn, resultado_admissao4$Residuo_Percentual, pch = 20, ylim = c(-60, 60),\n",
    "     main = \"Modelo KNN\", \n",
    "     xlab = \"Previsto\", \n",
    "     ylab = \"Resíduos (%)\")\n",
    "abline(h = 0)"
   ]
  },
  {
   "cell_type": "markdown",
   "id": "12ecb7b5",
   "metadata": {},
   "source": [
    "#### MÉTRICAS - MODELO KNN - TUNEGRID"
   ]
  },
  {
   "cell_type": "code",
   "execution_count": 108,
   "id": "e49cf63c",
   "metadata": {},
   "outputs": [
    {
     "name": "stdout",
     "output_type": "stream",
     "text": [
      "Resultados do teste do Modelo:\n",
      "\n",
      "R²      =  0.7477 \n",
      "Syx     =  0.0759 \n",
      "Pearson =  0.8674 \n",
      "RMSE    =  0.0732 \n",
      "MAE     =  0.0529"
     ]
    }
   ],
   "source": [
    "metricas(resultado_admissao4$ChanceOfAdmit, resultado_admissao4$previsao_knn, nrow(dados_teste_normalizado), 7)"
   ]
  },
  {
   "cell_type": "markdown",
   "id": "b9311f79",
   "metadata": {},
   "source": [
    "### 1.3 - SUPPORT VECTOR MACHINE - SVM"
   ]
  },
  {
   "cell_type": "markdown",
   "id": "4da6448b",
   "metadata": {},
   "source": [
    "#### APRENDIZADO - MODELO SVM - HOLD-OUT"
   ]
  },
  {
   "cell_type": "code",
   "execution_count": 110,
   "id": "95f73193",
   "metadata": {},
   "outputs": [
    {
     "data": {
      "text/plain": [
       "Support Vector Machines with Radial Basis Function Kernel \n",
       "\n",
       "402 samples\n",
       "  7 predictor\n",
       "\n",
       "No pre-processing\n",
       "Resampling: Bootstrapped (25 reps) \n",
       "Summary of sample sizes: 402, 402, 402, 402, 402, 402, ... \n",
       "Resampling results across tuning parameters:\n",
       "\n",
       "  C     RMSE        Rsquared   MAE       \n",
       "  0.25  0.06547294  0.7909866  0.04676761\n",
       "  0.50  0.06428198  0.7945694  0.04617183\n",
       "  1.00  0.06422176  0.7932012  0.04622565\n",
       "\n",
       "Tuning parameter 'sigma' was held constant at a value of 0.0980106\n",
       "RMSE was used to select the optimal model using the smallest value.\n",
       "The final values used for the model were sigma = 0.0980106 and C = 1."
      ]
     },
     "metadata": {},
     "output_type": "display_data"
    }
   ],
   "source": [
    "modelo_svm <- train(ChanceOfAdmit ~ CGPA  + GRE_Score + TOEFL_Score + SOP + University_Rating + LOR + Research, \n",
    "                    dados_treino_normalizado, \n",
    "                    method = \"svmRadial\")\n",
    "modelo_svm"
   ]
  },
  {
   "cell_type": "code",
   "execution_count": 114,
   "id": "4480d80b",
   "metadata": {},
   "outputs": [],
   "source": [
    "previsao_svm <- predict(modelo_svm, dados_teste_normalizado)"
   ]
  },
  {
   "cell_type": "code",
   "execution_count": 115,
   "id": "c140af1a",
   "metadata": {},
   "outputs": [
    {
     "data": {
      "text/html": [
       "FALSE"
      ],
      "text/latex": [
       "FALSE"
      ],
      "text/markdown": [
       "FALSE"
      ],
      "text/plain": [
       "[1] FALSE"
      ]
     },
     "metadata": {},
     "output_type": "display_data"
    }
   ],
   "source": [
    "# EXISTE VALORES NEGATIVOS NA COLUNA DE PREVISÃO?\n",
    "any(previsao_svm < 0)"
   ]
  },
  {
   "cell_type": "code",
   "execution_count": 116,
   "id": "bded0e54",
   "metadata": {},
   "outputs": [
    {
     "data": {
      "text/html": [
       "<table>\n",
       "<thead><tr><th></th><th scope=col>GRE_Score</th><th scope=col>TOEFL_Score</th><th scope=col>University_Rating</th><th scope=col>SOP</th><th scope=col>LOR</th><th scope=col>CGPA</th><th scope=col>Research</th><th scope=col>ChanceOfAdmit</th><th scope=col>previsao_svm</th><th scope=col>Residuo_Percentual</th></tr></thead>\n",
       "<tbody>\n",
       "\t<tr><th scope=row>10</th><td>0.6382979  </td><td>0.52       </td><td>3          </td><td>0.625      </td><td>0.4285714  </td><td>0.5148148  </td><td>0          </td><td>0.45       </td><td>0.6833631  </td><td>-51.8584720</td></tr>\n",
       "\t<tr><th scope=row>11</th><td>0.6808511  </td><td>0.44       </td><td>3          </td><td>0.625      </td><td>0.7142857  </td><td>0.4407407  </td><td>1          </td><td>0.52       </td><td>0.7264904  </td><td>-39.7096860</td></tr>\n",
       "\t<tr><th scope=row>18</th><td>0.5531915  </td><td>0.44       </td><td>3          </td><td>0.750      </td><td>0.4285714  </td><td>0.2925926  </td><td>1          </td><td>0.65       </td><td>0.6319277  </td><td>  2.7803471</td></tr>\n",
       "\t<tr><th scope=row>31</th><td>0.1489362  </td><td>0.08       </td><td>2          </td><td>0.500      </td><td>0.4285714  </td><td>0.3296296  </td><td>1          </td><td>0.65       </td><td>0.5337435  </td><td> 17.8856184</td></tr>\n",
       "\t<tr><th scope=row>33</th><td>0.9574468  </td><td>0.92       </td><td>4          </td><td>0.500      </td><td>0.8571429  </td><td>0.8111111  </td><td>1          </td><td>0.91       </td><td>0.8780823  </td><td>  3.5074374</td></tr>\n",
       "\t<tr><th scope=row>35</th><td>0.8085106  </td><td>0.68       </td><td>5          </td><td>0.750      </td><td>1.0000000  </td><td>0.9592593  </td><td>1          </td><td>0.94       </td><td>0.9304676  </td><td>  1.0140802</td></tr>\n",
       "\t<tr><th scope=row>36</th><td>0.5744681  </td><td>0.60       </td><td>5          </td><td>1.000      </td><td>1.0000000  </td><td>0.7370370  </td><td>1          </td><td>0.88       </td><td>0.8720373  </td><td>  0.9048556</td></tr>\n",
       "\t<tr><th scope=row>37</th><td>0.1276596  </td><td>0.44       </td><td>2          </td><td>0.750      </td><td>0.7142857  </td><td>0.4407407  </td><td>0          </td><td>0.64       </td><td>0.6321403  </td><td>  1.2280709</td></tr>\n",
       "\t<tr><th scope=row>38</th><td>0.1489362  </td><td>0.40       </td><td>1          </td><td>0.000      </td><td>0.1428571  </td><td>0.2185185  </td><td>0          </td><td>0.58       </td><td>0.4896425  </td><td> 15.5788711</td></tr>\n",
       "\t<tr><th scope=row>44</th><td>0.8297872  </td><td>0.88       </td><td>4          </td><td>0.875      </td><td>0.7142857  </td><td>0.7000000  </td><td>0          </td><td>0.87       </td><td>0.8200811  </td><td>  5.7378056</td></tr>\n",
       "</tbody>\n",
       "</table>\n"
      ],
      "text/latex": [
       "\\begin{tabular}{r|llllllllll}\n",
       "  & GRE\\_Score & TOEFL\\_Score & University\\_Rating & SOP & LOR & CGPA & Research & ChanceOfAdmit & previsao\\_svm & Residuo\\_Percentual\\\\\n",
       "\\hline\n",
       "\t10 & 0.6382979   & 0.52        & 3           & 0.625       & 0.4285714   & 0.5148148   & 0           & 0.45        & 0.6833631   & -51.8584720\\\\\n",
       "\t11 & 0.6808511   & 0.44        & 3           & 0.625       & 0.7142857   & 0.4407407   & 1           & 0.52        & 0.7264904   & -39.7096860\\\\\n",
       "\t18 & 0.5531915   & 0.44        & 3           & 0.750       & 0.4285714   & 0.2925926   & 1           & 0.65        & 0.6319277   &   2.7803471\\\\\n",
       "\t31 & 0.1489362   & 0.08        & 2           & 0.500       & 0.4285714   & 0.3296296   & 1           & 0.65        & 0.5337435   &  17.8856184\\\\\n",
       "\t33 & 0.9574468   & 0.92        & 4           & 0.500       & 0.8571429   & 0.8111111   & 1           & 0.91        & 0.8780823   &   3.5074374\\\\\n",
       "\t35 & 0.8085106   & 0.68        & 5           & 0.750       & 1.0000000   & 0.9592593   & 1           & 0.94        & 0.9304676   &   1.0140802\\\\\n",
       "\t36 & 0.5744681   & 0.60        & 5           & 1.000       & 1.0000000   & 0.7370370   & 1           & 0.88        & 0.8720373   &   0.9048556\\\\\n",
       "\t37 & 0.1276596   & 0.44        & 2           & 0.750       & 0.7142857   & 0.4407407   & 0           & 0.64        & 0.6321403   &   1.2280709\\\\\n",
       "\t38 & 0.1489362   & 0.40        & 1           & 0.000       & 0.1428571   & 0.2185185   & 0           & 0.58        & 0.4896425   &  15.5788711\\\\\n",
       "\t44 & 0.8297872   & 0.88        & 4           & 0.875       & 0.7142857   & 0.7000000   & 0           & 0.87        & 0.8200811   &   5.7378056\\\\\n",
       "\\end{tabular}\n"
      ],
      "text/markdown": [
       "\n",
       "| <!--/--> | GRE_Score | TOEFL_Score | University_Rating | SOP | LOR | CGPA | Research | ChanceOfAdmit | previsao_svm | Residuo_Percentual |\n",
       "|---|---|---|---|---|---|---|---|---|---|---|\n",
       "| 10 | 0.6382979   | 0.52        | 3           | 0.625       | 0.4285714   | 0.5148148   | 0           | 0.45        | 0.6833631   | -51.8584720 |\n",
       "| 11 | 0.6808511   | 0.44        | 3           | 0.625       | 0.7142857   | 0.4407407   | 1           | 0.52        | 0.7264904   | -39.7096860 |\n",
       "| 18 | 0.5531915   | 0.44        | 3           | 0.750       | 0.4285714   | 0.2925926   | 1           | 0.65        | 0.6319277   |   2.7803471 |\n",
       "| 31 | 0.1489362   | 0.08        | 2           | 0.500       | 0.4285714   | 0.3296296   | 1           | 0.65        | 0.5337435   |  17.8856184 |\n",
       "| 33 | 0.9574468   | 0.92        | 4           | 0.500       | 0.8571429   | 0.8111111   | 1           | 0.91        | 0.8780823   |   3.5074374 |\n",
       "| 35 | 0.8085106   | 0.68        | 5           | 0.750       | 1.0000000   | 0.9592593   | 1           | 0.94        | 0.9304676   |   1.0140802 |\n",
       "| 36 | 0.5744681   | 0.60        | 5           | 1.000       | 1.0000000   | 0.7370370   | 1           | 0.88        | 0.8720373   |   0.9048556 |\n",
       "| 37 | 0.1276596   | 0.44        | 2           | 0.750       | 0.7142857   | 0.4407407   | 0           | 0.64        | 0.6321403   |   1.2280709 |\n",
       "| 38 | 0.1489362   | 0.40        | 1           | 0.000       | 0.1428571   | 0.2185185   | 0           | 0.58        | 0.4896425   |  15.5788711 |\n",
       "| 44 | 0.8297872   | 0.88        | 4           | 0.875       | 0.7142857   | 0.7000000   | 0           | 0.87        | 0.8200811   |   5.7378056 |\n",
       "\n"
      ],
      "text/plain": [
       "   GRE_Score TOEFL_Score University_Rating SOP   LOR       CGPA      Research\n",
       "10 0.6382979 0.52        3                 0.625 0.4285714 0.5148148 0       \n",
       "11 0.6808511 0.44        3                 0.625 0.7142857 0.4407407 1       \n",
       "18 0.5531915 0.44        3                 0.750 0.4285714 0.2925926 1       \n",
       "31 0.1489362 0.08        2                 0.500 0.4285714 0.3296296 1       \n",
       "33 0.9574468 0.92        4                 0.500 0.8571429 0.8111111 1       \n",
       "35 0.8085106 0.68        5                 0.750 1.0000000 0.9592593 1       \n",
       "36 0.5744681 0.60        5                 1.000 1.0000000 0.7370370 1       \n",
       "37 0.1276596 0.44        2                 0.750 0.7142857 0.4407407 0       \n",
       "38 0.1489362 0.40        1                 0.000 0.1428571 0.2185185 0       \n",
       "44 0.8297872 0.88        4                 0.875 0.7142857 0.7000000 0       \n",
       "   ChanceOfAdmit previsao_svm Residuo_Percentual\n",
       "10 0.45          0.6833631    -51.8584720       \n",
       "11 0.52          0.7264904    -39.7096860       \n",
       "18 0.65          0.6319277      2.7803471       \n",
       "31 0.65          0.5337435     17.8856184       \n",
       "33 0.91          0.8780823      3.5074374       \n",
       "35 0.94          0.9304676      1.0140802       \n",
       "36 0.88          0.8720373      0.9048556       \n",
       "37 0.64          0.6321403      1.2280709       \n",
       "38 0.58          0.4896425     15.5788711       \n",
       "44 0.87          0.8200811      5.7378056       "
      ]
     },
     "metadata": {},
     "output_type": "display_data"
    }
   ],
   "source": [
    "resultado_admissao5 <- cbind(dados_teste_normalizado, previsao_svm)\n",
    "resultado_admissao5 <- resultado_admissao5 %>%\n",
    "                   mutate(Residuo_Percentual = ((ChanceOfAdmit - previsao_svm)/ChanceOfAdmit)*100)\n",
    "\n",
    "head(resultado_admissao5, 10)"
   ]
  },
  {
   "cell_type": "code",
   "execution_count": 117,
   "id": "fae84566",
   "metadata": {},
   "outputs": [
    {
     "data": {
      "image/png": "[encoded data removed]",
      "text/plain": [
       "Plot with title \"Modelo SVM\""
      ]
     },
     "metadata": {},
     "output_type": "display_data"
    }
   ],
   "source": [
    "# GRÁFICO DE RESÍDUOS \n",
    "options(repr.plot.width = 4, repr.plot.height = 3.5)\n",
    "par(cex.main = 0.8, cex.lab = 0.8, cex.axis = 0.7)\n",
    "plot(resultado_admissao5$previsao_svm, resultado_admissao5$Residuo_Percentual, pch = 20, ylim = c(-60, 60),\n",
    "     main = \"Modelo SVM\", xlab = \"Previsto\", ylab = \"Resíduos (%)\")\n",
    "abline(h = 0)"
   ]
  },
  {
   "cell_type": "markdown",
   "id": "5d4e38d1",
   "metadata": {},
   "source": [
    "#### MÉTRICAS - MODELO SVM - HOLD-OUT"
   ]
  },
  {
   "cell_type": "code",
   "execution_count": 118,
   "id": "95e87e5a",
   "metadata": {},
   "outputs": [
    {
     "name": "stdout",
     "output_type": "stream",
     "text": [
      "Resultados do teste do Modelo:\n",
      "\n",
      "R²      =  0.7752 \n",
      "Syx     =  0.0717 \n",
      "Pearson =  0.8907 \n",
      "RMSE    =  0.0691 \n",
      "MAE     =  0.0485"
     ]
    }
   ],
   "source": [
    "metricas(resultado_admissao5$ChanceOfAdmit, resultado_admissao5$previsao_svm, nrow(dados_teste_normalizado), 7)"
   ]
  },
  {
   "cell_type": "markdown",
   "id": "2e48f78d",
   "metadata": {},
   "source": [
    "#### APRENDIZADO - MODELO SVM - CROSS VALIDATION"
   ]
  },
  {
   "cell_type": "code",
   "execution_count": 120,
   "id": "13461faa",
   "metadata": {},
   "outputs": [
    {
     "data": {
      "text/plain": [
       "Support Vector Machines with Radial Basis Function Kernel \n",
       "\n",
       "402 samples\n",
       "  7 predictor\n",
       "\n",
       "No pre-processing\n",
       "Resampling: Bootstrapped (25 reps) \n",
       "Summary of sample sizes: 402, 402, 402, 402, 402, 402, ... \n",
       "Resampling results across tuning parameters:\n",
       "\n",
       "  C     RMSE        Rsquared   MAE       \n",
       "  0.25  0.06675292  0.7772193  0.04758211\n",
       "  0.50  0.06589114  0.7784378  0.04708049\n",
       "  1.00  0.06650323  0.7726783  0.04746550\n",
       "\n",
       "Tuning parameter 'sigma' was held constant at a value of 0.114082\n",
       "RMSE was used to select the optimal model using the smallest value.\n",
       "The final values used for the model were sigma = 0.114082 and C = 0.5."
      ]
     },
     "metadata": {},
     "output_type": "display_data"
    }
   ],
   "source": [
    "crossvalidation2 <- trainControl(method = \"cv\", number = 10)\n",
    "modelo_svm_cv <- train(ChanceOfAdmit ~ CGPA  + GRE_Score + TOEFL_Score + SOP + University_Rating + LOR + Research, \n",
    "                       dados_treino_normalizado, \n",
    "                       trainControl = crossvalidation2, \n",
    "                       method = \"svmRadial\")\n",
    "modelo_svm_cv"
   ]
  },
  {
   "cell_type": "code",
   "execution_count": 123,
   "id": "43dee0a7",
   "metadata": {},
   "outputs": [],
   "source": [
    "previsao_svm_cv <- predict(modelo_svm_cv, dados_teste_normalizado)"
   ]
  },
  {
   "cell_type": "code",
   "execution_count": 124,
   "id": "0b84c842",
   "metadata": {},
   "outputs": [
    {
     "data": {
      "text/html": [
       "FALSE"
      ],
      "text/latex": [
       "FALSE"
      ],
      "text/markdown": [
       "FALSE"
      ],
      "text/plain": [
       "[1] FALSE"
      ]
     },
     "metadata": {},
     "output_type": "display_data"
    }
   ],
   "source": [
    "# EXISTE VALORES NEGATIVOS NA COLUNA DE PREVISÃO?\n",
    "any(previsao_svm_cv < 0)"
   ]
  },
  {
   "cell_type": "code",
   "execution_count": 126,
   "id": "4a8ede94",
   "metadata": {},
   "outputs": [
    {
     "data": {
      "text/html": [
       "<table>\n",
       "<thead><tr><th></th><th scope=col>GRE_Score</th><th scope=col>TOEFL_Score</th><th scope=col>University_Rating</th><th scope=col>SOP</th><th scope=col>LOR</th><th scope=col>CGPA</th><th scope=col>Research</th><th scope=col>ChanceOfAdmit</th><th scope=col>previsao_svm_cv</th><th scope=col>Residuo_Percentual</th></tr></thead>\n",
       "<tbody>\n",
       "\t<tr><th scope=row>10</th><td>0.6382979  </td><td>0.52       </td><td>3          </td><td>0.625      </td><td>0.4285714  </td><td>0.5148148  </td><td>0          </td><td>0.45       </td><td>0.6904331  </td><td>-53.4295669</td></tr>\n",
       "\t<tr><th scope=row>11</th><td>0.6808511  </td><td>0.44       </td><td>3          </td><td>0.625      </td><td>0.7142857  </td><td>0.4407407  </td><td>1          </td><td>0.52       </td><td>0.7221966  </td><td>-38.8839711</td></tr>\n",
       "\t<tr><th scope=row>18</th><td>0.5531915  </td><td>0.44       </td><td>3          </td><td>0.750      </td><td>0.4285714  </td><td>0.2925926  </td><td>1          </td><td>0.65       </td><td>0.6415883  </td><td>  1.2941138</td></tr>\n",
       "\t<tr><th scope=row>31</th><td>0.1489362  </td><td>0.08       </td><td>2          </td><td>0.500      </td><td>0.4285714  </td><td>0.3296296  </td><td>1          </td><td>0.65       </td><td>0.5665009  </td><td> 12.8460096</td></tr>\n",
       "\t<tr><th scope=row>33</th><td>0.9574468  </td><td>0.92       </td><td>4          </td><td>0.500      </td><td>0.8571429  </td><td>0.8111111  </td><td>1          </td><td>0.91       </td><td>0.8701498  </td><td>  4.3791483</td></tr>\n",
       "\t<tr><th scope=row>35</th><td>0.8085106  </td><td>0.68       </td><td>5          </td><td>0.750      </td><td>1.0000000  </td><td>0.9592593  </td><td>1          </td><td>0.94       </td><td>0.9233333  </td><td>  1.7730486</td></tr>\n",
       "\t<tr><th scope=row>36</th><td>0.5744681  </td><td>0.60       </td><td>5          </td><td>1.000      </td><td>1.0000000  </td><td>0.7370370  </td><td>1          </td><td>0.88       </td><td>0.8669355  </td><td>  1.4845988</td></tr>\n",
       "\t<tr><th scope=row>37</th><td>0.1276596  </td><td>0.44       </td><td>2          </td><td>0.750      </td><td>0.7142857  </td><td>0.4407407  </td><td>0          </td><td>0.64       </td><td>0.6451557  </td><td> -0.8055734</td></tr>\n",
       "\t<tr><th scope=row>38</th><td>0.1489362  </td><td>0.40       </td><td>1          </td><td>0.000      </td><td>0.1428571  </td><td>0.2185185  </td><td>0          </td><td>0.58       </td><td>0.5150587  </td><td> 11.1967751</td></tr>\n",
       "\t<tr><th scope=row>44</th><td>0.8297872  </td><td>0.88       </td><td>4          </td><td>0.875      </td><td>0.7142857  </td><td>0.7000000  </td><td>0          </td><td>0.87       </td><td>0.8264749  </td><td>  5.0028892</td></tr>\n",
       "</tbody>\n",
       "</table>\n"
      ],
      "text/latex": [
       "\\begin{tabular}{r|llllllllll}\n",
       "  & GRE\\_Score & TOEFL\\_Score & University\\_Rating & SOP & LOR & CGPA & Research & ChanceOfAdmit & previsao\\_svm\\_cv & Residuo\\_Percentual\\\\\n",
       "\\hline\n",
       "\t10 & 0.6382979   & 0.52        & 3           & 0.625       & 0.4285714   & 0.5148148   & 0           & 0.45        & 0.6904331   & -53.4295669\\\\\n",
       "\t11 & 0.6808511   & 0.44        & 3           & 0.625       & 0.7142857   & 0.4407407   & 1           & 0.52        & 0.7221966   & -38.8839711\\\\\n",
       "\t18 & 0.5531915   & 0.44        & 3           & 0.750       & 0.4285714   & 0.2925926   & 1           & 0.65        & 0.6415883   &   1.2941138\\\\\n",
       "\t31 & 0.1489362   & 0.08        & 2           & 0.500       & 0.4285714   & 0.3296296   & 1           & 0.65        & 0.5665009   &  12.8460096\\\\\n",
       "\t33 & 0.9574468   & 0.92        & 4           & 0.500       & 0.8571429   & 0.8111111   & 1           & 0.91        & 0.8701498   &   4.3791483\\\\\n",
       "\t35 & 0.8085106   & 0.68        & 5           & 0.750       & 1.0000000   & 0.9592593   & 1           & 0.94        & 0.9233333   &   1.7730486\\\\\n",
       "\t36 & 0.5744681   & 0.60        & 5           & 1.000       & 1.0000000   & 0.7370370   & 1           & 0.88        & 0.8669355   &   1.4845988\\\\\n",
       "\t37 & 0.1276596   & 0.44        & 2           & 0.750       & 0.7142857   & 0.4407407   & 0           & 0.64        & 0.6451557   &  -0.8055734\\\\\n",
       "\t38 & 0.1489362   & 0.40        & 1           & 0.000       & 0.1428571   & 0.2185185   & 0           & 0.58        & 0.5150587   &  11.1967751\\\\\n",
       "\t44 & 0.8297872   & 0.88        & 4           & 0.875       & 0.7142857   & 0.7000000   & 0           & 0.87        & 0.8264749   &   5.0028892\\\\\n",
       "\\end{tabular}\n"
      ],
      "text/markdown": [
       "\n",
       "| <!--/--> | GRE_Score | TOEFL_Score | University_Rating | SOP | LOR | CGPA | Research | ChanceOfAdmit | previsao_svm_cv | Residuo_Percentual |\n",
       "|---|---|---|---|---|---|---|---|---|---|---|\n",
       "| 10 | 0.6382979   | 0.52        | 3           | 0.625       | 0.4285714   | 0.5148148   | 0           | 0.45        | 0.6904331   | -53.4295669 |\n",
       "| 11 | 0.6808511   | 0.44        | 3           | 0.625       | 0.7142857   | 0.4407407   | 1           | 0.52        | 0.7221966   | -38.8839711 |\n",
       "| 18 | 0.5531915   | 0.44        | 3           | 0.750       | 0.4285714   | 0.2925926   | 1           | 0.65        | 0.6415883   |   1.2941138 |\n",
       "| 31 | 0.1489362   | 0.08        | 2           | 0.500       | 0.4285714   | 0.3296296   | 1           | 0.65        | 0.5665009   |  12.8460096 |\n",
       "| 33 | 0.9574468   | 0.92        | 4           | 0.500       | 0.8571429   | 0.8111111   | 1           | 0.91        | 0.8701498   |   4.3791483 |\n",
       "| 35 | 0.8085106   | 0.68        | 5           | 0.750       | 1.0000000   | 0.9592593   | 1           | 0.94        | 0.9233333   |   1.7730486 |\n",
       "| 36 | 0.5744681   | 0.60        | 5           | 1.000       | 1.0000000   | 0.7370370   | 1           | 0.88        | 0.8669355   |   1.4845988 |\n",
       "| 37 | 0.1276596   | 0.44        | 2           | 0.750       | 0.7142857   | 0.4407407   | 0           | 0.64        | 0.6451557   |  -0.8055734 |\n",
       "| 38 | 0.1489362   | 0.40        | 1           | 0.000       | 0.1428571   | 0.2185185   | 0           | 0.58        | 0.5150587   |  11.1967751 |\n",
       "| 44 | 0.8297872   | 0.88        | 4           | 0.875       | 0.7142857   | 0.7000000   | 0           | 0.87        | 0.8264749   |   5.0028892 |\n",
       "\n"
      ],
      "text/plain": [
       "   GRE_Score TOEFL_Score University_Rating SOP   LOR       CGPA      Research\n",
       "10 0.6382979 0.52        3                 0.625 0.4285714 0.5148148 0       \n",
       "11 0.6808511 0.44        3                 0.625 0.7142857 0.4407407 1       \n",
       "18 0.5531915 0.44        3                 0.750 0.4285714 0.2925926 1       \n",
       "31 0.1489362 0.08        2                 0.500 0.4285714 0.3296296 1       \n",
       "33 0.9574468 0.92        4                 0.500 0.8571429 0.8111111 1       \n",
       "35 0.8085106 0.68        5                 0.750 1.0000000 0.9592593 1       \n",
       "36 0.5744681 0.60        5                 1.000 1.0000000 0.7370370 1       \n",
       "37 0.1276596 0.44        2                 0.750 0.7142857 0.4407407 0       \n",
       "38 0.1489362 0.40        1                 0.000 0.1428571 0.2185185 0       \n",
       "44 0.8297872 0.88        4                 0.875 0.7142857 0.7000000 0       \n",
       "   ChanceOfAdmit previsao_svm_cv Residuo_Percentual\n",
       "10 0.45          0.6904331       -53.4295669       \n",
       "11 0.52          0.7221966       -38.8839711       \n",
       "18 0.65          0.6415883         1.2941138       \n",
       "31 0.65          0.5665009        12.8460096       \n",
       "33 0.91          0.8701498         4.3791483       \n",
       "35 0.94          0.9233333         1.7730486       \n",
       "36 0.88          0.8669355         1.4845988       \n",
       "37 0.64          0.6451557        -0.8055734       \n",
       "38 0.58          0.5150587        11.1967751       \n",
       "44 0.87          0.8264749         5.0028892       "
      ]
     },
     "metadata": {},
     "output_type": "display_data"
    }
   ],
   "source": [
    "resultado_admissao6 <- cbind(dados_teste_normalizado, previsao_svm_cv)\n",
    "resultado_admissao6 <- resultado_admissao6 %>%\n",
    "                   mutate(Residuo_Percentual = ((ChanceOfAdmit - previsao_svm_cv)/ChanceOfAdmit)*100)\n",
    "\n",
    "head(resultado_admissao6, 10)"
   ]
  },
  {
   "cell_type": "code",
   "execution_count": 127,
   "id": "62acc00d",
   "metadata": {},
   "outputs": [
    {
     "data": {
      "image/png": "[encoded data removed]",
      "text/plain": [
       "Plot with title \"Modelo SVM - CV\""
      ]
     },
     "metadata": {},
     "output_type": "display_data"
    }
   ],
   "source": [
    "# GRÁFICO DE RESÍDUOS \n",
    "options(repr.plot.width = 4, repr.plot.height = 3.5)\n",
    "par(cex.main = 0.8, cex.lab = 0.8, cex.axis = 0.7)\n",
    "plot(resultado_admissao6$previsao_svm_cv, resultado_admissao6$Residuo_Percentual, pch = 20, ylim = c(-60, 60),\n",
    "     main = \"Modelo SVM - CV\", xlab = \"Previsto\", ylab = \"Resíduos (%)\")\n",
    "abline(h = 0)"
   ]
  },
  {
   "cell_type": "markdown",
   "id": "f731d863",
   "metadata": {},
   "source": [
    "#### MÉTRICAS - MODELO SVM - CROSS VALIDATION"
   ]
  },
  {
   "cell_type": "code",
   "execution_count": 128,
   "id": "52d6a81e",
   "metadata": {},
   "outputs": [
    {
     "name": "stdout",
     "output_type": "stream",
     "text": [
      "Resultados do teste do Modelo:\n",
      "\n",
      "R²      =  0.7976 \n",
      "Syx     =  0.068 \n",
      "Pearson =  0.8944 \n",
      "RMSE    =  0.0655 \n",
      "MAE     =  0.0455"
     ]
    }
   ],
   "source": [
    "metricas(resultado_admissao6$ChanceOfAdmit, resultado_admissao6$previsao_svm_cv, nrow(dados_teste_normalizado), 7)"
   ]
  },
  {
   "cell_type": "markdown",
   "id": "eb9004de",
   "metadata": {},
   "source": [
    "#### APRENDIZADO - MODELO SVM - CROSS VALIDATION E TUNEGRID"
   ]
  },
  {
   "cell_type": "code",
   "execution_count": 131,
   "id": "013bdc82",
   "metadata": {},
   "outputs": [
    {
     "data": {
      "text/plain": [
       "Support Vector Machines with Radial Basis Function Kernel \n",
       "\n",
       "402 samples\n",
       "  7 predictor\n",
       "\n",
       "No pre-processing\n",
       "Resampling: Bootstrapped (25 reps) \n",
       "Summary of sample sizes: 402, 402, 402, 402, 402, 402, ... \n",
       "Resampling results across tuning parameters:\n",
       "\n",
       "  C    sigma  RMSE        Rsquared   MAE       \n",
       "    1  0.010  0.06122830  0.8201904  0.04300789\n",
       "    1  0.015  0.06130435  0.8185779  0.04318185\n",
       "    1  0.200  0.06928212  0.7643525  0.04996281\n",
       "    2  0.010  0.06088832  0.8203428  0.04287797\n",
       "    2  0.015  0.06122234  0.8175262  0.04320196\n",
       "    2  0.200  0.07021466  0.7558257  0.05045784\n",
       "   10  0.010  0.06145527  0.8148365  0.04350260\n",
       "   10  0.015  0.06243446  0.8080862  0.04422652\n",
       "   10  0.200  0.07764853  0.7058197  0.05553979\n",
       "   50  0.010  0.06338448  0.8013653  0.04491307\n",
       "   50  0.015  0.06464490  0.7934272  0.04558192\n",
       "   50  0.200  0.09110070  0.6227253  0.06444501\n",
       "  100  0.010  0.06434272  0.7950683  0.04551418\n",
       "  100  0.015  0.06562950  0.7870365  0.04633605\n",
       "  100  0.200  0.09912010  0.5767979  0.06962492\n",
       "\n",
       "RMSE was used to select the optimal model using the smallest value.\n",
       "The final values used for the model were sigma = 0.01 and C = 2."
      ]
     },
     "metadata": {},
     "output_type": "display_data"
    }
   ],
   "source": [
    "tunegrid2 <- expand.grid(C = c(1, 2, 10, 50, 100), sigma = c(0.01, 0.015, 0.2))\n",
    "modelo_svm_best <- train(ChanceOfAdmit ~ CGPA  + GRE_Score + TOEFL_Score + SOP + University_Rating + LOR + Research, \n",
    "                         dados_treino_normalizado, \n",
    "                         method = \"svmRadial\", \n",
    "                         trainControl = crossvalidation2,\n",
    "                         tuneGrid = tunegrid2)\n",
    "modelo_svm_best"
   ]
  },
  {
   "cell_type": "code",
   "execution_count": 132,
   "id": "dce1d7c4",
   "metadata": {},
   "outputs": [],
   "source": [
    "previsao_svm_best <- predict(modelo_svm_best, dados_teste_normalizado)"
   ]
  },
  {
   "cell_type": "code",
   "execution_count": 133,
   "id": "75568927",
   "metadata": {},
   "outputs": [
    {
     "data": {
      "text/html": [
       "FALSE"
      ],
      "text/latex": [
       "FALSE"
      ],
      "text/markdown": [
       "FALSE"
      ],
      "text/plain": [
       "[1] FALSE"
      ]
     },
     "metadata": {},
     "output_type": "display_data"
    }
   ],
   "source": [
    "# EXISTE VALORES NEGATIVOS NA COLUNA DE PREVISÃO?\n",
    "any(previsao_svm_best < 0)"
   ]
  },
  {
   "cell_type": "code",
   "execution_count": 134,
   "id": "fd814001",
   "metadata": {},
   "outputs": [
    {
     "data": {
      "text/html": [
       "<table>\n",
       "<thead><tr><th></th><th scope=col>GRE_Score</th><th scope=col>TOEFL_Score</th><th scope=col>University_Rating</th><th scope=col>SOP</th><th scope=col>LOR</th><th scope=col>CGPA</th><th scope=col>Research</th><th scope=col>ChanceOfAdmit</th><th scope=col>previsao_svm_best</th><th scope=col>Residuo_Percentual</th></tr></thead>\n",
       "<tbody>\n",
       "\t<tr><th scope=row>10</th><td>0.6382979  </td><td>0.52       </td><td>3          </td><td>0.625      </td><td>0.4285714  </td><td>0.5148148  </td><td>0          </td><td>0.45       </td><td>0.7037682  </td><td>-56.3929364</td></tr>\n",
       "\t<tr><th scope=row>11</th><td>0.6808511  </td><td>0.44       </td><td>3          </td><td>0.625      </td><td>0.7142857  </td><td>0.4407407  </td><td>1          </td><td>0.52       </td><td>0.7157515  </td><td>-37.6445246</td></tr>\n",
       "\t<tr><th scope=row>18</th><td>0.5531915  </td><td>0.44       </td><td>3          </td><td>0.750      </td><td>0.4285714  </td><td>0.2925926  </td><td>1          </td><td>0.65       </td><td>0.6381436  </td><td>  1.8240553</td></tr>\n",
       "\t<tr><th scope=row>31</th><td>0.1489362  </td><td>0.08       </td><td>2          </td><td>0.500      </td><td>0.4285714  </td><td>0.3296296  </td><td>1          </td><td>0.65       </td><td>0.5456880  </td><td> 16.0480064</td></tr>\n",
       "\t<tr><th scope=row>33</th><td>0.9574468  </td><td>0.92       </td><td>4          </td><td>0.500      </td><td>0.8571429  </td><td>0.8111111  </td><td>1          </td><td>0.91       </td><td>0.9050360  </td><td>  0.5454907</td></tr>\n",
       "\t<tr><th scope=row>35</th><td>0.8085106  </td><td>0.68       </td><td>5          </td><td>0.750      </td><td>1.0000000  </td><td>0.9592593  </td><td>1          </td><td>0.94       </td><td>0.9373570  </td><td>  0.2811742</td></tr>\n",
       "\t<tr><th scope=row>36</th><td>0.5744681  </td><td>0.60       </td><td>5          </td><td>1.000      </td><td>1.0000000  </td><td>0.7370370  </td><td>1          </td><td>0.88       </td><td>0.8619329  </td><td>  2.0530811</td></tr>\n",
       "\t<tr><th scope=row>37</th><td>0.1276596  </td><td>0.44       </td><td>2          </td><td>0.750      </td><td>0.7142857  </td><td>0.4407407  </td><td>0          </td><td>0.64       </td><td>0.6339243  </td><td>  0.9493309</td></tr>\n",
       "\t<tr><th scope=row>38</th><td>0.1489362  </td><td>0.40       </td><td>1          </td><td>0.000      </td><td>0.1428571  </td><td>0.2185185  </td><td>0          </td><td>0.58       </td><td>0.5067285  </td><td> 12.6330257</td></tr>\n",
       "\t<tr><th scope=row>44</th><td>0.8297872  </td><td>0.88       </td><td>4          </td><td>0.875      </td><td>0.7142857  </td><td>0.7000000  </td><td>0          </td><td>0.87       </td><td>0.8354155  </td><td>  3.9752278</td></tr>\n",
       "</tbody>\n",
       "</table>\n"
      ],
      "text/latex": [
       "\\begin{tabular}{r|llllllllll}\n",
       "  & GRE\\_Score & TOEFL\\_Score & University\\_Rating & SOP & LOR & CGPA & Research & ChanceOfAdmit & previsao\\_svm\\_best & Residuo\\_Percentual\\\\\n",
       "\\hline\n",
       "\t10 & 0.6382979   & 0.52        & 3           & 0.625       & 0.4285714   & 0.5148148   & 0           & 0.45        & 0.7037682   & -56.3929364\\\\\n",
       "\t11 & 0.6808511   & 0.44        & 3           & 0.625       & 0.7142857   & 0.4407407   & 1           & 0.52        & 0.7157515   & -37.6445246\\\\\n",
       "\t18 & 0.5531915   & 0.44        & 3           & 0.750       & 0.4285714   & 0.2925926   & 1           & 0.65        & 0.6381436   &   1.8240553\\\\\n",
       "\t31 & 0.1489362   & 0.08        & 2           & 0.500       & 0.4285714   & 0.3296296   & 1           & 0.65        & 0.5456880   &  16.0480064\\\\\n",
       "\t33 & 0.9574468   & 0.92        & 4           & 0.500       & 0.8571429   & 0.8111111   & 1           & 0.91        & 0.9050360   &   0.5454907\\\\\n",
       "\t35 & 0.8085106   & 0.68        & 5           & 0.750       & 1.0000000   & 0.9592593   & 1           & 0.94        & 0.9373570   &   0.2811742\\\\\n",
       "\t36 & 0.5744681   & 0.60        & 5           & 1.000       & 1.0000000   & 0.7370370   & 1           & 0.88        & 0.8619329   &   2.0530811\\\\\n",
       "\t37 & 0.1276596   & 0.44        & 2           & 0.750       & 0.7142857   & 0.4407407   & 0           & 0.64        & 0.6339243   &   0.9493309\\\\\n",
       "\t38 & 0.1489362   & 0.40        & 1           & 0.000       & 0.1428571   & 0.2185185   & 0           & 0.58        & 0.5067285   &  12.6330257\\\\\n",
       "\t44 & 0.8297872   & 0.88        & 4           & 0.875       & 0.7142857   & 0.7000000   & 0           & 0.87        & 0.8354155   &   3.9752278\\\\\n",
       "\\end{tabular}\n"
      ],
      "text/markdown": [
       "\n",
       "| <!--/--> | GRE_Score | TOEFL_Score | University_Rating | SOP | LOR | CGPA | Research | ChanceOfAdmit | previsao_svm_best | Residuo_Percentual |\n",
       "|---|---|---|---|---|---|---|---|---|---|---|\n",
       "| 10 | 0.6382979   | 0.52        | 3           | 0.625       | 0.4285714   | 0.5148148   | 0           | 0.45        | 0.7037682   | -56.3929364 |\n",
       "| 11 | 0.6808511   | 0.44        | 3           | 0.625       | 0.7142857   | 0.4407407   | 1           | 0.52        | 0.7157515   | -37.6445246 |\n",
       "| 18 | 0.5531915   | 0.44        | 3           | 0.750       | 0.4285714   | 0.2925926   | 1           | 0.65        | 0.6381436   |   1.8240553 |\n",
       "| 31 | 0.1489362   | 0.08        | 2           | 0.500       | 0.4285714   | 0.3296296   | 1           | 0.65        | 0.5456880   |  16.0480064 |\n",
       "| 33 | 0.9574468   | 0.92        | 4           | 0.500       | 0.8571429   | 0.8111111   | 1           | 0.91        | 0.9050360   |   0.5454907 |\n",
       "| 35 | 0.8085106   | 0.68        | 5           | 0.750       | 1.0000000   | 0.9592593   | 1           | 0.94        | 0.9373570   |   0.2811742 |\n",
       "| 36 | 0.5744681   | 0.60        | 5           | 1.000       | 1.0000000   | 0.7370370   | 1           | 0.88        | 0.8619329   |   2.0530811 |\n",
       "| 37 | 0.1276596   | 0.44        | 2           | 0.750       | 0.7142857   | 0.4407407   | 0           | 0.64        | 0.6339243   |   0.9493309 |\n",
       "| 38 | 0.1489362   | 0.40        | 1           | 0.000       | 0.1428571   | 0.2185185   | 0           | 0.58        | 0.5067285   |  12.6330257 |\n",
       "| 44 | 0.8297872   | 0.88        | 4           | 0.875       | 0.7142857   | 0.7000000   | 0           | 0.87        | 0.8354155   |   3.9752278 |\n",
       "\n"
      ],
      "text/plain": [
       "   GRE_Score TOEFL_Score University_Rating SOP   LOR       CGPA      Research\n",
       "10 0.6382979 0.52        3                 0.625 0.4285714 0.5148148 0       \n",
       "11 0.6808511 0.44        3                 0.625 0.7142857 0.4407407 1       \n",
       "18 0.5531915 0.44        3                 0.750 0.4285714 0.2925926 1       \n",
       "31 0.1489362 0.08        2                 0.500 0.4285714 0.3296296 1       \n",
       "33 0.9574468 0.92        4                 0.500 0.8571429 0.8111111 1       \n",
       "35 0.8085106 0.68        5                 0.750 1.0000000 0.9592593 1       \n",
       "36 0.5744681 0.60        5                 1.000 1.0000000 0.7370370 1       \n",
       "37 0.1276596 0.44        2                 0.750 0.7142857 0.4407407 0       \n",
       "38 0.1489362 0.40        1                 0.000 0.1428571 0.2185185 0       \n",
       "44 0.8297872 0.88        4                 0.875 0.7142857 0.7000000 0       \n",
       "   ChanceOfAdmit previsao_svm_best Residuo_Percentual\n",
       "10 0.45          0.7037682         -56.3929364       \n",
       "11 0.52          0.7157515         -37.6445246       \n",
       "18 0.65          0.6381436           1.8240553       \n",
       "31 0.65          0.5456880          16.0480064       \n",
       "33 0.91          0.9050360           0.5454907       \n",
       "35 0.94          0.9373570           0.2811742       \n",
       "36 0.88          0.8619329           2.0530811       \n",
       "37 0.64          0.6339243           0.9493309       \n",
       "38 0.58          0.5067285          12.6330257       \n",
       "44 0.87          0.8354155           3.9752278       "
      ]
     },
     "metadata": {},
     "output_type": "display_data"
    }
   ],
   "source": [
    "resultado_admissao7 <- cbind(dados_teste_normalizado, previsao_svm_best)\n",
    "resultado_admissao7 <- resultado_admissao7 %>%\n",
    "                   mutate(Residuo_Percentual = ((ChanceOfAdmit - previsao_svm_best)/ChanceOfAdmit)*100)\n",
    "\n",
    "head(resultado_admissao7, 10)"
   ]
  },
  {
   "cell_type": "code",
   "execution_count": 135,
   "id": "b30e8bf4",
   "metadata": {},
   "outputs": [
    {
     "data": {
      "image/png": "[encoded data removed]",
      "text/plain": [
       "Plot with title \"Modelo SVM - CV - Tunegrid\""
      ]
     },
     "metadata": {},
     "output_type": "display_data"
    }
   ],
   "source": [
    "# GRÁFICO DE RESÍDUOS \n",
    "options(repr.plot.width = 4, repr.plot.height = 3.5)\n",
    "par(cex.main = 0.8, cex.lab = 0.8, cex.axis = 0.7)\n",
    "plot(resultado_admissao7$previsao_svm_best, resultado_admissao7$Residuo_Percentual, pch = 20, ylim = c(-60, 60),\n",
    "     main = \"Modelo SVM - CV - Tunegrid\", xlab = \"Previsto\", ylab = \"Resíduos (%)\")\n",
    "abline(h = 0)"
   ]
  },
  {
   "cell_type": "markdown",
   "id": "e0f175d2",
   "metadata": {},
   "source": [
    "#### MÉTRICAS - MODELO SVM - CROSS VALIDATION E TUNEGRID"
   ]
  },
  {
   "cell_type": "code",
   "execution_count": 136,
   "id": "7e271ef9",
   "metadata": {},
   "outputs": [
    {
     "name": "stdout",
     "output_type": "stream",
     "text": [
      "Resultados do teste do Modelo:\n",
      "\n",
      "R²      =  0.7962 \n",
      "Syx     =  0.0683 \n",
      "Pearson =  0.8995 \n",
      "RMSE    =  0.0658 \n",
      "MAE     =  0.0439"
     ]
    }
   ],
   "source": [
    "metricas(resultado_admissao7$ChanceOfAdmit, resultado_admissao7$previsao_svm_best, nrow(dados_teste_normalizado), 7)"
   ]
  },
  {
   "cell_type": "markdown",
   "id": "c79ff0a5",
   "metadata": {},
   "source": [
    "### 1.4 - RANDOM FOREST "
   ]
  },
  {
   "cell_type": "markdown",
   "id": "dd786683",
   "metadata": {},
   "source": [
    "#### APRENDIZADO - MODELO RANDOM FOREST - HOLD-OUT"
   ]
  },
  {
   "cell_type": "code",
   "execution_count": 138,
   "id": "19b05d00",
   "metadata": {},
   "outputs": [
    {
     "data": {
      "text/plain": [
       "Random Forest \n",
       "\n",
       "402 samples\n",
       "  7 predictor\n",
       "\n",
       "No pre-processing\n",
       "Resampling: Bootstrapped (25 reps) \n",
       "Summary of sample sizes: 402, 402, 402, 402, 402, 402, ... \n",
       "Resampling results across tuning parameters:\n",
       "\n",
       "  mtry  RMSE        Rsquared   MAE       \n",
       "   2    0.06264237  0.8046394  0.04506885\n",
       "   6    0.06391549  0.7943483  0.04575879\n",
       "  10    0.06580307  0.7824803  0.04729898\n",
       "\n",
       "RMSE was used to select the optimal model using the smallest value.\n",
       "The final value used for the model was mtry = 2."
      ]
     },
     "metadata": {},
     "output_type": "display_data"
    }
   ],
   "source": [
    "modelo_rf <- train(ChanceOfAdmit ~ CGPA  + GRE_Score + TOEFL_Score + SOP + University_Rating + LOR + Research, \n",
    "                   dados_treino, \n",
    "                   method = \"rf\")\n",
    "modelo_rf"
   ]
  },
  {
   "cell_type": "code",
   "execution_count": 139,
   "id": "5fef56cb",
   "metadata": {},
   "outputs": [],
   "source": [
    "previsao_rf <- predict(modelo_rf, dados_teste)"
   ]
  },
  {
   "cell_type": "code",
   "execution_count": 140,
   "id": "b6e068ba",
   "metadata": {},
   "outputs": [
    {
     "data": {
      "text/html": [
       "FALSE"
      ],
      "text/latex": [
       "FALSE"
      ],
      "text/markdown": [
       "FALSE"
      ],
      "text/plain": [
       "[1] FALSE"
      ]
     },
     "metadata": {},
     "output_type": "display_data"
    }
   ],
   "source": [
    "# EXISTE VALORES NEGATIVOS NA COLUNA DE PREVISÃO?\n",
    "any(previsao_rf < 0)"
   ]
  },
  {
   "cell_type": "code",
   "execution_count": 141,
   "id": "63243841",
   "metadata": {},
   "outputs": [
    {
     "data": {
      "text/html": [
       "<table>\n",
       "<thead><tr><th></th><th scope=col>GRE_Score</th><th scope=col>TOEFL_Score</th><th scope=col>University_Rating</th><th scope=col>SOP</th><th scope=col>LOR</th><th scope=col>CGPA</th><th scope=col>Research</th><th scope=col>ChanceOfAdmit</th><th scope=col>previsao_rf</th><th scope=col>Residuo_Percentual</th></tr></thead>\n",
       "<tbody>\n",
       "\t<tr><th scope=row>10</th><td>323       </td><td>108       </td><td>3         </td><td>3.5       </td><td>3.0       </td><td>8.6       </td><td>0         </td><td>0.45      </td><td>0.7098146 </td><td>-57.736583</td></tr>\n",
       "\t<tr><th scope=row>11</th><td>325       </td><td>106       </td><td>3         </td><td>3.5       </td><td>4.0       </td><td>8.4       </td><td>1         </td><td>0.52      </td><td>0.7423191 </td><td>-42.753678</td></tr>\n",
       "\t<tr><th scope=row>18</th><td>319       </td><td>106       </td><td>3         </td><td>4.0       </td><td>3.0       </td><td>8.0       </td><td>1         </td><td>0.65      </td><td>0.6744073 </td><td> -3.754963</td></tr>\n",
       "\t<tr><th scope=row>31</th><td>300       </td><td> 97       </td><td>2         </td><td>3.0       </td><td>3.0       </td><td>8.1       </td><td>1         </td><td>0.65      </td><td>0.5662018 </td><td> 12.892029</td></tr>\n",
       "\t<tr><th scope=row>33</th><td>338       </td><td>118       </td><td>4         </td><td>3.0       </td><td>4.5       </td><td>9.4       </td><td>1         </td><td>0.91      </td><td>0.8654247 </td><td>  4.898390</td></tr>\n",
       "\t<tr><th scope=row>35</th><td>331       </td><td>112       </td><td>5         </td><td>4.0       </td><td>5.0       </td><td>9.8       </td><td>1         </td><td>0.94      </td><td>0.9195636 </td><td>  2.174085</td></tr>\n",
       "\t<tr><th scope=row>36</th><td>320       </td><td>110       </td><td>5         </td><td>5.0       </td><td>5.0       </td><td>9.2       </td><td>1         </td><td>0.88      </td><td>0.8902801 </td><td> -1.168198</td></tr>\n",
       "\t<tr><th scope=row>37</th><td>299       </td><td>106       </td><td>2         </td><td>4.0       </td><td>4.0       </td><td>8.4       </td><td>0         </td><td>0.64      </td><td>0.6278559 </td><td>  1.897513</td></tr>\n",
       "\t<tr><th scope=row>38</th><td>300       </td><td>105       </td><td>1         </td><td>1.0       </td><td>2.0       </td><td>7.8       </td><td>0         </td><td>0.58      </td><td>0.5392839 </td><td>  7.020026</td></tr>\n",
       "\t<tr><th scope=row>44</th><td>332       </td><td>117       </td><td>4         </td><td>4.5       </td><td>4.0       </td><td>9.1       </td><td>0         </td><td>0.87      </td><td>0.8560949 </td><td>  1.598291</td></tr>\n",
       "</tbody>\n",
       "</table>\n"
      ],
      "text/latex": [
       "\\begin{tabular}{r|llllllllll}\n",
       "  & GRE\\_Score & TOEFL\\_Score & University\\_Rating & SOP & LOR & CGPA & Research & ChanceOfAdmit & previsao\\_rf & Residuo\\_Percentual\\\\\n",
       "\\hline\n",
       "\t10 & 323        & 108        & 3          & 3.5        & 3.0        & 8.6        & 0          & 0.45       & 0.7098146  & -57.736583\\\\\n",
       "\t11 & 325        & 106        & 3          & 3.5        & 4.0        & 8.4        & 1          & 0.52       & 0.7423191  & -42.753678\\\\\n",
       "\t18 & 319        & 106        & 3          & 4.0        & 3.0        & 8.0        & 1          & 0.65       & 0.6744073  &  -3.754963\\\\\n",
       "\t31 & 300        &  97        & 2          & 3.0        & 3.0        & 8.1        & 1          & 0.65       & 0.5662018  &  12.892029\\\\\n",
       "\t33 & 338        & 118        & 4          & 3.0        & 4.5        & 9.4        & 1          & 0.91       & 0.8654247  &   4.898390\\\\\n",
       "\t35 & 331        & 112        & 5          & 4.0        & 5.0        & 9.8        & 1          & 0.94       & 0.9195636  &   2.174085\\\\\n",
       "\t36 & 320        & 110        & 5          & 5.0        & 5.0        & 9.2        & 1          & 0.88       & 0.8902801  &  -1.168198\\\\\n",
       "\t37 & 299        & 106        & 2          & 4.0        & 4.0        & 8.4        & 0          & 0.64       & 0.6278559  &   1.897513\\\\\n",
       "\t38 & 300        & 105        & 1          & 1.0        & 2.0        & 7.8        & 0          & 0.58       & 0.5392839  &   7.020026\\\\\n",
       "\t44 & 332        & 117        & 4          & 4.5        & 4.0        & 9.1        & 0          & 0.87       & 0.8560949  &   1.598291\\\\\n",
       "\\end{tabular}\n"
      ],
      "text/markdown": [
       "\n",
       "| <!--/--> | GRE_Score | TOEFL_Score | University_Rating | SOP | LOR | CGPA | Research | ChanceOfAdmit | previsao_rf | Residuo_Percentual |\n",
       "|---|---|---|---|---|---|---|---|---|---|---|\n",
       "| 10 | 323        | 108        | 3          | 3.5        | 3.0        | 8.6        | 0          | 0.45       | 0.7098146  | -57.736583 |\n",
       "| 11 | 325        | 106        | 3          | 3.5        | 4.0        | 8.4        | 1          | 0.52       | 0.7423191  | -42.753678 |\n",
       "| 18 | 319        | 106        | 3          | 4.0        | 3.0        | 8.0        | 1          | 0.65       | 0.6744073  |  -3.754963 |\n",
       "| 31 | 300        |  97        | 2          | 3.0        | 3.0        | 8.1        | 1          | 0.65       | 0.5662018  |  12.892029 |\n",
       "| 33 | 338        | 118        | 4          | 3.0        | 4.5        | 9.4        | 1          | 0.91       | 0.8654247  |   4.898390 |\n",
       "| 35 | 331        | 112        | 5          | 4.0        | 5.0        | 9.8        | 1          | 0.94       | 0.9195636  |   2.174085 |\n",
       "| 36 | 320        | 110        | 5          | 5.0        | 5.0        | 9.2        | 1          | 0.88       | 0.8902801  |  -1.168198 |\n",
       "| 37 | 299        | 106        | 2          | 4.0        | 4.0        | 8.4        | 0          | 0.64       | 0.6278559  |   1.897513 |\n",
       "| 38 | 300        | 105        | 1          | 1.0        | 2.0        | 7.8        | 0          | 0.58       | 0.5392839  |   7.020026 |\n",
       "| 44 | 332        | 117        | 4          | 4.5        | 4.0        | 9.1        | 0          | 0.87       | 0.8560949  |   1.598291 |\n",
       "\n"
      ],
      "text/plain": [
       "   GRE_Score TOEFL_Score University_Rating SOP LOR CGPA Research ChanceOfAdmit\n",
       "10 323       108         3                 3.5 3.0 8.6  0        0.45         \n",
       "11 325       106         3                 3.5 4.0 8.4  1        0.52         \n",
       "18 319       106         3                 4.0 3.0 8.0  1        0.65         \n",
       "31 300        97         2                 3.0 3.0 8.1  1        0.65         \n",
       "33 338       118         4                 3.0 4.5 9.4  1        0.91         \n",
       "35 331       112         5                 4.0 5.0 9.8  1        0.94         \n",
       "36 320       110         5                 5.0 5.0 9.2  1        0.88         \n",
       "37 299       106         2                 4.0 4.0 8.4  0        0.64         \n",
       "38 300       105         1                 1.0 2.0 7.8  0        0.58         \n",
       "44 332       117         4                 4.5 4.0 9.1  0        0.87         \n",
       "   previsao_rf Residuo_Percentual\n",
       "10 0.7098146   -57.736583        \n",
       "11 0.7423191   -42.753678        \n",
       "18 0.6744073    -3.754963        \n",
       "31 0.5662018    12.892029        \n",
       "33 0.8654247     4.898390        \n",
       "35 0.9195636     2.174085        \n",
       "36 0.8902801    -1.168198        \n",
       "37 0.6278559     1.897513        \n",
       "38 0.5392839     7.020026        \n",
       "44 0.8560949     1.598291        "
      ]
     },
     "metadata": {},
     "output_type": "display_data"
    }
   ],
   "source": [
    "resultado_admissao8 <- cbind(dados_teste, previsao_rf)\n",
    "resultado_admissao8 <- resultado_admissao8 %>%\n",
    "                   mutate(Residuo_Percentual = ((ChanceOfAdmit - previsao_rf)/ChanceOfAdmit)*100)\n",
    "\n",
    "head(resultado_admissao8, 10)"
   ]
  },
  {
   "cell_type": "code",
   "execution_count": 142,
   "id": "74b37bef",
   "metadata": {},
   "outputs": [
    {
     "data": {
      "image/png": "[encoded data removed]",
      "text/plain": [
       "Plot with title \"Modelo Random Forest\""
      ]
     },
     "metadata": {},
     "output_type": "display_data"
    }
   ],
   "source": [
    "# GRÁFICO DE RESÍDUOS \n",
    "options(repr.plot.width = 4, repr.plot.height = 3.5)\n",
    "par(cex.main = 0.8, cex.lab = 0.8, cex.axis = 0.7)\n",
    "plot(resultado_admissao8$previsao_rf, resultado_admissao8$Residuo_Percentual, pch = 20, ylim = c(-60, 60),\n",
    "     main = \"Modelo Random Forest\", xlab = \"Previsto\", ylab = \"Resíduos (%)\")\n",
    "abline(h = 0)"
   ]
  },
  {
   "cell_type": "markdown",
   "id": "2b4b7b42",
   "metadata": {},
   "source": [
    "#### MÉTRICAS - MODELO RANDOM FOREST - HOLD-OUT"
   ]
  },
  {
   "cell_type": "code",
   "execution_count": 143,
   "id": "29f23d9a",
   "metadata": {},
   "outputs": [
    {
     "name": "stdout",
     "output_type": "stream",
     "text": [
      "Resultados do teste do Modelo:\n",
      "\n",
      "R²      =  0.7894 \n",
      "Syx     =  0.0694 \n",
      "Pearson =  0.8902 \n",
      "RMSE    =  0.0669 \n",
      "MAE     =  0.0439"
     ]
    }
   ],
   "source": [
    "metricas(resultado_admissao8$ChanceOfAdmit, resultado_admissao8$previsao_rf, nrow(dados_teste), 7)"
   ]
  },
  {
   "cell_type": "markdown",
   "id": "07e486f8",
   "metadata": {},
   "source": [
    "#### APRENDIZADO - MODELO RANDOM FOREST - CROSS VALIDATION"
   ]
  },
  {
   "cell_type": "code",
   "execution_count": 145,
   "id": "05f31f63",
   "metadata": {},
   "outputs": [
    {
     "data": {
      "text/plain": [
       "Random Forest \n",
       "\n",
       "402 samples\n",
       "  7 predictor\n",
       "\n",
       "No pre-processing\n",
       "Resampling: Bootstrapped (25 reps) \n",
       "Summary of sample sizes: 402, 402, 402, 402, 402, 402, ... \n",
       "Resampling results across tuning parameters:\n",
       "\n",
       "  mtry  RMSE        Rsquared   MAE       \n",
       "   2    0.06359685  0.7941467  0.04573639\n",
       "   6    0.06416310  0.7894347  0.04614473\n",
       "  10    0.06617870  0.7764086  0.04767413\n",
       "\n",
       "RMSE was used to select the optimal model using the smallest value.\n",
       "The final value used for the model was mtry = 2."
      ]
     },
     "metadata": {},
     "output_type": "display_data"
    }
   ],
   "source": [
    "crossvalidation3 <- trainControl(method = \"cv\", number = 10)\n",
    "modelo_rf_cv <- train(ChanceOfAdmit ~ CGPA  + GRE_Score + TOEFL_Score + SOP + University_Rating + LOR + Research, \n",
    "                      dados_treino, \n",
    "                      trainControl = crossvalidation3, \n",
    "                      method = \"rf\")\n",
    "modelo_rf_cv"
   ]
  },
  {
   "cell_type": "code",
   "execution_count": 146,
   "id": "5ee801e6",
   "metadata": {},
   "outputs": [],
   "source": [
    "previsao_rf_cv <- predict(modelo_rf_cv, dados_teste)"
   ]
  },
  {
   "cell_type": "code",
   "execution_count": 147,
   "id": "e8eb5c50",
   "metadata": {},
   "outputs": [
    {
     "data": {
      "text/html": [
       "FALSE"
      ],
      "text/latex": [
       "FALSE"
      ],
      "text/markdown": [
       "FALSE"
      ],
      "text/plain": [
       "[1] FALSE"
      ]
     },
     "metadata": {},
     "output_type": "display_data"
    }
   ],
   "source": [
    "# EXISTE VALORES NEGATIVOS NA COLUNA DE PREVISÃO?\n",
    "any(previsao_rf_cv < 0)"
   ]
  },
  {
   "cell_type": "code",
   "execution_count": 148,
   "id": "c1a03cb7",
   "metadata": {},
   "outputs": [
    {
     "data": {
      "text/html": [
       "<table>\n",
       "<thead><tr><th></th><th scope=col>GRE_Score</th><th scope=col>TOEFL_Score</th><th scope=col>University_Rating</th><th scope=col>SOP</th><th scope=col>LOR</th><th scope=col>CGPA</th><th scope=col>Research</th><th scope=col>ChanceOfAdmit</th><th scope=col>previsao_rf_cv</th><th scope=col>Residuo_Percentual</th></tr></thead>\n",
       "<tbody>\n",
       "\t<tr><th scope=row>10</th><td>323        </td><td>108        </td><td>3          </td><td>3.5        </td><td>3.0        </td><td>8.6        </td><td>0          </td><td>0.45       </td><td>0.7074967  </td><td>-57.2214851</td></tr>\n",
       "\t<tr><th scope=row>11</th><td>325        </td><td>106        </td><td>3          </td><td>3.5        </td><td>4.0        </td><td>8.4        </td><td>1          </td><td>0.52       </td><td>0.7410791  </td><td>-42.5152175</td></tr>\n",
       "\t<tr><th scope=row>18</th><td>319        </td><td>106        </td><td>3          </td><td>4.0        </td><td>3.0        </td><td>8.0        </td><td>1          </td><td>0.65       </td><td>0.6699067  </td><td> -3.0625746</td></tr>\n",
       "\t<tr><th scope=row>31</th><td>300        </td><td> 97        </td><td>2          </td><td>3.0        </td><td>3.0        </td><td>8.1        </td><td>1          </td><td>0.65       </td><td>0.5681446  </td><td> 12.5931358</td></tr>\n",
       "\t<tr><th scope=row>33</th><td>338        </td><td>118        </td><td>4          </td><td>3.0        </td><td>4.5        </td><td>9.4        </td><td>1          </td><td>0.91       </td><td>0.8668488  </td><td>  4.7418848</td></tr>\n",
       "\t<tr><th scope=row>35</th><td>331        </td><td>112        </td><td>5          </td><td>4.0        </td><td>5.0        </td><td>9.8        </td><td>1          </td><td>0.94       </td><td>0.9184287  </td><td>  2.2948216</td></tr>\n",
       "\t<tr><th scope=row>36</th><td>320        </td><td>110        </td><td>5          </td><td>5.0        </td><td>5.0        </td><td>9.2        </td><td>1          </td><td>0.88       </td><td>0.8885583  </td><td> -0.9725382</td></tr>\n",
       "\t<tr><th scope=row>37</th><td>299        </td><td>106        </td><td>2          </td><td>4.0        </td><td>4.0        </td><td>8.4        </td><td>0          </td><td>0.64       </td><td>0.6246005  </td><td>  2.4061748</td></tr>\n",
       "\t<tr><th scope=row>38</th><td>300        </td><td>105        </td><td>1          </td><td>1.0        </td><td>2.0        </td><td>7.8        </td><td>0          </td><td>0.58       </td><td>0.5524413  </td><td>  4.7514975</td></tr>\n",
       "\t<tr><th scope=row>44</th><td>332        </td><td>117        </td><td>4          </td><td>4.5        </td><td>4.0        </td><td>9.1        </td><td>0          </td><td>0.87       </td><td>0.8584544  </td><td>  1.3270862</td></tr>\n",
       "</tbody>\n",
       "</table>\n"
      ],
      "text/latex": [
       "\\begin{tabular}{r|llllllllll}\n",
       "  & GRE\\_Score & TOEFL\\_Score & University\\_Rating & SOP & LOR & CGPA & Research & ChanceOfAdmit & previsao\\_rf\\_cv & Residuo\\_Percentual\\\\\n",
       "\\hline\n",
       "\t10 & 323         & 108         & 3           & 3.5         & 3.0         & 8.6         & 0           & 0.45        & 0.7074967   & -57.2214851\\\\\n",
       "\t11 & 325         & 106         & 3           & 3.5         & 4.0         & 8.4         & 1           & 0.52        & 0.7410791   & -42.5152175\\\\\n",
       "\t18 & 319         & 106         & 3           & 4.0         & 3.0         & 8.0         & 1           & 0.65        & 0.6699067   &  -3.0625746\\\\\n",
       "\t31 & 300         &  97         & 2           & 3.0         & 3.0         & 8.1         & 1           & 0.65        & 0.5681446   &  12.5931358\\\\\n",
       "\t33 & 338         & 118         & 4           & 3.0         & 4.5         & 9.4         & 1           & 0.91        & 0.8668488   &   4.7418848\\\\\n",
       "\t35 & 331         & 112         & 5           & 4.0         & 5.0         & 9.8         & 1           & 0.94        & 0.9184287   &   2.2948216\\\\\n",
       "\t36 & 320         & 110         & 5           & 5.0         & 5.0         & 9.2         & 1           & 0.88        & 0.8885583   &  -0.9725382\\\\\n",
       "\t37 & 299         & 106         & 2           & 4.0         & 4.0         & 8.4         & 0           & 0.64        & 0.6246005   &   2.4061748\\\\\n",
       "\t38 & 300         & 105         & 1           & 1.0         & 2.0         & 7.8         & 0           & 0.58        & 0.5524413   &   4.7514975\\\\\n",
       "\t44 & 332         & 117         & 4           & 4.5         & 4.0         & 9.1         & 0           & 0.87        & 0.8584544   &   1.3270862\\\\\n",
       "\\end{tabular}\n"
      ],
      "text/markdown": [
       "\n",
       "| <!--/--> | GRE_Score | TOEFL_Score | University_Rating | SOP | LOR | CGPA | Research | ChanceOfAdmit | previsao_rf_cv | Residuo_Percentual |\n",
       "|---|---|---|---|---|---|---|---|---|---|---|\n",
       "| 10 | 323         | 108         | 3           | 3.5         | 3.0         | 8.6         | 0           | 0.45        | 0.7074967   | -57.2214851 |\n",
       "| 11 | 325         | 106         | 3           | 3.5         | 4.0         | 8.4         | 1           | 0.52        | 0.7410791   | -42.5152175 |\n",
       "| 18 | 319         | 106         | 3           | 4.0         | 3.0         | 8.0         | 1           | 0.65        | 0.6699067   |  -3.0625746 |\n",
       "| 31 | 300         |  97         | 2           | 3.0         | 3.0         | 8.1         | 1           | 0.65        | 0.5681446   |  12.5931358 |\n",
       "| 33 | 338         | 118         | 4           | 3.0         | 4.5         | 9.4         | 1           | 0.91        | 0.8668488   |   4.7418848 |\n",
       "| 35 | 331         | 112         | 5           | 4.0         | 5.0         | 9.8         | 1           | 0.94        | 0.9184287   |   2.2948216 |\n",
       "| 36 | 320         | 110         | 5           | 5.0         | 5.0         | 9.2         | 1           | 0.88        | 0.8885583   |  -0.9725382 |\n",
       "| 37 | 299         | 106         | 2           | 4.0         | 4.0         | 8.4         | 0           | 0.64        | 0.6246005   |   2.4061748 |\n",
       "| 38 | 300         | 105         | 1           | 1.0         | 2.0         | 7.8         | 0           | 0.58        | 0.5524413   |   4.7514975 |\n",
       "| 44 | 332         | 117         | 4           | 4.5         | 4.0         | 9.1         | 0           | 0.87        | 0.8584544   |   1.3270862 |\n",
       "\n"
      ],
      "text/plain": [
       "   GRE_Score TOEFL_Score University_Rating SOP LOR CGPA Research ChanceOfAdmit\n",
       "10 323       108         3                 3.5 3.0 8.6  0        0.45         \n",
       "11 325       106         3                 3.5 4.0 8.4  1        0.52         \n",
       "18 319       106         3                 4.0 3.0 8.0  1        0.65         \n",
       "31 300        97         2                 3.0 3.0 8.1  1        0.65         \n",
       "33 338       118         4                 3.0 4.5 9.4  1        0.91         \n",
       "35 331       112         5                 4.0 5.0 9.8  1        0.94         \n",
       "36 320       110         5                 5.0 5.0 9.2  1        0.88         \n",
       "37 299       106         2                 4.0 4.0 8.4  0        0.64         \n",
       "38 300       105         1                 1.0 2.0 7.8  0        0.58         \n",
       "44 332       117         4                 4.5 4.0 9.1  0        0.87         \n",
       "   previsao_rf_cv Residuo_Percentual\n",
       "10 0.7074967      -57.2214851       \n",
       "11 0.7410791      -42.5152175       \n",
       "18 0.6699067       -3.0625746       \n",
       "31 0.5681446       12.5931358       \n",
       "33 0.8668488        4.7418848       \n",
       "35 0.9184287        2.2948216       \n",
       "36 0.8885583       -0.9725382       \n",
       "37 0.6246005        2.4061748       \n",
       "38 0.5524413        4.7514975       \n",
       "44 0.8584544        1.3270862       "
      ]
     },
     "metadata": {},
     "output_type": "display_data"
    }
   ],
   "source": [
    "resultado_admissao9 <- cbind(dados_teste, previsao_rf_cv)\n",
    "resultado_admissao9 <- resultado_admissao9 %>%\n",
    "                   mutate(Residuo_Percentual = ((ChanceOfAdmit - previsao_rf_cv)/ChanceOfAdmit)*100)\n",
    "\n",
    "head(resultado_admissao9, 10)"
   ]
  },
  {
   "cell_type": "code",
   "execution_count": 149,
   "id": "dbbae8ad",
   "metadata": {},
   "outputs": [
    {
     "data": {
      "image/png": "[encoded data removed]",
      "text/plain": [
       "Plot with title \"Modelo Random Forest - CV\""
      ]
     },
     "metadata": {},
     "output_type": "display_data"
    }
   ],
   "source": [
    "# GRÁFICO DE RESÍDUOS \n",
    "options(repr.plot.width = 4, repr.plot.height = 3.5)\n",
    "par(cex.main = 0.8, cex.lab = 0.8, cex.axis = 0.7)\n",
    "plot(resultado_admissao9$previsao_rf_cv, resultado_admissao9$Residuo_Percentual, pch = 20, ylim = c(-60, 60),\n",
    "     main = \"Modelo Random Forest - CV\", xlab = \"Previsto\", ylab = \"Resíduos (%)\")\n",
    "abline(h = 0)"
   ]
  },
  {
   "cell_type": "markdown",
   "id": "8a0c6a60",
   "metadata": {},
   "source": [
    "#### MÉTRICAS - MODELO RANDOM FOREST - CROSS VALIDATION"
   ]
  },
  {
   "cell_type": "code",
   "execution_count": 150,
   "id": "623785e1",
   "metadata": {},
   "outputs": [
    {
     "name": "stdout",
     "output_type": "stream",
     "text": [
      "Resultados do teste do Modelo:\n",
      "\n",
      "R²      =  0.7915 \n",
      "Syx     =  0.069 \n",
      "Pearson =  0.8913 \n",
      "RMSE    =  0.0665 \n",
      "MAE     =  0.0437"
     ]
    }
   ],
   "source": [
    "metricas(resultado_admissao9$ChanceOfAdmit, resultado_admissao9$previsao_rf_cv, nrow(dados_teste), 7)"
   ]
  },
  {
   "cell_type": "markdown",
   "id": "5fb14564",
   "metadata": {},
   "source": [
    "#### APRENDIZADO - MODELO RANDOM FOREST - CROSS VALIDATION E TUNEGRID"
   ]
  },
  {
   "cell_type": "code",
   "execution_count": 152,
   "id": "a97ac037",
   "metadata": {},
   "outputs": [
    {
     "data": {
      "text/plain": [
       "Random Forest \n",
       "\n",
       "402 samples\n",
       "  7 predictor\n",
       "\n",
       "No pre-processing\n",
       "Resampling: Bootstrapped (25 reps) \n",
       "Summary of sample sizes: 402, 402, 402, 402, 402, 402, ... \n",
       "Resampling results across tuning parameters:\n",
       "\n",
       "  mtry  RMSE        Rsquared   MAE       \n",
       "   2    0.06308239  0.8004982  0.04547653\n",
       "   4    0.06290008  0.8000677  0.04518454\n",
       "   7    0.06436733  0.7906498  0.04639253\n",
       "   9    0.06517741  0.7855602  0.04698434\n",
       "  12    0.06582880  0.7812653  0.04748682\n",
       "  15    0.06571785  0.7819951  0.04742207\n",
       "  19    0.06568565  0.7821388  0.04735510\n",
       "\n",
       "RMSE was used to select the optimal model using the smallest value.\n",
       "The final value used for the model was mtry = 4."
      ]
     },
     "metadata": {},
     "output_type": "display_data"
    }
   ],
   "source": [
    "tunegrid3 <- expand.grid(mtry = c(2, 4, 7, 9, 12, 15, 19))\n",
    "modelo_rf_best <- train(ChanceOfAdmit ~ CGPA  + GRE_Score + TOEFL_Score + SOP + University_Rating + LOR + Research, \n",
    "                        dados_treino, \n",
    "                        method = \"rf\", \n",
    "                        trainControl = crossvalidation3,\n",
    "                        tuneGrid = tunegrid3)\n",
    "modelo_rf_best"
   ]
  },
  {
   "cell_type": "code",
   "execution_count": 153,
   "id": "38041c9c",
   "metadata": {},
   "outputs": [],
   "source": [
    "previsao_rf_best <- predict(modelo_rf_best, dados_teste)"
   ]
  },
  {
   "cell_type": "code",
   "execution_count": 154,
   "id": "c94cd369",
   "metadata": {},
   "outputs": [
    {
     "data": {
      "text/html": [
       "FALSE"
      ],
      "text/latex": [
       "FALSE"
      ],
      "text/markdown": [
       "FALSE"
      ],
      "text/plain": [
       "[1] FALSE"
      ]
     },
     "metadata": {},
     "output_type": "display_data"
    }
   ],
   "source": [
    "# EXISTE VALORES NEGATIVOS NA COLUNA DE PREVISÃO?\n",
    "any(previsao_rf_best < 0)"
   ]
  },
  {
   "cell_type": "code",
   "execution_count": 155,
   "id": "891899f0",
   "metadata": {},
   "outputs": [
    {
     "data": {
      "text/html": [
       "<table>\n",
       "<thead><tr><th></th><th scope=col>GRE_Score</th><th scope=col>TOEFL_Score</th><th scope=col>University_Rating</th><th scope=col>SOP</th><th scope=col>LOR</th><th scope=col>CGPA</th><th scope=col>Research</th><th scope=col>ChanceOfAdmit</th><th scope=col>previsao_rf_best</th><th scope=col>Residuo_Percentual</th></tr></thead>\n",
       "<tbody>\n",
       "\t<tr><th scope=row>10</th><td>323       </td><td>108       </td><td>3         </td><td>3.5       </td><td>3.0       </td><td>8.6       </td><td>0         </td><td>0.45      </td><td>0.7069504 </td><td>-57.100092</td></tr>\n",
       "\t<tr><th scope=row>11</th><td>325       </td><td>106       </td><td>3         </td><td>3.5       </td><td>4.0       </td><td>8.4       </td><td>1         </td><td>0.52      </td><td>0.7340639 </td><td>-41.166141</td></tr>\n",
       "\t<tr><th scope=row>18</th><td>319       </td><td>106       </td><td>3         </td><td>4.0       </td><td>3.0       </td><td>8.0       </td><td>1         </td><td>0.65      </td><td>0.6636966 </td><td> -2.107165</td></tr>\n",
       "\t<tr><th scope=row>31</th><td>300       </td><td> 97       </td><td>2         </td><td>3.0       </td><td>3.0       </td><td>8.1       </td><td>1         </td><td>0.65      </td><td>0.5692247 </td><td> 12.426974</td></tr>\n",
       "\t<tr><th scope=row>33</th><td>338       </td><td>118       </td><td>4         </td><td>3.0       </td><td>4.5       </td><td>9.4       </td><td>1         </td><td>0.91      </td><td>0.8805683 </td><td>  3.234251</td></tr>\n",
       "\t<tr><th scope=row>35</th><td>331       </td><td>112       </td><td>5         </td><td>4.0       </td><td>5.0       </td><td>9.8       </td><td>1         </td><td>0.94      </td><td>0.9305827 </td><td>  1.001840</td></tr>\n",
       "\t<tr><th scope=row>36</th><td>320       </td><td>110       </td><td>5         </td><td>5.0       </td><td>5.0       </td><td>9.2       </td><td>1         </td><td>0.88      </td><td>0.8900367 </td><td> -1.140532</td></tr>\n",
       "\t<tr><th scope=row>37</th><td>299       </td><td>106       </td><td>2         </td><td>4.0       </td><td>4.0       </td><td>8.4       </td><td>0         </td><td>0.64      </td><td>0.6272763 </td><td>  1.988077</td></tr>\n",
       "\t<tr><th scope=row>38</th><td>300       </td><td>105       </td><td>1         </td><td>1.0       </td><td>2.0       </td><td>7.8       </td><td>0         </td><td>0.58      </td><td>0.5465702 </td><td>  5.763751</td></tr>\n",
       "\t<tr><th scope=row>44</th><td>332       </td><td>117       </td><td>4         </td><td>4.5       </td><td>4.0       </td><td>9.1       </td><td>0         </td><td>0.87      </td><td>0.8598918 </td><td>  1.161862</td></tr>\n",
       "</tbody>\n",
       "</table>\n"
      ],
      "text/latex": [
       "\\begin{tabular}{r|llllllllll}\n",
       "  & GRE\\_Score & TOEFL\\_Score & University\\_Rating & SOP & LOR & CGPA & Research & ChanceOfAdmit & previsao\\_rf\\_best & Residuo\\_Percentual\\\\\n",
       "\\hline\n",
       "\t10 & 323        & 108        & 3          & 3.5        & 3.0        & 8.6        & 0          & 0.45       & 0.7069504  & -57.100092\\\\\n",
       "\t11 & 325        & 106        & 3          & 3.5        & 4.0        & 8.4        & 1          & 0.52       & 0.7340639  & -41.166141\\\\\n",
       "\t18 & 319        & 106        & 3          & 4.0        & 3.0        & 8.0        & 1          & 0.65       & 0.6636966  &  -2.107165\\\\\n",
       "\t31 & 300        &  97        & 2          & 3.0        & 3.0        & 8.1        & 1          & 0.65       & 0.5692247  &  12.426974\\\\\n",
       "\t33 & 338        & 118        & 4          & 3.0        & 4.5        & 9.4        & 1          & 0.91       & 0.8805683  &   3.234251\\\\\n",
       "\t35 & 331        & 112        & 5          & 4.0        & 5.0        & 9.8        & 1          & 0.94       & 0.9305827  &   1.001840\\\\\n",
       "\t36 & 320        & 110        & 5          & 5.0        & 5.0        & 9.2        & 1          & 0.88       & 0.8900367  &  -1.140532\\\\\n",
       "\t37 & 299        & 106        & 2          & 4.0        & 4.0        & 8.4        & 0          & 0.64       & 0.6272763  &   1.988077\\\\\n",
       "\t38 & 300        & 105        & 1          & 1.0        & 2.0        & 7.8        & 0          & 0.58       & 0.5465702  &   5.763751\\\\\n",
       "\t44 & 332        & 117        & 4          & 4.5        & 4.0        & 9.1        & 0          & 0.87       & 0.8598918  &   1.161862\\\\\n",
       "\\end{tabular}\n"
      ],
      "text/markdown": [
       "\n",
       "| <!--/--> | GRE_Score | TOEFL_Score | University_Rating | SOP | LOR | CGPA | Research | ChanceOfAdmit | previsao_rf_best | Residuo_Percentual |\n",
       "|---|---|---|---|---|---|---|---|---|---|---|\n",
       "| 10 | 323        | 108        | 3          | 3.5        | 3.0        | 8.6        | 0          | 0.45       | 0.7069504  | -57.100092 |\n",
       "| 11 | 325        | 106        | 3          | 3.5        | 4.0        | 8.4        | 1          | 0.52       | 0.7340639  | -41.166141 |\n",
       "| 18 | 319        | 106        | 3          | 4.0        | 3.0        | 8.0        | 1          | 0.65       | 0.6636966  |  -2.107165 |\n",
       "| 31 | 300        |  97        | 2          | 3.0        | 3.0        | 8.1        | 1          | 0.65       | 0.5692247  |  12.426974 |\n",
       "| 33 | 338        | 118        | 4          | 3.0        | 4.5        | 9.4        | 1          | 0.91       | 0.8805683  |   3.234251 |\n",
       "| 35 | 331        | 112        | 5          | 4.0        | 5.0        | 9.8        | 1          | 0.94       | 0.9305827  |   1.001840 |\n",
       "| 36 | 320        | 110        | 5          | 5.0        | 5.0        | 9.2        | 1          | 0.88       | 0.8900367  |  -1.140532 |\n",
       "| 37 | 299        | 106        | 2          | 4.0        | 4.0        | 8.4        | 0          | 0.64       | 0.6272763  |   1.988077 |\n",
       "| 38 | 300        | 105        | 1          | 1.0        | 2.0        | 7.8        | 0          | 0.58       | 0.5465702  |   5.763751 |\n",
       "| 44 | 332        | 117        | 4          | 4.5        | 4.0        | 9.1        | 0          | 0.87       | 0.8598918  |   1.161862 |\n",
       "\n"
      ],
      "text/plain": [
       "   GRE_Score TOEFL_Score University_Rating SOP LOR CGPA Research ChanceOfAdmit\n",
       "10 323       108         3                 3.5 3.0 8.6  0        0.45         \n",
       "11 325       106         3                 3.5 4.0 8.4  1        0.52         \n",
       "18 319       106         3                 4.0 3.0 8.0  1        0.65         \n",
       "31 300        97         2                 3.0 3.0 8.1  1        0.65         \n",
       "33 338       118         4                 3.0 4.5 9.4  1        0.91         \n",
       "35 331       112         5                 4.0 5.0 9.8  1        0.94         \n",
       "36 320       110         5                 5.0 5.0 9.2  1        0.88         \n",
       "37 299       106         2                 4.0 4.0 8.4  0        0.64         \n",
       "38 300       105         1                 1.0 2.0 7.8  0        0.58         \n",
       "44 332       117         4                 4.5 4.0 9.1  0        0.87         \n",
       "   previsao_rf_best Residuo_Percentual\n",
       "10 0.7069504        -57.100092        \n",
       "11 0.7340639        -41.166141        \n",
       "18 0.6636966         -2.107165        \n",
       "31 0.5692247         12.426974        \n",
       "33 0.8805683          3.234251        \n",
       "35 0.9305827          1.001840        \n",
       "36 0.8900367         -1.140532        \n",
       "37 0.6272763          1.988077        \n",
       "38 0.5465702          5.763751        \n",
       "44 0.8598918          1.161862        "
      ]
     },
     "metadata": {},
     "output_type": "display_data"
    }
   ],
   "source": [
    "resultado_admissao10 <- cbind(dados_teste, previsao_rf_best)\n",
    "resultado_admissao10 <- resultado_admissao10 %>%\n",
    "                   mutate(Residuo_Percentual = ((ChanceOfAdmit - previsao_rf_best)/ChanceOfAdmit)*100)\n",
    "\n",
    "head(resultado_admissao10, 10)"
   ]
  },
  {
   "cell_type": "code",
   "execution_count": 157,
   "id": "ab39ce3e",
   "metadata": {},
   "outputs": [
    {
     "data": {
      "image/png": "[encoded data removed]",
      "text/plain": [
       "Plot with title \"Gráfico de Resíduos\""
      ]
     },
     "metadata": {},
     "output_type": "display_data"
    }
   ],
   "source": [
    "# GRÁFICO DE RESÍDUOS \n",
    "options(repr.plot.width = 4, repr.plot.height = 3.5)\n",
    "par(cex.main = 0.8, cex.lab = 0.8, cex.axis = 0.7)\n",
    "plot(resultado_admissao10$previsao_rf_best, resultado_admissao10$Residuo_Percentual, pch = 20, ylim = c(-60, 60),\n",
    "     main =\"Gráfico de Resíduos\", xlab = \"Predito\", ylab = \"Resíduo\")\n",
    "abline(h = 0)"
   ]
  },
  {
   "cell_type": "markdown",
   "id": "8ac096d4",
   "metadata": {},
   "source": [
    "#### MÉTRICAS - MODELO RANDOM FOREST - CROSS VALIDATION E TUNEGRID"
   ]
  },
  {
   "cell_type": "code",
   "execution_count": 158,
   "id": "73ff5690",
   "metadata": {},
   "outputs": [
    {
     "name": "stdout",
     "output_type": "stream",
     "text": [
      "Resultados do teste do Modelo:\n",
      "\n",
      "R²      =  0.794 \n",
      "Syx     =  0.0686 \n",
      "Pearson =  0.8927 \n",
      "RMSE    =  0.0661 \n",
      "MAE     =  0.0429"
     ]
    }
   ],
   "source": [
    "metricas(resultado_admissao10$ChanceOfAdmit, resultado_admissao10$previsao_rf_best, nrow(dados_teste), 7)"
   ]
  }
 ],
 "metadata": {
  "kernelspec": {
   "display_name": "R",
   "language": "R",
   "name": "ir"
  },
  "language_info": {
   "codemirror_mode": "r",
   "file_extension": ".r",
   "mimetype": "text/x-r-source",
   "name": "R",
   "pygments_lexer": "r",
   "version": "3.6.1"
  }
 },
 "nbformat": 4,
 "nbformat_minor": 5
}
