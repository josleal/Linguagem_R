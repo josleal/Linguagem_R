{
 "cells": [
  {
   "cell_type": "markdown",
   "metadata": {},
   "source": [
    "### PROJETO 01: DETECÇÃO DE FRAUDES NO TRÁFEGO DE CLIQUES EM PROPAGANDAS DE APLICAÇÕES MOBILE\n",
    "\n",
    "![<caption>](TalkingData.PNG)\n",
    "\n",
    "A TalkingData (https://www.talkingdata.com), a maior plataforma de big data independente da china, cobre mais de 70% dos dispositivos móveis ativos em todo o país. Eles lidam com 3 bilhões de cliques por dia, dos quais 90% são potencialmente fraudulentos. Sua abordagem atual para impedir fraudes de cliques para desenvolvedores de aplicativos é medir a jornada do clique de um usuário em todo o portifólio e sinalizar endereços ip que produzem muitos cliques, mas nunca acabam instalando aplicativos. Com essas informações, eles criaram uma lista negra de ips e uma lista negra de dispositivos. Embora bem-sucedidos, eles querem estar sempre um passo à frente dos fraudadores e pretedem desenvolver ainda mais a solução. Então, neste projeto, o objetivo é construir um modelo de aprendizado de máquina para determinar se um clique é fraudulento ou não.\n"
   ]
  },
  {
   "cell_type": "markdown",
   "metadata": {},
   "source": [
    "**Descrição dos Dados**\n",
    "\n",
    "Os dados de treino foram coletados do dataset train.csv do Kaggle. Além de coletar amostras, foi realizada fiz modificações nos nomes das variáveis para uma melhor compreenssão delas.\n",
    "\n",
    "Dados de Treino:\n",
    "\n",
    "Cada linha dos dados de treinamento contém um registro de cliques, com os seguintes recursos.\n",
    "\n",
    "- IP: ip endereço de clique.\n",
    "- App: id de aplicativo para marketing.\n",
    "- Dispositivo: identificação do tipo de dispositivo do celular do usuário (por exemplo, iphone 6 plus, iphone 7, huawei mate 7, etc.)\n",
    "- SO: id versão do sistema operacional do celular do usuário\n",
    "- Canal: id do canal da editora de anúncios móveis\n",
    "- Horario_clique: fuso de hora em hora (UTC)\n",
    "- Horario_download: se o usuário baixar o aplicativo para depois de clicar em um anúncio, esta é a hora do download do aplicativo\n",
    "- Classe: o alvo a ser previsto, indicando que o aplicativo foi baixado"
   ]
  },
  {
   "cell_type": "markdown",
   "metadata": {},
   "source": [
    "### PRÉ-PROCESSAMENTO E ANÁLISE DOS DADOS"
   ]
  },
  {
   "cell_type": "markdown",
   "metadata": {},
   "source": [
    "#### **DIRETÓRIO DE TRABALHO E CARREGAMENTO DE BIBLIOTECAS**"
   ]
  },
  {
   "cell_type": "code",
   "execution_count": 1,
   "metadata": {},
   "outputs": [
    {
     "data": {
      "text/html": [
       "'C:/FCD/DataScienceAcademy/BigDataRAzure/Projeto1'"
      ],
      "text/latex": [
       "'C:/FCD/DataScienceAcademy/BigDataRAzure/Projeto1'"
      ],
      "text/markdown": [
       "'C:/FCD/DataScienceAcademy/BigDataRAzure/Projeto1'"
      ],
      "text/plain": [
       "[1] \"C:/FCD/DataScienceAcademy/BigDataRAzure/Projeto1\""
      ]
     },
     "metadata": {},
     "output_type": "display_data"
    }
   ],
   "source": [
    "# DIRETÓRIO DE TRABALHO\n",
    "setwd('C:/FCD/DataScienceAcademy/BigDataRAzure/Projeto1')\n",
    "getwd()"
   ]
  },
  {
   "cell_type": "code",
   "execution_count": 2,
   "metadata": {},
   "outputs": [],
   "source": [
    "# DESATIVAR MENSAGENS DE WARNINGS (warn = -1) E ATIVAR (warn = 0)\n",
    "options(warn = -1)"
   ]
  },
  {
   "cell_type": "code",
   "execution_count": 3,
   "metadata": {},
   "outputs": [],
   "source": [
    "# DESATIVA NOTAÇÃO CIENTÍFICA\n",
    "options(scipen = 999)"
   ]
  },
  {
   "cell_type": "code",
   "execution_count": 4,
   "metadata": {},
   "outputs": [],
   "source": [
    "# PARA TAMANHO DOS GRÁFICOS\n",
    "options(jupyter.plot_scale = 1)"
   ]
  },
  {
   "cell_type": "code",
   "execution_count": 5,
   "metadata": {},
   "outputs": [],
   "source": [
    "# CARREGANDO BIBLIOTECAS \n",
    "suppressPackageStartupMessages({\n",
    "library(dplyr)\n",
    "library(tidyr)\n",
    "library(data.table)\n",
    "library(readr)\n",
    "library(ggplot2)\n",
    "library(gridExtra)\n",
    "library(scales) # Função date_format()\n",
    "library(lubridate)\n",
    "library(caret)\n",
    "library(e1071)\n",
    "library(class)\n",
    "library(caTools) # Função sample.spli()\n",
    "library(ROCR)\n",
    "})"
   ]
  },
  {
   "cell_type": "markdown",
   "metadata": {},
   "source": [
    "#### CARREGANDO OS DADOS"
   ]
  },
  {
   "cell_type": "code",
   "execution_count": 6,
   "metadata": {},
   "outputs": [
    {
     "name": "stdout",
     "output_type": "stream",
     "text": [
      "Rows: 240,000\n",
      "Columns: 8\n",
      "$ IP               <int> 95766, 43793, 32453, 314022, 40241, 197004, 106770, 5~\n",
      "$ App              <int> 18, 29, 18, 39, 3, 5, 18, 3, 14, 18, 14, 1, 17, 19, 1~\n",
      "$ Dispositivo      <int> 1, 1, 1, 1, 1, 1, 1, 1, 1, 1, 1, 1, 1, 0, 1, 0, 1, 2,~\n",
      "$ SO               <int> 20, 19, 18, 19, 8, 11, 20, 10, 25, 32, 19, 13, 13, 38~\n",
      "$ Canal            <int> 107, 213, 107, 213, 280, 113, 107, 280, 379, 121, 379~\n",
      "$ Horario_clique   <chr> \"2017-11-08 02:34:42\", \"2017-11-08 14:38:44\", \"2017-1~\n",
      "$ Horario_download <chr> NA, \"2017-11-08 14:47:49\", \"2017-11-09 12:48:00\", \"20~\n",
      "$ Classe           <int> 0, 1, 1, 1, 0, 1, 0, 0, 0, 0, 0, 0, 0, 1, 0, 1, 0, 0,~\n"
     ]
    }
   ],
   "source": [
    "# CARREGANDO df_Talking_Data\n",
    "df_Talking_Data <- fread(\"df_Talking_Data.csv\")\n",
    "glimpse(df_Talking_Data)"
   ]
  },
  {
   "cell_type": "code",
   "execution_count": 7,
   "metadata": {},
   "outputs": [],
   "source": [
    "# TRANSFORMANDO COLUNAS DE STRING EM DATA\n",
    "df_Talking_Data$Horario_clique <- as_datetime(df_Talking_Data$Horario_clique)\n",
    "df_Talking_Data$Horario_download <- as_datetime(df_Talking_Data$Horario_download)"
   ]
  },
  {
   "cell_type": "code",
   "execution_count": 8,
   "metadata": {},
   "outputs": [
    {
     "name": "stdout",
     "output_type": "stream",
     "text": [
      "Rows: 240,000\n",
      "Columns: 8\n",
      "$ IP               <int> 95766, 43793, 32453, 314022, 40241, 197004, 106770, 5~\n",
      "$ App              <int> 18, 29, 18, 39, 3, 5, 18, 3, 14, 18, 14, 1, 17, 19, 1~\n",
      "$ Dispositivo      <int> 1, 1, 1, 1, 1, 1, 1, 1, 1, 1, 1, 1, 1, 0, 1, 0, 1, 2,~\n",
      "$ SO               <int> 20, 19, 18, 19, 8, 11, 20, 10, 25, 32, 19, 13, 13, 38~\n",
      "$ Canal            <int> 107, 213, 107, 213, 280, 113, 107, 280, 379, 121, 379~\n",
      "$ Horario_clique   <dttm> 2017-11-08 02:34:42, 2017-11-08 14:38:44, 2017-11-09~\n",
      "$ Horario_download <dttm> NA, 2017-11-08 14:47:49, 2017-11-09 12:48:00, 2017-1~\n",
      "$ Classe           <int> 0, 1, 1, 1, 0, 1, 0, 0, 0, 0, 0, 0, 0, 1, 0, 1, 0, 0,~\n"
     ]
    }
   ],
   "source": [
    "glimpse(df_Talking_Data)"
   ]
  },
  {
   "cell_type": "code",
   "execution_count": 9,
   "metadata": {
    "slideshow": {
     "slide_type": "-"
    }
   },
   "outputs": [
    {
     "data": {
      "image/png": "[encoded data removed]",
      "text/plain": [
       "plot without title"
      ]
     },
     "metadata": {},
     "output_type": "display_data"
    }
   ],
   "source": [
    "# QUANTIDADE DE INSTÂNCIAS EM CADA CLASSES\n",
    "g0 <- ggplot(df_Talking_Data, aes(x = as.factor(Classe))) +\n",
    "     geom_bar(stat = 'count') +\n",
    "     coord_cartesian(ylim = c(0, 150000)) +\n",
    "     labs(title = \"Quantidade de Instâncias nas Classes\",x = 'Classes', y = 'Quantidade') +\n",
    "     theme(text = element_text(size = 8))\n",
    "\n",
    "options(repr.plot.width = 3.0, repr.plot.height = 3.5)\n",
    "g0"
   ]
  },
  {
   "cell_type": "markdown",
   "metadata": {},
   "source": [
    "#### CLIQUES SEM DOWNLOAD"
   ]
  },
  {
   "cell_type": "code",
   "execution_count": 10,
   "metadata": {},
   "outputs": [],
   "source": [
    "## SLICE DATASET - APLICATIVO NÃO BAIXADO\n",
    "df_nao_baixado <- df_Talking_Data[df_Talking_Data$Classe == 0,]\n",
    "df_nao_baixado$Classe <- as.factor(df_nao_baixado$Classe)"
   ]
  },
  {
   "cell_type": "code",
   "execution_count": 11,
   "metadata": {},
   "outputs": [],
   "source": [
    "# FUNÇÃO PARA PLOTAGEM DO GRÁFICO DE BARRAS\n",
    "grafico_barras <- function(x, xlab, title){\n",
    "    ggplot(x[1:15,], aes(x = reorder(Var1, Freq), y = Freq)) +\n",
    "    geom_bar(stat = \"identity\") + labs(x = xlab, y = \"Quantidade de Cliques\", title = title) +\n",
    "    theme_minimal() +\n",
    "    theme( plot.title = element_text(hjust = 0.5), text = element_text(size = 8)) +\n",
    "    coord_flip()\n",
    "}"
   ]
  },
  {
   "cell_type": "code",
   "execution_count": 12,
   "metadata": {},
   "outputs": [],
   "source": [
    "# IP \n",
    "ip <- data.frame(table(df_nao_baixado$IP))\n",
    "ip <- ip[order(ip$Freq, decreasing = T),]\n",
    "\n",
    "# IP E NÚMERO DE CLIQUES QUE NÃO BAIXARAM O APLICATIVO \n",
    "# 15 PRIMEIROS IPs DE MAIOR NÚMERO DE CLIQUES \n",
    "g1 = grafico_barras(ip, \"IP\", \"IP sem download\")"
   ]
  },
  {
   "cell_type": "code",
   "execution_count": 13,
   "metadata": {},
   "outputs": [],
   "source": [
    "# ID APP \n",
    "id_aplicativo <- data.frame(table(df_nao_baixado$App))\n",
    "id_aplicativo <- id_aplicativo[order(id_aplicativo$Freq, decreasing = T),]\n",
    "\n",
    "# IDs DE APP E NÚMERO DE CLIQUES QUE NÃO BAIXARAM O APLICATIVO \n",
    "# 15 PRIMEIROS IDs DE APP DE MAIOR NÚMERO DE CLIQUES \n",
    "g2 = grafico_barras(id_aplicativo, \"App\", \"App e cliques sem download\")"
   ]
  },
  {
   "cell_type": "code",
   "execution_count": 14,
   "metadata": {},
   "outputs": [],
   "source": [
    "# ID DISPOSITIVO\n",
    "identificacao_dispositivo <- data.frame(table(df_nao_baixado$Dispositivo))\n",
    "identificacao_dispositivo <- identificacao_dispositivo[order(identificacao_dispositivo$Freq, decreasing = T),]\n",
    "\n",
    "# IDs DOS DISPOSITIVOS E VOLUME DE CLIQUES QUE NÃO BAIXARAM O APLICATIVO \n",
    "# 15 PRIMEIROS IDs DE DISPOSITIVOS DE MAIOR NÚMERO DE CLIQUES\n",
    "g3 = grafico_barras(identificacao_dispositivo, \"Dispositivo\", \"Dispositivo e cliques sem download\")"
   ]
  },
  {
   "cell_type": "code",
   "execution_count": 15,
   "metadata": {},
   "outputs": [],
   "source": [
    "# ID SISTEMA OPERACIONAL\n",
    "id_sistema_operacional <- data.frame(table(df_nao_baixado$SO))\n",
    "id_sistema_operacional <- id_sistema_operacional[order(id_sistema_operacional$Freq, decreasing = T),]\n",
    "\n",
    "# IDs DO SISTEMA OPERACIONAL E VOLUME DE CLIQUES QUE NÃO BAIXARAM O APLICATIVO \n",
    "# 15 PRIMEIROS IDs DE SISTEMA OPERACIONAL DE MAIOR NÚMERO DE CLIQUES\n",
    "g4 <- grafico_barras(id_sistema_operacional, \"SO\", \"SO e cliques sem download\")"
   ]
  },
  {
   "cell_type": "code",
   "execution_count": 16,
   "metadata": {},
   "outputs": [],
   "source": [
    "# ID CANAL \n",
    "id_canal <- data.frame(table(df_nao_baixado$Canal))\n",
    "id_canal <- id_canal [order(id_canal$Freq, decreasing = T),]\n",
    "\n",
    "# IDs DE CANAL E VOLUME DE CLIQUES QUE NÃO BAIXARAM O APLICATIVO\n",
    "# 15 PRIMEIROS IDs DE CANAL EM QUE SE TEVE MAIOR NÚMERO DE CLIQUES\n",
    "g5 <- grafico_barras(id_canal, \"Canal\", \"Canal e cliques sem download\")"
   ]
  },
  {
   "cell_type": "code",
   "execution_count": 17,
   "metadata": {},
   "outputs": [
    {
     "data": {
      "image/png": "[encoded data removed]",
      "text/plain": [
       "plot without title"
      ]
     },
     "metadata": {},
     "output_type": "display_data"
    }
   ],
   "source": [
    "options(repr.plot.width = 7, repr.plot.height = 7)\n",
    "grid.arrange(g1, g2, g3, g4, g5)"
   ]
  },
  {
   "cell_type": "markdown",
   "metadata": {},
   "source": [
    "O tipo de dispositivo 1 é o que mais está associado à cliques sem downloads. Os IDs do sistema operacional 19 e 13 são os mais associados à cliques sem downloads. Já o canal em que mais se tem cliques sem downloads é o 280."
   ]
  },
  {
   "cell_type": "code",
   "execution_count": 18,
   "metadata": {},
   "outputs": [
    {
     "name": "stdout",
     "output_type": "stream",
     "text": [
      "De: 2017-11-06 16:00:00\n",
      "Até: 2017-11-09 15:59:59"
     ]
    }
   ],
   "source": [
    "# PERÍODO DE CLIQUES SEM DOWNLOAD CONFORME AMOSTRA COLETADA - DATA E HORÁRIO\n",
    "df_cliques_sem_download = df_Talking_Data[df_Talking_Data$Classe == 0,]\n",
    "inicio <- min(df_cliques_sem_download$Horario_clique)\n",
    "fim <- max(df_cliques_sem_download$Horario_clique)\n",
    "cat(sprintf(\"De: %s\", inicio))\n",
    "cat(sprintf(\"\\nAté: %s\", fim))"
   ]
  },
  {
   "cell_type": "code",
   "execution_count": 19,
   "metadata": {},
   "outputs": [
    {
     "data": {
      "text/html": [
       "<table>\n",
       "<thead><tr><th scope=col>Data_horario</th><th scope=col>Frequencia</th></tr></thead>\n",
       "<tbody>\n",
       "\t<tr><td>2017-11-06 16:00:00</td><td>1                  </td></tr>\n",
       "\t<tr><td>2017-11-06 16:00:01</td><td>2                  </td></tr>\n",
       "\t<tr><td>2017-11-06 16:00:06</td><td>2                  </td></tr>\n",
       "</tbody>\n",
       "</table>\n"
      ],
      "text/latex": [
       "\\begin{tabular}{r|ll}\n",
       " Data\\_horario & Frequencia\\\\\n",
       "\\hline\n",
       "\t 2017-11-06 16:00:00 & 1                  \\\\\n",
       "\t 2017-11-06 16:00:01 & 2                  \\\\\n",
       "\t 2017-11-06 16:00:06 & 2                  \\\\\n",
       "\\end{tabular}\n"
      ],
      "text/markdown": [
       "\n",
       "| Data_horario | Frequencia |\n",
       "|---|---|\n",
       "| 2017-11-06 16:00:00 | 1                   |\n",
       "| 2017-11-06 16:00:01 | 2                   |\n",
       "| 2017-11-06 16:00:06 | 2                   |\n",
       "\n"
      ],
      "text/plain": [
       "  Data_horario        Frequencia\n",
       "1 2017-11-06 16:00:00 1         \n",
       "2 2017-11-06 16:00:01 2         \n",
       "3 2017-11-06 16:00:06 2         "
      ]
     },
     "metadata": {},
     "output_type": "display_data"
    }
   ],
   "source": [
    "# TABELA COM A FREQUENCIA DE CLIQUES SEM DOWNLOAD EM DETERMINADO HORÁRIO \n",
    "df_frequencia1 <- data.frame(table(df_cliques_sem_download$Horario_clique))\n",
    "names(df_frequencia1) <- c(\"Data_horario\", \"Frequencia\")\n",
    "head(df_frequencia1, 3)"
   ]
  },
  {
   "cell_type": "code",
   "execution_count": 20,
   "metadata": {},
   "outputs": [
    {
     "data": {
      "text/html": [
       "<table>\n",
       "<thead><tr><th scope=col>Data_Horario</th><th scope=col>Data_Horario2</th><th scope=col>Data</th><th scope=col>Frequencia_cliques</th></tr></thead>\n",
       "<tbody>\n",
       "\t<tr><td>2017-11-06 16:00:00</td><td>2017-11-06 16:00:00</td><td>2017-11-06         </td><td>1                  </td></tr>\n",
       "\t<tr><td>2017-11-06 16:00:01</td><td>2017-11-06 16:00:00</td><td>2017-11-06         </td><td>2                  </td></tr>\n",
       "\t<tr><td>2017-11-06 16:00:06</td><td>2017-11-06 16:00:00</td><td>2017-11-06         </td><td>2                  </td></tr>\n",
       "</tbody>\n",
       "</table>\n"
      ],
      "text/latex": [
       "\\begin{tabular}{r|llll}\n",
       " Data\\_Horario & Data\\_Horario2 & Data & Frequencia\\_cliques\\\\\n",
       "\\hline\n",
       "\t 2017-11-06 16:00:00 & 2017-11-06 16:00:00 & 2017-11-06          & 1                  \\\\\n",
       "\t 2017-11-06 16:00:01 & 2017-11-06 16:00:00 & 2017-11-06          & 2                  \\\\\n",
       "\t 2017-11-06 16:00:06 & 2017-11-06 16:00:00 & 2017-11-06          & 2                  \\\\\n",
       "\\end{tabular}\n"
      ],
      "text/markdown": [
       "\n",
       "| Data_Horario | Data_Horario2 | Data | Frequencia_cliques |\n",
       "|---|---|---|---|\n",
       "| 2017-11-06 16:00:00 | 2017-11-06 16:00:00 | 2017-11-06          | 1                   |\n",
       "| 2017-11-06 16:00:01 | 2017-11-06 16:00:00 | 2017-11-06          | 2                   |\n",
       "| 2017-11-06 16:00:06 | 2017-11-06 16:00:00 | 2017-11-06          | 2                   |\n",
       "\n"
      ],
      "text/plain": [
       "  Data_Horario        Data_Horario2       Data       Frequencia_cliques\n",
       "1 2017-11-06 16:00:00 2017-11-06 16:00:00 2017-11-06 1                 \n",
       "2 2017-11-06 16:00:01 2017-11-06 16:00:00 2017-11-06 2                 \n",
       "3 2017-11-06 16:00:06 2017-11-06 16:00:00 2017-11-06 2                 "
      ]
     },
     "metadata": {},
     "output_type": "display_data"
    }
   ],
   "source": [
    "# ACRESCENTANDO DATA E DIA E HORA (SEM CONTAR MINUTOS E SEGUNDOS)\n",
    "df_frequencia2 <- mutate(df_frequencia1, Data_Horario = df_frequencia1$Data_horario,\n",
    "           Data_Horario2 = make_datetime(year(df_frequencia1$Data_horario), month(df_frequencia1$Data_horario), \n",
    "                                         day(df_frequencia1$Data_horario), hour(df_frequencia1$Data_horario)),\n",
    "           Data = make_date(year(df_frequencia1$Data_horario), month(df_frequencia1$Data_horario), \n",
    "                            day(df_frequencia1$Data_horario)),\n",
    "           Frequencia_cliques = df_frequencia1$Frequencia)\n",
    "           \n",
    "\n",
    "df_frequencia3 <- select(df_frequencia2, Data_Horario, Data_Horario2, Data, Frequencia_cliques)\n",
    "\n",
    "head(df_frequencia3, 3)"
   ]
  },
  {
   "cell_type": "code",
   "execution_count": 21,
   "metadata": {},
   "outputs": [
    {
     "data": {
      "text/html": [
       "<table>\n",
       "<thead><tr><th scope=col>Data</th><th scope=col>Data_Horario2</th><th scope=col>Frequencia_cliques</th></tr></thead>\n",
       "<tbody>\n",
       "\t<tr><td>2017-11-06         </td><td>2017-11-06 16:00:00</td><td>1522               </td></tr>\n",
       "\t<tr><td>2017-11-06         </td><td>2017-11-06 17:00:00</td><td> 823               </td></tr>\n",
       "\t<tr><td>2017-11-06         </td><td>2017-11-06 18:00:00</td><td> 506               </td></tr>\n",
       "</tbody>\n",
       "</table>\n"
      ],
      "text/latex": [
       "\\begin{tabular}{r|lll}\n",
       " Data & Data\\_Horario2 & Frequencia\\_cliques\\\\\n",
       "\\hline\n",
       "\t 2017-11-06          & 2017-11-06 16:00:00 & 1522               \\\\\n",
       "\t 2017-11-06          & 2017-11-06 17:00:00 &  823               \\\\\n",
       "\t 2017-11-06          & 2017-11-06 18:00:00 &  506               \\\\\n",
       "\\end{tabular}\n"
      ],
      "text/markdown": [
       "\n",
       "| Data | Data_Horario2 | Frequencia_cliques |\n",
       "|---|---|---|\n",
       "| 2017-11-06          | 2017-11-06 16:00:00 | 1522                |\n",
       "| 2017-11-06          | 2017-11-06 17:00:00 |  823                |\n",
       "| 2017-11-06          | 2017-11-06 18:00:00 |  506                |\n",
       "\n"
      ],
      "text/plain": [
       "  Data       Data_Horario2       Frequencia_cliques\n",
       "1 2017-11-06 2017-11-06 16:00:00 1522              \n",
       "2 2017-11-06 2017-11-06 17:00:00  823              \n",
       "3 2017-11-06 2017-11-06 18:00:00  506              "
      ]
     },
     "metadata": {},
     "output_type": "display_data"
    }
   ],
   "source": [
    "# AGRUPAMENTO POR DIA E HORA\n",
    "df_frequencia4 <- df_frequencia3 %>%\n",
    "            group_by(Data, Data_Horario2) %>%\n",
    "            summarise(Frequencia_cliques = sum(Frequencia_cliques), .groups = \"keep\")\n",
    "\n",
    "head(df_frequencia4, 3)"
   ]
  },
  {
   "cell_type": "code",
   "execution_count": 22,
   "metadata": {},
   "outputs": [
    {
     "data": {
      "image/png": "[encoded data removed]",
      "text/plain": [
       "plot without title"
      ]
     },
     "metadata": {},
     "output_type": "display_data"
    }
   ],
   "source": [
    "g6 <- ggplot(df_frequencia4, aes(x = Data_Horario2, y = Frequencia_cliques)) +\n",
    "    geom_line(size = 0.7,colour = 'gold') +                    \n",
    "    geom_point(size = 1.3, colour = 'black') +\n",
    "    scale_x_datetime(labels = date_format(format = '%Hh', tz = \"UTC\"), date_breaks = \"3 hours\") +\n",
    "    coord_cartesian(ylim = c(0, 3000)) +\n",
    "    labs(x = 'Horas', y = 'Frequência de Cliques', title = 'Cliques sem download 06/11/2017 a 09/11/2017') +\n",
    "    theme(plot.title = element_text(hjust = 0.5), text = element_text(size = 8))\n",
    "\n",
    "options(repr.plot.width = 7, repr.plot.height = 4.5)\n",
    "g6"
   ]
  },
  {
   "cell_type": "markdown",
   "metadata": {},
   "source": [
    "No gráfico precebe-se que ocorrem picos de 00h00 às 14h00. Há um enorme crescimento de cliques sem download no período de 21h00 às 00h00 nos dias 6, 7 e 8 e uma queda enorme no período de 15h00 às 20h00 nos dias 7 e 8."
   ]
  },
  {
   "cell_type": "code",
   "execution_count": 23,
   "metadata": {},
   "outputs": [
    {
     "data": {
      "text/html": [
       "<table>\n",
       "<thead><tr><th scope=col>Hora</th><th scope=col>Total_cliques</th></tr></thead>\n",
       "<tbody>\n",
       "\t<tr><td>00  </td><td>6803</td></tr>\n",
       "\t<tr><td>01  </td><td>6242</td></tr>\n",
       "\t<tr><td>02  </td><td>6365</td></tr>\n",
       "\t<tr><td>03  </td><td>6228</td></tr>\n",
       "\t<tr><td>04  </td><td>7322</td></tr>\n",
       "</tbody>\n",
       "</table>\n"
      ],
      "text/latex": [
       "\\begin{tabular}{r|ll}\n",
       " Hora & Total\\_cliques\\\\\n",
       "\\hline\n",
       "\t 00   & 6803\\\\\n",
       "\t 01   & 6242\\\\\n",
       "\t 02   & 6365\\\\\n",
       "\t 03   & 6228\\\\\n",
       "\t 04   & 7322\\\\\n",
       "\\end{tabular}\n"
      ],
      "text/markdown": [
       "\n",
       "| Hora | Total_cliques |\n",
       "|---|---|\n",
       "| 00   | 6803 |\n",
       "| 01   | 6242 |\n",
       "| 02   | 6365 |\n",
       "| 03   | 6228 |\n",
       "| 04   | 7322 |\n",
       "\n"
      ],
      "text/plain": [
       "  Hora Total_cliques\n",
       "1 00   6803         \n",
       "2 01   6242         \n",
       "3 02   6365         \n",
       "4 03   6228         \n",
       "5 04   7322         "
      ]
     },
     "metadata": {},
     "output_type": "display_data"
    }
   ],
   "source": [
    "# AGRUPAMENTO POR HORA PARA SABER EM QUAL HORÁRIO SE TEM MAIS CLIQUES SEM DOWNLOADS\n",
    "df_frequencia5 <- df_frequencia4 %>%\n",
    "    separate (col = Data_Horario2, c (\"Data2\", \"Hora\"), sep = ' ', remove = TRUE)\n",
    "\n",
    "df_frequencia6 <- df_frequencia5 %>%\n",
    "             group_by(Hora) %>%\n",
    "             summarise(Total_cliques = sum(Frequencia_cliques))\n",
    "\n",
    "df_frequencia7 <- df_frequencia6 %>%\n",
    "     separate(col = Hora, c (\"Hora\", \"s\", \"m\"), sep = ':', remove = TRUE) %>%\n",
    "     select(Hora, Total_cliques)\n",
    "\n",
    "head(df_frequencia7, 5)"
   ]
  },
  {
   "cell_type": "code",
   "execution_count": 24,
   "metadata": {},
   "outputs": [
    {
     "data": {
      "image/png": "[encoded data removed]",
      "text/plain": [
       "plot without title"
      ]
     },
     "metadata": {},
     "output_type": "display_data"
    }
   ],
   "source": [
    "# HORÁRIOS COM MAIOR VOLUME DE CLIQUES SEM DOWNLOAD NOS TRÊS DIAS\n",
    "g7 <- ggplot(df_frequencia7, aes(x = Hora, y = Total_cliques)) +\n",
    "     geom_bar(stat =\"identity\") +\n",
    "     labs(x = 'Horário', y = 'Frequência total de Cliques', title = 'Volume total de cliques sem download a cada hora') +\n",
    "     theme(plot.title = element_text(hjust = 0.5), text = element_text(size = 8))\n",
    "\n",
    "options(repr.plot.width = 5, repr.plot.height = 4)\n",
    "g7"
   ]
  },
  {
   "cell_type": "markdown",
   "metadata": {},
   "source": [
    "Nos horários de 23h00 até as 17h00 é quando mais se tem cliques sem download."
   ]
  },
  {
   "cell_type": "markdown",
   "metadata": {},
   "source": [
    "#### **SEPARANDO DADOS DE TREINO E TESTE**"
   ]
  },
  {
   "cell_type": "code",
   "execution_count": 25,
   "metadata": {},
   "outputs": [],
   "source": [
    "set.seed(1908)"
   ]
  },
  {
   "cell_type": "code",
   "execution_count": 26,
   "metadata": {},
   "outputs": [],
   "source": [
    "split <- sample.split(df_Talking_Data$Classe, SplitRatio = 0.7)\n",
    "dados_treino <- subset(df_Talking_Data, split == TRUE)\n",
    "dados_teste <- subset(df_Talking_Data, split == FALSE )"
   ]
  },
  {
   "cell_type": "code",
   "execution_count": 27,
   "metadata": {},
   "outputs": [
    {
     "name": "stdout",
     "output_type": "stream",
     "text": [
      "Classes 'data.table' and 'data.frame':\t168000 obs. of  8 variables:\n",
      " $ IP              : int  43793 197004 55179 109065 55853 84725 143971 71710 75700 120471 ...\n",
      " $ App             : int  29 5 3 14 18 14 1 17 19 12 ...\n",
      " $ Dispositivo     : int  1 1 1 1 1 1 1 1 0 1 ...\n",
      " $ SO              : int  19 11 10 25 32 19 13 13 38 36 ...\n",
      " $ Canal           : int  213 113 280 379 121 379 153 128 282 409 ...\n",
      " $ Horario_clique  : POSIXct, format: \"2017-11-08 14:38:44\" \"2017-11-08 10:21:20\" ...\n",
      " $ Horario_download: POSIXct, format: \"2017-11-08 14:47:49\" \"2017-11-08 10:21:49\" ...\n",
      " $ Classe          : int  1 1 0 0 0 0 0 0 1 0 ...\n",
      " - attr(*, \".internal.selfref\")=<externalptr> \n"
     ]
    }
   ],
   "source": [
    "# DADOS TREINO 70%\n",
    "str(dados_treino)"
   ]
  },
  {
   "cell_type": "code",
   "execution_count": 28,
   "metadata": {},
   "outputs": [
    {
     "name": "stdout",
     "output_type": "stream",
     "text": [
      "Classes 'data.table' and 'data.frame':\t72000 obs. of  8 variables:\n",
      " $ IP              : int  95766 32453 314022 40241 106770 62879 88856 7156 14913 26995 ...\n",
      " $ App             : int  18 18 39 3 18 18 9 19 18 19 ...\n",
      " $ Dispositivo     : int  1 1 1 1 1 3032 1 0 1 0 ...\n",
      " $ SO              : int  20 18 19 8 20 607 25 21 19 50 ...\n",
      " $ Canal           : int  107 107 213 280 107 107 134 213 121 213 ...\n",
      " $ Horario_clique  : POSIXct, format: \"2017-11-08 02:34:42\" \"2017-11-09 12:34:16\" ...\n",
      " $ Horario_download: POSIXct, format: NA \"2017-11-09 12:48:00\" ...\n",
      " $ Classe          : int  0 1 1 0 0 0 0 1 0 1 ...\n",
      " - attr(*, \".internal.selfref\")=<externalptr> \n"
     ]
    }
   ],
   "source": [
    "# DADOS TESTE 30%\n",
    "str(dados_teste)"
   ]
  },
  {
   "cell_type": "code",
   "execution_count": 29,
   "metadata": {},
   "outputs": [],
   "source": [
    "# REMOVENDO AS VARIÁVEIS COM DATAS \n",
    "dados_treino <- dados_treino[, c(1:5, 8)]\n",
    "dados_treino <- as.data.frame(dados_treino)\n",
    "dados_teste <- dados_teste[, c(1:5, 8)]\n",
    "dados_teste <- as.data.frame(dados_teste)"
   ]
  },
  {
   "cell_type": "code",
   "execution_count": 30,
   "metadata": {},
   "outputs": [],
   "source": [
    "# TRANSFORMANDO AS VARIÁVEIS PARA FACTOR\n",
    "dados_treino$Classe <- as.factor(dados_treino$Classe)\n",
    "dados_treino$IP <- as.factor(dados_treino$IP)\n",
    "dados_treino$App <- as.factor(dados_treino$App)\n",
    "dados_treino$Dispositivo <- as.factor(dados_treino$Dispositivo)\n",
    "dados_treino$SO <- as.factor(dados_treino$SO)\n",
    "dados_treino$Canal <- as.factor(dados_treino$Canal)"
   ]
  },
  {
   "cell_type": "code",
   "execution_count": 31,
   "metadata": {},
   "outputs": [],
   "source": [
    "dados_teste$Classe <- as.factor(dados_teste$Classe)\n",
    "dados_teste$IP <- as.factor(dados_teste$IP)\n",
    "dados_teste$App <- as.factor(dados_teste$App)\n",
    "dados_teste$Dispositivo <- as.factor(dados_teste$Dispositivo)\n",
    "dados_teste$SO <- as.factor(dados_teste$SO)\n",
    "dados_teste$Canal <- as.factor(dados_teste$Canal)"
   ]
  },
  {
   "cell_type": "markdown",
   "metadata": {},
   "source": [
    "### APRENDIZADO E AVALIAÇÃO DO MODELO"
   ]
  },
  {
   "cell_type": "markdown",
   "metadata": {},
   "source": [
    "#### K - NEAREST NEIGHBOR"
   ]
  },
  {
   "cell_type": "code",
   "execution_count": 32,
   "metadata": {},
   "outputs": [],
   "source": [
    "modelo_knn <- knn(train = dados_treino[, 1:5], test = dados_teste[, 1:5], cl = dados_treino[, 6], k = 5, prob = TRUE)"
   ]
  },
  {
   "cell_type": "code",
   "execution_count": 33,
   "metadata": {},
   "outputs": [],
   "source": [
    "probabilidades <- attr(modelo_knn, \"prob\")"
   ]
  },
  {
   "cell_type": "code",
   "execution_count": 34,
   "metadata": {},
   "outputs": [
    {
     "data": {
      "text/plain": [
       "Confusion Matrix and Statistics\n",
       "\n",
       "          Reference\n",
       "Prediction     0     1\n",
       "         0 29122  9137\n",
       "         1  6878 26863\n",
       "                                               \n",
       "               Accuracy : 0.7776               \n",
       "                 95% CI : (0.7745, 0.7806)     \n",
       "    No Information Rate : 0.5                  \n",
       "    P-Value [Acc > NIR] : < 0.00000000000000022\n",
       "                                               \n",
       "                  Kappa : 0.5551               \n",
       "                                               \n",
       " Mcnemar's Test P-Value : < 0.00000000000000022\n",
       "                                               \n",
       "            Sensitivity : 0.8089               \n",
       "            Specificity : 0.7462               \n",
       "         Pos Pred Value : 0.7612               \n",
       "         Neg Pred Value : 0.7962               \n",
       "             Prevalence : 0.5000               \n",
       "         Detection Rate : 0.4045               \n",
       "   Detection Prevalence : 0.5314               \n",
       "      Balanced Accuracy : 0.7776               \n",
       "                                               \n",
       "       'Positive' Class : 0                    \n",
       "                                               "
      ]
     },
     "metadata": {},
     "output_type": "display_data"
    }
   ],
   "source": [
    "matriz_confusao_knn <- confusionMatrix(modelo_knn, dados_teste$Classe)\n",
    "matriz_confusao_knn"
   ]
  },
  {
   "cell_type": "code",
   "execution_count": 35,
   "metadata": {},
   "outputs": [],
   "source": [
    "source(\"Metricas_classificacao.R\")"
   ]
  },
  {
   "cell_type": "code",
   "execution_count": 36,
   "metadata": {},
   "outputs": [
    {
     "name": "stdout",
     "output_type": "stream",
     "text": [
      "Métricas K-Nearest Neighbor \n",
      " \n",
      "Acuracia (Accuracy)          = 0.7776 \n",
      "Recall (Sensitivity)         = 0.8089 \n",
      "Precisao (Precision)         = 0.7612 \n",
      "F1 Score (F-Score)           = 0.7843 \n",
      "Especificidade (Specificity) = 0.7462"
     ]
    }
   ],
   "source": [
    "metricas_class(0, table(Previsto = modelo_knn, Referencia = dados_teste$Classe), \"Métricas K-Nearest Neighbor\")"
   ]
  },
  {
   "cell_type": "code",
   "execution_count": 37,
   "metadata": {},
   "outputs": [
    {
     "data": {
      "image/png": "[encoded data removed]",
      "text/plain": [
       "Plot with title \"Curva ROC para KNN\""
      ]
     },
     "metadata": {},
     "output_type": "display_data"
    }
   ],
   "source": [
    "# CURVA ROC E AREA UNDER CURVE - AUC\n",
    "prediction1 <- prediction(probabilidades, dados_teste$Classe)\n",
    "tpr_fpr_knn <- performance(prediction1, \"tpr\",\"fpr\")\n",
    "auc_knn <- performance(prediction1, \"auc\")\n",
    "auc_knn <- round(unlist(slot(auc_knn, \"y.values\")), 2)\n",
    "\n",
    "options(repr.plot.width = 3.4, repr.plot.height = 4)\n",
    "plot(tpr_fpr_knn, col = rainbow(9), \n",
    "     xlab = \"Taxa de falso positivo\", \n",
    "     ylab = \"Taxa de verdadeiro positivo\",\n",
    "     main = \"Curva ROC para KNN\", \n",
    "     cex.lab = .9,   \n",
    "     cex.main = .9,  \n",
    "     lwd = 2 )\n",
    "abline(a = 0, b = 1, lwd = 3, lty = 3, col = \"gray\")\n",
    "legend(0.4, 0.4, legend = c(paste0(\"AUC: \", auc_knn)), cex = 0.7, bty = \"n\", box.col = \"white\")"
   ]
  },
  {
   "cell_type": "markdown",
   "metadata": {},
   "source": [
    "#### NAIVE BAYES"
   ]
  },
  {
   "cell_type": "code",
   "execution_count": 38,
   "metadata": {},
   "outputs": [],
   "source": [
    "modelo_nb <- naiveBayes(Classe ~ IP + App + Dispositivo + SO + Canal, dados_treino, laplace = 1)"
   ]
  },
  {
   "cell_type": "code",
   "execution_count": 39,
   "metadata": {},
   "outputs": [],
   "source": [
    "# PREVISÃO DAS CLASSES\n",
    "previsao_nb <- predict(modelo_nb, dados_teste, type = \"class\")"
   ]
  },
  {
   "cell_type": "code",
   "execution_count": 40,
   "metadata": {},
   "outputs": [],
   "source": [
    "# PREVISÃO DAS PROBABILIDADES DAS CLASSES\n",
    "previsao_nb_prob <- predict(modelo_nb, dados_teste, type = \"raw\")"
   ]
  },
  {
   "cell_type": "code",
   "execution_count": 41,
   "metadata": {},
   "outputs": [
    {
     "data": {
      "text/plain": [
       "Confusion Matrix and Statistics\n",
       "\n",
       "          Reference\n",
       "Prediction     0     1\n",
       "         0 35288  5928\n",
       "         1   712 30072\n",
       "                                               \n",
       "               Accuracy : 0.9078               \n",
       "                 95% CI : (0.9056, 0.9099)     \n",
       "    No Information Rate : 0.5                  \n",
       "    P-Value [Acc > NIR] : < 0.00000000000000022\n",
       "                                               \n",
       "                  Kappa : 0.8156               \n",
       "                                               \n",
       " Mcnemar's Test P-Value : < 0.00000000000000022\n",
       "                                               \n",
       "            Sensitivity : 0.9802               \n",
       "            Specificity : 0.8353               \n",
       "         Pos Pred Value : 0.8562               \n",
       "         Neg Pred Value : 0.9769               \n",
       "             Prevalence : 0.5000               \n",
       "         Detection Rate : 0.4901               \n",
       "   Detection Prevalence : 0.5724               \n",
       "      Balanced Accuracy : 0.9078               \n",
       "                                               \n",
       "       'Positive' Class : 0                    \n",
       "                                               "
      ]
     },
     "metadata": {},
     "output_type": "display_data"
    }
   ],
   "source": [
    "matriz_confusao_nb <- confusionMatrix(previsao_nb, dados_teste$Classe)\n",
    "matriz_confusao_nb"
   ]
  },
  {
   "cell_type": "code",
   "execution_count": 42,
   "metadata": {},
   "outputs": [
    {
     "name": "stdout",
     "output_type": "stream",
     "text": [
      "Métricas Naive Bayes \n",
      " \n",
      "Acuracia (Accuracy)          = 0.9078 \n",
      "Recall (Sensitivity)         = 0.9802 \n",
      "Precisao (Precision)         = 0.8562 \n",
      "F1 Score (F-Score)           = 0.914 \n",
      "Especificidade (Specificity) = 0.8353"
     ]
    }
   ],
   "source": [
    "metricas_class(0, table(Previsto = previsao_nb, Referencia = dados_teste$Classe), \"Métricas Naive Bayes\")"
   ]
  },
  {
   "cell_type": "code",
   "execution_count": 43,
   "metadata": {},
   "outputs": [
    {
     "data": {
      "image/png": "[encoded data removed]",
      "text/plain": [
       "Plot with title \"Curva ROC para Naive Bayes\""
      ]
     },
     "metadata": {},
     "output_type": "display_data"
    }
   ],
   "source": [
    "# CURVA ROC E AREA UNDER CURVE - AUC\n",
    "prediction2 <- prediction(previsao_nb_prob[, 2], dados_teste$Classe)\n",
    "tpr_fpr_nb <- performance(prediction2, \"tpr\",\"fpr\")\n",
    "auc_nb <- performance(prediction2, \"auc\")\n",
    "auc_nb <- round(unlist(slot(auc_nb, \"y.values\")), 2)\n",
    "\n",
    "options(repr.plot.width = 3.4, repr.plot.height = 4)\n",
    "plot(tpr_fpr_nb, col = rainbow(9), \n",
    "     xlab = \"Taxa de falso positivo\", \n",
    "     ylab = \"Taxa de verdadeiro positivo\",\n",
    "     main = \"Curva ROC para Naive Bayes\", \n",
    "     cex.lab = .9,   \n",
    "     cex.main = .9,  \n",
    "     lwd = 2 )\n",
    "abline(a = 0, b = 1, lwd = 3, lty = 3, col = \"gray\")\n",
    "legend(0.4, 0.4, legend = c(paste0(\"AUC: \", auc_nb)), cex = 0.7, bty = \"n\", box.col = \"white\")"
   ]
  },
  {
   "cell_type": "markdown",
   "metadata": {},
   "source": [
    "#### CONCLUSÃO"
   ]
  },
  {
   "cell_type": "markdown",
   "metadata": {},
   "source": [
    "As amostras coletadas do dataset train.csv permitiu a montagem de um dataset para treino e teste de forma balanceada com os dados originais sem que fosse necessário recorrer à dados sintéticos. Como o dataset train.csv do Kaggle possui em sua maioria instâncias da classe 0 (aplicativo não baixado) sendo quase 100% do dataset, foi realizada a coleta de dados de cada classe para que um dataset fosse montado de forma balanceada.\n",
    "\n",
    "Na etapa de aprendizado foram utilizados os algoritmos Naive Bayes e KNN. O Naive Bayes obteve o melhor resultado.\n",
    "\n",
    "Resultados Naive Bayes:\n",
    "\n",
    "- O modelo atingiu uma **acurácia de 0.9078**. Das 72000 instâncias do dataset de teste, o modelo classificou corretamente 65360.\n",
    "- O modelo acertou 35288 e errou 712 da soma entre verdadeiros positivos e falsos negativos, obtendo um **recall de 0.9802**, o que é importante para o problema, pois é preciso minimizar os falsos negativos. \n",
    "- Quanto a classe positiva, o modelo acertou 35288 (verdadeiros positivos) do total de verdadeiros positivos somados a falsos positivos. Uma **precisão de 0.8562**. A precisão é a capacidade de acertar os que não baixam o aplicativo.\n",
    "- Quanto a classe negativa, o modelo acertou 30072 (verdadeiros negativos) do total de verdadeiros negativos somados a falsos positivos. Uma **especificidade 0.8353**. A especificidade é a taxa de verdadeiros negativos, ou seja, no caso é a capacidade de acertar os que baixam o aplicativo.\n",
    "- A **média harmônica** entre precisão e recall foi de **0.9140**.\n",
    "- A curva ROC com seus dois parâmetros, taxa de verdadeiro positivo (sensibilidade) e taxa de falso positivo ou probabilidade de alarme falso (1 — Specificity), mostrou que o desempenho do modelo com Naive Bayes foi bom com um **AUC de 0.96**."
   ]
  }
 ],
 "metadata": {
  "kernelspec": {
   "display_name": "R",
   "language": "R",
   "name": "ir"
  },
  "language_info": {
   "codemirror_mode": "r",
   "file_extension": ".r",
   "mimetype": "text/x-r-source",
   "name": "R",
   "pygments_lexer": "r",
   "version": "3.6.1"
  }
 },
 "nbformat": 4,
 "nbformat_minor": 4
}
