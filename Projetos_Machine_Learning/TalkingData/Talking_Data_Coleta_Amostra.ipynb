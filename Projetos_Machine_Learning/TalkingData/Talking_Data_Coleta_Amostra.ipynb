{
 "cells": [
  {
   "cell_type": "markdown",
   "metadata": {},
   "source": [
    "### PROJETO 01: DETECÇÃO DE FRAUDES NO TRÁFEGO DE CLIQUES EM PROPAGANDAS DE APLICAÇÕES MOBILE\n",
    "\n",
    "![<caption>](TalkingData.PNG)\n",
    "\n",
    "A TalkingData (https://www.talkingdata.com), a maior plataforma de big data independente da china, cobre mais de 70% dos dispositivos móveis ativos em todo o país. Eles lidam com 3 bilhões de cliques por dia, dos quais 90% são potencialmente fraudulentos. Sua abordagem atual para impedir fraudes de cliques para desenvolvedores de aplicativos é medir a jornada do clique de um usuário em todo o portifólio e sinalizar endereços ip que produzem muitos cliques, mas nunca acabam instalando aplicativos. Com essas informações, eles criaram uma lista negra de ips e uma lista negra de dispositivos. Embora bem-sucedidos, eles querem estar sempre um passo à frente dos fraudadores e pretedem desenvolver ainda mais a solução. Então, neste projeto, o objetivo é construir um modelo de aprendizado de máquina para determinar se um clique é fraudulento ou não.\n"
   ]
  },
  {
   "cell_type": "markdown",
   "metadata": {},
   "source": [
    "**Descrição dos Dados**\n",
    "\n",
    "Dados de Treino:\n",
    "\n",
    "Cada linha dos dados de treinamento contém um registro de cliques, com os seguintes recursos.\n",
    "\n",
    "- ip: ip endereço de clique.\n",
    "- app: id de aplicativo para marketing.\n",
    "- device: identificação do tipo de dispositivo do celular do usuário (por exemplo, iphone 6 plus, iphone 7, huawei mate 7, etc.)\n",
    "- os: id versão do sistema operacional do celular do usuário\n",
    "- channel: id do canal da editora de anúncios móveis\n",
    "- click_time: fuso de hora em hora (UTC)\n",
    "- attributed_time: se o usuário baixar o aplicativo para depois de clicar em um anúncio, esta é a hora do download do aplicativo\n",
    "- is_attributed: o alvo a ser previsto, indicando que o aplicativo foi baixado\n",
    "\n",
    "Os dados do teste são semelhantes, com as seguintes diferenças:\n",
    "\n",
    "- click_id: referência para fazer previsões\n",
    "- is_attributed: não incluído"
   ]
  },
  {
   "cell_type": "markdown",
   "metadata": {},
   "source": [
    "#### **DIRETÓRIO DE TRABALHO E CARREGAMENTO DE BIBLIOTECAS**"
   ]
  },
  {
   "cell_type": "code",
   "execution_count": null,
   "metadata": {},
   "outputs": [],
   "source": [
    "# DIRETÓRIO DE TRABALHO\n",
    "setwd('C:/FCD/DataScienceAcademy/BigDataRAzure/Projeto1')\n",
    "getwd()"
   ]
  },
  {
   "cell_type": "code",
   "execution_count": null,
   "metadata": {},
   "outputs": [],
   "source": [
    "# DESATIVAR MENSAGENS DE WARNINGS (warn = -1) E ATIVAR (warn = 0)\n",
    "options(warn = -1)"
   ]
  },
  {
   "cell_type": "code",
   "execution_count": null,
   "metadata": {},
   "outputs": [],
   "source": [
    "# CARREGANDO BIBLIOTECAS \n",
    "suppressPackageStartupMessages({\n",
    "library(data.table)\n",
    "library(dplyr)  \n",
    "library(readr)\n",
    "\n",
    "})"
   ]
  },
  {
   "cell_type": "markdown",
   "metadata": {},
   "source": [
    "#### DADOS TREINO"
   ]
  },
  {
   "cell_type": "code",
   "execution_count": null,
   "metadata": {},
   "outputs": [],
   "source": [
    "# CARREGANDO train_csv (184.903.890 LINHAS)\n",
    "treino_csv <- fread('train.csv')"
   ]
  },
  {
   "cell_type": "code",
   "execution_count": null,
   "metadata": {},
   "outputs": [],
   "source": [
    "# RENOMEANDO DATASET\n",
    "names(treino_csv) <- c(\"IP\", \"App\", \"Dispositivo\", \"SO\", \"Canal\", \"Horario_clique\", \"Horario_download\", \"Classe\")"
   ]
  },
  {
   "cell_type": "code",
   "execution_count": null,
   "metadata": {},
   "outputs": [],
   "source": [
    "# 1 - COLETANDO DADOS DE CLIQUES QUE BAIXARAM O APLICATIVO - FOI COLETADO O TOTAL DO DATASET 456.846\n",
    "amostra_treino_csv_1 <- treino_csv[treino_csv$Classe == 1,]\n",
    "glimpse(amostra_treino_csv_1)"
   ]
  },
  {
   "cell_type": "code",
   "execution_count": null,
   "metadata": {},
   "outputs": [],
   "source": [
    "write.csv(amostra_treino_csv_1, \"amostra_treino_csv_1.csv\")"
   ]
  },
  {
   "cell_type": "code",
   "execution_count": null,
   "metadata": {},
   "outputs": [],
   "source": [
    "# 1.1 - CARREGANDO DADOS DA AMOSTRA COLETADA\n",
    "amostra_treino_csv_1 <- fread(\"amostra_treino_csv_1.csv\", select = c(2:9))\n",
    "glimpse(amostra_treino_csv_1)"
   ]
  },
  {
   "cell_type": "code",
   "execution_count": null,
   "metadata": {},
   "outputs": [],
   "source": [
    "treino_csv_1 <- sample_n(amostra_treino_csv_1, size = 120000)\n",
    "glimpse(treino_csv_1)"
   ]
  },
  {
   "cell_type": "code",
   "execution_count": null,
   "metadata": {},
   "outputs": [],
   "source": [
    "write_csv(treino_csv_1, \"treino_csv_1.csv\")"
   ]
  },
  {
   "cell_type": "code",
   "execution_count": null,
   "metadata": {},
   "outputs": [],
   "source": [
    "treino_csv_1 <- fread(\"treino_csv_1.csv\")\n",
    "glimpse(treino_csv_1)"
   ]
  },
  {
   "cell_type": "code",
   "execution_count": null,
   "metadata": {},
   "outputs": [],
   "source": [
    "# 2 - COLETANDO AMOSTRA DE DADOS DE CLIQUES QUE NÃO BAIXARAM O APLICATIVO \n",
    "amostra_treino_csv_0 <- sample_n(treino_csv[treino_csv$Classe == 0,], size = 800000)"
   ]
  },
  {
   "cell_type": "code",
   "execution_count": null,
   "metadata": {},
   "outputs": [],
   "source": [
    "write.csv(amostra_treino_csv_0, \"amostra_treino_csv_0.csv\")"
   ]
  },
  {
   "cell_type": "code",
   "execution_count": null,
   "metadata": {},
   "outputs": [],
   "source": [
    "# 2.1 -CARREGANDO DADOS DA AMOSTRA COLETADA\n",
    "amostra_treino_csv_0 <- fread(\"amostra_treino_csv_0.csv\", select = c(2:9))\n",
    "glimpse(amostra_treino_csv_0)"
   ]
  },
  {
   "cell_type": "code",
   "execution_count": null,
   "metadata": {},
   "outputs": [],
   "source": [
    "treino_csv_0 <- sample_n(amostra_treino_csv_0, size = 120000)\n",
    "glimpse(treino_csv_0)"
   ]
  },
  {
   "cell_type": "code",
   "execution_count": null,
   "metadata": {},
   "outputs": [],
   "source": [
    "write_csv(treino_csv_0, \"treino_csv_0.csv\")"
   ]
  },
  {
   "cell_type": "code",
   "execution_count": null,
   "metadata": {},
   "outputs": [],
   "source": [
    "treino_csv_0 <- fread(\"treino_csv_0.csv\")\n",
    "glimpse(treino_csv_0)"
   ]
  },
  {
   "cell_type": "code",
   "execution_count": null,
   "metadata": {},
   "outputs": [],
   "source": [
    "# 3 - COMBINANDO OS DADOS PARA CRIAR UM DATASET BALANCEADO\n",
    "unir_dataframe <- rbind(treino_csv_1, treino_csv_0)\n",
    "unir_dataframe <-as.data.frame(cunir_dataframe)\n",
    "\n",
    "df_Talking_Data <- combinacao_linha[sample(1:nrow(unir_dataframe)), ]\n",
    "glimpse(df_Talking_Data)"
   ]
  },
  {
   "cell_type": "code",
   "execution_count": null,
   "metadata": {},
   "outputs": [],
   "source": [
    "# SALVANDO O DATASET\n",
    "write_csv(df_Talking_Data, \"df_Talking_Data.csv\")"
   ]
  },
  {
   "cell_type": "markdown",
   "metadata": {},
   "source": [
    "Nas etapas acima foram realizadas:\n",
    "\n",
    "- Carregamento do dataset original train.csv do Kaggle.\n",
    "- Coleta de uma amostra de dados de cliques (amostra_treino_1.csv) que baixaram o aplicativo. Foram coletados todas as 456.846 observações do dataset train.csv.\n",
    "- Coleta dos dados de cliques (treino_1.csv) que baixaram o aplicativo.  \n",
    "- Coleta de uma amostra de dados de cliques (amostra_treino_0.csv) que não baixaram o aplicativo. Foram coletados 800.000 observações do dataset train.csv. \n",
    "- Coleta dos dados de cliques (treino_0.csv) que não baixaram o aplicativo. Foram coletados dados de amostra_treino_0.csv.\n",
    "- União de **treino_1.csv** e **treino_0.csv** formando o **df_Talking_Data.csv**."
   ]
  }
 ],
 "metadata": {
  "kernelspec": {
   "display_name": "R",
   "language": "R",
   "name": "ir"
  },
  "language_info": {
   "codemirror_mode": "r",
   "file_extension": ".r",
   "mimetype": "text/x-r-source",
   "name": "R",
   "pygments_lexer": "r",
   "version": "3.6.1"
  }
 },
 "nbformat": 4,
 "nbformat_minor": 4
}
