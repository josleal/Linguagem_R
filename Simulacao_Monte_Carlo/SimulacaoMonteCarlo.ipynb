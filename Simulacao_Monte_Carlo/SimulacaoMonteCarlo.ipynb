{
 "cells": [
  {
   "cell_type": "markdown",
   "metadata": {},
   "source": [
    "### LIVRO: PESQUISA OPERACIONAL PARA OS CURSOS DE ADMINISTRAÇÃO E ENGENHARIA, 4ª EDIÇÃO.\n",
    "#### AUTORES: ERMES MEDEIROS DA SILVA, ELIO MEDEIROS DA SILVA, VALTER GONÇALVES E AFRÂNIO CARLOS MUROLO.\n",
    "\n",
    "\n",
    "\n",
    "\n",
    "**OBSERVAÇÃO:**\n",
    "\n",
    "A BASE DO EXEMPLO DE SIMULAÇÃO ABAIXO FOI RETIRADA DO LIVRO CITADO ACIMA, PORÉM TIVE QUE ADAPTAR OS DADOS, POIS NÃO FOI POSSÍVEL SABER AO CERTO OS DADOS DE ENTRADA (DEMANDA SEMANAL). PORTANTO, NESTE NOTEBOOK MOSTRO A IDEIA DO EXEMPLO DO LIVRO COM VALORES DIFERENTES DE ENTRADA."
   ]
  },
  {
   "cell_type": "code",
   "execution_count": 1,
   "metadata": {},
   "outputs": [],
   "source": [
    "# DESATIVAR MENSAGENS DE WARNINGS (warn = -1) E ATIVAR (warn = 0)\n",
    "options(warn = -1)\n",
    "suppressPackageStartupMessages({library(dplyr)})"
   ]
  },
  {
   "cell_type": "markdown",
   "metadata": {},
   "source": [
    "#### SIMULAÇÃO DE MONTE CARLO\n",
    "#### EXEMPLO DE APLICAÇÃO\n",
    "\n",
    "UM FEIRANTE FAZ COMPRA DE OVOS UMA VEZ POR SEMANA NUM ENTREPOSTO ATACADISTA. OS OVOS NÃO VENDIDOS DENTRO DE UMA SEMANA SE ESTRAGAM, E SÃO DESCARTADOS, ACARRETANDO PREJUÍZO DE 400 u.m POR DÚZIA. POR OUTRO LADO, A FALTA DE PRODUTO PARA A VENDA TAMBÉM ACARRETA PERDA, ESTIMADA EM 150 u.m POR DÚZIA DEMANDADA E NÃO VENDIDA. O FEIRANTE ANOTOU A DEMANDA DAS ÚLTIMAS 40 SEMANAS E DIVIDIU-AS EM SETE CLASSES, CONFORME ABAIXO:"
   ]
  },
  {
   "cell_type": "markdown",
   "metadata": {},
   "source": [
    "#### DADOS"
   ]
  },
  {
   "cell_type": "code",
   "execution_count": 2,
   "metadata": {},
   "outputs": [],
   "source": [
    "# DADOS DA DEMANDA SEMANAL DE DÚZIAS\n",
    "dados_semanais <- c(210,216,222,216,210,228,234,240,234,216,222,216,204,210,222,228,240,234,216,228,\n",
    "                    252,248,252,256,252,248,234,240,234,248,216,228,222,234,228,222,234,240,234,228)"
   ]
  },
  {
   "cell_type": "markdown",
   "metadata": {},
   "source": [
    "#### TESTAR AS HIPÓTESES\n",
    "\n",
    "1. COMPRAR CADA SEMANA A DEMANDA EFETIVA DA SEMANA ANTERIOR.\n",
    "2. COMPRAR UMA QUANTIDADE IGUAL À MÉDIA HISTÓRICA ANOTADA NO PERÍODO ANTERIOR DE 40 SEMANAS (MÉDIA = VALOR INTEIRO MAIS PRÓXIMO DA MÉDIA VERIFICADA).\n",
    "3. O EXAME DOS RESULTADOS SUGERE O TESTE DE OUTRA HIPÓTESE."
   ]
  },
  {
   "cell_type": "code",
   "execution_count": 3,
   "metadata": {},
   "outputs": [
    {
     "data": {
      "text/plain": [
       "   Min. 1st Qu.  Median    Mean 3rd Qu.    Max. \n",
       "  204.0   220.5   228.0   229.9   240.0   256.0 "
      ]
     },
     "metadata": {},
     "output_type": "display_data"
    }
   ],
   "source": [
    "summary(dados_semanais)"
   ]
  },
  {
   "cell_type": "code",
   "execution_count": 4,
   "metadata": {},
   "outputs": [
    {
     "name": "stdout",
     "output_type": "stream",
     "text": [
      "Tamanho(n): 40\n",
      "Aplitude(R): 52\n",
      "Classes(k): 6.32\n",
      "Intervalo de classe(h): 8.23"
     ]
    }
   ],
   "source": [
    "n <- length(dados_semanais); cat(\"Tamanho(n):\",n)\n",
    "R <- max(dados_semanais) - min(dados_semanais); cat(\"\\nAplitude(R):\",R)\n",
    "k <- round(sqrt(n),2); cat(\"\\nClasses(k):\",k)\n",
    "h <- round(R/k, 2); cat(\"\\nIntervalo de classe(h):\",h)"
   ]
  },
  {
   "cell_type": "markdown",
   "metadata": {},
   "source": [
    "#### TABELA DE FREQUÊNCIA"
   ]
  },
  {
   "cell_type": "code",
   "execution_count": 5,
   "metadata": {},
   "outputs": [
    {
     "name": "stdout",
     "output_type": "stream",
     "text": [
      "Intervalos: 204 210 216 222 228 234 240 246 252 258"
     ]
    }
   ],
   "source": [
    "# INTERVALOS\n",
    "intervalos <- seq(204, 260, 6); cat(\"Intervalos:\", intervalos)\n",
    "# CLASSES\n",
    "classes <- cut(x = dados_semanais, breaks = intervalos, right = FALSE, include.lowest = TRUE)\n",
    "# FREQUÊNCIA \n",
    "frequencia <- table(classes)\n",
    "frequencia_df <- data.frame(frequencia)\n",
    "# TABELA DE FREQUÊNCIA\n",
    "Tabela.Frequencia <- frequencia_df %>%\n",
    "mutate(Freq.R.1000 = Freq/n * 1000,\n",
    "       Freq.R.A = cumsum(Freq)/n * 1000)"
   ]
  },
  {
   "cell_type": "code",
   "execution_count": 6,
   "metadata": {},
   "outputs": [],
   "source": [
    "# CRIANDO UM VETOR COM O PONTO MÉDIO DAS CLASSES DA TABELA DE FREQUÊNCIA\n",
    "PM = c()\n",
    "num = 0; soma = 1\n",
    "for(x in 1:length(frequencia_df$classes)){\n",
    "    num = num + soma\n",
    "    ponto.medio <- (intervalos[num] + intervalos[num+1])/2\n",
    "    PM <- append(PM, ponto.medio)\n",
    "}     "
   ]
  },
  {
   "cell_type": "code",
   "execution_count": 7,
   "metadata": {},
   "outputs": [],
   "source": [
    "# ADICIONANDO O VETOR À TABELA DE FREQUÊNCIAS\n",
    "Tabela.Frequencia <- cbind(Tabela.Frequencia, PM)\n",
    "# COLOCANDO AS COLUNAS DA TABELA NA ORDEM DESEJADA\n",
    "Tabela.Frequencia <- select(Tabela.Frequencia, classes,PM,everything())"
   ]
  },
  {
   "cell_type": "markdown",
   "metadata": {},
   "source": [
    "VAMOS SIMULAR A PRIMEIRA HIPÓTESE PARA 20 SEMANAS. OS LIMITES PARA OS NÚMEROS ALEATÓRIOS SÃO OBTIDOS ATRAVÉS DA FREQUÊNCIA ACUMULADA RELATIVA, CONFORME MOSTRA A TABELA."
   ]
  },
  {
   "cell_type": "code",
   "execution_count": 8,
   "metadata": {},
   "outputs": [
    {
     "data": {
      "text/html": [
       "<table class=\"dataframe\">\n",
       "<caption>A data.frame: 9 × 7</caption>\n",
       "<thead>\n",
       "\t<tr><th scope=col>classes</th><th scope=col>PM</th><th scope=col>Freq</th><th scope=col>Freq.R.1000</th><th scope=col>Freq.R.A</th><th scope=col>L.I.sorteio</th><th scope=col>L.S.sorteio</th></tr>\n",
       "\t<tr><th scope=col>&lt;fct&gt;</th><th scope=col>&lt;dbl&gt;</th><th scope=col>&lt;int&gt;</th><th scope=col>&lt;dbl&gt;</th><th scope=col>&lt;dbl&gt;</th><th scope=col>&lt;dbl&gt;</th><th scope=col>&lt;dbl&gt;</th></tr>\n",
       "</thead>\n",
       "<tbody>\n",
       "\t<tr><td>[204,210)</td><td>207</td><td>1</td><td> 25</td><td>  25</td><td>  0</td><td> 24</td></tr>\n",
       "\t<tr><td>[210,216)</td><td>213</td><td>3</td><td> 75</td><td> 100</td><td> 25</td><td> 99</td></tr>\n",
       "\t<tr><td>[216,222)</td><td>219</td><td>6</td><td>150</td><td> 250</td><td>100</td><td>249</td></tr>\n",
       "\t<tr><td>[222,228)</td><td>225</td><td>5</td><td>125</td><td> 375</td><td>250</td><td>374</td></tr>\n",
       "\t<tr><td>[228,234)</td><td>231</td><td>6</td><td>150</td><td> 525</td><td>375</td><td>524</td></tr>\n",
       "\t<tr><td>[234,240)</td><td>237</td><td>8</td><td>200</td><td> 725</td><td>525</td><td>724</td></tr>\n",
       "\t<tr><td>[240,246)</td><td>243</td><td>4</td><td>100</td><td> 825</td><td>725</td><td>824</td></tr>\n",
       "\t<tr><td>[246,252)</td><td>249</td><td>3</td><td> 75</td><td> 900</td><td>825</td><td>899</td></tr>\n",
       "\t<tr><td>[252,258]</td><td>255</td><td>4</td><td>100</td><td>1000</td><td>900</td><td>999</td></tr>\n",
       "</tbody>\n",
       "</table>\n"
      ],
      "text/latex": [
       "A data.frame: 9 × 7\n",
       "\\begin{tabular}{lllllll}\n",
       " classes & PM & Freq & Freq.R.1000 & Freq.R.A & L.I.sorteio & L.S.sorteio\\\\\n",
       " <fct> & <dbl> & <int> & <dbl> & <dbl> & <dbl> & <dbl>\\\\\n",
       "\\hline\n",
       "\t {[}204,210) & 207 & 1 &  25 &   25 &   0 &  24\\\\\n",
       "\t {[}210,216) & 213 & 3 &  75 &  100 &  25 &  99\\\\\n",
       "\t {[}216,222) & 219 & 6 & 150 &  250 & 100 & 249\\\\\n",
       "\t {[}222,228) & 225 & 5 & 125 &  375 & 250 & 374\\\\\n",
       "\t {[}228,234) & 231 & 6 & 150 &  525 & 375 & 524\\\\\n",
       "\t {[}234,240) & 237 & 8 & 200 &  725 & 525 & 724\\\\\n",
       "\t {[}240,246) & 243 & 4 & 100 &  825 & 725 & 824\\\\\n",
       "\t {[}246,252) & 249 & 3 &  75 &  900 & 825 & 899\\\\\n",
       "\t {[}252,258{]} & 255 & 4 & 100 & 1000 & 900 & 999\\\\\n",
       "\\end{tabular}\n"
      ],
      "text/markdown": [
       "\n",
       "A data.frame: 9 × 7\n",
       "\n",
       "| classes &lt;fct&gt; | PM &lt;dbl&gt; | Freq &lt;int&gt; | Freq.R.1000 &lt;dbl&gt; | Freq.R.A &lt;dbl&gt; | L.I.sorteio &lt;dbl&gt; | L.S.sorteio &lt;dbl&gt; |\n",
       "|---|---|---|---|---|---|---|\n",
       "| [204,210) | 207 | 1 |  25 |   25 |   0 |  24 |\n",
       "| [210,216) | 213 | 3 |  75 |  100 |  25 |  99 |\n",
       "| [216,222) | 219 | 6 | 150 |  250 | 100 | 249 |\n",
       "| [222,228) | 225 | 5 | 125 |  375 | 250 | 374 |\n",
       "| [228,234) | 231 | 6 | 150 |  525 | 375 | 524 |\n",
       "| [234,240) | 237 | 8 | 200 |  725 | 525 | 724 |\n",
       "| [240,246) | 243 | 4 | 100 |  825 | 725 | 824 |\n",
       "| [246,252) | 249 | 3 |  75 |  900 | 825 | 899 |\n",
       "| [252,258] | 255 | 4 | 100 | 1000 | 900 | 999 |\n",
       "\n"
      ],
      "text/plain": [
       "  classes   PM  Freq Freq.R.1000 Freq.R.A L.I.sorteio L.S.sorteio\n",
       "1 [204,210) 207 1     25           25       0          24        \n",
       "2 [210,216) 213 3     75          100      25          99        \n",
       "3 [216,222) 219 6    150          250     100         249        \n",
       "4 [222,228) 225 5    125          375     250         374        \n",
       "5 [228,234) 231 6    150          525     375         524        \n",
       "6 [234,240) 237 8    200          725     525         724        \n",
       "7 [240,246) 243 4    100          825     725         824        \n",
       "8 [246,252) 249 3     75          900     825         899        \n",
       "9 [252,258] 255 4    100         1000     900         999        "
      ]
     },
     "metadata": {},
     "output_type": "display_data"
    }
   ],
   "source": [
    "# CRIANDO LIMITES INFERIORES E SUPERIORES PARA SORTEIO\n",
    "Tabela.Frequencia <- Tabela.Frequencia %>%\n",
    "mutate(L.I.sorteio = Freq.R.A - Freq.R.1000,\n",
    "       L.S.sorteio = Freq.R.A - 1); Tabela.Frequencia"
   ]
  },
  {
   "cell_type": "code",
   "execution_count": 9,
   "metadata": {},
   "outputs": [],
   "source": [
    "# FUNÇÕES ESPECÍFICAS PARA ESTE PROBLEMA DE NEGÓCIO\n",
    "# CRIANDO A FUNÇÃO VENDA - (DEMANDA E ESTOQUE INICIAL)\n",
    "funcao_venda = function(x,y){\n",
    "    if(x < y)\n",
    "        x \n",
    "    else\n",
    "        y \n",
    "}\n",
    "# CRIANDO A FUNÇÃO DE ESTOQUE FINAL - (ESTOQUE INICIAL - VENDA)\n",
    "funcao_estoque.final = function(x,y){\n",
    "        z = x - y\n",
    "}\n",
    "# CRIANDO A FUNÇÃO CUSTO DE FALTA - (DEMANDA - ESTOQUE INICIAL)*150.00\n",
    "funcao_custo.falta = function(x,y){\n",
    "    if(x > y)\n",
    "        x = (x - y) * 150.00\n",
    "    else\n",
    "        y = 0\n",
    "}\n",
    "# CRIANDO FUNÇÃO CUSTO DE SOBRA - (ESTOQUE FINAL*400)\n",
    "funcao_custo.sobra = function(x){\n",
    "        y = x * 400\n",
    "}\n",
    "# CRIANDO A FUNÇÃO CUSTO TOTAL - (CUSTO FALTA + CUSTO SOBRA)\n",
    "funcao_custo.total = function(x, y){\n",
    "        z = x + y\n",
    "}"
   ]
  },
  {
   "cell_type": "markdown",
   "metadata": {},
   "source": [
    "#### FUNÇÃO SIMULAÇÃO DE MONTE CARLO"
   ]
  },
  {
   "cell_type": "code",
   "execution_count": 10,
   "metadata": {},
   "outputs": [],
   "source": [
    "# FUNÇÃO SIMULAÇÃO DE MONTE CARLO\n",
    "SimulacaoMonteCarlo <- function(iteracoes,coluna_L.I,coluna_L.S,coluna_PM){\n",
    "    Simulacao <- data.frame()\n",
    "    for (i in 1:iteracoes){\n",
    "        iteracao <- i\n",
    "        sorteio <- sample(0:999, 1)\n",
    "        contador = 0\n",
    "        repeat {\n",
    "        contador = contador + 1\n",
    "        if (sorteio >= coluna_L.I[contador] & sorteio <= coluna_L.S[contador]){\n",
    "        ponto.medio.classe <- coluna_PM[contador]\n",
    "        vetor = c(iteracao,sorteio,ponto.medio.classe)\n",
    "        Simulacao = rbind(Simulacao, vetor)\n",
    "        colnames(Simulacao) <- c(\"Iteracoes\",\"Sorteio\",\"Previsao\")\n",
    "        break()\n",
    "        \n",
    "    }\n",
    "    } \n",
    "}\n",
    "    return(Simulacao)\n",
    "}"
   ]
  },
  {
   "cell_type": "markdown",
   "metadata": {},
   "source": [
    "#### TESTANDO A PRIMEIRA HIPÓTESE\n",
    "1. COMPRAR CADA SEMANA A DEMANDA EFETIVA DA SEMANA ANTERIOR."
   ]
  },
  {
   "cell_type": "markdown",
   "metadata": {},
   "source": [
    "#### CRIANDO A TABELA DE CUSTOS\n",
    "\n",
    "A PARTIR DA TABELA DE FREQUÊNCIA COM OS NÚMEROS ALEATÓRIOS, LEVANTAMOS UMA SEQUÊNCIA DE VINTE NÚMEROS DE TRÊS ALGARISMOS, COMO JÁ ANTERIORMENTE DESCRITO. PARA INICIAR O PROCESSO, VAMOS ACEITAR A DEMANDA ANTERIOR À PRIMEIRA SEMANA IGUAL À MÉDIA PONDERADA DO PERÍODO ANTERIOR."
   ]
  },
  {
   "cell_type": "code",
   "execution_count": 11,
   "metadata": {},
   "outputs": [
    {
     "data": {
      "text/html": [
       "233"
      ],
      "text/latex": [
       "233"
      ],
      "text/markdown": [
       "233"
      ],
      "text/plain": [
       "[1] 233"
      ]
     },
     "metadata": {},
     "output_type": "display_data"
    }
   ],
   "source": [
    "# COMPRAR CADA SEMANA A DEMANDA EFETIVA DA SEMANA ANTERIOR - ESTOQUE INICIAL\n",
    "# MÉDIA PONDERADA DOS DADOS FOI COLOCADA NO ESTOQUE INICIAL DA PRIMEIRA SEMANA, POIS NÃO SE TEM A DEMANDA ANTERIOR, JÁ QUE \n",
    "# A SIMULAÇÃO COMEÇA NA PRIMEIRA ITERAÇÃO.\n",
    "media.ponderada <- round(weighted.mean(Tabela.Frequencia$PM, Tabela.Frequencia$Freq))\n",
    "Estoque.Inicial <- c(media.ponderada); Estoque.Inicial"
   ]
  },
  {
   "cell_type": "code",
   "execution_count": 12,
   "metadata": {},
   "outputs": [],
   "source": [
    "Tabela.Custos <- SimulacaoMonteCarlo(20, Tabela.Frequencia$L.I.sorteio, Tabela.Frequencia$L.S.sorteio, Tabela.Frequencia$PM)\n",
    "colnames(Tabela.Custos) <- c(\"Semana\", \"Sorteio\", \"Demanda\")"
   ]
  },
  {
   "cell_type": "code",
   "execution_count": 13,
   "metadata": {},
   "outputs": [],
   "source": [
    "# CRIANDO A COLUNA ESTOQUE INICIAL \n",
    "# A PARTIR DAS PREVISÕES DE DEMANDA DA PRIMEIRA SEMANA COLOCA-SE NO ESTOQUE INICIAL A DEMANDA DA SEMANA ANTERIOR.\n",
    "Tabela.Custos$Estoque.Inicial[1] <- Estoque.Inicial\n",
    "Tabela.Custos$Estoque.Inicial[2:20] <- Tabela.Custos$Demanda[1:19]"
   ]
  },
  {
   "cell_type": "code",
   "execution_count": 14,
   "metadata": {},
   "outputs": [],
   "source": [
    "# CRIANDO A COLUNA VENDA\n",
    "Tabela.Custos$Venda <- mapply(funcao_venda, Tabela.Custos$Demanda, Tabela.Custos$Estoque.Inicial)\n",
    "# CRIANDO A COLUNA ESTOQUE FINAL\n",
    "Tabela.Custos$Estoque.Final <- mapply(funcao_estoque.final, Tabela.Custos$Estoque.Inicial, Tabela.Custos$Venda)\n",
    "# CRIANDO A COLUNA CUSTO DE FALTA\n",
    "Tabela.Custos$Custo.Falta <- mapply(funcao_custo.falta, \n",
    "                                          Tabela.Custos$Demanda, Tabela.Custos$Estoque.Inicial)\n",
    "# CRIANDO COLUNA CUSTO SOBRA \n",
    "Tabela.Custos$Custo.Sobra <- funcao_custo.sobra(Tabela.Custos$Estoque.Final)\n",
    "# CRIANDO A COLUNA CUSTO TOTAL\n",
    "Tabela.Custos$Custo.Total <- funcao_custo.total(Tabela.Custos$Custo.Falta, Tabela.Custos$Custo.Sobra)"
   ]
  },
  {
   "cell_type": "code",
   "execution_count": 15,
   "metadata": {},
   "outputs": [
    {
     "data": {
      "text/html": [
       "<table class=\"dataframe\">\n",
       "<caption>A data.frame: 20 × 9</caption>\n",
       "<thead>\n",
       "\t<tr><th scope=col>Semana</th><th scope=col>Sorteio</th><th scope=col>Demanda</th><th scope=col>Estoque.Inicial</th><th scope=col>Venda</th><th scope=col>Estoque.Final</th><th scope=col>Custo.Falta</th><th scope=col>Custo.Sobra</th><th scope=col>Custo.Total</th></tr>\n",
       "\t<tr><th scope=col>&lt;dbl&gt;</th><th scope=col>&lt;dbl&gt;</th><th scope=col>&lt;dbl&gt;</th><th scope=col>&lt;dbl&gt;</th><th scope=col>&lt;dbl&gt;</th><th scope=col>&lt;dbl&gt;</th><th scope=col>&lt;dbl&gt;</th><th scope=col>&lt;dbl&gt;</th><th scope=col>&lt;dbl&gt;</th></tr>\n",
       "</thead>\n",
       "<tbody>\n",
       "\t<tr><td> 1</td><td>956</td><td>255</td><td>233</td><td>233</td><td> 0</td><td>3300</td><td>   0</td><td>3300</td></tr>\n",
       "\t<tr><td> 2</td><td>622</td><td>237</td><td>255</td><td>237</td><td>18</td><td>   0</td><td>7200</td><td>7200</td></tr>\n",
       "\t<tr><td> 3</td><td>421</td><td>231</td><td>237</td><td>231</td><td> 6</td><td>   0</td><td>2400</td><td>2400</td></tr>\n",
       "\t<tr><td> 4</td><td>153</td><td>219</td><td>231</td><td>219</td><td>12</td><td>   0</td><td>4800</td><td>4800</td></tr>\n",
       "\t<tr><td> 5</td><td>169</td><td>219</td><td>219</td><td>219</td><td> 0</td><td>   0</td><td>   0</td><td>   0</td></tr>\n",
       "\t<tr><td> 6</td><td>472</td><td>231</td><td>219</td><td>219</td><td> 0</td><td>1800</td><td>   0</td><td>1800</td></tr>\n",
       "\t<tr><td> 7</td><td> 60</td><td>213</td><td>231</td><td>213</td><td>18</td><td>   0</td><td>7200</td><td>7200</td></tr>\n",
       "\t<tr><td> 8</td><td>697</td><td>237</td><td>213</td><td>213</td><td> 0</td><td>3600</td><td>   0</td><td>3600</td></tr>\n",
       "\t<tr><td> 9</td><td>712</td><td>237</td><td>237</td><td>237</td><td> 0</td><td>   0</td><td>   0</td><td>   0</td></tr>\n",
       "\t<tr><td>10</td><td>450</td><td>231</td><td>237</td><td>231</td><td> 6</td><td>   0</td><td>2400</td><td>2400</td></tr>\n",
       "\t<tr><td>11</td><td>752</td><td>243</td><td>231</td><td>231</td><td> 0</td><td>1800</td><td>   0</td><td>1800</td></tr>\n",
       "\t<tr><td>12</td><td>422</td><td>231</td><td>243</td><td>231</td><td>12</td><td>   0</td><td>4800</td><td>4800</td></tr>\n",
       "\t<tr><td>13</td><td>764</td><td>243</td><td>231</td><td>231</td><td> 0</td><td>1800</td><td>   0</td><td>1800</td></tr>\n",
       "\t<tr><td>14</td><td>833</td><td>249</td><td>243</td><td>243</td><td> 0</td><td> 900</td><td>   0</td><td> 900</td></tr>\n",
       "\t<tr><td>15</td><td>399</td><td>231</td><td>249</td><td>231</td><td>18</td><td>   0</td><td>7200</td><td>7200</td></tr>\n",
       "\t<tr><td>16</td><td>411</td><td>231</td><td>231</td><td>231</td><td> 0</td><td>   0</td><td>   0</td><td>   0</td></tr>\n",
       "\t<tr><td>17</td><td>692</td><td>237</td><td>231</td><td>231</td><td> 0</td><td> 900</td><td>   0</td><td> 900</td></tr>\n",
       "\t<tr><td>18</td><td>793</td><td>243</td><td>237</td><td>237</td><td> 0</td><td> 900</td><td>   0</td><td> 900</td></tr>\n",
       "\t<tr><td>19</td><td>680</td><td>237</td><td>243</td><td>237</td><td> 6</td><td>   0</td><td>2400</td><td>2400</td></tr>\n",
       "\t<tr><td>20</td><td>424</td><td>231</td><td>237</td><td>231</td><td> 6</td><td>   0</td><td>2400</td><td>2400</td></tr>\n",
       "</tbody>\n",
       "</table>\n"
      ],
      "text/latex": [
       "A data.frame: 20 × 9\n",
       "\\begin{tabular}{lllllllll}\n",
       " Semana & Sorteio & Demanda & Estoque.Inicial & Venda & Estoque.Final & Custo.Falta & Custo.Sobra & Custo.Total\\\\\n",
       " <dbl> & <dbl> & <dbl> & <dbl> & <dbl> & <dbl> & <dbl> & <dbl> & <dbl>\\\\\n",
       "\\hline\n",
       "\t  1 & 956 & 255 & 233 & 233 &  0 & 3300 &    0 & 3300\\\\\n",
       "\t  2 & 622 & 237 & 255 & 237 & 18 &    0 & 7200 & 7200\\\\\n",
       "\t  3 & 421 & 231 & 237 & 231 &  6 &    0 & 2400 & 2400\\\\\n",
       "\t  4 & 153 & 219 & 231 & 219 & 12 &    0 & 4800 & 4800\\\\\n",
       "\t  5 & 169 & 219 & 219 & 219 &  0 &    0 &    0 &    0\\\\\n",
       "\t  6 & 472 & 231 & 219 & 219 &  0 & 1800 &    0 & 1800\\\\\n",
       "\t  7 &  60 & 213 & 231 & 213 & 18 &    0 & 7200 & 7200\\\\\n",
       "\t  8 & 697 & 237 & 213 & 213 &  0 & 3600 &    0 & 3600\\\\\n",
       "\t  9 & 712 & 237 & 237 & 237 &  0 &    0 &    0 &    0\\\\\n",
       "\t 10 & 450 & 231 & 237 & 231 &  6 &    0 & 2400 & 2400\\\\\n",
       "\t 11 & 752 & 243 & 231 & 231 &  0 & 1800 &    0 & 1800\\\\\n",
       "\t 12 & 422 & 231 & 243 & 231 & 12 &    0 & 4800 & 4800\\\\\n",
       "\t 13 & 764 & 243 & 231 & 231 &  0 & 1800 &    0 & 1800\\\\\n",
       "\t 14 & 833 & 249 & 243 & 243 &  0 &  900 &    0 &  900\\\\\n",
       "\t 15 & 399 & 231 & 249 & 231 & 18 &    0 & 7200 & 7200\\\\\n",
       "\t 16 & 411 & 231 & 231 & 231 &  0 &    0 &    0 &    0\\\\\n",
       "\t 17 & 692 & 237 & 231 & 231 &  0 &  900 &    0 &  900\\\\\n",
       "\t 18 & 793 & 243 & 237 & 237 &  0 &  900 &    0 &  900\\\\\n",
       "\t 19 & 680 & 237 & 243 & 237 &  6 &    0 & 2400 & 2400\\\\\n",
       "\t 20 & 424 & 231 & 237 & 231 &  6 &    0 & 2400 & 2400\\\\\n",
       "\\end{tabular}\n"
      ],
      "text/markdown": [
       "\n",
       "A data.frame: 20 × 9\n",
       "\n",
       "| Semana &lt;dbl&gt; | Sorteio &lt;dbl&gt; | Demanda &lt;dbl&gt; | Estoque.Inicial &lt;dbl&gt; | Venda &lt;dbl&gt; | Estoque.Final &lt;dbl&gt; | Custo.Falta &lt;dbl&gt; | Custo.Sobra &lt;dbl&gt; | Custo.Total &lt;dbl&gt; |\n",
       "|---|---|---|---|---|---|---|---|---|\n",
       "|  1 | 956 | 255 | 233 | 233 |  0 | 3300 |    0 | 3300 |\n",
       "|  2 | 622 | 237 | 255 | 237 | 18 |    0 | 7200 | 7200 |\n",
       "|  3 | 421 | 231 | 237 | 231 |  6 |    0 | 2400 | 2400 |\n",
       "|  4 | 153 | 219 | 231 | 219 | 12 |    0 | 4800 | 4800 |\n",
       "|  5 | 169 | 219 | 219 | 219 |  0 |    0 |    0 |    0 |\n",
       "|  6 | 472 | 231 | 219 | 219 |  0 | 1800 |    0 | 1800 |\n",
       "|  7 |  60 | 213 | 231 | 213 | 18 |    0 | 7200 | 7200 |\n",
       "|  8 | 697 | 237 | 213 | 213 |  0 | 3600 |    0 | 3600 |\n",
       "|  9 | 712 | 237 | 237 | 237 |  0 |    0 |    0 |    0 |\n",
       "| 10 | 450 | 231 | 237 | 231 |  6 |    0 | 2400 | 2400 |\n",
       "| 11 | 752 | 243 | 231 | 231 |  0 | 1800 |    0 | 1800 |\n",
       "| 12 | 422 | 231 | 243 | 231 | 12 |    0 | 4800 | 4800 |\n",
       "| 13 | 764 | 243 | 231 | 231 |  0 | 1800 |    0 | 1800 |\n",
       "| 14 | 833 | 249 | 243 | 243 |  0 |  900 |    0 |  900 |\n",
       "| 15 | 399 | 231 | 249 | 231 | 18 |    0 | 7200 | 7200 |\n",
       "| 16 | 411 | 231 | 231 | 231 |  0 |    0 |    0 |    0 |\n",
       "| 17 | 692 | 237 | 231 | 231 |  0 |  900 |    0 |  900 |\n",
       "| 18 | 793 | 243 | 237 | 237 |  0 |  900 |    0 |  900 |\n",
       "| 19 | 680 | 237 | 243 | 237 |  6 |    0 | 2400 | 2400 |\n",
       "| 20 | 424 | 231 | 237 | 231 |  6 |    0 | 2400 | 2400 |\n",
       "\n"
      ],
      "text/plain": [
       "   Semana Sorteio Demanda Estoque.Inicial Venda Estoque.Final Custo.Falta\n",
       "1   1     956     255     233             233    0            3300       \n",
       "2   2     622     237     255             237   18               0       \n",
       "3   3     421     231     237             231    6               0       \n",
       "4   4     153     219     231             219   12               0       \n",
       "5   5     169     219     219             219    0               0       \n",
       "6   6     472     231     219             219    0            1800       \n",
       "7   7      60     213     231             213   18               0       \n",
       "8   8     697     237     213             213    0            3600       \n",
       "9   9     712     237     237             237    0               0       \n",
       "10 10     450     231     237             231    6               0       \n",
       "11 11     752     243     231             231    0            1800       \n",
       "12 12     422     231     243             231   12               0       \n",
       "13 13     764     243     231             231    0            1800       \n",
       "14 14     833     249     243             243    0             900       \n",
       "15 15     399     231     249             231   18               0       \n",
       "16 16     411     231     231             231    0               0       \n",
       "17 17     692     237     231             231    0             900       \n",
       "18 18     793     243     237             237    0             900       \n",
       "19 19     680     237     243             237    6               0       \n",
       "20 20     424     231     237             231    6               0       \n",
       "   Custo.Sobra Custo.Total\n",
       "1     0        3300       \n",
       "2  7200        7200       \n",
       "3  2400        2400       \n",
       "4  4800        4800       \n",
       "5     0           0       \n",
       "6     0        1800       \n",
       "7  7200        7200       \n",
       "8     0        3600       \n",
       "9     0           0       \n",
       "10 2400        2400       \n",
       "11    0        1800       \n",
       "12 4800        4800       \n",
       "13    0        1800       \n",
       "14    0         900       \n",
       "15 7200        7200       \n",
       "16    0           0       \n",
       "17    0         900       \n",
       "18    0         900       \n",
       "19 2400        2400       \n",
       "20 2400        2400       "
      ]
     },
     "metadata": {},
     "output_type": "display_data"
    }
   ],
   "source": [
    "Tabela.Custos"
   ]
  },
  {
   "cell_type": "code",
   "execution_count": 16,
   "metadata": {},
   "outputs": [
    {
     "name": "stdout",
     "output_type": "stream",
     "text": [
      "Custo Total: 55800 u.m"
     ]
    }
   ],
   "source": [
    "Custo.Total <- sum(Tabela.Custos$Custo.Total)\n",
    "cat(\"Custo Total:\", Custo.Total,\"u.m\")"
   ]
  },
  {
   "cell_type": "markdown",
   "metadata": {},
   "source": [
    "#### TESTANDO A SEGUNDA HIPÓTESE\n",
    "2. COMPRAR UMA QUANTIDADE IGUAL À MÉDIA HISTÓRICA ANOTADA NO PERÍODO ANTERIOR DE 40 SEMANAS (MÉDIA = VALOR INTEIRO MAIS PRÓXIMO DA MÉDIA VERIFICADA)."
   ]
  },
  {
   "cell_type": "code",
   "execution_count": 17,
   "metadata": {},
   "outputs": [
    {
     "name": "stdout",
     "output_type": "stream",
     "text": [
      "Média Ponderada = 233 \n",
      "Comprar 233 toda semana"
     ]
    }
   ],
   "source": [
    "cat(\"Média Ponderada =\" ,media.ponderada, \"\\nComprar\",media.ponderada,\"toda semana\")"
   ]
  },
  {
   "cell_type": "code",
   "execution_count": 18,
   "metadata": {},
   "outputs": [],
   "source": [
    "# CRIANDO A TABELA DE CUSTO DA SEGUNDA HIPÓTESE COM BASE NA PRIMEIRA TABELA GERADA\n",
    "Tabela.Custos2 = Tabela.Custos"
   ]
  },
  {
   "cell_type": "code",
   "execution_count": 19,
   "metadata": {},
   "outputs": [],
   "source": [
    "# CRIANDO A COLUNA ESTOQUE INICIAL COM A MÉDIA PONDERADA\n",
    "Tabela.Custos2$Estoque.Inicial[1:20] <- Estoque.Inicial"
   ]
  },
  {
   "cell_type": "code",
   "execution_count": 20,
   "metadata": {},
   "outputs": [],
   "source": [
    "# CRIANDO A COLUNA VENDA\n",
    "Tabela.Custos2$Venda <- mapply(funcao_venda, Tabela.Custos2$Demanda, Tabela.Custos2$Estoque.Inicial)\n",
    "# CRIANDO A COLUNA ESTOQUE FINAL\n",
    "Tabela.Custos2$Estoque.Final <- mapply(funcao_estoque.final, Tabela.Custos2$Estoque.Inicial, Tabela.Custos2$Venda)\n",
    "# CRIANDO A COLUNA CUSTO DE FALTA\n",
    "Tabela.Custos2$Custo.Falta <- mapply(funcao_custo.falta, \n",
    "                                          Tabela.Custos2$Demanda, Tabela.Custos2$Estoque.Inicial)\n",
    "# CRIANDO COLUNA CUSTO SOBRA \n",
    "Tabela.Custos2$Custo.Sobra <- funcao_custo.sobra(Tabela.Custos2$Estoque.Final)\n",
    "# CRIANDO A COLUNA CUSTO TOTAL\n",
    "Tabela.Custos2$Custo.Total <- funcao_custo.total(Tabela.Custos2$Custo.Falta, Tabela.Custos2$Custo.Sobra)"
   ]
  },
  {
   "cell_type": "code",
   "execution_count": 21,
   "metadata": {},
   "outputs": [
    {
     "data": {
      "text/html": [
       "<table class=\"dataframe\">\n",
       "<caption>A data.frame: 20 × 9</caption>\n",
       "<thead>\n",
       "\t<tr><th scope=col>Semana</th><th scope=col>Sorteio</th><th scope=col>Demanda</th><th scope=col>Estoque.Inicial</th><th scope=col>Venda</th><th scope=col>Estoque.Final</th><th scope=col>Custo.Falta</th><th scope=col>Custo.Sobra</th><th scope=col>Custo.Total</th></tr>\n",
       "\t<tr><th scope=col>&lt;dbl&gt;</th><th scope=col>&lt;dbl&gt;</th><th scope=col>&lt;dbl&gt;</th><th scope=col>&lt;dbl&gt;</th><th scope=col>&lt;dbl&gt;</th><th scope=col>&lt;dbl&gt;</th><th scope=col>&lt;dbl&gt;</th><th scope=col>&lt;dbl&gt;</th><th scope=col>&lt;dbl&gt;</th></tr>\n",
       "</thead>\n",
       "<tbody>\n",
       "\t<tr><td> 1</td><td>956</td><td>255</td><td>233</td><td>233</td><td> 0</td><td>3300</td><td>   0</td><td>3300</td></tr>\n",
       "\t<tr><td> 2</td><td>622</td><td>237</td><td>233</td><td>233</td><td> 0</td><td> 600</td><td>   0</td><td> 600</td></tr>\n",
       "\t<tr><td> 3</td><td>421</td><td>231</td><td>233</td><td>231</td><td> 2</td><td>   0</td><td> 800</td><td> 800</td></tr>\n",
       "\t<tr><td> 4</td><td>153</td><td>219</td><td>233</td><td>219</td><td>14</td><td>   0</td><td>5600</td><td>5600</td></tr>\n",
       "\t<tr><td> 5</td><td>169</td><td>219</td><td>233</td><td>219</td><td>14</td><td>   0</td><td>5600</td><td>5600</td></tr>\n",
       "\t<tr><td> 6</td><td>472</td><td>231</td><td>233</td><td>231</td><td> 2</td><td>   0</td><td> 800</td><td> 800</td></tr>\n",
       "\t<tr><td> 7</td><td> 60</td><td>213</td><td>233</td><td>213</td><td>20</td><td>   0</td><td>8000</td><td>8000</td></tr>\n",
       "\t<tr><td> 8</td><td>697</td><td>237</td><td>233</td><td>233</td><td> 0</td><td> 600</td><td>   0</td><td> 600</td></tr>\n",
       "\t<tr><td> 9</td><td>712</td><td>237</td><td>233</td><td>233</td><td> 0</td><td> 600</td><td>   0</td><td> 600</td></tr>\n",
       "\t<tr><td>10</td><td>450</td><td>231</td><td>233</td><td>231</td><td> 2</td><td>   0</td><td> 800</td><td> 800</td></tr>\n",
       "\t<tr><td>11</td><td>752</td><td>243</td><td>233</td><td>233</td><td> 0</td><td>1500</td><td>   0</td><td>1500</td></tr>\n",
       "\t<tr><td>12</td><td>422</td><td>231</td><td>233</td><td>231</td><td> 2</td><td>   0</td><td> 800</td><td> 800</td></tr>\n",
       "\t<tr><td>13</td><td>764</td><td>243</td><td>233</td><td>233</td><td> 0</td><td>1500</td><td>   0</td><td>1500</td></tr>\n",
       "\t<tr><td>14</td><td>833</td><td>249</td><td>233</td><td>233</td><td> 0</td><td>2400</td><td>   0</td><td>2400</td></tr>\n",
       "\t<tr><td>15</td><td>399</td><td>231</td><td>233</td><td>231</td><td> 2</td><td>   0</td><td> 800</td><td> 800</td></tr>\n",
       "\t<tr><td>16</td><td>411</td><td>231</td><td>233</td><td>231</td><td> 2</td><td>   0</td><td> 800</td><td> 800</td></tr>\n",
       "\t<tr><td>17</td><td>692</td><td>237</td><td>233</td><td>233</td><td> 0</td><td> 600</td><td>   0</td><td> 600</td></tr>\n",
       "\t<tr><td>18</td><td>793</td><td>243</td><td>233</td><td>233</td><td> 0</td><td>1500</td><td>   0</td><td>1500</td></tr>\n",
       "\t<tr><td>19</td><td>680</td><td>237</td><td>233</td><td>233</td><td> 0</td><td> 600</td><td>   0</td><td> 600</td></tr>\n",
       "\t<tr><td>20</td><td>424</td><td>231</td><td>233</td><td>231</td><td> 2</td><td>   0</td><td> 800</td><td> 800</td></tr>\n",
       "</tbody>\n",
       "</table>\n"
      ],
      "text/latex": [
       "A data.frame: 20 × 9\n",
       "\\begin{tabular}{lllllllll}\n",
       " Semana & Sorteio & Demanda & Estoque.Inicial & Venda & Estoque.Final & Custo.Falta & Custo.Sobra & Custo.Total\\\\\n",
       " <dbl> & <dbl> & <dbl> & <dbl> & <dbl> & <dbl> & <dbl> & <dbl> & <dbl>\\\\\n",
       "\\hline\n",
       "\t  1 & 956 & 255 & 233 & 233 &  0 & 3300 &    0 & 3300\\\\\n",
       "\t  2 & 622 & 237 & 233 & 233 &  0 &  600 &    0 &  600\\\\\n",
       "\t  3 & 421 & 231 & 233 & 231 &  2 &    0 &  800 &  800\\\\\n",
       "\t  4 & 153 & 219 & 233 & 219 & 14 &    0 & 5600 & 5600\\\\\n",
       "\t  5 & 169 & 219 & 233 & 219 & 14 &    0 & 5600 & 5600\\\\\n",
       "\t  6 & 472 & 231 & 233 & 231 &  2 &    0 &  800 &  800\\\\\n",
       "\t  7 &  60 & 213 & 233 & 213 & 20 &    0 & 8000 & 8000\\\\\n",
       "\t  8 & 697 & 237 & 233 & 233 &  0 &  600 &    0 &  600\\\\\n",
       "\t  9 & 712 & 237 & 233 & 233 &  0 &  600 &    0 &  600\\\\\n",
       "\t 10 & 450 & 231 & 233 & 231 &  2 &    0 &  800 &  800\\\\\n",
       "\t 11 & 752 & 243 & 233 & 233 &  0 & 1500 &    0 & 1500\\\\\n",
       "\t 12 & 422 & 231 & 233 & 231 &  2 &    0 &  800 &  800\\\\\n",
       "\t 13 & 764 & 243 & 233 & 233 &  0 & 1500 &    0 & 1500\\\\\n",
       "\t 14 & 833 & 249 & 233 & 233 &  0 & 2400 &    0 & 2400\\\\\n",
       "\t 15 & 399 & 231 & 233 & 231 &  2 &    0 &  800 &  800\\\\\n",
       "\t 16 & 411 & 231 & 233 & 231 &  2 &    0 &  800 &  800\\\\\n",
       "\t 17 & 692 & 237 & 233 & 233 &  0 &  600 &    0 &  600\\\\\n",
       "\t 18 & 793 & 243 & 233 & 233 &  0 & 1500 &    0 & 1500\\\\\n",
       "\t 19 & 680 & 237 & 233 & 233 &  0 &  600 &    0 &  600\\\\\n",
       "\t 20 & 424 & 231 & 233 & 231 &  2 &    0 &  800 &  800\\\\\n",
       "\\end{tabular}\n"
      ],
      "text/markdown": [
       "\n",
       "A data.frame: 20 × 9\n",
       "\n",
       "| Semana &lt;dbl&gt; | Sorteio &lt;dbl&gt; | Demanda &lt;dbl&gt; | Estoque.Inicial &lt;dbl&gt; | Venda &lt;dbl&gt; | Estoque.Final &lt;dbl&gt; | Custo.Falta &lt;dbl&gt; | Custo.Sobra &lt;dbl&gt; | Custo.Total &lt;dbl&gt; |\n",
       "|---|---|---|---|---|---|---|---|---|\n",
       "|  1 | 956 | 255 | 233 | 233 |  0 | 3300 |    0 | 3300 |\n",
       "|  2 | 622 | 237 | 233 | 233 |  0 |  600 |    0 |  600 |\n",
       "|  3 | 421 | 231 | 233 | 231 |  2 |    0 |  800 |  800 |\n",
       "|  4 | 153 | 219 | 233 | 219 | 14 |    0 | 5600 | 5600 |\n",
       "|  5 | 169 | 219 | 233 | 219 | 14 |    0 | 5600 | 5600 |\n",
       "|  6 | 472 | 231 | 233 | 231 |  2 |    0 |  800 |  800 |\n",
       "|  7 |  60 | 213 | 233 | 213 | 20 |    0 | 8000 | 8000 |\n",
       "|  8 | 697 | 237 | 233 | 233 |  0 |  600 |    0 |  600 |\n",
       "|  9 | 712 | 237 | 233 | 233 |  0 |  600 |    0 |  600 |\n",
       "| 10 | 450 | 231 | 233 | 231 |  2 |    0 |  800 |  800 |\n",
       "| 11 | 752 | 243 | 233 | 233 |  0 | 1500 |    0 | 1500 |\n",
       "| 12 | 422 | 231 | 233 | 231 |  2 |    0 |  800 |  800 |\n",
       "| 13 | 764 | 243 | 233 | 233 |  0 | 1500 |    0 | 1500 |\n",
       "| 14 | 833 | 249 | 233 | 233 |  0 | 2400 |    0 | 2400 |\n",
       "| 15 | 399 | 231 | 233 | 231 |  2 |    0 |  800 |  800 |\n",
       "| 16 | 411 | 231 | 233 | 231 |  2 |    0 |  800 |  800 |\n",
       "| 17 | 692 | 237 | 233 | 233 |  0 |  600 |    0 |  600 |\n",
       "| 18 | 793 | 243 | 233 | 233 |  0 | 1500 |    0 | 1500 |\n",
       "| 19 | 680 | 237 | 233 | 233 |  0 |  600 |    0 |  600 |\n",
       "| 20 | 424 | 231 | 233 | 231 |  2 |    0 |  800 |  800 |\n",
       "\n"
      ],
      "text/plain": [
       "   Semana Sorteio Demanda Estoque.Inicial Venda Estoque.Final Custo.Falta\n",
       "1   1     956     255     233             233    0            3300       \n",
       "2   2     622     237     233             233    0             600       \n",
       "3   3     421     231     233             231    2               0       \n",
       "4   4     153     219     233             219   14               0       \n",
       "5   5     169     219     233             219   14               0       \n",
       "6   6     472     231     233             231    2               0       \n",
       "7   7      60     213     233             213   20               0       \n",
       "8   8     697     237     233             233    0             600       \n",
       "9   9     712     237     233             233    0             600       \n",
       "10 10     450     231     233             231    2               0       \n",
       "11 11     752     243     233             233    0            1500       \n",
       "12 12     422     231     233             231    2               0       \n",
       "13 13     764     243     233             233    0            1500       \n",
       "14 14     833     249     233             233    0            2400       \n",
       "15 15     399     231     233             231    2               0       \n",
       "16 16     411     231     233             231    2               0       \n",
       "17 17     692     237     233             233    0             600       \n",
       "18 18     793     243     233             233    0            1500       \n",
       "19 19     680     237     233             233    0             600       \n",
       "20 20     424     231     233             231    2               0       \n",
       "   Custo.Sobra Custo.Total\n",
       "1     0        3300       \n",
       "2     0         600       \n",
       "3   800         800       \n",
       "4  5600        5600       \n",
       "5  5600        5600       \n",
       "6   800         800       \n",
       "7  8000        8000       \n",
       "8     0         600       \n",
       "9     0         600       \n",
       "10  800         800       \n",
       "11    0        1500       \n",
       "12  800         800       \n",
       "13    0        1500       \n",
       "14    0        2400       \n",
       "15  800         800       \n",
       "16  800         800       \n",
       "17    0         600       \n",
       "18    0        1500       \n",
       "19    0         600       \n",
       "20  800         800       "
      ]
     },
     "metadata": {},
     "output_type": "display_data"
    }
   ],
   "source": [
    "Tabela.Custos2"
   ]
  },
  {
   "cell_type": "code",
   "execution_count": 22,
   "metadata": {},
   "outputs": [
    {
     "name": "stdout",
     "output_type": "stream",
     "text": [
      "Custo Total: 38000 u.m"
     ]
    }
   ],
   "source": [
    "Custo.Total2 <- sum(Tabela.Custos2$Custo.Total)\n",
    "cat(\"Custo Total:\", Custo.Total2,\"u.m\")"
   ]
  },
  {
   "cell_type": "markdown",
   "metadata": {},
   "source": [
    "O SEGUNDO QUADRO FOI, ATÉ AGORA, O MAIS FAVORÁVEL. OBESERVANDO A DISTRIBUIÇÃO DOS CUSTOS PARECE RAZOÁVEL PENSAR NA HIPÓTESE DE UMA COMPRA MENOR QUE A MÉDIA HISTÓRICA."
   ]
  },
  {
   "cell_type": "markdown",
   "metadata": {},
   "source": [
    "#### TESTANDO A TERCEIRA HIPÓTESE\n",
    "3. O EXAME DOS RESULTADOS SUGERE O TESTE DE OUTRA HIPÓTESE."
   ]
  },
  {
   "cell_type": "code",
   "execution_count": 23,
   "metadata": {},
   "outputs": [
    {
     "name": "stdout",
     "output_type": "stream",
     "text": [
      "Compra de 230 dúzias por semana"
     ]
    }
   ],
   "source": [
    "cat(\"Compra de 230 dúzias por semana\")"
   ]
  },
  {
   "cell_type": "code",
   "execution_count": 24,
   "metadata": {},
   "outputs": [],
   "source": [
    "# CRIANDO A TABELA DE CUSTO DA TERCEIRA HIPÓTESE COM BASE NA PRIMEIRA TABELA GERADA\n",
    "Tabela.Custos3 = Tabela.Custos"
   ]
  },
  {
   "cell_type": "code",
   "execution_count": 25,
   "metadata": {},
   "outputs": [],
   "source": [
    "# CRIANDO A COLUNA ESTOQUE INICIAL COM A QUANTIDADE DE 230 DÚZIAS\n",
    "Tabela.Custos3$Estoque.Inicial[1:20] <- 230"
   ]
  },
  {
   "cell_type": "code",
   "execution_count": 26,
   "metadata": {},
   "outputs": [],
   "source": [
    "# CRIANDO A COLUNA VENDA\n",
    "Tabela.Custos3$Venda <- mapply(funcao_venda, Tabela.Custos3$Demanda, Tabela.Custos3$Estoque.Inicial)\n",
    "# CRIANDO A COLUNA ESTOQUE FINAL\n",
    "Tabela.Custos3$Estoque.Final <- mapply(funcao_estoque.final, Tabela.Custos3$Estoque.Inicial, Tabela.Custos3$Venda)\n",
    "# CRIANDO A COLUNA CUSTO DE FALTA\n",
    "Tabela.Custos3$Custo.Falta <- mapply(funcao_custo.falta, \n",
    "                                          Tabela.Custos3$Demanda, Tabela.Custos3$Estoque.Inicial)\n",
    "# CRIANDO COLUNA CUSTO SOBRA \n",
    "Tabela.Custos3$Custo.Sobra <- funcao_custo.sobra(Tabela.Custos3$Estoque.Final)\n",
    "# CRIANDO A COLUNA CUSTO TOTAL\n",
    "Tabela.Custos3$Custo.Total <- funcao_custo.total(Tabela.Custos3$Custo.Falta, Tabela.Custos3$Custo.Sobra)"
   ]
  },
  {
   "cell_type": "code",
   "execution_count": 27,
   "metadata": {},
   "outputs": [
    {
     "data": {
      "text/html": [
       "<table class=\"dataframe\">\n",
       "<caption>A data.frame: 20 × 9</caption>\n",
       "<thead>\n",
       "\t<tr><th scope=col>Semana</th><th scope=col>Sorteio</th><th scope=col>Demanda</th><th scope=col>Estoque.Inicial</th><th scope=col>Venda</th><th scope=col>Estoque.Final</th><th scope=col>Custo.Falta</th><th scope=col>Custo.Sobra</th><th scope=col>Custo.Total</th></tr>\n",
       "\t<tr><th scope=col>&lt;dbl&gt;</th><th scope=col>&lt;dbl&gt;</th><th scope=col>&lt;dbl&gt;</th><th scope=col>&lt;dbl&gt;</th><th scope=col>&lt;dbl&gt;</th><th scope=col>&lt;dbl&gt;</th><th scope=col>&lt;dbl&gt;</th><th scope=col>&lt;dbl&gt;</th><th scope=col>&lt;dbl&gt;</th></tr>\n",
       "</thead>\n",
       "<tbody>\n",
       "\t<tr><td> 1</td><td>956</td><td>255</td><td>230</td><td>230</td><td> 0</td><td>3750</td><td>   0</td><td>3750</td></tr>\n",
       "\t<tr><td> 2</td><td>622</td><td>237</td><td>230</td><td>230</td><td> 0</td><td>1050</td><td>   0</td><td>1050</td></tr>\n",
       "\t<tr><td> 3</td><td>421</td><td>231</td><td>230</td><td>230</td><td> 0</td><td> 150</td><td>   0</td><td> 150</td></tr>\n",
       "\t<tr><td> 4</td><td>153</td><td>219</td><td>230</td><td>219</td><td>11</td><td>   0</td><td>4400</td><td>4400</td></tr>\n",
       "\t<tr><td> 5</td><td>169</td><td>219</td><td>230</td><td>219</td><td>11</td><td>   0</td><td>4400</td><td>4400</td></tr>\n",
       "\t<tr><td> 6</td><td>472</td><td>231</td><td>230</td><td>230</td><td> 0</td><td> 150</td><td>   0</td><td> 150</td></tr>\n",
       "\t<tr><td> 7</td><td> 60</td><td>213</td><td>230</td><td>213</td><td>17</td><td>   0</td><td>6800</td><td>6800</td></tr>\n",
       "\t<tr><td> 8</td><td>697</td><td>237</td><td>230</td><td>230</td><td> 0</td><td>1050</td><td>   0</td><td>1050</td></tr>\n",
       "\t<tr><td> 9</td><td>712</td><td>237</td><td>230</td><td>230</td><td> 0</td><td>1050</td><td>   0</td><td>1050</td></tr>\n",
       "\t<tr><td>10</td><td>450</td><td>231</td><td>230</td><td>230</td><td> 0</td><td> 150</td><td>   0</td><td> 150</td></tr>\n",
       "\t<tr><td>11</td><td>752</td><td>243</td><td>230</td><td>230</td><td> 0</td><td>1950</td><td>   0</td><td>1950</td></tr>\n",
       "\t<tr><td>12</td><td>422</td><td>231</td><td>230</td><td>230</td><td> 0</td><td> 150</td><td>   0</td><td> 150</td></tr>\n",
       "\t<tr><td>13</td><td>764</td><td>243</td><td>230</td><td>230</td><td> 0</td><td>1950</td><td>   0</td><td>1950</td></tr>\n",
       "\t<tr><td>14</td><td>833</td><td>249</td><td>230</td><td>230</td><td> 0</td><td>2850</td><td>   0</td><td>2850</td></tr>\n",
       "\t<tr><td>15</td><td>399</td><td>231</td><td>230</td><td>230</td><td> 0</td><td> 150</td><td>   0</td><td> 150</td></tr>\n",
       "\t<tr><td>16</td><td>411</td><td>231</td><td>230</td><td>230</td><td> 0</td><td> 150</td><td>   0</td><td> 150</td></tr>\n",
       "\t<tr><td>17</td><td>692</td><td>237</td><td>230</td><td>230</td><td> 0</td><td>1050</td><td>   0</td><td>1050</td></tr>\n",
       "\t<tr><td>18</td><td>793</td><td>243</td><td>230</td><td>230</td><td> 0</td><td>1950</td><td>   0</td><td>1950</td></tr>\n",
       "\t<tr><td>19</td><td>680</td><td>237</td><td>230</td><td>230</td><td> 0</td><td>1050</td><td>   0</td><td>1050</td></tr>\n",
       "\t<tr><td>20</td><td>424</td><td>231</td><td>230</td><td>230</td><td> 0</td><td> 150</td><td>   0</td><td> 150</td></tr>\n",
       "</tbody>\n",
       "</table>\n"
      ],
      "text/latex": [
       "A data.frame: 20 × 9\n",
       "\\begin{tabular}{lllllllll}\n",
       " Semana & Sorteio & Demanda & Estoque.Inicial & Venda & Estoque.Final & Custo.Falta & Custo.Sobra & Custo.Total\\\\\n",
       " <dbl> & <dbl> & <dbl> & <dbl> & <dbl> & <dbl> & <dbl> & <dbl> & <dbl>\\\\\n",
       "\\hline\n",
       "\t  1 & 956 & 255 & 230 & 230 &  0 & 3750 &    0 & 3750\\\\\n",
       "\t  2 & 622 & 237 & 230 & 230 &  0 & 1050 &    0 & 1050\\\\\n",
       "\t  3 & 421 & 231 & 230 & 230 &  0 &  150 &    0 &  150\\\\\n",
       "\t  4 & 153 & 219 & 230 & 219 & 11 &    0 & 4400 & 4400\\\\\n",
       "\t  5 & 169 & 219 & 230 & 219 & 11 &    0 & 4400 & 4400\\\\\n",
       "\t  6 & 472 & 231 & 230 & 230 &  0 &  150 &    0 &  150\\\\\n",
       "\t  7 &  60 & 213 & 230 & 213 & 17 &    0 & 6800 & 6800\\\\\n",
       "\t  8 & 697 & 237 & 230 & 230 &  0 & 1050 &    0 & 1050\\\\\n",
       "\t  9 & 712 & 237 & 230 & 230 &  0 & 1050 &    0 & 1050\\\\\n",
       "\t 10 & 450 & 231 & 230 & 230 &  0 &  150 &    0 &  150\\\\\n",
       "\t 11 & 752 & 243 & 230 & 230 &  0 & 1950 &    0 & 1950\\\\\n",
       "\t 12 & 422 & 231 & 230 & 230 &  0 &  150 &    0 &  150\\\\\n",
       "\t 13 & 764 & 243 & 230 & 230 &  0 & 1950 &    0 & 1950\\\\\n",
       "\t 14 & 833 & 249 & 230 & 230 &  0 & 2850 &    0 & 2850\\\\\n",
       "\t 15 & 399 & 231 & 230 & 230 &  0 &  150 &    0 &  150\\\\\n",
       "\t 16 & 411 & 231 & 230 & 230 &  0 &  150 &    0 &  150\\\\\n",
       "\t 17 & 692 & 237 & 230 & 230 &  0 & 1050 &    0 & 1050\\\\\n",
       "\t 18 & 793 & 243 & 230 & 230 &  0 & 1950 &    0 & 1950\\\\\n",
       "\t 19 & 680 & 237 & 230 & 230 &  0 & 1050 &    0 & 1050\\\\\n",
       "\t 20 & 424 & 231 & 230 & 230 &  0 &  150 &    0 &  150\\\\\n",
       "\\end{tabular}\n"
      ],
      "text/markdown": [
       "\n",
       "A data.frame: 20 × 9\n",
       "\n",
       "| Semana &lt;dbl&gt; | Sorteio &lt;dbl&gt; | Demanda &lt;dbl&gt; | Estoque.Inicial &lt;dbl&gt; | Venda &lt;dbl&gt; | Estoque.Final &lt;dbl&gt; | Custo.Falta &lt;dbl&gt; | Custo.Sobra &lt;dbl&gt; | Custo.Total &lt;dbl&gt; |\n",
       "|---|---|---|---|---|---|---|---|---|\n",
       "|  1 | 956 | 255 | 230 | 230 |  0 | 3750 |    0 | 3750 |\n",
       "|  2 | 622 | 237 | 230 | 230 |  0 | 1050 |    0 | 1050 |\n",
       "|  3 | 421 | 231 | 230 | 230 |  0 |  150 |    0 |  150 |\n",
       "|  4 | 153 | 219 | 230 | 219 | 11 |    0 | 4400 | 4400 |\n",
       "|  5 | 169 | 219 | 230 | 219 | 11 |    0 | 4400 | 4400 |\n",
       "|  6 | 472 | 231 | 230 | 230 |  0 |  150 |    0 |  150 |\n",
       "|  7 |  60 | 213 | 230 | 213 | 17 |    0 | 6800 | 6800 |\n",
       "|  8 | 697 | 237 | 230 | 230 |  0 | 1050 |    0 | 1050 |\n",
       "|  9 | 712 | 237 | 230 | 230 |  0 | 1050 |    0 | 1050 |\n",
       "| 10 | 450 | 231 | 230 | 230 |  0 |  150 |    0 |  150 |\n",
       "| 11 | 752 | 243 | 230 | 230 |  0 | 1950 |    0 | 1950 |\n",
       "| 12 | 422 | 231 | 230 | 230 |  0 |  150 |    0 |  150 |\n",
       "| 13 | 764 | 243 | 230 | 230 |  0 | 1950 |    0 | 1950 |\n",
       "| 14 | 833 | 249 | 230 | 230 |  0 | 2850 |    0 | 2850 |\n",
       "| 15 | 399 | 231 | 230 | 230 |  0 |  150 |    0 |  150 |\n",
       "| 16 | 411 | 231 | 230 | 230 |  0 |  150 |    0 |  150 |\n",
       "| 17 | 692 | 237 | 230 | 230 |  0 | 1050 |    0 | 1050 |\n",
       "| 18 | 793 | 243 | 230 | 230 |  0 | 1950 |    0 | 1950 |\n",
       "| 19 | 680 | 237 | 230 | 230 |  0 | 1050 |    0 | 1050 |\n",
       "| 20 | 424 | 231 | 230 | 230 |  0 |  150 |    0 |  150 |\n",
       "\n"
      ],
      "text/plain": [
       "   Semana Sorteio Demanda Estoque.Inicial Venda Estoque.Final Custo.Falta\n",
       "1   1     956     255     230             230    0            3750       \n",
       "2   2     622     237     230             230    0            1050       \n",
       "3   3     421     231     230             230    0             150       \n",
       "4   4     153     219     230             219   11               0       \n",
       "5   5     169     219     230             219   11               0       \n",
       "6   6     472     231     230             230    0             150       \n",
       "7   7      60     213     230             213   17               0       \n",
       "8   8     697     237     230             230    0            1050       \n",
       "9   9     712     237     230             230    0            1050       \n",
       "10 10     450     231     230             230    0             150       \n",
       "11 11     752     243     230             230    0            1950       \n",
       "12 12     422     231     230             230    0             150       \n",
       "13 13     764     243     230             230    0            1950       \n",
       "14 14     833     249     230             230    0            2850       \n",
       "15 15     399     231     230             230    0             150       \n",
       "16 16     411     231     230             230    0             150       \n",
       "17 17     692     237     230             230    0            1050       \n",
       "18 18     793     243     230             230    0            1950       \n",
       "19 19     680     237     230             230    0            1050       \n",
       "20 20     424     231     230             230    0             150       \n",
       "   Custo.Sobra Custo.Total\n",
       "1     0        3750       \n",
       "2     0        1050       \n",
       "3     0         150       \n",
       "4  4400        4400       \n",
       "5  4400        4400       \n",
       "6     0         150       \n",
       "7  6800        6800       \n",
       "8     0        1050       \n",
       "9     0        1050       \n",
       "10    0         150       \n",
       "11    0        1950       \n",
       "12    0         150       \n",
       "13    0        1950       \n",
       "14    0        2850       \n",
       "15    0         150       \n",
       "16    0         150       \n",
       "17    0        1050       \n",
       "18    0        1950       \n",
       "19    0        1050       \n",
       "20    0         150       "
      ]
     },
     "metadata": {},
     "output_type": "display_data"
    }
   ],
   "source": [
    "Tabela.Custos3"
   ]
  },
  {
   "cell_type": "code",
   "execution_count": 28,
   "metadata": {},
   "outputs": [
    {
     "name": "stdout",
     "output_type": "stream",
     "text": [
      "Custo Total: 34350 u.m"
     ]
    }
   ],
   "source": [
    "Custo.Total3 <- sum(Tabela.Custos3$Custo.Total)\n",
    "cat(\"Custo Total:\", Custo.Total3,\"u.m\")"
   ]
  },
  {
   "cell_type": "markdown",
   "metadata": {},
   "source": [
    "CONCLUSÃO: DAS TRÊS HIPÓTESES TESTADAS, A TERCEIRA PARECE A MAIS FAVORÁVEL."
   ]
  },
  {
   "cell_type": "code",
   "execution_count": null,
   "metadata": {},
   "outputs": [],
   "source": []
  }
 ],
 "metadata": {
  "kernelspec": {
   "display_name": "R",
   "language": "R",
   "name": "ir"
  },
  "language_info": {
   "codemirror_mode": "r",
   "file_extension": ".r",
   "mimetype": "text/x-r-source",
   "name": "R",
   "pygments_lexer": "r",
   "version": "3.6.1"
  }
 },
 "nbformat": 4,
 "nbformat_minor": 4
}
